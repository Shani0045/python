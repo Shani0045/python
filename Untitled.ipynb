{
 "cells": [
  {
   "cell_type": "code",
   "execution_count": 2,
   "id": "edba929d",
   "metadata": {},
   "outputs": [
    {
     "name": "stdout",
     "output_type": "stream",
     "text": [
      "odd no\n",
      "odd no\n",
      "odd no\n",
      "odd no\n",
      "odd no\n"
     ]
    }
   ],
   "source": [
    "def decorator(fun):\n",
    "    def inner(*args,**kwargs):\n",
    "        if args[0]>args[1]:\n",
    "            "
   ]
  },
  {
   "cell_type": "code",
   "execution_count": 7,
   "id": "6e9616da",
   "metadata": {},
   "outputs": [],
   "source": []
  },
  {
   "cell_type": "code",
   "execution_count": 8,
   "id": "889d8cc1",
   "metadata": {},
   "outputs": [
    {
     "name": "stdout",
     "output_type": "stream",
     "text": [
      "FAIL\n",
      "FAIL\n",
      "PASS\n",
      "PASS\n"
     ]
    }
   ],
   "source": [
    "math([10,20,30,22])"
   ]
  },
  {
   "cell_type": "code",
   "execution_count": 34,
   "id": "fd13c841",
   "metadata": {},
   "outputs": [],
   "source": [
    "from functools import wraps\n",
    "def count(fun):\n",
    "    @wraps(fun)\n",
    "    def inner(lst):\n",
    "        fun(lst)\n",
    "        fail=0\n",
    "        pas=0\n",
    "        for i in lst:\n",
    "            if i<21:\n",
    "                fail+=1\n",
    "            else:\n",
    "                pas+=1\n",
    "        print(\"Total pass: \",pas)\n",
    "        print(\"total fail: \",fail)\n",
    "    return inner"
   ]
  },
  {
   "cell_type": "code",
   "execution_count": 35,
   "id": "08d13e5e",
   "metadata": {},
   "outputs": [],
   "source": [
    "@count\n",
    "def math(lst):\n",
    "    for i in lst:\n",
    "        if i<21:\n",
    "            print(i,\"> FAIL\")\n",
    "        else:\n",
    "            print(i,\"> PASS\")"
   ]
  },
  {
   "cell_type": "code",
   "execution_count": 36,
   "id": "52b8eb49",
   "metadata": {},
   "outputs": [
    {
     "name": "stdout",
     "output_type": "stream",
     "text": [
      "21 > PASS\n",
      "19 > FAIL\n",
      "12 > FAIL\n",
      "11 > FAIL\n",
      "18 > FAIL\n",
      "10 > FAIL\n",
      "20 > FAIL\n",
      "22 > PASS\n",
      "23 > PASS\n",
      "Total pass:  3\n",
      "total fail:  6\n"
     ]
    }
   ],
   "source": [
    "math([21,19,12,11,18,10,20,22,23])"
   ]
  },
  {
   "cell_type": "code",
   "execution_count": null,
   "id": "192e19fa",
   "metadata": {},
   "outputs": [],
   "source": [
    "def generate(n):\n",
    "    "
   ]
  },
  {
   "cell_type": "code",
   "execution_count": 3,
   "id": "c584c367",
   "metadata": {},
   "outputs": [
    {
     "ename": "SyntaxError",
     "evalue": "invalid syntax (<ipython-input-3-791fbdcc864c>, line 2)",
     "output_type": "error",
     "traceback": [
      "\u001b[1;36m  File \u001b[1;32m\"<ipython-input-3-791fbdcc864c>\"\u001b[1;36m, line \u001b[1;32m2\u001b[0m\n\u001b[1;33m    k=\"even\" if n%2==0\u001b[0m\n\u001b[1;37m                      ^\u001b[0m\n\u001b[1;31mSyntaxError\u001b[0m\u001b[1;31m:\u001b[0m invalid syntax\n"
     ]
    }
   ],
   "source": [
    "n=int(input(\"Enter the number...\"))\n",
    "k=\"even\" if n%2==0 else \"odd\"\n",
    "k"
   ]
  },
  {
   "cell_type": "code",
   "execution_count": 4,
   "id": "cba06d73",
   "metadata": {},
   "outputs": [],
   "source": [
    "fun=lambda a,b :\"a is greater\" if a>b else \"a is small\""
   ]
  },
  {
   "cell_type": "code",
   "execution_count": 15,
   "id": "73af0005",
   "metadata": {},
   "outputs": [],
   "source": [
    "a=[10,20,33,41,50,55]"
   ]
  },
  {
   "cell_type": "code",
   "execution_count": 16,
   "id": "850f9d4c",
   "metadata": {},
   "outputs": [
    {
     "data": {
      "text/plain": [
       "[10, 20, 50]"
      ]
     },
     "execution_count": 16,
     "metadata": {},
     "output_type": "execute_result"
    }
   ],
   "source": [
    "list(filter(lambda x:x%2==0,a))"
   ]
  },
  {
   "cell_type": "code",
   "execution_count": 17,
   "id": "10910d5d",
   "metadata": {},
   "outputs": [
    {
     "data": {
      "text/plain": [
       "[100, 400, 1089, 1681, 2500, 3025]"
      ]
     },
     "execution_count": 17,
     "metadata": {},
     "output_type": "execute_result"
    }
   ],
   "source": [
    "list(map(lambda x:x**2,a))"
   ]
  },
  {
   "cell_type": "code",
   "execution_count": 18,
   "id": "04c29d6d",
   "metadata": {},
   "outputs": [],
   "source": [
    "a=[10,20,30,40]\n",
    "b=[\"a\",\"b\",\"c\",\"d\"]"
   ]
  },
  {
   "cell_type": "code",
   "execution_count": 19,
   "id": "7e29cdf2",
   "metadata": {},
   "outputs": [
    {
     "data": {
      "text/plain": [
       "{'a': 10, 'b': 20, 'c': 30, 'd': 40}"
      ]
     },
     "execution_count": 19,
     "metadata": {},
     "output_type": "execute_result"
    }
   ],
   "source": [
    "dict(zip(b,a))"
   ]
  },
  {
   "cell_type": "code",
   "execution_count": 26,
   "id": "c12e88f5",
   "metadata": {},
   "outputs": [
    {
     "ename": "TypeError",
     "evalue": "object of type 'int' has no len()",
     "output_type": "error",
     "traceback": [
      "\u001b[1;31m---------------------------------------------------------------------------\u001b[0m",
      "\u001b[1;31mTypeError\u001b[0m                                 Traceback (most recent call last)",
      "\u001b[1;32m<ipython-input-26-768b5a15d476>\u001b[0m in \u001b[0;36m<module>\u001b[1;34m\u001b[0m\n\u001b[0;32m      1\u001b[0m \u001b[0ml\u001b[0m\u001b[1;33m=\u001b[0m\u001b[1;33m[\u001b[0m\u001b[1;36m10\u001b[0m\u001b[1;33m,\u001b[0m\u001b[1;36m20\u001b[0m\u001b[1;33m,\u001b[0m\u001b[1;36m30\u001b[0m\u001b[1;33m,\u001b[0m\u001b[1;36m40\u001b[0m\u001b[1;33m,\u001b[0m\u001b[1;36m50\u001b[0m\u001b[1;33m,\u001b[0m\u001b[1;36m60\u001b[0m\u001b[1;33m,\u001b[0m\u001b[1;36m70\u001b[0m\u001b[1;33m,\u001b[0m\u001b[1;36m80\u001b[0m\u001b[1;33m,\u001b[0m\u001b[1;36m90\u001b[0m\u001b[1;33m]\u001b[0m\u001b[1;33m\u001b[0m\u001b[0m\n\u001b[1;32m----> 2\u001b[1;33m \u001b[0mlist\u001b[0m\u001b[1;33m(\u001b[0m\u001b[0mmap\u001b[0m\u001b[1;33m(\u001b[0m\u001b[0mlen\u001b[0m\u001b[1;33m,\u001b[0m\u001b[0ml\u001b[0m\u001b[1;33m)\u001b[0m\u001b[1;33m)\u001b[0m\u001b[1;33m\u001b[0m\u001b[0m\n\u001b[0m",
      "\u001b[1;31mTypeError\u001b[0m: object of type 'int' has no len()"
     ]
    }
   ],
   "source": [
    "l=[10,20,30,40,50,60,70,80,90]\n",
    "list(map(len,l))"
   ]
  },
  {
   "cell_type": "code",
   "execution_count": null,
   "id": "36b5cd40",
   "metadata": {},
   "outputs": [],
   "source": []
  }
 ],
 "metadata": {
  "kernelspec": {
   "display_name": "Python 3",
   "language": "python",
   "name": "python3"
  },
  "language_info": {
   "codemirror_mode": {
    "name": "ipython",
    "version": 3
   },
   "file_extension": ".py",
   "mimetype": "text/x-python",
   "name": "python",
   "nbconvert_exporter": "python",
   "pygments_lexer": "ipython3",
   "version": "3.6.5"
  }
 },
 "nbformat": 4,
 "nbformat_minor": 5
}
