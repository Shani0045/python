{
 "cells": [
  {
   "cell_type": "code",
   "execution_count": 6,
   "id": "61715437",
   "metadata": {},
   "outputs": [],
   "source": [
    "import requests as r"
   ]
  },
  {
   "cell_type": "code",
   "execution_count": 7,
   "id": "d728980c",
   "metadata": {},
   "outputs": [],
   "source": [
    "server_token=\"AAAAYyZQ7SM:APA91bHCtA0w6WQsl3of2M3YLYhok3t1gL-fnET5Pj1pLoTPoFpfpbPLHlED2FfwVYV3oFIhXrjMgw1P-OwsukZa10ngZ86BNCB-FY4odxw9KIlA5hfvYRi9AVo4pw9b6H8cw7FO8baa\""
   ]
  },
  {
   "cell_type": "code",
   "execution_count": 8,
   "id": "08e8ac45",
   "metadata": {},
   "outputs": [],
   "source": [
    "device_token=\"cVC3AUVyRKuLtaL7Jxxr84:APA91bGnXAEJeB2BgCTZo5DihY89g_xsTT7iyEIZzjvTDxOTpRm3_PqUrMhHx0IBQCW0NCFsSIdtosaQMFB3CUf4d26ho21kzF0jWW-a5dJt1692FmUKOm2HiCwfXPSvdsXsIBScLIsr\""
   ]
  },
  {
   "cell_type": "code",
   "execution_count": 9,
   "id": "6d969c7d",
   "metadata": {},
   "outputs": [],
   "source": [
    "url=\"https://fcm.googleapis.com/fcm/send\"\n",
    "headers={\"Authorization\":'key=' + server_token}\n",
    "body={\"to\": device_token,\n",
    "      \"notification\": {\"title\":\"Message\",\n",
    "                       \"body\":\"Test Body\"},\n",
    "        \"data\": {\"title\": \"New Message\",\n",
    "                \"body\" : \"Hello! This is body.\"}\n",
    "     }"
   ]
  },
  {
   "cell_type": "code",
   "execution_count": 12,
   "id": "130da861",
   "metadata": {},
   "outputs": [
    {
     "data": {
      "text/plain": [
       "b'{\"multicast_id\":2719745881350654023,\"success\":1,\"failure\":0,\"canonical_ids\":0,\"results\":[{\"message_id\":\"0:1655114710795780%8beb07dd8beb07dd\"}]}'"
      ]
     },
     "execution_count": 12,
     "metadata": {},
     "output_type": "execute_result"
    }
   ],
   "source": [
    "resp=r.post(url,headers=headers,json=body)\n",
    "resp.content"
   ]
  },
  {
   "cell_type": "code",
   "execution_count": 1,
   "id": "94d5820e",
   "metadata": {},
   "outputs": [],
   "source": [
    "import requests as r"
   ]
  },
  {
   "cell_type": "code",
   "execution_count": null,
   "id": "2426262c",
   "metadata": {},
   "outputs": [],
   "source": [
    "url=\"\"\n",
    "resp=r.post(url)\n",
    "resp"
   ]
  },
  {
   "cell_type": "code",
   "execution_count": null,
   "id": "bcd1faf5",
   "metadata": {},
   "outputs": [],
   "source": []
  },
  {
   "cell_type": "code",
   "execution_count": null,
   "id": "bfe53785",
   "metadata": {},
   "outputs": [],
   "source": []
  }
 ],
 "metadata": {
  "kernelspec": {
   "display_name": "Python 3",
   "language": "python",
   "name": "python3"
  },
  "language_info": {
   "codemirror_mode": {
    "name": "ipython",
    "version": 3
   },
   "file_extension": ".py",
   "mimetype": "text/x-python",
   "name": "python",
   "nbconvert_exporter": "python",
   "pygments_lexer": "ipython3",
   "version": "3.6.5"
  }
 },
 "nbformat": 4,
 "nbformat_minor": 5
}
