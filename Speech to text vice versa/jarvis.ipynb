{
 "cells": [
  {
   "cell_type": "code",
   "execution_count": null,
   "metadata": {},
   "outputs": [],
   "source": [
    "# %%writefile jarvis.py\n",
    "import pyttsx3 as py\n",
    "from nltk.tokenize import word_tokenize\n",
    "import speech_recognition as sr\n",
    "r=sr.Recognizer()\n",
    "import webbrowser\n",
    "sound=py.init()\n",
    "\n",
    "while(1):\n",
    "    with sr.Microphone() as source:\n",
    "#         r.adjust_for_ambient_noise(source,duration=0.2)\n",
    "        sound.setProperty('rate',145)\n",
    "        sound.say(\"what can i help you?\")\n",
    "        sound.runAndWait()\n",
    "        \n",
    "#         r.pause_threshold=1\n",
    "        audio=r.listen(source)\n",
    "    try:\n",
    "        a=r.recognize_google(audio,language='en-in')\n",
    "        c=a.lower()\n",
    "        c=word_tokenize(c)\n",
    "        #for name\n",
    "        if ['my','name','is']==c[:-1]:\n",
    "            sound.setProperty('rate',145)\n",
    "            sound.say(\"Welcome to the Jarvis\"+c[-1])\n",
    "            sound.runAndWait()\n",
    "        elif ['myself']==c[:-1]:\n",
    "            sound.setProperty('rate',145)\n",
    "            sound.say(\"Welcome to the Jarvis app\"+c[-1])\n",
    "            sound.runAndWait()\n",
    "        elif ['i','am']==c[:-1]:\n",
    "            sound.setProperty('rate',145)\n",
    "            sound.say(\"Welcome to the Jarvis app\"+c[-1])\n",
    "            sound.runAndWait()\n",
    "        elif ['this','is']==c[:-1]:\n",
    "            sound.setProperty('rate',145)\n",
    "            sound.say(\"Welcome to the Jarvis app\"+c[-1])\n",
    "            sound.runAndWait()\n",
    "            \n",
    "        elif \"name\" in c:\n",
    "            sound.setProperty('rate',145)\n",
    "            sound.say(\"Welcome to the Jarvis app\"+c[-1])\n",
    "            sound.runAndWait()\n",
    "            \n",
    "            \n",
    "        #for open program\n",
    "        elif ['open']==c[:-1]:\n",
    "            sound.setProperty('rate',145)\n",
    "            sound.say(\"please wait i open \"+c[-1])\n",
    "            sound.runAndWait()\n",
    "            webbrowser.open(c[-1])\n",
    "            \n",
    "        #open calculator\n",
    "        elif ['open','calculator']==c:\n",
    "            sound.setProperty('rate',145)\n",
    "            sound.say(\"please wait i open \"+c[-1])\n",
    "            sound.runAndWait()\n",
    "            webbrowser.open('calc')\n",
    "        \n",
    "        #calculator \n",
    "        \n",
    "        elif [\"what\",\"is\"]==c[:-3]:\n",
    "            sound.setProperty('rate',145)\n",
    "            sound.say(\"please wait i do\")\n",
    "            sound.runAndWait()\n",
    "        \n",
    "        elif [\"good\",\"morning\"]==c:\n",
    "            sound.setProperty('rate',145)\n",
    "            sound.say(\"good morning?sir\")\n",
    "            sound.runAndWait()\n",
    "            \n",
    "        elif \"good\" and \"afternoon\" in c:\n",
    "            sound.setProperty('rate',145)\n",
    "            sound.say(\"good aftenoon?sir\")\n",
    "            sound.runAndWait()\n",
    "            \n",
    "        elif \"good\" and \"evening\" in c:\n",
    "            sound.setProperty('rate',145)\n",
    "            sound.say(\"good evining?sir\")\n",
    "            sound.runAndWait()\n",
    "            \n",
    "        elif [\"good\",\"night\"]==c:\n",
    "            sound.setProperty('rate',145)\n",
    "            sound.say(\"good night?sir? have a nice dream\")\n",
    "            sound.runAndWait()\n",
    "        \n",
    "        elif 'close' in c:\n",
    "            sound.setProperty('rate',145)\n",
    "            sound.say(\"okay I close the program?thank you for using the jarvis\")\n",
    "            sound.runAndWait()\n",
    "            break\n",
    "    except:\n",
    "        print(\"sound error\")"
   ]
  },
  {
   "cell_type": "code",
   "execution_count": 12,
   "metadata": {},
   "outputs": [
    {
     "data": {
      "text/plain": [
       "True"
      ]
     },
     "execution_count": 12,
     "metadata": {},
     "output_type": "execute_result"
    }
   ],
   "source": [
    "import webbrowser\n",
    "webbrowser.open('mySQL')"
   ]
  },
  {
   "cell_type": "code",
   "execution_count": 10,
   "metadata": {},
   "outputs": [],
   "source": [
    "a=[\"my\",\"name\",\"is\",\"shani\"]"
   ]
  },
  {
   "cell_type": "code",
   "execution_count": 14,
   "metadata": {},
   "outputs": [
    {
     "name": "stdout",
     "output_type": "stream",
     "text": [
      "yes\n"
     ]
    }
   ],
   "source": [
    "if ['my' ,'name', 'is']==a[:-1]:\n",
    "    print(\"yes\")\n",
    "else:\n",
    "    print(\"no\")"
   ]
  },
  {
   "cell_type": "code",
   "execution_count": 6,
   "metadata": {},
   "outputs": [
    {
     "data": {
      "text/plain": [
       "True"
      ]
     },
     "execution_count": 6,
     "metadata": {},
     "output_type": "execute_result"
    }
   ],
   "source": [
    "\"shani\" and \"kumar\"in [\"my\",\"name\",\"is\",\"shani\",\"kumar\"]"
   ]
  },
  {
   "cell_type": "code",
   "execution_count": 1,
   "metadata": {},
   "outputs": [],
   "source": [
    "a=\"my name is shani\""
   ]
  },
  {
   "cell_type": "code",
   "execution_count": 3,
   "metadata": {},
   "outputs": [],
   "source": [
    "d=a.lower()"
   ]
  },
  {
   "cell_type": "code",
   "execution_count": 4,
   "metadata": {},
   "outputs": [
    {
     "name": "stdout",
     "output_type": "stream",
     "text": [
      "yes\n"
     ]
    }
   ],
   "source": [
    "if 'my' in d:\n",
    "    print('yes')"
   ]
  },
  {
   "cell_type": "code",
   "execution_count": 6,
   "metadata": {},
   "outputs": [
    {
     "data": {
      "text/plain": [
       "'my name is shan'"
      ]
     },
     "execution_count": 6,
     "metadata": {},
     "output_type": "execute_result"
    }
   ],
   "source": [
    "d[:-1]"
   ]
  },
  {
   "cell_type": "code",
   "execution_count": 1,
   "metadata": {},
   "outputs": [],
   "source": [
    "import nltk"
   ]
  },
  {
   "cell_type": "code",
   "execution_count": 2,
   "metadata": {},
   "outputs": [
    {
     "data": {
      "text/plain": [
       "['shani', 'kumar']"
      ]
     },
     "execution_count": 2,
     "metadata": {},
     "output_type": "execute_result"
    }
   ],
   "source": [
    "nltk.tokenize.word_tokenize(\"shani kumar\")"
   ]
  },
  {
   "cell_type": "code",
   "execution_count": null,
   "metadata": {},
   "outputs": [],
   "source": []
  }
 ],
 "metadata": {
  "kernelspec": {
   "display_name": "Python 3",
   "language": "python",
   "name": "python3"
  },
  "language_info": {
   "codemirror_mode": {
    "name": "ipython",
    "version": 3
   },
   "file_extension": ".py",
   "mimetype": "text/x-python",
   "name": "python",
   "nbconvert_exporter": "python",
   "pygments_lexer": "ipython3",
   "version": "3.6.5"
  }
 },
 "nbformat": 4,
 "nbformat_minor": 2
}
