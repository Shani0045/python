{
 "cells": [
  {
   "cell_type": "code",
   "execution_count": 9,
   "metadata": {},
   "outputs": [
    {
     "name": "stderr",
     "output_type": "stream",
     "text": [
      "Exception in Tkinter callback\n",
      "Traceback (most recent call last):\n",
      "  File \"c:\\users\\hp\\appdata\\local\\programs\\python\\python36\\lib\\tkinter\\__init__.py\", line 1702, in __call__\n",
      "    return self.func(*args)\n",
      "  File \"<ipython-input-9-8d773ff12642>\", line 11, in clicks\n",
      "    wb.save(\"stud.xlsx\")\n",
      "  File \"c:\\users\\hp\\appdata\\local\\programs\\python\\python36\\lib\\site-packages\\openpyxl\\workbook\\workbook.py\", line 392, in save\n",
      "    save_workbook(self, filename)\n",
      "  File \"c:\\users\\hp\\appdata\\local\\programs\\python\\python36\\lib\\site-packages\\openpyxl\\writer\\excel.py\", line 291, in save_workbook\n",
      "    archive = ZipFile(filename, 'w', ZIP_DEFLATED, allowZip64=True)\n",
      "  File \"c:\\users\\hp\\appdata\\local\\programs\\python\\python36\\lib\\zipfile.py\", line 1090, in __init__\n",
      "    self.fp = io.open(file, filemode)\n",
      "PermissionError: [Errno 13] Permission denied: 'stud.xlsx'\n"
     ]
    }
   ],
   "source": [
    "from tkinter import*\n",
    "root=Tk()\n",
    "root.geometry(\"400x300\")\n",
    "def clicks():\n",
    "    n=v.get()\n",
    "    b=v1.get()\n",
    "    import openpyxl as op\n",
    "    wb=op.Workbook()\n",
    "    ws=wb.active\n",
    "    ws.insert_rows(n)\n",
    "    ws.\n",
    "    wb.save(\"stud.xlsx\")\n",
    "l=Label(root,text=\"row no\").pack()\n",
    "v=IntVar()\n",
    "e=Entry(root,textvariable=v).pack()\n",
    "v1=StringVar()\n",
    "e1=Entry(root,textvariable=v1).pack()\n",
    "btn=Button(root,text=\"Click\",command=clicks).pack()\n",
    "root.mainloop()"
   ]
  },
  {
   "cell_type": "code",
   "execution_count": null,
   "metadata": {},
   "outputs": [],
   "source": []
  }
 ],
 "metadata": {
  "kernelspec": {
   "display_name": "Python 3",
   "language": "python",
   "name": "python3"
  },
  "language_info": {
   "codemirror_mode": {
    "name": "ipython",
    "version": 3
   },
   "file_extension": ".py",
   "mimetype": "text/x-python",
   "name": "python",
   "nbconvert_exporter": "python",
   "pygments_lexer": "ipython3",
   "version": "3.6.5"
  }
 },
 "nbformat": 4,
 "nbformat_minor": 2
}
