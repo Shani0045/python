{
 "cells": [
  {
   "cell_type": "markdown",
   "id": "84b75ab6",
   "metadata": {},
   "source": [
    "# tooltips"
   ]
  },
  {
   "cell_type": "code",
   "execution_count": 6,
   "id": "9c6d2363",
   "metadata": {},
   "outputs": [
    {
     "name": "stdout",
     "output_type": "stream",
     "text": [
      "Behaviour changed!\n",
      "Behaviour changed!\n",
      "Behaviour changed!\n"
     ]
    }
   ],
   "source": [
    "import tkinter as tk\n",
    "from tkinter import ttk\n",
    "# Import once, use everywhere\n",
    "from ttkwidgets import tooltips\n",
    "\n",
    "\n",
    "window = tk.Tk()\n",
    "button = ttk.Button(window, text=\"Destroy\", command=window.destroy, tooltip=\"This button destroys the window.\")\n",
    "button.pack()\n",
    "x = lambda: button.configure(tooltip=\"This button no longer destroys the window\", command=lambda: print(\"Behaviour changed!\"))\n",
    "window.after(1000, x)\n",
    "window.mainloop()"
   ]
  },
  {
   "cell_type": "markdown",
   "id": "d4068910",
   "metadata": {},
   "source": [
    "## table"
   ]
  },
  {
   "cell_type": "code",
   "execution_count": 2,
   "id": "d1135071",
   "metadata": {},
   "outputs": [
    {
     "ename": "TclError",
     "evalue": "unknown option \"-bd\"",
     "output_type": "error",
     "traceback": [
      "\u001b[1;31m---------------------------------------------------------------------------\u001b[0m",
      "\u001b[1;31mTclError\u001b[0m                                  Traceback (most recent call last)",
      "\u001b[1;32m<ipython-input-2-dd8066cb225e>\u001b[0m in \u001b[0;36m<module>\u001b[1;34m\u001b[0m\n\u001b[0;32m     16\u001b[0m \u001b[0mcolumns\u001b[0m \u001b[1;33m=\u001b[0m \u001b[1;33m[\u001b[0m\u001b[1;34m\"A\"\u001b[0m\u001b[1;33m,\u001b[0m \u001b[1;34m\"B\"\u001b[0m\u001b[1;33m,\u001b[0m \u001b[1;34m\"C\"\u001b[0m\u001b[1;33m,\u001b[0m \u001b[1;34m\"D\"\u001b[0m\u001b[1;33m,\u001b[0m \u001b[1;34m\"E\"\u001b[0m\u001b[1;33m,\u001b[0m \u001b[1;34m\"F\"\u001b[0m\u001b[1;33m,\u001b[0m \u001b[1;34m\"G\"\u001b[0m\u001b[1;33m]\u001b[0m\u001b[1;33m\u001b[0m\u001b[0m\n\u001b[0;32m     17\u001b[0m table = Table(root, columns=columns, sortable=sortable.get(), drag_cols=drag_col.get(),\n\u001b[1;32m---> 18\u001b[1;33m               drag_rows=drag_row.get(), height=6,bd=1)\n\u001b[0m\u001b[0;32m     19\u001b[0m \u001b[1;32mfor\u001b[0m \u001b[0mcol\u001b[0m \u001b[1;32min\u001b[0m \u001b[0mcolumns\u001b[0m\u001b[1;33m:\u001b[0m\u001b[1;33m\u001b[0m\u001b[0m\n\u001b[0;32m     20\u001b[0m     \u001b[0mtable\u001b[0m\u001b[1;33m.\u001b[0m\u001b[0mheading\u001b[0m\u001b[1;33m(\u001b[0m\u001b[0mcol\u001b[0m\u001b[1;33m,\u001b[0m \u001b[0mtext\u001b[0m\u001b[1;33m=\u001b[0m\u001b[0mcol\u001b[0m\u001b[1;33m)\u001b[0m\u001b[1;33m\u001b[0m\u001b[0m\n",
      "\u001b[1;32mc:\\users\\hp\\appdata\\local\\programs\\python\\python36\\lib\\site-packages\\ttkwidgets\\table.py\u001b[0m in \u001b[0;36m__init__\u001b[1;34m(self, master, show, drag_cols, drag_rows, sortable, class_, **kwargs)\u001b[0m\n\u001b[0;32m     46\u001b[0m         \u001b[1;33m:\u001b[0m\u001b[0mparam\u001b[0m \u001b[0mkwargs\u001b[0m\u001b[1;33m:\u001b[0m \u001b[0moptions\u001b[0m \u001b[0mto\u001b[0m \u001b[0mbe\u001b[0m \u001b[0mpassed\u001b[0m \u001b[0mon\u001b[0m \u001b[0mto\u001b[0m \u001b[0mthe\u001b[0m \u001b[1;33m:\u001b[0m\u001b[1;32mclass\u001b[0m\u001b[1;33m:\u001b[0m\u001b[0;31m`\u001b[0m\u001b[0mttk\u001b[0m\u001b[1;33m.\u001b[0m\u001b[0mTreeview\u001b[0m\u001b[0;31m`\u001b[0m \u001b[0minitializer\u001b[0m\u001b[1;33m\u001b[0m\u001b[0m\n\u001b[0;32m     47\u001b[0m         \"\"\"\n\u001b[1;32m---> 48\u001b[1;33m         \u001b[0mttk\u001b[0m\u001b[1;33m.\u001b[0m\u001b[0mTreeview\u001b[0m\u001b[1;33m.\u001b[0m\u001b[0m__init__\u001b[0m\u001b[1;33m(\u001b[0m\u001b[0mself\u001b[0m\u001b[1;33m,\u001b[0m \u001b[0mmaster\u001b[0m\u001b[1;33m,\u001b[0m \u001b[0mshow\u001b[0m\u001b[1;33m=\u001b[0m\u001b[0mshow\u001b[0m\u001b[1;33m,\u001b[0m \u001b[1;33m**\u001b[0m\u001b[0mkwargs\u001b[0m\u001b[1;33m)\u001b[0m\u001b[1;33m\u001b[0m\u001b[0m\n\u001b[0m\u001b[0;32m     49\u001b[0m         \u001b[1;31m# copy of the Treeview to show the dragged column/row\u001b[0m\u001b[1;33m\u001b[0m\u001b[1;33m\u001b[0m\u001b[0m\n\u001b[0;32m     50\u001b[0m         \u001b[0mself\u001b[0m\u001b[1;33m.\u001b[0m\u001b[0m_visual_drag\u001b[0m \u001b[1;33m=\u001b[0m \u001b[0mttk\u001b[0m\u001b[1;33m.\u001b[0m\u001b[0mTreeview\u001b[0m\u001b[1;33m(\u001b[0m\u001b[0mself\u001b[0m\u001b[1;33m,\u001b[0m \u001b[0mshow\u001b[0m\u001b[1;33m=\u001b[0m\u001b[0mshow\u001b[0m\u001b[1;33m,\u001b[0m \u001b[1;33m**\u001b[0m\u001b[0mkwargs\u001b[0m\u001b[1;33m)\u001b[0m\u001b[1;33m\u001b[0m\u001b[0m\n",
      "\u001b[1;32mc:\\users\\hp\\appdata\\local\\programs\\python\\python36\\lib\\tkinter\\ttk.py\u001b[0m in \u001b[0;36m__init__\u001b[1;34m(self, master, **kw)\u001b[0m\n\u001b[0;32m   1179\u001b[0m             \u001b[0mforeground\u001b[0m\u001b[1;33m,\u001b[0m \u001b[0mbackground\u001b[0m\u001b[1;33m,\u001b[0m \u001b[0mfont\u001b[0m\u001b[1;33m,\u001b[0m \u001b[0mimage\u001b[0m\u001b[1;33m\u001b[0m\u001b[0m\n\u001b[0;32m   1180\u001b[0m         \"\"\"\n\u001b[1;32m-> 1181\u001b[1;33m         \u001b[0mWidget\u001b[0m\u001b[1;33m.\u001b[0m\u001b[0m__init__\u001b[0m\u001b[1;33m(\u001b[0m\u001b[0mself\u001b[0m\u001b[1;33m,\u001b[0m \u001b[0mmaster\u001b[0m\u001b[1;33m,\u001b[0m \u001b[1;34m\"ttk::treeview\"\u001b[0m\u001b[1;33m,\u001b[0m \u001b[0mkw\u001b[0m\u001b[1;33m)\u001b[0m\u001b[1;33m\u001b[0m\u001b[0m\n\u001b[0m\u001b[0;32m   1182\u001b[0m \u001b[1;33m\u001b[0m\u001b[0m\n\u001b[0;32m   1183\u001b[0m \u001b[1;33m\u001b[0m\u001b[0m\n",
      "\u001b[1;32mc:\\users\\hp\\appdata\\local\\programs\\python\\python36\\lib\\tkinter\\ttk.py\u001b[0m in \u001b[0;36m__init__\u001b[1;34m(self, master, widgetname, kw)\u001b[0m\n\u001b[0;32m    557\u001b[0m             \u001b[1;31m# Load tile now, if needed\u001b[0m\u001b[1;33m\u001b[0m\u001b[1;33m\u001b[0m\u001b[0m\n\u001b[0;32m    558\u001b[0m             \u001b[0m_load_tile\u001b[0m\u001b[1;33m(\u001b[0m\u001b[0mmaster\u001b[0m\u001b[1;33m)\u001b[0m\u001b[1;33m\u001b[0m\u001b[0m\n\u001b[1;32m--> 559\u001b[1;33m         \u001b[0mtkinter\u001b[0m\u001b[1;33m.\u001b[0m\u001b[0mWidget\u001b[0m\u001b[1;33m.\u001b[0m\u001b[0m__init__\u001b[0m\u001b[1;33m(\u001b[0m\u001b[0mself\u001b[0m\u001b[1;33m,\u001b[0m \u001b[0mmaster\u001b[0m\u001b[1;33m,\u001b[0m \u001b[0mwidgetname\u001b[0m\u001b[1;33m,\u001b[0m \u001b[0mkw\u001b[0m\u001b[1;33m=\u001b[0m\u001b[0mkw\u001b[0m\u001b[1;33m)\u001b[0m\u001b[1;33m\u001b[0m\u001b[0m\n\u001b[0m\u001b[0;32m    560\u001b[0m \u001b[1;33m\u001b[0m\u001b[0m\n\u001b[0;32m    561\u001b[0m \u001b[1;33m\u001b[0m\u001b[0m\n",
      "\u001b[1;32mc:\\users\\hp\\appdata\\local\\programs\\python\\python36\\lib\\tkinter\\__init__.py\u001b[0m in \u001b[0;36m__init__\u001b[1;34m(self, master, widgetName, cnf, kw, extra)\u001b[0m\n\u001b[0;32m   2294\u001b[0m             \u001b[1;32mdel\u001b[0m \u001b[0mcnf\u001b[0m\u001b[1;33m[\u001b[0m\u001b[0mk\u001b[0m\u001b[1;33m]\u001b[0m\u001b[1;33m\u001b[0m\u001b[0m\n\u001b[0;32m   2295\u001b[0m         self.tk.call(\n\u001b[1;32m-> 2296\u001b[1;33m             (widgetName, self._w) + extra + self._options(cnf))\n\u001b[0m\u001b[0;32m   2297\u001b[0m         \u001b[1;32mfor\u001b[0m \u001b[0mk\u001b[0m\u001b[1;33m,\u001b[0m \u001b[0mv\u001b[0m \u001b[1;32min\u001b[0m \u001b[0mclasses\u001b[0m\u001b[1;33m:\u001b[0m\u001b[1;33m\u001b[0m\u001b[0m\n\u001b[0;32m   2298\u001b[0m             \u001b[0mk\u001b[0m\u001b[1;33m.\u001b[0m\u001b[0mconfigure\u001b[0m\u001b[1;33m(\u001b[0m\u001b[0mself\u001b[0m\u001b[1;33m,\u001b[0m \u001b[0mv\u001b[0m\u001b[1;33m)\u001b[0m\u001b[1;33m\u001b[0m\u001b[0m\n",
      "\u001b[1;31mTclError\u001b[0m: unknown option \"-bd\""
     ]
    }
   ],
   "source": [
    "from ttkwidgets import Table\n",
    "import tkinter as tk\n",
    "from tkinter import ttk\n",
    "\n",
    "root = tk.Tk()\n",
    "\n",
    "root.columnconfigure(0, weight=1)\n",
    "root.rowconfigure(0, weight=1)\n",
    "\n",
    "style = ttk.Style(root)\n",
    "style.theme_use('alt')\n",
    "sortable = tk.BooleanVar(root, False)\n",
    "drag_row = tk.BooleanVar(root, False)\n",
    "drag_col = tk.BooleanVar(root, False)\n",
    "\n",
    "columns = [\"A\", \"B\", \"C\", \"D\", \"E\", \"F\", \"G\"]\n",
    "table = Table(root, columns=columns, sortable=sortable.get(), drag_cols=drag_col.get(),\n",
    "              drag_rows=drag_row.get(), height=6)\n",
    "for col in columns:\n",
    "    table.heading(col, text=col)\n",
    "    table.column(col, width=100, stretch=False)\n",
    "\n",
    "# sort column A content as int instead of strings\n",
    "table.column('A', type=int)\n",
    "\n",
    "for i in range(12):\n",
    "    table.insert('', 'end', iid=i,\n",
    "                 values=(i, i) + tuple(i + 10 * j for j in range(2, 7)))\n",
    "\n",
    "# add scrollbars\n",
    "sx = tk.Scrollbar(root, orient='horizontal', command=table.xview)\n",
    "sy = tk.Scrollbar(root, orient='vertical', command=table.yview)\n",
    "table.configure(yscrollcommand=sy.set, xscrollcommand=sx.set)\n",
    "\n",
    "table.grid(sticky='ewns')\n",
    "sx.grid(row=1, column=0, sticky='ew')\n",
    "sy.grid(row=0, column=1, sticky='ns')\n",
    "root.update_idletasks()\n",
    "\n",
    "\n",
    "# toggle table properties\n",
    "def toggle_sort():\n",
    "    table.config(sortable=sortable.get())\n",
    "\n",
    "\n",
    "def toggle_drag_col():\n",
    "    table.config(drag_cols=drag_col.get())\n",
    "\n",
    "\n",
    "def toggle_drag_row():\n",
    "    table.config(drag_rows=drag_row.get())\n",
    "\n",
    "\n",
    "frame = tk.Frame(root)\n",
    "tk.Checkbutton(frame, text='sortable', variable=sortable, command=toggle_sort).pack(side='left')\n",
    "tk.Checkbutton(frame, text='drag columns', variable=drag_col, command=toggle_drag_col).pack(side='left')\n",
    "tk.Checkbutton(frame, text='drag rows', variable=drag_row, command=toggle_drag_row).pack(side='left')\n",
    "frame.grid()\n",
    "root.geometry('400x200')\n",
    "\n",
    "root.mainloop()"
   ]
  },
  {
   "cell_type": "code",
   "execution_count": 1,
   "id": "443c87b0",
   "metadata": {},
   "outputs": [],
   "source": [
    "from ttkwidgets import LinkLabel\n",
    "import tkinter as tk\n",
    "\n",
    "window = tk.Tk()\n",
    "LinkLabel(window, text=\"ttkwidgets repository\",\n",
    "          link=\"https://github.com/RedFantom/ttkwidgets\",\n",
    "          normal_color='royal blue',\n",
    "          hover_color='blue',\n",
    "          clicked_color='purple',\n",
    "         cursor=\"hand2\",\n",
    "         font=(\"arial 12\")).pack()\n",
    "window.mainloop()"
   ]
  },
  {
   "cell_type": "code",
   "execution_count": 12,
   "id": "0025213d",
   "metadata": {},
   "outputs": [
    {
     "ename": "SyntaxError",
     "evalue": "positional argument follows keyword argument (<ipython-input-12-136b152b7fd9>, line 5)",
     "output_type": "error",
     "traceback": [
      "\u001b[1;36m  File \u001b[1;32m\"<ipython-input-12-136b152b7fd9>\"\u001b[1;36m, line \u001b[1;32m5\u001b[0m\n\u001b[1;33m    PasswordEntry(window,font=(\"arial 12\"),validated_entries).pack()\u001b[0m\n\u001b[1;37m                                          ^\u001b[0m\n\u001b[1;31mSyntaxError\u001b[0m\u001b[1;31m:\u001b[0m positional argument follows keyword argument\n"
     ]
    }
   ],
   "source": [
    "from ttkwidgets.validated_entries import PasswordEntry\n",
    "import tkinter as tk\n",
    "\n",
    "window = tk.Tk()\n",
    "PasswordEntry(window,font=(\"arial 12\"),valida).pack()\n",
    "window.mainloop()"
   ]
  },
  {
   "cell_type": "code",
   "execution_count": 2,
   "id": "35f233e1",
   "metadata": {},
   "outputs": [],
   "source": [
    "from ttkwidgets.frames import ToggledFrame\n",
    "import tkinter as tk\n",
    "from tkinter import ttk\n",
    "\n",
    "window = tk.Tk()\n",
    "frame = ToggledFrame(window, text=\"Value\", width=10)\n",
    "frame.pack()\n",
    "button = ttk.Button(frame.interior, text=\"Button\", command=window.destroy)\n",
    "button.grid()\n",
    "frame.toggle()\n",
    "window.mainloop()"
   ]
  },
  {
   "cell_type": "code",
   "execution_count": 17,
   "id": "b23b8a42",
   "metadata": {},
   "outputs": [],
   "source": [
    "from ttkwidgets.frames import ScrolledFrame\n",
    "import tkinter as tk\n",
    "from tkinter import ttk\n",
    "\n",
    "window = tk.Tk()\n",
    "frame = ScrolledFrame(window, compound=tk.RIGHT, canvasheight=200)\n",
    "frame.pack(fill='both', expand=True)\n",
    "\n",
    "for i in range(20):\n",
    "    ttk.Label(frame.interior, text='Label %i' % i).pack()\n",
    "window.mainloop()"
   ]
  },
  {
   "cell_type": "code",
   "execution_count": 18,
   "id": "ca77ee09",
   "metadata": {},
   "outputs": [],
   "source": [
    "from ttkwidgets import ScaleEntry\n",
    "import tkinter as tk\n",
    "\n",
    "window = tk.Tk()\n",
    "scaleentry = ScaleEntry(window, scalewidth=200, entrywidth=3, from_=0, to=20)\n",
    "scaleentry.config_entry(justify='center')\n",
    "scaleentry.pack()\n",
    "window.mainloop()"
   ]
  },
  {
   "cell_type": "code",
   "execution_count": 3,
   "id": "b4f07d7d",
   "metadata": {},
   "outputs": [],
   "source": [
    "from ttkwidgets import CheckboxTreeview\n",
    "import tkinter as tk\n",
    "\n",
    "root = tk.Tk()\n",
    "\n",
    "tree = CheckboxTreeview(root)\n",
    "tree.pack()\n",
    "\n",
    "tree.insert(\"\", \"end\", \"1\", text=\"1\")\n",
    "tree.insert(\"1\", \"end\", \"11\", text=\"11\")\n",
    "tree.insert(\"1\", \"end\", \"12\",  text=\"12\")\n",
    "tree.insert(\"11\", \"end\", \"111\", text=\"111\")\n",
    "tree.insert(\"\", \"end\", \"2\", text=\"2\")\n",
    "\n",
    "root.mainloop()"
   ]
  },
  {
   "cell_type": "code",
   "execution_count": 4,
   "id": "df2180fa",
   "metadata": {},
   "outputs": [],
   "source": [
    "from ttkwidgets import AutoHideScrollbar\n",
    "import tkinter as tk\n",
    "\n",
    "window = tk.Tk()\n",
    "listbox = tk.Listbox(window, height=5)\n",
    "scrollbar = AutoHideScrollbar(window, command=listbox.yview)\n",
    "listbox.configure(yscrollcommand=scrollbar.set)\n",
    "\n",
    "for i in range(10):\n",
    "    listbox.insert('end', 'item %i' % i)\n",
    "\n",
    "tk.Label(window, text=\"Increase the window's height\\nto make the scrollbar vanish.\").pack(side='top', padx=4, pady=4)\n",
    "scrollbar.pack(side='right', fill='y')\n",
    "listbox.pack(side='left', fill='both', expand=True)\n",
    "\n",
    "window.mainloop()"
   ]
  },
  {
   "cell_type": "code",
   "execution_count": 8,
   "id": "9f212ce1",
   "metadata": {},
   "outputs": [
    {
     "data": {
      "text/plain": [
       "['Button',\n",
       " 'Checkbutton',\n",
       " 'Combobox',\n",
       " 'Entry',\n",
       " 'Frame',\n",
       " 'Label',\n",
       " 'LabelFrame',\n",
       " 'LabeledScale',\n",
       " 'Labelframe',\n",
       " 'Menubutton',\n",
       " 'Notebook',\n",
       " 'OptionMenu',\n",
       " 'PanedWindow',\n",
       " 'Panedwindow',\n",
       " 'Progressbar',\n",
       " 'Radiobutton',\n",
       " 'Scale',\n",
       " 'Scrollbar',\n",
       " 'Separator',\n",
       " 'Sizegrip',\n",
       " 'Style',\n",
       " 'Treeview',\n",
       " 'Widget',\n",
       " '_REQUIRE_TILE',\n",
       " '__all__',\n",
       " '__author__',\n",
       " '__builtins__',\n",
       " '__cached__',\n",
       " '__doc__',\n",
       " '__file__',\n",
       " '__loader__',\n",
       " '__name__',\n",
       " '__package__',\n",
       " '__spec__',\n",
       " '__version__',\n",
       " '_convert_stringval',\n",
       " '_flatten',\n",
       " '_format_elemcreate',\n",
       " '_format_layoutlist',\n",
       " '_format_mapdict',\n",
       " '_format_optdict',\n",
       " '_format_optvalue',\n",
       " '_join',\n",
       " '_list_from_layouttuple',\n",
       " '_list_from_statespec',\n",
       " '_load_tile',\n",
       " '_mapdict_values',\n",
       " '_script_from_settings',\n",
       " '_sentinel',\n",
       " '_splitdict',\n",
       " '_stringify',\n",
       " '_tclobj_to_py',\n",
       " '_to_number',\n",
       " '_val_or_dict',\n",
       " 'setup_master',\n",
       " 'tclobjs_to_py',\n",
       " 'tkinter']"
      ]
     },
     "execution_count": 8,
     "metadata": {},
     "output_type": "execute_result"
    }
   ],
   "source": [
    "from tkinter import ttk\n",
    "from tkinter import *\n",
    "root="
   ]
  },
  {
   "cell_type": "code",
   "execution_count": null,
   "id": "0c0e05fc",
   "metadata": {},
   "outputs": [],
   "source": []
  }
 ],
 "metadata": {
  "kernelspec": {
   "display_name": "Python 3",
   "language": "python",
   "name": "python3"
  },
  "language_info": {
   "codemirror_mode": {
    "name": "ipython",
    "version": 3
   },
   "file_extension": ".py",
   "mimetype": "text/x-python",
   "name": "python",
   "nbconvert_exporter": "python",
   "pygments_lexer": "ipython3",
   "version": "3.6.5"
  }
 },
 "nbformat": 4,
 "nbformat_minor": 5
}
