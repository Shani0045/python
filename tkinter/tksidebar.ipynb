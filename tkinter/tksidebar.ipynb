{
 "cells": [
  {
   "cell_type": "code",
   "execution_count": 8,
   "id": "ee65bc7c",
   "metadata": {},
   "outputs": [
    {
     "name": "stdout",
     "output_type": "stream",
     "text": [
      "Collecting tkTimePicker\n",
      "  Downloading tkTimePicker-2.0.2-py3-none-any.whl (10 kB)\n",
      "Installing collected packages: tkTimePicker\n",
      "Successfully installed tkTimePicker-2.0.2\n"
     ]
    },
    {
     "name": "stderr",
     "output_type": "stream",
     "text": [
      "WARNING: Ignoring invalid distribution -pencv-python (c:\\users\\hp\\appdata\\local\\programs\\python\\python36\\lib\\site-packages)\n",
      "WARNING: Ignoring invalid distribution -pencv-python (c:\\users\\hp\\appdata\\local\\programs\\python\\python36\\lib\\site-packages)\n",
      "WARNING: Ignoring invalid distribution -pencv-python (c:\\users\\hp\\appdata\\local\\programs\\python\\python36\\lib\\site-packages)\n",
      "WARNING: Ignoring invalid distribution -pencv-python (c:\\users\\hp\\appdata\\local\\programs\\python\\python36\\lib\\site-packages)\n",
      "WARNING: Ignoring invalid distribution -pencv-python (c:\\users\\hp\\appdata\\local\\programs\\python\\python36\\lib\\site-packages)\n",
      "WARNING: Ignoring invalid distribution -pencv-python (c:\\users\\hp\\appdata\\local\\programs\\python\\python36\\lib\\site-packages)\n"
     ]
    }
   ],
   "source": [
    "!pip install tkTimePicker"
   ]
  },
  {
   "cell_type": "code",
   "execution_count": 10,
   "id": "995920e1",
   "metadata": {},
   "outputs": [],
   "source": [
    "import tkinter as tk\n",
    "from tktimepicker import AnalogPicker, AnalogThemes,\n",
    "# note: you can also make use of mouse wheel or keyboard to scroll or enter the spin timepicker\n",
    "root = tk.Tk()\n",
    "\n",
    "time_picker = AnalogPicker(root)\n",
    "time_picker.pack(expand=True, fill=\"both\")\n",
    "\n",
    "# theme = AnalogThemes(time_picker)\n",
    "# theme.setDracula()\n",
    "\n",
    "root.mainloop()"
   ]
  },
  {
   "cell_type": "code",
   "execution_count": null,
   "id": "8decfada",
   "metadata": {},
   "outputs": [],
   "source": []
  }
 ],
 "metadata": {
  "kernelspec": {
   "display_name": "Python 3",
   "language": "python",
   "name": "python3"
  },
  "language_info": {
   "codemirror_mode": {
    "name": "ipython",
    "version": 3
   },
   "file_extension": ".py",
   "mimetype": "text/x-python",
   "name": "python",
   "nbconvert_exporter": "python",
   "pygments_lexer": "ipython3",
   "version": "3.6.5"
  }
 },
 "nbformat": 4,
 "nbformat_minor": 5
}
