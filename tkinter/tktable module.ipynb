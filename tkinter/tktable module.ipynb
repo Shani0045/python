{
 "cells": [
  {
   "cell_type": "code",
   "execution_count": 1,
   "id": "a68e3a69",
   "metadata": {},
   "outputs": [
    {
     "ename": "ModuleNotFoundError",
     "evalue": "No module named 'tktable'",
     "output_type": "error",
     "traceback": [
      "\u001b[1;31m---------------------------------------------------------------------------\u001b[0m",
      "\u001b[1;31mModuleNotFoundError\u001b[0m                       Traceback (most recent call last)",
      "\u001b[1;32m<ipython-input-1-1d3480e4aa90>\u001b[0m in \u001b[0;36m<module>\u001b[1;34m\u001b[0m\n\u001b[0;32m      1\u001b[0m \u001b[1;32mimport\u001b[0m \u001b[0mtkinter\u001b[0m \u001b[1;32mas\u001b[0m \u001b[0mtk\u001b[0m\u001b[1;33m\u001b[0m\u001b[0m\n\u001b[1;32m----> 2\u001b[1;33m \u001b[1;32mimport\u001b[0m \u001b[0mtktable\u001b[0m\u001b[1;33m\u001b[0m\u001b[0m\n\u001b[0m\u001b[0;32m      3\u001b[0m \u001b[1;33m\u001b[0m\u001b[0m\n\u001b[0;32m      4\u001b[0m \u001b[1;32mdef\u001b[0m \u001b[0mtable_test\u001b[0m\u001b[1;33m(\u001b[0m\u001b[1;33m)\u001b[0m\u001b[1;33m:\u001b[0m\u001b[1;33m\u001b[0m\u001b[0m\n\u001b[0;32m      5\u001b[0m     \u001b[1;31m#### DEFINES THE INTERFACE ####\u001b[0m\u001b[1;33m\u001b[0m\u001b[1;33m\u001b[0m\u001b[0m\n",
      "\u001b[1;31mModuleNotFoundError\u001b[0m: No module named 'tktable'"
     ]
    }
   ],
   "source": [
    "import tkinter as tk\n",
    "import tktable\n",
    "\n",
    "def table_test():\n",
    "    #### DEFINES THE INTERFACE ####\n",
    "    master = tk.Tk()\n",
    "    master.geometry('500x200+250+200')\n",
    "    master.title('Dogs')\n",
    "    #### DEFINING THE TABLE ####\n",
    "    tb = tktable.Table(master,\n",
    "                       state='disabled',\n",
    "                       width=50,\n",
    "                       titlerows=1,\n",
    "                       rows=5,\n",
    "                       cols=4,\n",
    "                       colwidth=20)\n",
    "    columns = ['Breed','Price','Location','Age']\n",
    "    #### LIST OF LISTS DEFINING THE ROWS AND VALUES IN THOSE ROWS ####\n",
    "    values = [['Doodle','1500','Chicago','1'],\n",
    "              ['Pug','700','Kansas City','2'],\n",
    "              ['Westie','1000','Lincoln','1'],\n",
    "              ['Poodle','900','Atlanta','2']]\n",
    "    #### SETS THE DOGS INTO THE TABLE ####\n",
    "    #### VVVVVVVVVVVVVVVVVVVVVVVVVVV ####\n",
    "    #DEFINING THE VAR TO USE AS DATA IN TABLE\n",
    "    var = tktable.ArrayVar(master)\n",
    "    row_count=0\n",
    "    col_count=0\n",
    "    #SETTING COLUMNS\n",
    "    for col in columns:\n",
    "        index = \"%i,%i\" % (row_count,col_count)\n",
    "        var[index] = col\n",
    "        col_count+=1\n",
    "    row_count=1\n",
    "    col_count=0\n",
    "    #SETTING DATA IN ROWS\n",
    "    for row in values:\n",
    "        for item in row:\n",
    "            print(item)\n",
    "            index = \"%i,%i\" % (row_count,col_count)\n",
    "            ## PLACING THE VALUE IN THE INDEX CELL POSITION ##\n",
    "            var[index] = item\n",
    "            #### IGNORE THIS IF YOU WANT, JUST SETTING SOME CELL COLOR ####\n",
    "            try:\n",
    "                if int(item) > 999:\n",
    "                    tb.tag_cell('green',index)\n",
    "            except:\n",
    "                pass\n",
    "            ###############################################################\n",
    "            col_count+=1       \n",
    "        col_count=0\n",
    "        row_count+=1\n",
    "    #### ABOVE CODE SETS THE DOG INTO THE TABLE ####\n",
    "    ################################################\n",
    "    #### VARIABLE PARAMETER SET BELOW ON THE 'TB' USES THE DATA DEFINED ABOVE ####\n",
    "    tb['variable'] = var\n",
    "    tb.pack()\n",
    "    #tb.tag_cell('green',index)\n",
    "    tb.tag_configure('green', background='green')\n",
    "    #### MAINLOOPING ####\n",
    "    tk.mainloop()\n",
    "table_test()"
   ]
  },
  {
   "cell_type": "code",
   "execution_count": null,
   "id": "4660a6ce",
   "metadata": {},
   "outputs": [],
   "source": []
  }
 ],
 "metadata": {
  "kernelspec": {
   "display_name": "Python 3",
   "language": "python",
   "name": "python3"
  },
  "language_info": {
   "codemirror_mode": {
    "name": "ipython",
    "version": 3
   },
   "file_extension": ".py",
   "mimetype": "text/x-python",
   "name": "python",
   "nbconvert_exporter": "python",
   "pygments_lexer": "ipython3",
   "version": "3.6.5"
  }
 },
 "nbformat": 4,
 "nbformat_minor": 5
}
