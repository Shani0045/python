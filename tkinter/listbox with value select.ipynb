{
 "cells": [
  {
   "cell_type": "code",
   "execution_count": 9,
   "metadata": {},
   "outputs": [
    {
     "name": "stdout",
     "output_type": "stream",
     "text": [
      "python\n",
      "java\n",
      "c\n"
     ]
    }
   ],
   "source": [
    "from tkinter import*\n",
    "from tkinter import ttk\n",
    "root=Tk()\n",
    "# root.geometry(\"200x200\")\n",
    "\n",
    "def click():\n",
    "    va=listbox.get(ACTIVE)\n",
    "    var.set(va)\n",
    "def select(e):\n",
    "    value=listbox.get(listbox.curselection())\n",
    "    print(value)\n",
    "    var.set(value)\n",
    "    \n",
    "    \n",
    "    \n",
    "var=StringVar()\n",
    "v=StringVar()\n",
    "\n",
    "listbox=Listbox(root)\n",
    "listbox.pack(side=LEFT,fill=BOTH)\n",
    "\n",
    "listbox.insert(1,\"python\")\n",
    "listbox.insert(2,\"java\")\n",
    "listbox.insert(3,\"c\")\n",
    "listbox.insert(4,\"c++\")\n",
    "listbox.insert(5,\"ruby\")\n",
    "listbox.insert(6,\".net\")\n",
    "\n",
    "entry=Entry(root,textvariable=var,bg=\"white\").pack()\n",
    "\n",
    "btn=ttk.Button(root,text=\"click\",command=click).pack()\n",
    "listbox.bind(\"<<ListboxSelect>>\",select)\n",
    "\n",
    "root.mainloop()"
   ]
  },
  {
   "cell_type": "code",
   "execution_count": null,
   "metadata": {},
   "outputs": [],
   "source": [
    "from tkinter import*\n",
    "root=Tk()\n",
    "root.mainloop()"
   ]
  }
 ],
 "metadata": {
  "kernelspec": {
   "display_name": "Python 3",
   "language": "python",
   "name": "python3"
  },
  "language_info": {
   "codemirror_mode": {
    "name": "ipython",
    "version": 3
   },
   "file_extension": ".py",
   "mimetype": "text/x-python",
   "name": "python",
   "nbconvert_exporter": "python",
   "pygments_lexer": "ipython3",
   "version": "3.6.5"
  }
 },
 "nbformat": 4,
 "nbformat_minor": 2
}
