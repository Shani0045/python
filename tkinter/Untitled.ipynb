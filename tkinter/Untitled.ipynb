{
 "cells": [
  {
   "cell_type": "code",
   "execution_count": 92,
   "metadata": {},
   "outputs": [],
   "source": [
    "from tkinter import*\n",
    "class Window(Tk):\n",
    "    def __init__(self):\n",
    "        super().__init__()\n",
    "        self.geometry(\"800x500\")\n",
    "        self.title(\"my app\")\n",
    "        self.widgets()\n",
    "    def widgets(self,p=None):\n",
    "        if p!=None:\n",
    "            p.destroy()\n",
    "        global var\n",
    "        global var1\n",
    "        self.f=Frame(self,bd=10,bg=\"green\",relief=RIDGE)\n",
    "        self.f.place(x=0,y=0,width=800,height=500)\n",
    "        l=Label(self.f,text=\"Enter Number\")\n",
    "        l.place(x=50,y=30)\n",
    "        var=IntVar()\n",
    "        var1=IntVar()\n",
    "        e=Entry(self.f,textvariable=var)\n",
    "        e.place(x=150,y=30)\n",
    "        l=Label(self.f,text=\"Enter Number\")\n",
    "        l.place(x=50,y=60)\n",
    "        e=Entry(self.f,textvariable=var1)\n",
    "        e.place(x=150,y=60)\n",
    "        b=Button(self.f,text=\"Click ME\",width=15,height=2,bg=\"blue\",fg=\"white\",command=lambda:self.Button())\n",
    "        b.place(x=150,y=90)\n",
    "    def Button(self):\n",
    "        self.geometry(\"600x300\")\n",
    "        v=var.get()\n",
    "        v1=var1.get()\n",
    "        lbl=Label(self,text=f\"the Addition is: {v+v1}\",font=(\"ariel\",15,\"bold\",\"underline\",\"italic\"))\n",
    "        lbl.pack()\n",
    "        \n",
    "        \n",
    "root=Window()\n",
    "root.mainloop()"
   ]
  },
  {
   "cell_type": "code",
   "execution_count": null,
   "metadata": {},
   "outputs": [],
   "source": []
  }
 ],
 "metadata": {
  "kernelspec": {
   "display_name": "Python 3",
   "language": "python",
   "name": "python3"
  },
  "language_info": {
   "codemirror_mode": {
    "name": "ipython",
    "version": 3
   },
   "file_extension": ".py",
   "mimetype": "text/x-python",
   "name": "python",
   "nbconvert_exporter": "python",
   "pygments_lexer": "ipython3",
   "version": "3.6.5"
  }
 },
 "nbformat": 4,
 "nbformat_minor": 2
}
