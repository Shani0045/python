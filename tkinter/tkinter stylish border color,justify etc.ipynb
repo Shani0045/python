{
 "cells": [
  {
   "cell_type": "code",
   "execution_count": 22,
   "metadata": {},
   "outputs": [],
   "source": [
    "from tkinter import*\n",
    "root=Tk()\n",
    "root.geometry(\"600x500\")\n",
    "f=Frame(root,bg=\"red\")\n",
    "\n",
    "l=Label(f,text=\"Welcome to the Screen\",font=(\"ariel 15\"),bd=0)\n",
    "l.pack(padx=1,pady=1)\n",
    "\n",
    "f.pack(padx=30,pady=30)\n",
    "root.mainloop()"
   ]
  },
  {
   "cell_type": "code",
   "execution_count": null,
   "metadata": {},
   "outputs": [],
   "source": [
    "curso"
   ]
  },
  {
   "cell_type": "code",
   "execution_count": 45,
   "metadata": {},
   "outputs": [],
   "source": [
    "from tkinter import*\n",
    "root=Tk()\n",
    "root.geometry(\"600x500\")\n",
    "\n",
    "\n",
    "btn=Button(root,text=\"click\",bg=\"blue\",fg=\"white\",width=10,activebackground=\"green\",activeforeground=\"black\",cursor=\"cross\")\n",
    "btn.pack(padx=1,pady=10)\n",
    "\n",
    "\n",
    "\n",
    "root.mainloop()"
   ]
  },
  {
   "cell_type": "markdown",
   "metadata": {},
   "source": [
    "# Bitmap"
   ]
  },
  {
   "cell_type": "code",
   "execution_count": 1,
   "metadata": {},
   "outputs": [],
   "source": [
    "from tkinter import*\n",
    "root=Tk()\n",
    "root.geometry(\"600x500\")\n",
    "\n",
    "\n",
    "btn=Button(root,text=\"error\",relief=RAISED,bitmap=\"error\")\n",
    "btn.pack()\n",
    "\n",
    "btn1=Button(root,relief=RAISED,bitmap=\"warning\")\n",
    "btn1.pack()\n",
    "\n",
    "btn1=Button(root,relief=RAISED,bitmap=\"info\")\n",
    "btn1.pack()\n",
    "\n",
    "btn1=Button(root,text=\"error\",relief=RAISED,bitmap=\"question\")\n",
    "btn1.pack()\n",
    "\n",
    "btn1=Button(root,text=\"error\",relief=RAISED,bitmap=\"hourglass\")\n",
    "btn1.pack()\n",
    "\n",
    "btn1=Button(root,text=\"error\",relief=RAISED,bitmap=\"questhead\")\n",
    "btn1.pack()\n",
    "\n",
    "btn1=Button(root,text=\"error\",relief=RAISED,bitmap=\"gray75\")\n",
    "btn1.pack()\n",
    "\n",
    "root.mainloop()"
   ]
  },
  {
   "cell_type": "code",
   "execution_count": null,
   "metadata": {},
   "outputs": [],
   "source": []
  }
 ],
 "metadata": {
  "kernelspec": {
   "display_name": "Python 3",
   "language": "python",
   "name": "python3"
  },
  "language_info": {
   "codemirror_mode": {
    "name": "ipython",
    "version": 3
   },
   "file_extension": ".py",
   "mimetype": "text/x-python",
   "name": "python",
   "nbconvert_exporter": "python",
   "pygments_lexer": "ipython3",
   "version": "3.6.5"
  }
 },
 "nbformat": 4,
 "nbformat_minor": 2
}
