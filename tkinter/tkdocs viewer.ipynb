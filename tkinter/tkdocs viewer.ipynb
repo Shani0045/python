{
 "cells": [
  {
   "cell_type": "code",
   "execution_count": 1,
   "id": "98d9a992",
   "metadata": {},
   "outputs": [
    {
     "name": "stdout",
     "output_type": "stream",
     "text": [
      "Collecting tkDocViewer\n",
      "  Downloading tkDocViewer-2.0.2-py2.py3-none-any.whl (26 kB)\n",
      "Installing collected packages: tkDocViewer\n",
      "Successfully installed tkDocViewer-2.0.2\n"
     ]
    },
    {
     "name": "stderr",
     "output_type": "stream",
     "text": [
      "WARNING: Ignoring invalid distribution -pencv-python (c:\\users\\hp\\appdata\\local\\programs\\python\\python36\\lib\\site-packages)\n",
      "WARNING: Ignoring invalid distribution -pencv-python (c:\\users\\hp\\appdata\\local\\programs\\python\\python36\\lib\\site-packages)\n",
      "WARNING: Ignoring invalid distribution -pencv-python (c:\\users\\hp\\appdata\\local\\programs\\python\\python36\\lib\\site-packages)\n",
      "WARNING: Ignoring invalid distribution -pencv-python (c:\\users\\hp\\appdata\\local\\programs\\python\\python36\\lib\\site-packages)\n",
      "WARNING: Ignoring invalid distribution -pencv-python (c:\\users\\hp\\appdata\\local\\programs\\python\\python36\\lib\\site-packages)\n",
      "WARNING: Ignoring invalid distribution -pencv-python (c:\\users\\hp\\appdata\\local\\programs\\python\\python36\\lib\\site-packages)\n"
     ]
    }
   ],
   "source": [
    "!pip install tkDocViewer"
   ]
  },
  {
   "cell_type": "code",
   "execution_count": 7,
   "id": "9fca6254",
   "metadata": {},
   "outputs": [],
   "source": [
    "from tkinter import *\n",
    "from tkdocviewer import *\n",
    "\n",
    "# Create a root window\n",
    "root = Tk()\n",
    "\n",
    "# Create a DocViewer widget\n",
    "v = DocViewer(root,force_text_display=True)\n",
    "v.pack(side=\"top\", expand=1, fill=\"both\")\n",
    "\n",
    "# Display some document\n",
    "v.display_file(\"hello.txt\")\n",
    "\n",
    "# Start Tk's event loop\n",
    "root.mainloop()"
   ]
  },
  {
   "cell_type": "code",
   "execution_count": 8,
   "id": "3f737758",
   "metadata": {},
   "outputs": [],
   "source": [
    "from tkinter import *\n",
    "from tkdocviewer import *\n",
    "\n",
    "# Create a root window\n",
    "root = Tk()\n",
    "\n",
    "# Create a DocViewer widget\n",
    "v = DocViewer(root,force_text_display=True)\n",
    "v.pack(side=\"top\", expand=1, fill=\"both\")\n",
    "\n",
    "# Display some document\n",
    "v.display_file(\"user.png\")\n",
    "\n",
    "# Start Tk's event loop\n",
    "root.mainloop()"
   ]
  },
  {
   "cell_type": "code",
   "execution_count": null,
   "id": "0a0db0dc",
   "metadata": {},
   "outputs": [],
   "source": []
  }
 ],
 "metadata": {
  "kernelspec": {
   "display_name": "Python 3",
   "language": "python",
   "name": "python3"
  },
  "language_info": {
   "codemirror_mode": {
    "name": "ipython",
    "version": 3
   },
   "file_extension": ".py",
   "mimetype": "text/x-python",
   "name": "python",
   "nbconvert_exporter": "python",
   "pygments_lexer": "ipython3",
   "version": "3.6.5"
  }
 },
 "nbformat": 4,
 "nbformat_minor": 5
}
