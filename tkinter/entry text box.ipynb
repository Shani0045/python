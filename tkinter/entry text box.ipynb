{
 "cells": [
  {
   "cell_type": "code",
   "execution_count": 44,
   "metadata": {},
   "outputs": [],
   "source": [
    "from tkinter import*\n",
    "from tkinter import ttk\n",
    "root=Tk()\n",
    "root.geometry(\"600x500\")\n",
    "\n",
    "def click():\n",
    "    usr=var.get()\n",
    "    pas=var2.get()\n",
    "    l2.config(text=f\"username={usr} and password={pas}\")\n",
    "    \n",
    "\n",
    "l=Label(root,text=\"Username\")\n",
    "l.grid(row=0,column=0)\n",
    "\n",
    "var=StringVar()\n",
    "e=Entry(root,relief=SOLID,bd=1,textvariable=var)\n",
    "\n",
    "e.grid(row=0,column=1,padx=5)\n",
    "\n",
    "\n",
    "l=Label(root,text=\"Password\")\n",
    "l.grid(row=1,column=0,pady=5)\n",
    "\n",
    "var2=StringVar()\n",
    "e=Entry(root,relief=SOLID,bd=1,textvariable=var2)\n",
    "e.grid(row=1,column=1,padx=5,pady=5)\n",
    "\n",
    "btn=Button(root,text=\"Submit\",command=lambda:click())\n",
    "btn.grid(row=3,column=0,pady=5)\n",
    "\n",
    "l2=Label(root)\n",
    "l2.place(x=10,y=100)\n",
    "root.mainloop()"
   ]
  },
  {
   "cell_type": "code",
   "execution_count": 14,
   "metadata": {},
   "outputs": [
    {
     "name": "stdout",
     "output_type": "stream",
     "text": [
      "empty\n",
      "empty\n",
      "empty\n",
      "not empty\n",
      "not empty\n",
      "empty\n"
     ]
    }
   ],
   "source": [
    "from tkinter import*\n",
    "from tkinter import ttk\n",
    "root=Tk()\n",
    "root.geometry(\"600x500\")\n",
    "\n",
    "def data(txt):\n",
    "    a=txt.get(\"0.0\",\"end-1c\").replace(\"\\n\",\"\")\n",
    "    if a==\"\": \n",
    "        print(\"empty\")\n",
    "    else:\n",
    "        print(\"not empty\")\n",
    "\n",
    "def click():\n",
    "    d=data(t)\n",
    "        \n",
    "def clear():\n",
    "    t.delete(1.0,END)\n",
    "    mess.set(\"\")\n",
    "    \n",
    "    \n",
    "l=Label(root,text=\"Type Message Here...\",font=(\"ariel 10 bold\"))\n",
    "l.place(x=30,y=10)\n",
    "\n",
    "t=Text(root,font=(\"ariel 10\"),width=50,height=10,relief=SOLID,bd=1)\n",
    "t.place(x=200,y=10)\n",
    "\n",
    "btn=Button(root,text=\"Print\",command=lambda:click())\n",
    "btn.place(x=200,y=200)\n",
    "\n",
    "btn=Button(root,text=\"Clear\",command=lambda:clear())\n",
    "btn.place(x=400,y=200)\n",
    "\n",
    "mess=StringVar()\n",
    "m=Message(root,textvariable=mess,bg=\"white\",width=350,relief=SOLID,bd=1)\n",
    "m.place(x=200,y=300,width=350,height=80)\n",
    "\n",
    "root.mainloop()"
   ]
  },
  {
   "cell_type": "code",
   "execution_count": null,
   "metadata": {},
   "outputs": [],
   "source": []
  }
 ],
 "metadata": {
  "kernelspec": {
   "display_name": "Python 3",
   "language": "python",
   "name": "python3"
  },
  "language_info": {
   "codemirror_mode": {
    "name": "ipython",
    "version": 3
   },
   "file_extension": ".py",
   "mimetype": "text/x-python",
   "name": "python",
   "nbconvert_exporter": "python",
   "pygments_lexer": "ipython3",
   "version": "3.6.5"
  }
 },
 "nbformat": 4,
 "nbformat_minor": 2
}
