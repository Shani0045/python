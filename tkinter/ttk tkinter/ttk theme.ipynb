{
 "cells": [
  {
   "cell_type": "code",
   "execution_count": 38,
   "metadata": {},
   "outputs": [
    {
     "name": "stdout",
     "output_type": "stream",
     "text": [
      "('winnative', 'clam', 'alt', 'default', 'classic', 'vista', 'xpnative')\n"
     ]
    }
   ],
   "source": [
    "from tkinter import*\n",
    "from tkinter import ttk\n",
    "root=Tk()\n",
    "root.geometry(\"600x400+300+200\")\n",
    "s=ttk.Style()\n",
    "theme=s.theme_names()\n",
    "print(theme)\n",
    "s.theme_use(\"classic\")\n",
    "\n",
    "e=ttk.Entry(root,show=\"\\u2022\")\n",
    "e.pack()\n",
    "\n",
    "btn=ttk.Button(root,text=\"Click Me\")\n",
    "btn.pack()\n",
    "\n",
    "\n",
    "root.mainloop()"
   ]
  },
  {
   "cell_type": "code",
   "execution_count": null,
   "metadata": {},
   "outputs": [],
   "source": []
  }
 ],
 "metadata": {
  "kernelspec": {
   "display_name": "Python 3",
   "language": "python",
   "name": "python3"
  },
  "language_info": {
   "codemirror_mode": {
    "name": "ipython",
    "version": 3
   },
   "file_extension": ".py",
   "mimetype": "text/x-python",
   "name": "python",
   "nbconvert_exporter": "python",
   "pygments_lexer": "ipython3",
   "version": "3.6.5"
  }
 },
 "nbformat": 4,
 "nbformat_minor": 2
}
