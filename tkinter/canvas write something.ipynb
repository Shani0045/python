{
 "cells": [
  {
   "cell_type": "code",
   "execution_count": null,
   "id": "7c372030",
   "metadata": {},
   "outputs": [],
   "source": [
    "from tkinter import*\n",
    "from tkinter.colorchooser import askcolor\n",
    "root=Tk()\n",
    "root.geometry(\"600x500\")\n",
    "color1=None\n",
    "def choosecolor():\n",
    "    global color1\n",
    "    d=askcolor()\n",
    "    color1=d[1]\n",
    "def paint(e):\n",
    "    color=color1\n",
    "    x1,y1=(e.x-1),(e.y-1)\n",
    "    x2,y2=(e.x+1),(e.y+1)\n",
    "    c.create_oval(x1,y1,x2,y2,fill=color,outline=color)\n",
    "#     c.postscript(file=\"my_drawing.png\", colormode='color')\n",
    "    \n",
    "c=Canvas(root,width=600,height=450,bg=\"white\")  \n",
    "c.pack(expand=YES,fill=BOTH)\n",
    "c.bind(\"<B1-Motion>\",paint)\n",
    "l=Label(root,text=\"draw anything....\")\n",
    "l.pack(side=BOTTOM)\n",
    "btn=Button(root,text=\"choose color\",command=choosecolor)\n",
    "btn.pack(side=TOP)\n",
    "root.mainloop()"
   ]
  },
  {
   "cell_type": "code",
   "execution_count": null,
   "id": "9ae18191",
   "metadata": {},
   "outputs": [],
   "source": []
  }
 ],
 "metadata": {
  "kernelspec": {
   "display_name": "Python 3",
   "language": "python",
   "name": "python3"
  },
  "language_info": {
   "codemirror_mode": {
    "name": "ipython",
    "version": 3
   },
   "file_extension": ".py",
   "mimetype": "text/x-python",
   "name": "python",
   "nbconvert_exporter": "python",
   "pygments_lexer": "ipython3",
   "version": "3.6.5"
  }
 },
 "nbformat": 4,
 "nbformat_minor": 5
}
