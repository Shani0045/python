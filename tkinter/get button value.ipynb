{
 "cells": [
  {
   "cell_type": "code",
   "execution_count": 18,
   "metadata": {},
   "outputs": [
    {
     "name": "stdout",
     "output_type": "stream",
     "text": [
      "1\n",
      "1None\n",
      "1None\n",
      "1None2\n"
     ]
    }
   ],
   "source": [
    "from tkinter import*\n",
    "root=Tk()\n",
    "root.geometry(\"700x400\")\n",
    "exp=\"\"\n",
    "def click(**k):\n",
    "    global exp\n",
    "    exp=exp+str(k[\"event\"])\n",
    "    print(exp)\n",
    "    if k['op']==\"+\":\n",
    "        print(eval(\"exp\"))\n",
    "    \n",
    "e=Entry(root,font=(\"ariel\",10)).pack()\n",
    "btn=Button(root,text=\"1\",command=lambda:click(event=1,op=None)).pack()\n",
    "btn=Button(root,text=\"2\",command=lambda:click(event=2,op=None)).pack()\n",
    "btn=Button(root,text=\"+\",command=lambda:click(event=None,op=\"+\"))\n",
    "btn.pack()\n",
    "root.mainloop()"
   ]
  },
  {
   "cell_type": "code",
   "execution_count": null,
   "metadata": {},
   "outputs": [],
   "source": []
  }
 ],
 "metadata": {
  "kernelspec": {
   "display_name": "Python 3",
   "language": "python",
   "name": "python3"
  },
  "language_info": {
   "codemirror_mode": {
    "name": "ipython",
    "version": 3
   },
   "file_extension": ".py",
   "mimetype": "text/x-python",
   "name": "python",
   "nbconvert_exporter": "python",
   "pygments_lexer": "ipython3",
   "version": "3.6.5"
  }
 },
 "nbformat": 4,
 "nbformat_minor": 2
}
