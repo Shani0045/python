{
 "cells": [
  {
   "cell_type": "code",
   "execution_count": 1,
   "metadata": {},
   "outputs": [],
   "source": [
    "from tkinter import*\n",
    "from tkinter import ttk\n",
    "root=Tk()"
   ]
  },
  {
   "cell_type": "markdown",
   "metadata": {},
   "source": [
    "# Check button"
   ]
  },
  {
   "cell_type": "code",
   "execution_count": 7,
   "metadata": {},
   "outputs": [
    {
     "name": "stdout",
     "output_type": "stream",
     "text": [
      "music 0 video 0\n",
      "music 0 video 1\n",
      "music 1 video 1\n"
     ]
    }
   ],
   "source": [
    "root=Tk()\n",
    "def click():\n",
    "    print(\"music\",var.get(),\"video\",var2.get())\n",
    "\n",
    "var=IntVar()\n",
    "var2=IntVar()\n",
    "check=Checkbutton(root,text=\"music\",variable=var).pack()\n",
    "ckeck2=Checkbutton(root,text=\"video\",variable=var2).pack()\n",
    "btn=ttk.Button(root,text=\"click\",command=click).pack()\n",
    "root.mainloop()"
   ]
  },
  {
   "cell_type": "code",
   "execution_count": 24,
   "metadata": {},
   "outputs": [],
   "source": [
    "root=Tk()\n",
    "def click():\n",
    "    v,v=var.get(),var2.get()\n",
    "    varb.set(v)\n",
    "    \n",
    "\n",
    "var=IntVar()\n",
    "var2=IntVar()\n",
    "varb=IntVar()\n",
    "check=Checkbutton(root,text=\"music\",variable=var2).pack()\n",
    "ckeck2=Checkbutton(root,text=\"video\",variable=var).pack()\n",
    "entry=Entry(root,textvariable=varb).pack()\n",
    "btn=ttk.Button(root,text=\"click\",command=click).pack()\n",
    "root.mainloop()"
   ]
  },
  {
   "cell_type": "code",
   "execution_count": null,
   "metadata": {},
   "outputs": [],
   "source": []
  },
  {
   "cell_type": "markdown",
   "metadata": {},
   "source": [
    "# Radio button"
   ]
  },
  {
   "cell_type": "code",
   "execution_count": null,
   "metadata": {},
   "outputs": [],
   "source": []
  },
  {
   "cell_type": "code",
   "execution_count": 18,
   "metadata": {},
   "outputs": [
    {
     "name": "stdout",
     "output_type": "stream",
     "text": [
      "music 0 video 2\n"
     ]
    }
   ],
   "source": [
    "root=Tk()\n",
    "def click():\n",
    "    print(\"music\",var.get(),\"video\",var2.get())\n",
    "    \n",
    "    \n",
    "\n",
    "var=IntVar()\n",
    "var2=IntVar()\n",
    "varb=IntVar()\n",
    "check=Radiobutton(root,text=\"music\",variable=var,value=1).pack()\n",
    "ckeck2=Radiobutton(root,text=\"video\",variable=var2,value=2).pack()\n",
    "entry=Entry(root,textvariable=varb).pack()\n",
    "btn=ttk.Button(root,text=\"click\",command=click).pack()\n",
    "root.mainloop()"
   ]
  },
  {
   "cell_type": "code",
   "execution_count": 23,
   "metadata": {},
   "outputs": [],
   "source": [
    "root=Tk()\n",
    "def click():\n",
    "    v,v=var.get(),var2.get()\n",
    "    varb.set(v)\n",
    "    \n",
    "\n",
    "var=IntVar()\n",
    "var2=IntVar()\n",
    "varb=IntVar()\n",
    "check=Radiobutton(root,text=\"music\",variable=var,value=1).pack()\n",
    "ckeck2=Radiobutton(root,text=\"video\",variable=var2,value=2).pack()\n",
    "entry=Entry(root,textvariable=varb).pack()\n",
    "btn=ttk.Button(root,text=\"click\",command=click).pack()\n",
    "root.mainloop()"
   ]
  },
  {
   "cell_type": "markdown",
   "metadata": {},
   "source": [
    "# scale"
   ]
  },
  {
   "cell_type": "code",
   "execution_count": 31,
   "metadata": {},
   "outputs": [],
   "source": [
    "root=Tk()\n",
    "def click():\n",
    "    v=var.get()\n",
    "    varb.set(v)\n",
    "    \n",
    "\n",
    "var=IntVar()\n",
    "varb=IntVar()\n",
    "\n",
    "check=Scale(root,from_=1,to=10,variable=var).pack()\n",
    "\n",
    "entry=Entry(root,textvariable=varb).pack()\n",
    "btn=ttk.Button(root,text=\"click\",command=click).pack()\n",
    "root.mainloop()"
   ]
  },
  {
   "cell_type": "code",
   "execution_count": 32,
   "metadata": {},
   "outputs": [],
   "source": [
    "root=Tk()\n",
    "def click():\n",
    "    v=var.get()\n",
    "    varb.set(v)\n",
    "    \n",
    "\n",
    "var=IntVar()\n",
    "varb=IntVar()\n",
    "\n",
    "check=Scale(root,from_=1,to=10,variable=var,orient=\"horizontal\").pack()\n",
    "\n",
    "entry=Entry(root,textvariable=varb).pack()\n",
    "btn=ttk.Button(root,text=\"click\",command=click).pack()\n",
    "root.mainloop()"
   ]
  },
  {
   "cell_type": "markdown",
   "metadata": {},
   "source": [
    "# spinbox"
   ]
  },
  {
   "cell_type": "code",
   "execution_count": 38,
   "metadata": {},
   "outputs": [],
   "source": [
    "root=Tk()\n",
    "root.geometry(\"200x200\")\n",
    "def click():\n",
    "    v=var.get()\n",
    "    varb.set(v)\n",
    "    \n",
    "\n",
    "var=IntVar()\n",
    "varb=IntVar()\n",
    "\n",
    "check=Spinbox(root,from_=1,to=10,textvariable=var).pack()\n",
    "\n",
    "entry=Entry(root,textvariable=varb).pack()\n",
    "btn=ttk.Button(root,text=\"click\",command=click).pack()\n",
    "root.mainloop()"
   ]
  },
  {
   "cell_type": "markdown",
   "metadata": {},
   "source": [
    "# Message"
   ]
  },
  {
   "cell_type": "code",
   "execution_count": 40,
   "metadata": {},
   "outputs": [],
   "source": [
    "root=Tk()\n",
    "root.geometry(\"200x200\")\n",
    "def click():\n",
    "    v=var.get()\n",
    "    varb.set(v)\n",
    "    \n",
    "\n",
    "var=IntVar()\n",
    "varb=IntVar()\n",
    "\n",
    "check=Spinbox(root,from_=1,to=10,textvariable=var).pack()\n",
    "\n",
    "entry=Message(root,textvariable=varb,bg=\"white\").pack()\n",
    "btn=ttk.Button(root,text=\"click\",command=click).pack()\n",
    "root.mainloop()"
   ]
  },
  {
   "cell_type": "markdown",
   "metadata": {},
   "source": [
    "# text"
   ]
  },
  {
   "cell_type": "code",
   "execution_count": 52,
   "metadata": {},
   "outputs": [
    {
     "name": "stderr",
     "output_type": "stream",
     "text": [
      "Exception in Tkinter callback\n",
      "Traceback (most recent call last):\n",
      "  File \"c:\\users\\hp\\appdata\\local\\programs\\python\\python36\\lib\\tkinter\\__init__.py\", line 1702, in __call__\n",
      "    return self.func(*args)\n",
      "  File \"<ipython-input-52-9b8f3c24fbc6>\", line 5, in click\n",
      "    entry.insert(\"end-1c\",v)\n",
      "AttributeError: 'NoneType' object has no attribute 'insert'\n",
      "Exception in Tkinter callback\n",
      "Traceback (most recent call last):\n",
      "  File \"c:\\users\\hp\\appdata\\local\\programs\\python\\python36\\lib\\tkinter\\__init__.py\", line 1702, in __call__\n",
      "    return self.func(*args)\n",
      "  File \"<ipython-input-52-9b8f3c24fbc6>\", line 5, in click\n",
      "    entry.insert(\"end-1c\",v)\n",
      "AttributeError: 'NoneType' object has no attribute 'insert'\n",
      "Exception in Tkinter callback\n",
      "Traceback (most recent call last):\n",
      "  File \"c:\\users\\hp\\appdata\\local\\programs\\python\\python36\\lib\\tkinter\\__init__.py\", line 1702, in __call__\n",
      "    return self.func(*args)\n",
      "  File \"<ipython-input-52-9b8f3c24fbc6>\", line 5, in click\n",
      "    entry.insert(\"end-1c\",v)\n",
      "AttributeError: 'NoneType' object has no attribute 'insert'\n",
      "Exception in Tkinter callback\n",
      "Traceback (most recent call last):\n",
      "  File \"c:\\users\\hp\\appdata\\local\\programs\\python\\python36\\lib\\tkinter\\__init__.py\", line 1702, in __call__\n",
      "    return self.func(*args)\n",
      "  File \"<ipython-input-52-9b8f3c24fbc6>\", line 5, in click\n",
      "    entry.insert(\"end-1c\",v)\n",
      "AttributeError: 'NoneType' object has no attribute 'insert'\n"
     ]
    }
   ],
   "source": [
    "root=Tk()\n",
    "root.geometry(\"200x200\")\n",
    "def click():\n",
    "    v=var.get()\n",
    "    entry.insert(\"end-1c\",v)\n",
    "    \n",
    "    \n",
    "\n",
    "var=StringVar()\n",
    "\n",
    "check=Entry(root,textvariable=var).pack()\n",
    "\n",
    "entry=Text(root,bg=\"white\").pack()\n",
    "btn=ttk.Button(root,text=\"click\",command=click).pack()\n",
    "root.mainloop()"
   ]
  },
  {
   "cell_type": "markdown",
   "metadata": {},
   "source": [
    "# menubutton"
   ]
  },
  {
   "cell_type": "code",
   "execution_count": null,
   "metadata": {},
   "outputs": [],
   "source": [
    "root=Tk()\n",
    "root.geometry(\"200x200\")\n",
    "def click():\n",
    "    v=var.get()\n",
    "    varb.set(v)\n",
    "    \n",
    "\n",
    "var=IntVar()\n",
    "varb=IntVar()\n",
    "\n",
    "check=Spinbox(root,from_=1,to=10,textvariable=var).pack()\n",
    "\n",
    "entry=Menubutton(root,text=textvariable=varb,bg=\"white\").pack()\n",
    "btn=ttk.Button(root,text=\"click\",command=click).pack()\n",
    "root.mainloop()"
   ]
  },
  {
   "cell_type": "markdown",
   "metadata": {},
   "source": [
    "# option menu"
   ]
  },
  {
   "cell_type": "code",
   "execution_count": 11,
   "metadata": {},
   "outputs": [],
   "source": [
    "root=Tk()\n",
    "root.geometry(\"200x200\")\n",
    "\n",
    "def click():\n",
    "    va=v.get()\n",
    "    var.set(va)\n",
    "    \n",
    "    \n",
    "var=StringVar()\n",
    "v=StringVar()\n",
    "v.set(\"Select\")\n",
    "\n",
    "o=OptionMenu(root,v,'Select',\"msft\",\"googl\",\"aapl\")\n",
    "o.place(x=20,y=65)\n",
    "\n",
    "entry=Entry(root,textvariable=var,bg=\"white\").pack()\n",
    "\n",
    "btn=ttk.Button(root,text=\"click\",command=click).pack()\n",
    "root.mainloop()"
   ]
  },
  {
   "cell_type": "code",
   "execution_count": 12,
   "metadata": {},
   "outputs": [],
   "source": [
    "root=Tk()\n",
    "root.geometry(\"200x200\")\n",
    "\n",
    "def click():\n",
    "    va=v.get()\n",
    "    var.set(va)\n",
    "    \n",
    "    \n",
    "var=StringVar()\n",
    "v=StringVar()\n",
    "\n",
    "list1=[\"google\",\"aaple\",\"microsoft\"]\n",
    "\n",
    "v.set(\"Select\")\n",
    "\n",
    "o=OptionMenu(root,v, *list1)\n",
    "o.place(x=20,y=65)\n",
    "\n",
    "entry=Entry(root,textvariable=var,bg=\"white\").pack()\n",
    "\n",
    "btn=ttk.Button(root,text=\"click\",command=click).pack()\n",
    "root.mainloop()"
   ]
  },
  {
   "cell_type": "code",
   "execution_count": 13,
   "metadata": {},
   "outputs": [],
   "source": [
    "root=Tk()\n",
    "root.geometry(\"200x200\")\n",
    "\n",
    "def click():\n",
    "    va=v.get()\n",
    "    var.set(va)\n",
    "    \n",
    "    \n",
    "var=StringVar()\n",
    "v=StringVar()\n",
    "\n",
    "list1=[\"google\",\"aaple\",\"microsoft\"]\n",
    "\n",
    "v.set(list1[0])\n",
    "\n",
    "o=OptionMenu(root,v, *list1)\n",
    "o.place(x=20,y=65)\n",
    "\n",
    "entry=Entry(root,textvariable=var,bg=\"white\").pack()\n",
    "\n",
    "btn=ttk.Button(root,text=\"click\",command=click).pack()\n",
    "root.mainloop()"
   ]
  },
  {
   "cell_type": "markdown",
   "metadata": {},
   "source": [
    "# listbox"
   ]
  },
  {
   "cell_type": "code",
   "execution_count": 44,
   "metadata": {},
   "outputs": [],
   "source": [
    "root=Tk()\n",
    "# root.geometry(\"200x200\")\n",
    "\n",
    "def click():\n",
    "    va=listbox.get(ACTIVE)\n",
    "    var.set(va)\n",
    "    \n",
    "    \n",
    "var=StringVar()\n",
    "v=StringVar()\n",
    "\n",
    "listbox=Listbox(root)\n",
    "listbox.pack(side=LEFT,fill=BOTH)\n",
    "\n",
    "listbox.insert(1,\"python\")\n",
    "listbox.insert(2,\"java\")\n",
    "listbox.insert(3,\"c\")\n",
    "listbox.insert(4,\"c++\")\n",
    "listbox.insert(5,\"ruby\")\n",
    "listbox.insert(6,\".net\")\n",
    "\n",
    "\n",
    "\n",
    "entry=Entry(root,textvariable=var,bg=\"white\").pack()\n",
    "\n",
    "btn=ttk.Button(root,text=\"click\",command=click).pack()\n",
    "\n",
    "root.mainloop()"
   ]
  },
  {
   "cell_type": "markdown",
   "metadata": {},
   "source": [
    "# scrollbar"
   ]
  },
  {
   "cell_type": "code",
   "execution_count": 43,
   "metadata": {},
   "outputs": [],
   "source": [
    "root=Tk()\n",
    "# root.geometry(\"200x200\")\n",
    "\n",
    "def click():\n",
    "    va=listbox.get(ACTIVE)\n",
    "    var.set(va)\n",
    "    \n",
    "    \n",
    "var=StringVar()\n",
    "v=StringVar()\n",
    "\n",
    "listbox=Listbox(root)\n",
    "listbox.pack(side=LEFT,fill=BOTH)\n",
    "\n",
    "for i in range(100):\n",
    "    listbox.insert(END,i)\n",
    "\n",
    "o=Scrollbar(root)\n",
    "o.pack(side=RIGHT,fill=Y)\n",
    "\n",
    "\n",
    "# attach listbox to scrollbar\n",
    "\n",
    "listbox.config(yscrollcommand=o.set)\n",
    "\n",
    "o.config(command=listbox.yview)\n",
    "\n",
    "entry=Entry(root,textvariable=var,bg=\"white\").pack()\n",
    "\n",
    "btn=ttk.Button(root,text=\"click\",command=click).pack()\n",
    "\n",
    "root.mainloop()"
   ]
  },
  {
   "cell_type": "code",
   "execution_count": null,
   "metadata": {},
   "outputs": [],
   "source": []
  }
 ],
 "metadata": {
  "kernelspec": {
   "display_name": "Python 3",
   "language": "python",
   "name": "python3"
  },
  "language_info": {
   "codemirror_mode": {
    "name": "ipython",
    "version": 3
   },
   "file_extension": ".py",
   "mimetype": "text/x-python",
   "name": "python",
   "nbconvert_exporter": "python",
   "pygments_lexer": "ipython3",
   "version": "3.6.5"
  }
 },
 "nbformat": 4,
 "nbformat_minor": 2
}
