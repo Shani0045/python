{
 "cells": [
  {
   "cell_type": "markdown",
   "metadata": {},
   "source": [
    "# mouse events"
   ]
  },
  {
   "cell_type": "raw",
   "metadata": {},
   "source": [
    "<Button> - The element was clicked\n",
    "<Double-Button> - The element was double clicked\n",
    "<Triple-Button> - The element was triple clicked\n",
    "<ButtonPress> - A click on the element has begun\n",
    "<ButtonRelease> - A click on the element was released\n",
    "\n",
    "<Enter>  when mouse cursor hover\n",
    "<Leave>-- when mouse cursor remove from widget it work "
   ]
  },
  {
   "cell_type": "markdown",
   "metadata": {},
   "source": [
    "## keybord event"
   ]
  },
  {
   "cell_type": "raw",
   "metadata": {},
   "source": [
    "<Key>  any key press\n",
    "\"z\"  lower small press\n",
    "\"Z\"  capital z press\n",
    "\"abc\"  abc press\n",
    "<Return> - The return / enter key press\n",
    "<Up>, <Down>, <Left>, <Right> - The arrow keys\n",
    "<space>, <less> - The space and less than keys, respectively\n",
    "<Shift-Up>, <Alt-Up>, <Control-Up> - The up key was pressed\n",
    "\n",
    "<FocusIn> - Keyboard focus was moved to this widget\n",
    "<FocusOut> - Keyboard focus was moved out of this widget"
   ]
  },
  {
   "cell_type": "markdown",
   "metadata": {},
   "source": [
    "# window events"
   ]
  },
  {
   "cell_type": "raw",
   "metadata": {},
   "source": [
    "def window_exit():\n",
    "close = messagebox.askyesno(\"Exit?\", \"Are you sure you want to exit?\")\n",
    "if close:\n",
    "    root.destroy()\n",
    "\n",
    "root.protocol(\"WM_DELETE_WINDOW\", window_exit)    # window"
   ]
  },
  {
   "cell_type": "raw",
   "metadata": {},
   "source": [
    "Binding Options\n",
    "There are multiple ways to bind events to widgets in tkinter:\n",
    "\n",
    ".bind() - bind to the specific widget only (instance binding)\n",
    ".bind_class() - bind to the all widgets of this class (class binding)\n",
    ".bind_all() - bind across the whole application (application binding)"
   ]
  },
  {
   "cell_type": "code",
   "execution_count": null,
   "metadata": {},
   "outputs": [],
   "source": [
    "root.bind('<Return>', handler)\n",
    "root.bind_class('Entry', '<Control-V>', paste)\n",
    "widget.unbind(event)\n",
    "btn.unbind('<Return>')"
   ]
  },
  {
   "cell_type": "code",
   "execution_count": null,
   "metadata": {},
   "outputs": [],
   "source": []
  },
  {
   "cell_type": "code",
   "execution_count": null,
   "metadata": {},
   "outputs": [],
   "source": []
  },
  {
   "cell_type": "code",
   "execution_count": 18,
   "metadata": {},
   "outputs": [
    {
     "name": "stdout",
     "output_type": "stream",
     "text": [
      "<ButtonPress event state=Mod1 num=3 x=17 y=11>\n"
     ]
    }
   ],
   "source": [
    "from tkinter import*\n",
    "root=Tk()\n",
    "def shani(event):\n",
    "    l=Label(root,text=\"hello shani,how are you?\")\n",
    "    l.pack()\n",
    "\n",
    "b=Button(root,text=\"click me\")\n",
    "#b.bind(event(btn name),action(fun))\n",
    "b.bind(\"<Button-3>\",shani) #3-right click work 1 for left click\n",
    "b.pack()\n",
    "root.mainloop()"
   ]
  },
  {
   "cell_type": "code",
   "execution_count": 23,
   "metadata": {},
   "outputs": [
    {
     "name": "stdout",
     "output_type": "stream",
     "text": [
      ".!button\n"
     ]
    }
   ],
   "source": [
    "from tkinter import*\n",
    "root=Tk()\n",
    "def shani(event):\n",
    "    print(event.widget)   # return widget name\n",
    "    l=Label(root,text=\"hello shani,how are you?\")\n",
    "    l.pack()\n",
    "\n",
    "b=Button(root,text=\"click me\")\n",
    "#b.bind(event,action(fun))\n",
    "b.bind(\"<Enter>\",shani) #jaise hi mouse btn pe jayega click ho jayega\n",
    "b.pack()\n",
    "root.mainloop()"
   ]
  },
  {
   "cell_type": "code",
   "execution_count": 4,
   "metadata": {},
   "outputs": [],
   "source": [
    "from tkinter import*\n",
    "root=Tk()\n",
    "root.geometry(\"600x500\")\n",
    "def shani(event):\n",
    "    l.configure(text=\"hello shani\")\n",
    "    \n",
    "\n",
    "b=Button(root,text=\"click me\")\n",
    "#b.bind(event,action(fun))\n",
    "b.bind(\"<Return>\",shani)# click enter key first click tab\n",
    "b.pack()\n",
    "\n",
    "l=Label(root,text=\"shani\")\n",
    "l.pack()\n",
    "root.mainloop()"
   ]
  },
  {
   "cell_type": "code",
   "execution_count": 17,
   "metadata": {},
   "outputs": [],
   "source": [
    "from tkinter import*\n",
    "root=Tk()\n",
    "root.geometry(\"600x500\")\n",
    "def shani(event):\n",
    "    l=Label(root,text=\"hello shani,how are you?\")\n",
    "    l.pack()\n",
    "\n",
    "b=Button(root,text=\"click me\")\n",
    "#b.bind(event,action(fun))\n",
    "b.bind(\"<Key>\",shani)  #koi v key click karoge work karga first click tab\n",
    "b.pack()\n",
    "root.mainloop()"
   ]
  },
  {
   "cell_type": "code",
   "execution_count": null,
   "metadata": {},
   "outputs": [],
   "source": []
  },
  {
   "cell_type": "code",
   "execution_count": 14,
   "metadata": {},
   "outputs": [
    {
     "name": "stdout",
     "output_type": "stream",
     "text": [
      "hello bhai\n",
      "hello bhai\n",
      "hello bhai\n",
      "hello bhai\n",
      "hello bhai\n"
     ]
    }
   ],
   "source": [
    "from tkinter import*\n",
    "root=Tk()\n",
    "\n",
    "def ajay():\n",
    "    print(\"hello bhai\")\n",
    "root.bind(\"<Return>\",shani) # click enter key\n",
    "\n",
    "b=Button(root,text=\"click me\",command=ajay)\n",
    "b.pack()\n",
    "root.mainloop()"
   ]
  },
  {
   "cell_type": "code",
   "execution_count": 29,
   "metadata": {},
   "outputs": [],
   "source": [
    "from tkinter import*\n",
    "root=Tk()\n",
    "\n",
    "def ajay():\n",
    "    print(\"hello bhai\")\n",
    "root.bind(\"<Button-1>\",shani) # click enter key\n",
    "\n",
    "b=Button(root,text=\"click me\",command=ajay)\n",
    "b.pack()\n",
    "root.mainloop()"
   ]
  },
  {
   "cell_type": "code",
   "execution_count": 36,
   "metadata": {},
   "outputs": [],
   "source": [
    "from tkinter import*\n",
    "root=Tk()\n",
    "def shani(event):\n",
    "    l=Label(root,text=\"hello shani,how are you?\")\n",
    "    l.pack()\n",
    "root.bind(\"<Leave>\",shani)\n",
    "\n",
    "b=Button(root,text=\"click me\")\n",
    "b.pack()\n",
    "#b.bind(event,action(fun))\n",
    "root.mainloop()"
   ]
  },
  {
   "cell_type": "code",
   "execution_count": 38,
   "metadata": {},
   "outputs": [],
   "source": [
    "from tkinter import*\n",
    "root=Tk()\n",
    "def shani(event):\n",
    "    l=Label(root,text=\"hello shani,how are you?\")\n",
    "    l.pack()\n",
    "root.bind(\"<Double-1>\",shani) # double click\n",
    "\n",
    "b=Button(root,text=\"click me\")\n",
    "b.pack()\n",
    "#b.bind(event,action(fun))\n",
    "root.mainloop()"
   ]
  },
  {
   "cell_type": "markdown",
   "metadata": {},
   "source": [
    "# with lambda"
   ]
  },
  {
   "cell_type": "code",
   "execution_count": null,
   "metadata": {},
   "outputs": [],
   "source": [
    "from tkinter import*\n",
    "root=Tk()\n",
    "def shani(event):\n",
    "    key=event.char\n",
    "    print(key)\n",
    "root.bind(\"<Double-1>\",lambda a:shani(a)) # double click\n",
    "\n",
    "b=Button(root,text=\"click me\")\n",
    "b.pack()\n",
    "#b.bind(event,action(fun))\n",
    "root.mainloop()"
   ]
  },
  {
   "cell_type": "code",
   "execution_count": null,
   "metadata": {},
   "outputs": [],
   "source": [
    "from tkinter import*\n",
    "root=Tk()\n",
    "root.mainloop()"
   ]
  },
  {
   "cell_type": "code",
   "execution_count": 3,
   "metadata": {},
   "outputs": [
    {
     "name": "stdout",
     "output_type": "stream",
     "text": [
      "hello bhai\n"
     ]
    }
   ],
   "source": [
    "from tkinter import*\n",
    "root=Tk()\n",
    "root.geometry(\"400x400\")\n",
    "def ajay(event):\n",
    "    print(\"hello bhai\")\n",
    " # right click key\n",
    "\n",
    "root.bind(\"<Button>\",ajay)\n",
    "root.mainloop()"
   ]
  },
  {
   "cell_type": "code",
   "execution_count": 13,
   "metadata": {},
   "outputs": [
    {
     "name": "stdout",
     "output_type": "stream",
     "text": [
      "label is clicked\n",
      "label is clicked\n",
      "label is clicked\n",
      "label is clicked\n"
     ]
    }
   ],
   "source": [
    "from tkinter import *\n",
    "root=Tk()\n",
    "def click(e):\n",
    "    print(\"label is clicked\")\n",
    "    \n",
    "root.geometry(\"600x500\")\n",
    "l=Label(text=\"Hi welcoe to allahabad\")\n",
    "l.pack()\n",
    "l.bind(\"<Button>\",click)\n",
    "\n",
    "root.mainloop()"
   ]
  },
  {
   "cell_type": "code",
   "execution_count": 16,
   "metadata": {},
   "outputs": [],
   "source": [
    "from tkinter import *\n",
    "root=Tk()\n",
    "def click(e):\n",
    "    l.config(bg=\"blue\")\n",
    "    \n",
    "def click2(e):\n",
    "    l.config(bg=\"pink\")\n",
    "    \n",
    "root.geometry(\"600x500\")\n",
    "l=Label(text=\"Hi welcoe to allahabad\")\n",
    "l.pack()\n",
    "\n",
    "l.bind(\"<Enter>\",click)\n",
    "l.bind(\"<Leave>\",click2)\n",
    "\n",
    "root.mainloop()"
   ]
  },
  {
   "cell_type": "code",
   "execution_count": null,
   "metadata": {},
   "outputs": [],
   "source": []
  },
  {
   "cell_type": "code",
   "execution_count": null,
   "metadata": {},
   "outputs": [],
   "source": []
  },
  {
   "cell_type": "code",
   "execution_count": 17,
   "metadata": {},
   "outputs": [],
   "source": [
    "import tkinter as tk\n",
    "\n",
    "def on_focus_out(event):\n",
    "    if event.widget == root:\n",
    "        label.configure(text=\"I DON'T have focus\")\n",
    "\n",
    "def on_focus_in(event):\n",
    "    if event.widget == root:\n",
    "        label.configure(text=\"I have focus\")\n",
    "\n",
    "root = tk.Tk()\n",
    "label = tk.Label(width=30)\n",
    "label.pack(side=\"top\", fill=\"both\", expand=True)\n",
    "\n",
    "root.bind(\"<FocusIn>\", on_focus_in)\n",
    "root.bind(\"<FocusOut>\", on_focus_out)\n",
    "\n",
    "root.mainloop()"
   ]
  },
  {
   "cell_type": "code",
   "execution_count": null,
   "metadata": {},
   "outputs": [],
   "source": []
  }
 ],
 "metadata": {
  "kernelspec": {
   "display_name": "Python 3",
   "language": "python",
   "name": "python3"
  },
  "language_info": {
   "codemirror_mode": {
    "name": "ipython",
    "version": 3
   },
   "file_extension": ".py",
   "mimetype": "text/x-python",
   "name": "python",
   "nbconvert_exporter": "python",
   "pygments_lexer": "ipython3",
   "version": "3.6.5"
  }
 },
 "nbformat": 4,
 "nbformat_minor": 2
}
