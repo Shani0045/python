{
 "cells": [
  {
   "cell_type": "code",
   "execution_count": null,
   "metadata": {},
   "outputs": [
    {
     "name": "stdout",
     "output_type": "stream",
     "text": [
      " 10% [.......                                                                   ]  835584 / 8249976"
     ]
    }
   ],
   "source": [
    "import requests as r\n",
    "import wget\n",
    "import os\n",
    "# a=r.get(\"https://developer.microsoft.com/en-us/microsoft-edge/tools/webdriver/edgedriver_win64.zip\")\n",
    "wget.download(\"https://msedgedriver.azureedge.net/99.0.1150.30/edgedriver_win64.zip\",os.getcwd())"
   ]
  },
  {
   "cell_type": "code",
   "execution_count": null,
   "metadata": {},
   "outputs": [],
   "source": []
  },
  {
   "cell_type": "code",
   "execution_count": null,
   "metadata": {},
   "outputs": [],
   "source": []
  },
  {
   "cell_type": "code",
   "execution_count": 7,
   "metadata": {},
   "outputs": [],
   "source": [
    "from tkinter import*\n",
    "from tkinter import ttk\n",
    "root=Tk()"
   ]
  },
  {
   "cell_type": "markdown",
   "metadata": {},
   "source": [
    "# Check button\n",
    "variable=var"
   ]
  },
  {
   "cell_type": "code",
   "execution_count": 6,
   "metadata": {},
   "outputs": [
    {
     "name": "stdout",
     "output_type": "stream",
     "text": [
      "video is selected!\n"
     ]
    }
   ],
   "source": [
    "root=Tk()\n",
    "def click():\n",
    "    if var.get()==1:\n",
    "        print(\"music is selected!\")\n",
    "    else:\n",
    "        print(\"video is selected!\")\n",
    "\n",
    "var=IntVar()\n",
    "var2=IntVar()\n",
    "\n",
    "check=Checkbutton(root,text=\"music\",variable=var,onvalue=1,offvalue=0,bitmap=\"info\").pack()\n",
    "ckeck2=Checkbutton(root,text=\"video\",variable=var ,onvalue=2,offvalue=0).pack()\n",
    "btn=Button(root,text=\"click\",command=click,cursor=\"plus\").pack()\n",
    "root.mainloop()"
   ]
  },
  {
   "cell_type": "code",
   "execution_count": 1,
   "metadata": {},
   "outputs": [
    {
     "ename": "NameError",
     "evalue": "name 'Tk' is not defined",
     "output_type": "error",
     "traceback": [
      "\u001b[1;31m---------------------------------------------------------------------------\u001b[0m",
      "\u001b[1;31mNameError\u001b[0m                                 Traceback (most recent call last)",
      "\u001b[1;32m<ipython-input-1-987b1b1ad147>\u001b[0m in \u001b[0;36m<module>\u001b[1;34m\u001b[0m\n\u001b[1;32m----> 1\u001b[1;33m \u001b[0mroot\u001b[0m\u001b[1;33m=\u001b[0m\u001b[0mTk\u001b[0m\u001b[1;33m(\u001b[0m\u001b[1;33m)\u001b[0m\u001b[1;33m\u001b[0m\u001b[0m\n\u001b[0m\u001b[0;32m      2\u001b[0m \u001b[1;32mdef\u001b[0m \u001b[0mclick\u001b[0m\u001b[1;33m(\u001b[0m\u001b[1;33m)\u001b[0m\u001b[1;33m:\u001b[0m\u001b[1;33m\u001b[0m\u001b[0m\n\u001b[0;32m      3\u001b[0m     \u001b[0mv\u001b[0m\u001b[1;33m=\u001b[0m\u001b[0mvar\u001b[0m\u001b[1;33m.\u001b[0m\u001b[0mget\u001b[0m\u001b[1;33m(\u001b[0m\u001b[1;33m)\u001b[0m\u001b[1;33m\u001b[0m\u001b[0m\n\u001b[0;32m      4\u001b[0m     \u001b[1;32mif\u001b[0m \u001b[0mv\u001b[0m\u001b[1;33m==\u001b[0m\u001b[1;36m1\u001b[0m\u001b[1;33m:\u001b[0m\u001b[1;33m\u001b[0m\u001b[0m\n\u001b[0;32m      5\u001b[0m         \u001b[0mvarb\u001b[0m\u001b[1;33m.\u001b[0m\u001b[0mset\u001b[0m\u001b[1;33m(\u001b[0m\u001b[1;34m\"music\"\u001b[0m\u001b[1;33m)\u001b[0m\u001b[1;33m\u001b[0m\u001b[0m\n",
      "\u001b[1;31mNameError\u001b[0m: name 'Tk' is not defined"
     ]
    }
   ],
   "source": [
    "root=Tk()\n",
    "def click():\n",
    "    v=var.get()\n",
    "    if v==1:\n",
    "        varb.set(\"music\")\n",
    "    else:\n",
    "        varb.set(\"video\")\n",
    "    \n",
    "var=IntVar()\n",
    "var2=IntVar()\n",
    "varb=IntVar()\n",
    "check=Checkbutton(root,text=\"music\",variable=var,onvalue=1,offvalue=0).pack()\n",
    "ckeck2=Checkbutton(root,text=\"video\",variable=var,onvalue=2,offvalue=0).pack()\n",
    "entry=Entry(root,textvariable=varb).pack()\n",
    "btn=ttk.Button(root,text=\"click\",command=click).pack()\n",
    "root.mainloop()"
   ]
  },
  {
   "cell_type": "code",
   "execution_count": null,
   "metadata": {},
   "outputs": [],
   "source": []
  },
  {
   "cell_type": "markdown",
   "metadata": {},
   "source": [
    "# Radio button\n",
    "variable=var"
   ]
  },
  {
   "cell_type": "code",
   "execution_count": 4,
   "metadata": {},
   "outputs": [],
   "source": [
    "root=Tk()\n",
    "def click():\n",
    "    if var.get()==1:\n",
    "        print(\"music\")\n",
    "        varb.set(\"music selected\")\n",
    "    else:\n",
    "        print(\"video\")\n",
    "        varb.set(\"video selected\")\n",
    "    \n",
    "var=IntVar()\n",
    "varb=StringVar()\n",
    "check=Radiobutton(root,text=\"music\",variable=var,value=1).pack()\n",
    "ckeck2=Radiobutton(root,text=\"video\",variable=var,value=2).pack()\n",
    "entry=Entry(root,textvariable=varb).pack()\n",
    "btn=ttk.Button(root,text=\"click\",command=click).pack()\n",
    "root.mainloop()"
   ]
  },
  {
   "cell_type": "code",
   "execution_count": 10,
   "metadata": {},
   "outputs": [],
   "source": [
    "root=Tk()\n",
    "def click():\n",
    "    v=var.get()\n",
    "    varb.set(v)\n",
    "    \n",
    "\n",
    "var=IntVar()\n",
    "varb=IntVar()\n",
    "check=Radiobutton(root,text=\"music\",variable=var,value=1).pack()\n",
    "ckeck2=Radiobutton(root,text=\"video\",variable=var,value=2).pack()\n",
    "entry=Entry(root,textvariable=varb).pack()\n",
    "btn=ttk.Button(root,text=\"click\",command=click).pack()\n",
    "root.mainloop()"
   ]
  },
  {
   "cell_type": "markdown",
   "metadata": {},
   "source": [
    "# scale\n",
    "variable=var"
   ]
  },
  {
   "cell_type": "code",
   "execution_count": 17,
   "metadata": {},
   "outputs": [],
   "source": [
    "root=Tk()\n",
    "def click():\n",
    "    v=var.get()\n",
    "    varb.set(v)\n",
    "    \n",
    "\n",
    "var=IntVar()\n",
    "varb=IntVar()\n",
    "\n",
    "check=Scale(root,from_=1,to=10,variable=var).pack()\n",
    "\n",
    "entry=Entry(root,textvariable=varb).pack()\n",
    "btn=ttk.Button(root,text=\"click\",command=click).pack()\n",
    "root.mainloop()"
   ]
  },
  {
   "cell_type": "code",
   "execution_count": 18,
   "metadata": {},
   "outputs": [],
   "source": [
    "root=Tk()\n",
    "def click():\n",
    "    v=var.get()\n",
    "    varb.set(v)\n",
    "    \n",
    "\n",
    "var=IntVar()\n",
    "varb=IntVar()\n",
    "\n",
    "check=Scale(root,from_=1,to=10,variable=var,orient=\"horizontal\").pack()\n",
    "\n",
    "entry=Entry(root,textvariable=varb).pack()\n",
    "btn=ttk.Button(root,text=\"click\",command=click).pack()\n",
    "root.mainloop()"
   ]
  },
  {
   "cell_type": "markdown",
   "metadata": {},
   "source": [
    "# spinbox\n",
    "textvariable=var"
   ]
  },
  {
   "cell_type": "code",
   "execution_count": 4,
   "metadata": {},
   "outputs": [],
   "source": [
    "root=Tk()\n",
    "root.geometry(\"200x200\")\n",
    "def click():\n",
    "    v=var.get()\n",
    "    varb.set(v)\n",
    "    \n",
    "\n",
    "var=IntVar()\n",
    "varb=IntVar()\n",
    "\n",
    "check=Spinbox(root,from_=1,to=10,textvariable=var).pack()\n",
    "\n",
    "entry=Entry(root,textvariable=varb).pack()\n",
    "btn=ttk.Button(root,text=\"click\",command=click).pack()\n",
    "root.mainloop()"
   ]
  },
  {
   "cell_type": "markdown",
   "metadata": {},
   "source": [
    "# Message\n",
    "textvariable=var"
   ]
  },
  {
   "cell_type": "code",
   "execution_count": 1,
   "metadata": {},
   "outputs": [],
   "source": [
    "from tkinter import*\n",
    "from tkinter import ttk\n",
    "root=Tk()\n",
    "root.geometry(\"200x200\")\n",
    "def click():\n",
    "    v=var.get()\n",
    "    varb.set(v)\n",
    "    \n",
    "\n",
    "var=IntVar()\n",
    "varb=IntVar()\n",
    "\n",
    "check=Spinbox(root,from_=1,to=10,textvariable=var).pack()\n",
    "\n",
    "entry=Message(root,textvariable=varb,bg=\"white\").pack()\n",
    "btn=ttk.Button(root,text=\"click\",command=click).pack()\n",
    "root.mainloop()"
   ]
  },
  {
   "cell_type": "markdown",
   "metadata": {},
   "source": [
    "# option menu or drop down list"
   ]
  },
  {
   "cell_type": "code",
   "execution_count": 8,
   "metadata": {},
   "outputs": [
    {
     "ename": "TclError",
     "evalue": "can't use placer on top-level window \".!optionmenu.menu\"; use wm command instead",
     "output_type": "error",
     "traceback": [
      "\u001b[1;31m---------------------------------------------------------------------------\u001b[0m",
      "\u001b[1;31mTclError\u001b[0m                                  Traceback (most recent call last)",
      "\u001b[1;32m<ipython-input-8-827dbff6057f>\u001b[0m in \u001b[0;36m<module>\u001b[1;34m\u001b[0m\n\u001b[0;32m     12\u001b[0m \u001b[1;33m\u001b[0m\u001b[0m\n\u001b[0;32m     13\u001b[0m \u001b[0mo\u001b[0m\u001b[1;33m=\u001b[0m\u001b[0mOptionMenu\u001b[0m\u001b[1;33m(\u001b[0m\u001b[0mroot\u001b[0m\u001b[1;33m,\u001b[0m\u001b[0mv\u001b[0m\u001b[1;33m,\u001b[0m\u001b[1;34m'Select'\u001b[0m\u001b[1;33m,\u001b[0m\u001b[1;34m\"msft\"\u001b[0m\u001b[1;33m,\u001b[0m\u001b[1;34m\"googl\"\u001b[0m\u001b[1;33m,\u001b[0m\u001b[1;34m\"aapl\"\u001b[0m\u001b[1;33m)\u001b[0m\u001b[1;33m\u001b[0m\u001b[0m\n\u001b[1;32m---> 14\u001b[1;33m \u001b[0mprint\u001b[0m\u001b[1;33m(\u001b[0m\u001b[0mo\u001b[0m\u001b[1;33m[\u001b[0m\u001b[1;34m'menu'\u001b[0m\u001b[1;33m]\u001b[0m\u001b[1;33m.\u001b[0m\u001b[0mplace\u001b[0m\u001b[1;33m(\u001b[0m\u001b[0mx\u001b[0m\u001b[1;33m=\u001b[0m\u001b[1;36m10\u001b[0m\u001b[1;33m)\u001b[0m\u001b[1;33m)\u001b[0m\u001b[1;33m\u001b[0m\u001b[0m\n\u001b[0m\u001b[0;32m     15\u001b[0m \u001b[0mo\u001b[0m\u001b[1;33m.\u001b[0m\u001b[0mplace\u001b[0m\u001b[1;33m(\u001b[0m\u001b[0mx\u001b[0m\u001b[1;33m=\u001b[0m\u001b[1;36m20\u001b[0m\u001b[1;33m,\u001b[0m\u001b[0my\u001b[0m\u001b[1;33m=\u001b[0m\u001b[1;36m65\u001b[0m\u001b[1;33m)\u001b[0m\u001b[1;33m\u001b[0m\u001b[0m\n\u001b[0;32m     16\u001b[0m \u001b[1;33m\u001b[0m\u001b[0m\n",
      "\u001b[1;32mc:\\users\\hp\\appdata\\local\\programs\\python\\python36\\lib\\tkinter\\__init__.py\u001b[0m in \u001b[0;36mplace_configure\u001b[1;34m(self, cnf, **kw)\u001b[0m\n\u001b[0;32m   2183\u001b[0m         self.tk.call(\n\u001b[0;32m   2184\u001b[0m               \u001b[1;33m(\u001b[0m\u001b[1;34m'place'\u001b[0m\u001b[1;33m,\u001b[0m \u001b[1;34m'configure'\u001b[0m\u001b[1;33m,\u001b[0m \u001b[0mself\u001b[0m\u001b[1;33m.\u001b[0m\u001b[0m_w\u001b[0m\u001b[1;33m)\u001b[0m\u001b[1;33m\u001b[0m\u001b[0m\n\u001b[1;32m-> 2185\u001b[1;33m               + self._options(cnf, kw))\n\u001b[0m\u001b[0;32m   2186\u001b[0m     \u001b[0mplace\u001b[0m \u001b[1;33m=\u001b[0m \u001b[0mconfigure\u001b[0m \u001b[1;33m=\u001b[0m \u001b[0mconfig\u001b[0m \u001b[1;33m=\u001b[0m \u001b[0mplace_configure\u001b[0m\u001b[1;33m\u001b[0m\u001b[0m\n\u001b[0;32m   2187\u001b[0m     \u001b[1;32mdef\u001b[0m \u001b[0mplace_forget\u001b[0m\u001b[1;33m(\u001b[0m\u001b[0mself\u001b[0m\u001b[1;33m)\u001b[0m\u001b[1;33m:\u001b[0m\u001b[1;33m\u001b[0m\u001b[0m\n",
      "\u001b[1;31mTclError\u001b[0m: can't use placer on top-level window \".!optionmenu.menu\"; use wm command instead"
     ]
    }
   ],
   "source": [
    "from tkinter import*\n",
    "root=Tk()\n",
    "root.geometry(\"200x200\")\n",
    "\n",
    "def click():\n",
    "    va=v.get()\n",
    "    var.set(va)\n",
    "\n",
    "var=StringVar()\n",
    "v=StringVar()\n",
    "v.set(\"Select\")\n",
    "\n",
    "o=OptionMenu(root,v,'Select',\"msft\",\"googl\",\"aapl\")\n",
    "print(o['menu'].command())\n",
    "o.place(x=20,y=65)\n",
    "\n",
    "entry=Entry(root,textvariable=var,bg=\"white\").pack()\n",
    "\n",
    "btn=ttk.Button(root,text=\"click\",command=click).pack()\n",
    "root.mainloop()"
   ]
  },
  {
   "cell_type": "code",
   "execution_count": 13,
   "metadata": {},
   "outputs": [],
   "source": [
    "root=Tk()\n",
    "root.geometry(\"200x200\")\n",
    "\n",
    "def click():\n",
    "    va=v.get()\n",
    "    var.set(va)\n",
    "    \n",
    "    \n",
    "var=StringVar()\n",
    "v=StringVar()\n",
    "\n",
    "list1=[\"google\",\"aaple\",\"microsoft\"]\n",
    "\n",
    "v.set(\"Select\")\n",
    "\n",
    "o=OptionMenu(root,v, *list1)\n",
    "o.place(x=20,y=65)\n",
    "\n",
    "entry=Entry(root,textvariable=var,bg=\"white\").pack()\n",
    "\n",
    "btn=ttk.Button(root,text=\"click\",command=click).pack()\n",
    "root.mainloop()"
   ]
  },
  {
   "cell_type": "code",
   "execution_count": 24,
   "metadata": {},
   "outputs": [],
   "source": [
    "root=Tk()\n",
    "root.geometry(\"200x200\")\n",
    "\n",
    "def click():\n",
    "    va=v.get()\n",
    "    var.set(va)\n",
    "    \n",
    "    \n",
    "var=StringVar()\n",
    "v=StringVar()\n",
    "\n",
    "list1=[\"google\",\"aaple\",\"microsoft\"]\n",
    "\n",
    "v.set(list1[0])\n",
    "\n",
    "o=OptionMenu(root,v, *list1)\n",
    "o.place(x=20,y=65)\n",
    "\n",
    "entry=Entry(root,textvariable=var,bg=\"white\").pack()\n",
    "\n",
    "btn=ttk.Button(root,text=\"click\",command=click).pack()\n",
    "root.mainloop()"
   ]
  },
  {
   "cell_type": "markdown",
   "metadata": {},
   "source": [
    "# listbox"
   ]
  },
  {
   "cell_type": "code",
   "execution_count": 3,
   "metadata": {},
   "outputs": [],
   "source": [
    "from tkinter import*\n",
    "root=Tk()\n",
    "# root.geometry(\"200x200\")\n",
    "\n",
    "def click():\n",
    "    va=listbox.get(ACTIVE)\n",
    "    var.set(va)\n",
    "    \n",
    "    \n",
    "var=StringVar()\n",
    "v=StringVar()\n",
    "\n",
    "listbox=Listbox(root)\n",
    "listbox.pack(side=LEFT,fill=BOTH)\n",
    "\n",
    "listbox.insert(1,\"python\")\n",
    "listbox.insert(2,\"java\")\n",
    "listbox.insert(3,\"c\")\n",
    "listbox.insert(4,\"c++\")\n",
    "listbox.insert(5,\"ruby\")\n",
    "listbox.insert(6,\".net\")\n",
    "\n",
    "entry=Entry(root,textvariable=var,bg=\"white\").pack()\n",
    "\n",
    "btn=ttk.Button(root,text=\"click\",command=click).pack()\n",
    "\n",
    "root.mainloop()"
   ]
  },
  {
   "cell_type": "code",
   "execution_count": 1,
   "metadata": {},
   "outputs": [],
   "source": [
    "import tkinter as tk\n",
    "from tkinter import ttk\n",
    "from tkinter.messagebox import showinfo\n",
    "\n",
    "# create the root window\n",
    "root = tk.Tk()\n",
    "root.geometry('200x100')\n",
    "root.resizable(False, False)\n",
    "root.title('Listbox')\n",
    "\n",
    "root.columnconfigure(0, weight=1)\n",
    "root.rowconfigure(0, weight=1)\n",
    "\n",
    "# create a list box\n",
    "langs = ('Java', 'C#', 'C', 'C++', 'Python',\n",
    "        'Go', 'JavaScript', 'PHP', 'Swift')\n",
    "\n",
    "langs_var = tk.StringVar(value=langs)\n",
    "\n",
    "listbox = tk.Listbox(\n",
    "    root,\n",
    "    listvariable=langs_var,\n",
    "    height=6,\n",
    "    selectmode='extended')\n",
    "\n",
    "listbox.grid(\n",
    "    column=0,\n",
    "    row=0,\n",
    "    sticky='nwes'\n",
    ")\n",
    "\n",
    "# handle event\n",
    "def items_selected(event):\n",
    "    \"\"\" handle item selected event\n",
    "    \"\"\"\n",
    "    # get selected indices\n",
    "    selected_indices = listbox.curselection()\n",
    "    # get selected items\n",
    "    selected_langs = \",\".join([listbox.get(i) for i in selected_indices])\n",
    "    msg = f'You selected: {selected_langs}'\n",
    "\n",
    "    showinfo(\n",
    "        title='Information',\n",
    "        message=msg)\n",
    "\n",
    "\n",
    "listbox.bind('<<ListboxSelect>>', items_selected)\n",
    "\n",
    "root.mainloop()"
   ]
  },
  {
   "cell_type": "code",
   "execution_count": null,
   "metadata": {},
   "outputs": [],
   "source": []
  },
  {
   "cell_type": "markdown",
   "metadata": {},
   "source": [
    "# scrollbar"
   ]
  },
  {
   "cell_type": "code",
   "execution_count": 4,
   "metadata": {},
   "outputs": [],
   "source": [
    "root=Tk()\n",
    "# root.geometry(\"200x200\")\n",
    "\n",
    "def click():\n",
    "    va=listbox.get(ACTIVE)\n",
    "    listbox.insert(1,\"shani\")\n",
    "    \n",
    "    \n",
    "var=StringVar()\n",
    "v=StringVar()\n",
    "\n",
    "listbox=Listbox(root)\n",
    "listbox.pack(side=LEFT,fill=BOTH)\n",
    "\n",
    "for i in range(100):\n",
    "    listbox.insert(END,i)\n",
    "\n",
    "o=Scrollbar(root)\n",
    "o.pack(side=RIGHT,fill=Y)\n",
    "\n",
    "# attach listbox to scrollbar\n",
    "\n",
    "listbox.config(yscrollcommand=o.set)\n",
    "\n",
    "o.config(command=listbox.yview)\n",
    "\n",
    "entry=Entry(root,textvariable=var,bg=\"white\").pack()\n",
    "\n",
    "btn=ttk.Button(root,text=\"click\",command=click).pack()\n",
    "\n",
    "root.mainloop()"
   ]
  },
  {
   "cell_type": "markdown",
   "metadata": {},
   "source": [
    "# combobox\n",
    "textvariable=var"
   ]
  },
  {
   "cell_type": "code",
   "execution_count": 24,
   "metadata": {},
   "outputs": [
    {
     "name": "stdout",
     "output_type": "stream",
     "text": [
      "select\n"
     ]
    }
   ],
   "source": [
    "root=Tk()\n",
    "root.geometry(\"200x200\")\n",
    "\n",
    "def click():\n",
    "    va=v.get()\n",
    "    var.set(va)\n",
    "    \n",
    "    \n",
    "var=StringVar()\n",
    "v=StringVar()\n",
    "\n",
    "combo=ttk.Combobox(root,textvariable=v,width=16,height=30)\n",
    "maping={10:\"shani\",20:\"pradeep\",30:\"amit\",40:\"rahul\"}\n",
    "# adding combobox drop down list\n",
    "combo[\"values\"]=(\"shani\",\n",
    "                   \"pradeep\",\n",
    "                   \"amit\",\n",
    "                   \"rahul\")\n",
    "v.set(\"select\")\n",
    "combo.pack(side=LEFT,fill=BOTH)\n",
    "entry=Entry(root,textvariable=var,bg=\"white\").pack()\n",
    "\n",
    "btn=ttk.Button(root,text=\"click\",command=click).pack()\n",
    "\n",
    "root.mainloop()"
   ]
  },
  {
   "cell_type": "code",
   "execution_count": 3,
   "metadata": {},
   "outputs": [],
   "source": [
    "root=Tk()\n",
    "root.geometry(\"200x200\")\n",
    "\n",
    "def click():\n",
    "    va=v.get()\n",
    "    var.set(va)\n",
    "    \n",
    "    \n",
    "var=StringVar()\n",
    "v=StringVar()\n",
    "\n",
    "combo=ttk.Combobox(root,textvariable=v,width=16,value=(\"shani\",\"pradeep\",\"amit\",\"rahul\"))\n",
    "\n",
    "v.set(\"select\")\n",
    "combo.pack(side=LEFT,fill=BOTH)\n",
    "\n",
    "\n",
    "\n",
    "\n",
    "entry=Entry(root,textvariable=var,bg=\"white\").pack()\n",
    "\n",
    "btn=ttk.Button(root,text=\"click\",command=click).pack()\n",
    "\n",
    "root.mainloop()"
   ]
  },
  {
   "cell_type": "markdown",
   "metadata": {},
   "source": [
    "# Menu"
   ]
  },
  {
   "cell_type": "code",
   "execution_count": 12,
   "metadata": {},
   "outputs": [
    {
     "name": "stdout",
     "output_type": "stream",
     "text": [
      "file has been open...\n"
     ]
    }
   ],
   "source": [
    "root=Tk()\n",
    "root.geometry(\"200x200\")\n",
    "\n",
    "def click():\n",
    "    va=v.get()\n",
    "    var.set(va)\n",
    "    \n",
    "var=StringVar()\n",
    "v=StringVar()\n",
    "\n",
    "menub=Menu(root)\n",
    "\n",
    "def fileopen():\n",
    "    print(\"file has been open...\")\n",
    "# adding file menu and command\n",
    "file=Menu(menub,tearoff=0)\n",
    "\n",
    "menub.add_cascade(label=\"File\",menu=file)\n",
    "\n",
    "file.add_command(label=\"open\",command=fileopen)\n",
    "file.add_command(label=\"save\",command=None)\n",
    "file.add_command(label=\"exit\",command=None)\n",
    "file.add_separator()\n",
    "file.add_command(label=\"Exit\",command=root.destroy)\n",
    "\n",
    "# adding Edit menu and command\n",
    "edit=Menu(menub,tearoff=0)\n",
    "\n",
    "menub.add_cascade(label=\"edit\",menu=edit)\n",
    "\n",
    "edit.add_command(label=\"cut\",command=None)\n",
    "edit.add_command(label=\"copy\",command=None)\n",
    "edit.add_command(label=\"past\",command=None)\n",
    "edit.add_separator()\n",
    "edit.add_command(label=\"find\",command=None)\n",
    "\n",
    "# adding help menu and command\n",
    "\n",
    "help_=Menu(menub,tearoff=0)\n",
    "\n",
    "menub.add_cascade(label=\"help\",menu=help_)\n",
    "\n",
    "help_.add_command(label=\"tk help\",command=None)\n",
    "help_.add_command(label=\"demo\",command=None)\n",
    "help_.add_command(label=\"about\",command=None)\n",
    "help_.add_separator()\n",
    "help_.add_command(label=\"find\",command=None)\n",
    "\n",
    "root.config(menu=menub)\n",
    "\n",
    "\n",
    "entry=Entry(root,textvariable=var,bg=\"white\").pack()\n",
    "\n",
    "btn=ttk.Button(root,text=\"click\",command=click).pack()\n",
    "\n",
    "root.mainloop()"
   ]
  },
  {
   "cell_type": "markdown",
   "metadata": {},
   "source": [
    "# menubutton"
   ]
  },
  {
   "cell_type": "code",
   "execution_count": 5,
   "metadata": {},
   "outputs": [
    {
     "ename": "TclError",
     "evalue": "unknown option \"-bg\"",
     "output_type": "error",
     "traceback": [
      "\u001b[1;31m---------------------------------------------------------------------------\u001b[0m",
      "\u001b[1;31mTclError\u001b[0m                                  Traceback (most recent call last)",
      "\u001b[1;32m<ipython-input-5-17e0cdd12738>\u001b[0m in \u001b[0;36m<module>\u001b[1;34m\u001b[0m\n\u001b[0;32m     16\u001b[0m \u001b[0mmenubtn\u001b[0m\u001b[1;33m.\u001b[0m\u001b[0mmenu\u001b[0m\u001b[1;33m=\u001b[0m\u001b[0mMenu\u001b[0m\u001b[1;33m(\u001b[0m\u001b[0mmenubtn\u001b[0m\u001b[1;33m,\u001b[0m\u001b[0mtearoff\u001b[0m\u001b[1;33m=\u001b[0m\u001b[1;36m0\u001b[0m\u001b[1;33m)\u001b[0m\u001b[1;33m\u001b[0m\u001b[0m\n\u001b[0;32m     17\u001b[0m \u001b[1;33m\u001b[0m\u001b[0m\n\u001b[1;32m---> 18\u001b[1;33m \u001b[0mentry\u001b[0m\u001b[1;33m=\u001b[0m\u001b[0mEntry\u001b[0m\u001b[1;33m(\u001b[0m\u001b[0mroot\u001b[0m\u001b[1;33m,\u001b[0m\u001b[0mtextvariable\u001b[0m\u001b[1;33m=\u001b[0m\u001b[0mvar\u001b[0m\u001b[1;33m,\u001b[0m\u001b[0mbg\u001b[0m\u001b[1;33m=\u001b[0m\u001b[1;34m\"white\"\u001b[0m\u001b[1;33m)\u001b[0m\u001b[1;33m.\u001b[0m\u001b[0mpack\u001b[0m\u001b[1;33m(\u001b[0m\u001b[1;33m)\u001b[0m\u001b[1;33m\u001b[0m\u001b[0m\n\u001b[0m\u001b[0;32m     19\u001b[0m \u001b[1;33m\u001b[0m\u001b[0m\n\u001b[0;32m     20\u001b[0m \u001b[0mbtn\u001b[0m\u001b[1;33m=\u001b[0m\u001b[0mttk\u001b[0m\u001b[1;33m.\u001b[0m\u001b[0mButton\u001b[0m\u001b[1;33m(\u001b[0m\u001b[0mroot\u001b[0m\u001b[1;33m,\u001b[0m\u001b[0mtext\u001b[0m\u001b[1;33m=\u001b[0m\u001b[1;34m\"click\"\u001b[0m\u001b[1;33m,\u001b[0m\u001b[0mcommand\u001b[0m\u001b[1;33m=\u001b[0m\u001b[0mclick\u001b[0m\u001b[1;33m)\u001b[0m\u001b[1;33m.\u001b[0m\u001b[0mpack\u001b[0m\u001b[1;33m(\u001b[0m\u001b[1;33m)\u001b[0m\u001b[1;33m\u001b[0m\u001b[0m\n",
      "\u001b[1;32mc:\\users\\hp\\appdata\\local\\programs\\python\\python36\\lib\\tkinter\\ttk.py\u001b[0m in \u001b[0;36m__init__\u001b[1;34m(self, master, widget, **kw)\u001b[0m\n\u001b[0;32m    669\u001b[0m             \u001b[0mnone\u001b[0m\u001b[1;33m,\u001b[0m \u001b[0mkey\u001b[0m\u001b[1;33m,\u001b[0m \u001b[0mfocus\u001b[0m\u001b[1;33m,\u001b[0m \u001b[0mfocusin\u001b[0m\u001b[1;33m,\u001b[0m \u001b[0mfocusout\u001b[0m\u001b[1;33m,\u001b[0m \u001b[0mall\u001b[0m\u001b[1;33m\u001b[0m\u001b[0m\n\u001b[0;32m    670\u001b[0m         \"\"\"\n\u001b[1;32m--> 671\u001b[1;33m         \u001b[0mWidget\u001b[0m\u001b[1;33m.\u001b[0m\u001b[0m__init__\u001b[0m\u001b[1;33m(\u001b[0m\u001b[0mself\u001b[0m\u001b[1;33m,\u001b[0m \u001b[0mmaster\u001b[0m\u001b[1;33m,\u001b[0m \u001b[0mwidget\u001b[0m \u001b[1;32mor\u001b[0m \u001b[1;34m\"ttk::entry\"\u001b[0m\u001b[1;33m,\u001b[0m \u001b[0mkw\u001b[0m\u001b[1;33m)\u001b[0m\u001b[1;33m\u001b[0m\u001b[0m\n\u001b[0m\u001b[0;32m    672\u001b[0m \u001b[1;33m\u001b[0m\u001b[0m\n\u001b[0;32m    673\u001b[0m \u001b[1;33m\u001b[0m\u001b[0m\n",
      "\u001b[1;32mc:\\users\\hp\\appdata\\local\\programs\\python\\python36\\lib\\tkinter\\ttk.py\u001b[0m in \u001b[0;36m__init__\u001b[1;34m(self, master, widgetname, kw)\u001b[0m\n\u001b[0;32m    557\u001b[0m             \u001b[1;31m# Load tile now, if needed\u001b[0m\u001b[1;33m\u001b[0m\u001b[1;33m\u001b[0m\u001b[0m\n\u001b[0;32m    558\u001b[0m             \u001b[0m_load_tile\u001b[0m\u001b[1;33m(\u001b[0m\u001b[0mmaster\u001b[0m\u001b[1;33m)\u001b[0m\u001b[1;33m\u001b[0m\u001b[0m\n\u001b[1;32m--> 559\u001b[1;33m         \u001b[0mtkinter\u001b[0m\u001b[1;33m.\u001b[0m\u001b[0mWidget\u001b[0m\u001b[1;33m.\u001b[0m\u001b[0m__init__\u001b[0m\u001b[1;33m(\u001b[0m\u001b[0mself\u001b[0m\u001b[1;33m,\u001b[0m \u001b[0mmaster\u001b[0m\u001b[1;33m,\u001b[0m \u001b[0mwidgetname\u001b[0m\u001b[1;33m,\u001b[0m \u001b[0mkw\u001b[0m\u001b[1;33m=\u001b[0m\u001b[0mkw\u001b[0m\u001b[1;33m)\u001b[0m\u001b[1;33m\u001b[0m\u001b[0m\n\u001b[0m\u001b[0;32m    560\u001b[0m \u001b[1;33m\u001b[0m\u001b[0m\n\u001b[0;32m    561\u001b[0m \u001b[1;33m\u001b[0m\u001b[0m\n",
      "\u001b[1;32mc:\\users\\hp\\appdata\\local\\programs\\python\\python36\\lib\\tkinter\\__init__.py\u001b[0m in \u001b[0;36m__init__\u001b[1;34m(self, master, widgetName, cnf, kw, extra)\u001b[0m\n\u001b[0;32m   2294\u001b[0m             \u001b[1;32mdel\u001b[0m \u001b[0mcnf\u001b[0m\u001b[1;33m[\u001b[0m\u001b[0mk\u001b[0m\u001b[1;33m]\u001b[0m\u001b[1;33m\u001b[0m\u001b[0m\n\u001b[0;32m   2295\u001b[0m         self.tk.call(\n\u001b[1;32m-> 2296\u001b[1;33m             (widgetName, self._w) + extra + self._options(cnf))\n\u001b[0m\u001b[0;32m   2297\u001b[0m         \u001b[1;32mfor\u001b[0m \u001b[0mk\u001b[0m\u001b[1;33m,\u001b[0m \u001b[0mv\u001b[0m \u001b[1;32min\u001b[0m \u001b[0mclasses\u001b[0m\u001b[1;33m:\u001b[0m\u001b[1;33m\u001b[0m\u001b[0m\n\u001b[0;32m   2298\u001b[0m             \u001b[0mk\u001b[0m\u001b[1;33m.\u001b[0m\u001b[0mconfigure\u001b[0m\u001b[1;33m(\u001b[0m\u001b[0mself\u001b[0m\u001b[1;33m,\u001b[0m \u001b[0mv\u001b[0m\u001b[1;33m)\u001b[0m\u001b[1;33m\u001b[0m\u001b[0m\n",
      "\u001b[1;31mTclError\u001b[0m: unknown option \"-bg\""
     ]
    }
   ],
   "source": [
    "from tkinter import *\n",
    "from tkinter.ttk import *\n",
    "root=Tk()\n",
    "root.geometry(\"200x200\")\n",
    "\n",
    "def click():\n",
    "    va=v.get()\n",
    "    var.set(va)\n",
    "    \n",
    "var=StringVar()\n",
    "v=StringVar()\n",
    "\n",
    "menubtn=Menubutton(root,text=\"shani\")\n",
    "menubtn.pack()\n",
    "\n",
    "menubtn.menu=Menu(menubtn,tearoff=0)\n",
    "\n",
    "entry=Entry(root,textvariable=var,bg=\"white\").pack()\n",
    "\n",
    "btn=ttk.Button(root,text=\"click\",command=click).pack()\n",
    "\n",
    "root.mainloop()"
   ]
  },
  {
   "cell_type": "markdown",
   "metadata": {},
   "source": [
    "# file menu box uploadfile"
   ]
  },
  {
   "cell_type": "code",
   "execution_count": 15,
   "metadata": {},
   "outputs": [],
   "source": [
    "from tkinter.filedialog import askopenfilename\n",
    "root=Tk()\n",
    "root.geometry(\"200x200\")\n",
    "def click():\n",
    "    d=askopenfilename()\n",
    "    var.set(d)\n",
    "var=StringVar()\n",
    "e=Entry(root,textvariable=var).pack()\n",
    "btn=Button(root,text=\"clickme\",command=click).pack()\n",
    "root.mainloop()"
   ]
  },
  {
   "cell_type": "markdown",
   "metadata": {},
   "source": [
    "# choose path"
   ]
  },
  {
   "cell_type": "code",
   "execution_count": 2,
   "metadata": {},
   "outputs": [],
   "source": [
    "from tkinter.filedialog import askdirectory\n",
    "root=Tk()\n",
    "root.geometry(\"200x200\")\n",
    "def click():\n",
    "    d=askdirectory()\n",
    "    var.set(d)\n",
    "var=StringVar()\n",
    "e=Entry(root,textvariable=var).pack()\n",
    "btn=Button(root,text=\"clickme\",command=click).pack()\n",
    "root.mainloop()"
   ]
  },
  {
   "cell_type": "markdown",
   "metadata": {},
   "source": [
    "# Color Chooser"
   ]
  },
  {
   "cell_type": "code",
   "execution_count": 1,
   "metadata": {},
   "outputs": [],
   "source": [
    "from tkinter import*\n",
    "from tkinter.colorchooser import askcolor\n",
    "root=Tk()\n",
    "root.geometry(\"200x200\")\n",
    "def click():\n",
    "    d=askcolor()\n",
    "    l=Label(root,text=\"hello my name is shani\",bg=d[1]).pack()\n",
    "    \n",
    "btn=Button(root,text=\"clickme\",command=click).pack()\n",
    "root.mainloop()"
   ]
  },
  {
   "cell_type": "markdown",
   "metadata": {},
   "source": [
    "# TreeView"
   ]
  },
  {
   "cell_type": "code",
   "execution_count": 1,
   "metadata": {},
   "outputs": [
    {
     "name": "stdout",
     "output_type": "stream",
     "text": [
      "['b.tech', '4th', 'allahabad', '28-07-2000']\n"
     ]
    }
   ],
   "source": [
    "from tkinter import ttk\n",
    "import tkinter as tk\n",
    "from tkinter import*\n",
    "from tkinter import messagebox\n",
    "root=Tk()\n",
    "root.geometry(\"840x500\")\n",
    "\n",
    "def deletedata():\n",
    "    row_id=treeview.focus()\n",
    "    treeview.delete(row_id)\n",
    "def data():\n",
    "    a=len(treeview.get_children())\n",
    "    print(treeview.get_children())\n",
    "    messagebox.showinfo(\"rows\",f\"Total rows {a}\")\n",
    "\n",
    "#__________________when update record in row their own place_________________________________\n",
    "def update():\n",
    "    selected=treeview.focus()\n",
    "    treeview.delete()\n",
    "    treeview.item(selected,text=\"updated\",values=(v.get(),v1.get(),v2.get(),\"new value\"))\n",
    " \n",
    "#_______________when update record and place it in end or 0 position  without selected row_________\n",
    "\n",
    "def update2():\n",
    "    selected=v.get()\n",
    "    treeview.delete(selected)\n",
    "    treeview.insert(\"\",\"end\",text=\"updated\",values=(v.get(),v1.get(),v2.get(),\"new value\"))\n",
    "    \n",
    "def selected_items(event):   \n",
    "    selected=treeview.focus()\n",
    "    #value=treeview.item(selected,\"values\")      return tuple\n",
    "    #print(value)\n",
    "    \n",
    "    #or\n",
    "    values=treeview.item(selected)\n",
    "    row=values['values']           #return list\n",
    "    \n",
    "    v.set(row[0])\n",
    "    v1.set(row[1])\n",
    "    v2.set(row[2])\n",
    "    return row\n",
    "    \n",
    "def row_by_id():\n",
    "    ids=v.get()\n",
    "    treeview.delete(ids)\n",
    "    messagebox.showinfo(\"info\",f\"selected rows:\")\n",
    "\n",
    "def select(event):\n",
    "    a=selected_items('ll')\n",
    "    print(a)\n",
    "#increase font and bold\n",
    "\n",
    "style=ttk.Style()\n",
    "style.theme_use(\"alt\")\n",
    "style.configure('mystyle.Treeview.Heading',font=('ariel',15,'bold'))  # for heading\n",
    "style.configure('mystyle.Treeview',font=('ariel',13))  # for data\n",
    "\n",
    "treeview=ttk.Treeview(root,style='mystyle.Treeview')\n",
    "treeview.place(x=0,y=0,width=847,height=550)\n",
    "\n",
    "treeview.tag_configure(\"odd\",background=\"white\",foreground=\"black\")\n",
    "treeview.tag_configure(\"even\",background=\"black\",foreground=\"white\")\n",
    "\n",
    "treeview['columns']=('1','2','3','4','5')\n",
    "treeview.column('#0',width=100,minwidth=25,anchor=\"center\")\n",
    "treeview.column('#1',width=160,minwidth=25,anchor=\"center\")\n",
    "treeview.column('#2',width=200,minwidth=50,anchor=\"center\")\n",
    "treeview.column('#3',width=230,minwidth=25,anchor=\"center\")\n",
    "treeview.column('#4',width=160,minwidth=25,anchor=\"center\")\n",
    "                #heading\n",
    "treeview.heading('#0',text='name')\n",
    "treeview.heading('#1',text='class')\n",
    "treeview.heading('#2',text='year')\n",
    "treeview.heading('#3',text='address')\n",
    "treeview.heading('#4',text='Date of Birth')\n",
    "\n",
    "for i in range(1,10):\n",
    "    if i%2==0:\n",
    "        treeview.insert(\"\",\"end\",iid=i,text=i,values=(\"b.tech\",\"4th\",\"allahabad\",\"28-07-2000\"),tags=\"even\")\n",
    "    else:\n",
    "        treeview.insert(\"\",\"end\",iid=i,text=i,values=(\"b.tech\",\"4th\",\"allahabad\",\"28-07-2000\"),tags=\"odd\")\n",
    "\n",
    "v=StringVar()        \n",
    "e=Entry(root,textvariable=v,bd=1,relief=SOLID)\n",
    "e.place(x=10,y=240)\n",
    "\n",
    "v1=StringVar()        \n",
    "e=Entry(root,textvariable=v1,bd=1,relief=SOLID)\n",
    "e.place(x=100,y=240)\n",
    "\n",
    "v2=StringVar()        \n",
    "e=Entry(root,textvariable=v2,bd=1,relief=SOLID)\n",
    "e.place(x=200,y=240)\n",
    "\n",
    "btn=Button(root,text=\"delete data\",command=deletedata)\n",
    "btn.place(x=10,y=300)\n",
    "\n",
    "btn=Button(root,text=\"data\",command=data)\n",
    "btn.place(x=200,y=300)\n",
    "\n",
    "#_________--when touch row_______________________\n",
    "treeview.bind(\"<ButtonRelease-1>\",select)\n",
    "btn=Button(root,text=\"update\",command=update2)\n",
    "btn.place(x=400,y=300)\n",
    "btn=Button(root,text=\"show selected rows \",command=row_by_id)\n",
    "btn.place(x=400,y=400)\n",
    "\n",
    "root.mainloop()"
   ]
  },
  {
   "cell_type": "markdown",
   "metadata": {},
   "source": [
    "# tkinter seprator"
   ]
  },
  {
   "cell_type": "code",
   "execution_count": 24,
   "metadata": {},
   "outputs": [],
   "source": [
    "# Python program to\n",
    "# Illustrate Separator\n",
    "# widget\n",
    "\n",
    "\n",
    "# Import required modules\n",
    "from tkinter import *\n",
    "from tkinter import ttk\n",
    "\n",
    "\n",
    "# Main tkinter window\n",
    "x = Tk()\n",
    "x.geometry(\"400x300\")\n",
    "\n",
    "# Label Widget\n",
    "b = Label(x, bg=\"#f5f5f5\", bd=4, relief=RAISED, text=\"With Separator\")\n",
    "b.place(relx=0.03, rely=0.1, relheight=0.8, relwidth=0.4)\n",
    "\n",
    "# Separator object\n",
    "separator = ttk.Separator(x, orient='vertical')\n",
    "separator.place(relx=0.47, rely=0, relwidth=0.1, relheight=1)\n",
    "\n",
    "# Label Widget\n",
    "a = Label(x, bg=\"#f5f5f5\", bd=4, relief=RAISED, text=\"With Separator\")\n",
    "a.place(relx=0.5, rely=0.1, relheight=0.8, relwidth=0.4)\n",
    "\n",
    "\n",
    "mainloop()\n"
   ]
  },
  {
   "cell_type": "code",
   "execution_count": null,
   "metadata": {},
   "outputs": [],
   "source": []
  }
 ],
 "metadata": {
  "kernelspec": {
   "display_name": "Python 3",
   "language": "python",
   "name": "python3"
  },
  "language_info": {
   "codemirror_mode": {
    "name": "ipython",
    "version": 3
   },
   "file_extension": ".py",
   "mimetype": "text/x-python",
   "name": "python",
   "nbconvert_exporter": "python",
   "pygments_lexer": "ipython3",
   "version": "3.6.5"
  }
 },
 "nbformat": 4,
 "nbformat_minor": 2
}
