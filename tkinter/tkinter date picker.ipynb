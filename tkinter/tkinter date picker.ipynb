{
 "cells": [
  {
   "cell_type": "code",
   "execution_count": 1,
   "metadata": {},
   "outputs": [
    {
     "ename": "SyntaxError",
     "evalue": "trailing comma not allowed without surrounding parentheses (<ipython-input-1-01c0bf0fa0eb>, line 2)",
     "output_type": "error",
     "traceback": [
      "\u001b[1;36m  File \u001b[1;32m\"<ipython-input-1-01c0bf0fa0eb>\"\u001b[1;36m, line \u001b[1;32m2\u001b[0m\n\u001b[1;33m    from tkcalendar import Calendar,DateEntry,\u001b[0m\n\u001b[1;37m                          ^\u001b[0m\n\u001b[1;31mSyntaxError\u001b[0m\u001b[1;31m:\u001b[0m trailing comma not allowed without surrounding parentheses\n"
     ]
    }
   ],
   "source": [
    "from tkinter import*\n",
    "from tkcalendar import Calendar,DateEntry,\n",
    "root=Tk()\n",
    "root.geometry(\"600x500\")\n",
    "\n",
    "def datepicker():\n",
    "    c=date.get()\n",
    "    l.config(text=c)\n",
    "\n",
    "\n",
    "date=DateEntry(root,width=25)\n",
    "date.pack()\n",
    "\n",
    "btn=Button(root,text=\"datepick\",command=datepicker)\n",
    "btn.pack()\n",
    "\n",
    "l=Label(root)\n",
    "l.pack()\n",
    "\n",
    "root.mainloop()"
   ]
  },
  {
   "cell_type": "code",
   "execution_count": 2,
   "metadata": {},
   "outputs": [],
   "source": [
    "from tkinter import Tk, Entry, Button\n",
    "from tk_datepicker import Datepicker\n",
    "\n",
    "root = Tk()\n",
    "root.geometry(\"600x600\")\n",
    "entry = Entry()\n",
    "entry.pack()\n",
    "button = Button(text=\"Click me!\")\n",
    "button.pack()\n",
    "dp = Datepicker(entry, button)\n",
    "root.mainloop()"
   ]
  },
  {
   "cell_type": "code",
   "execution_count": 4,
   "metadata": {},
   "outputs": [],
   "source": [
    "from tkinter import Tk, Entry, Button\n",
    "from tk_datepicker import Datepicker\n",
    "\n",
    "root = Tk()\n",
    "root.geometry(\"600x600\")\n",
    "entry = Entry()\n",
    "entry.pack()\n",
    "button = Button(text=\"Click me!\")\n",
    "button.pack()\n",
    "\n",
    "dp = Datepicker(entry, button)\n",
    "dp.ui_settings(days_bg=\"#888\", days_fg=\"#FFF\", t_days_bg=\"#FFF\", t_days_fg=\"#FFF\", \n",
    "               back_month_text=\"<= Back\", next_month_text=\"Next =>\")\n",
    "root.mainloop()"
   ]
  },
  {
   "cell_type": "code",
   "execution_count": null,
   "metadata": {},
   "outputs": [],
   "source": []
  }
 ],
 "metadata": {
  "kernelspec": {
   "display_name": "Python 3",
   "language": "python",
   "name": "python3"
  },
  "language_info": {
   "codemirror_mode": {
    "name": "ipython",
    "version": 3
   },
   "file_extension": ".py",
   "mimetype": "text/x-python",
   "name": "python",
   "nbconvert_exporter": "python",
   "pygments_lexer": "ipython3",
   "version": "3.6.5"
  }
 },
 "nbformat": 4,
 "nbformat_minor": 2
}
