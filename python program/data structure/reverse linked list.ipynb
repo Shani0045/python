{
 "cells": [
  {
   "cell_type": "code",
   "execution_count": 4,
   "metadata": {},
   "outputs": [
    {
     "name": "stdout",
     "output_type": "stream",
     "text": [
      "Given Linked List\n",
      "85\n",
      "15\n",
      "4\n",
      "20\n",
      "\n",
      "Reversed Linked List\n",
      "20\n",
      "4\n",
      "15\n",
      "85\n"
     ]
    }
   ],
   "source": [
    "# Python program to reverse a linked list\n",
    "# Time Complexity : O(n)\n",
    "# Space Complexity : O(n) as 'next' \n",
    "#variable is getting created in each loop.\n",
    "# Node class\n",
    " \n",
    "class Node:\n",
    " \n",
    "    # Constructor to initialize the node object\n",
    "    def __init__(self, data):\n",
    "        self.data = data\n",
    "        self.next = None\n",
    "class LinkedList:\n",
    "    # Function to initialize head\n",
    "    def __init__(self):\n",
    "        self.head = None\n",
    " \n",
    "    # Function to reverse the linked list\n",
    "    def reverse(self):\n",
    "        prev = None\n",
    "        current = self.head\n",
    "        while(current is not None):\n",
    "            next = current.next\n",
    "            current.next = prev\n",
    "            prev = current\n",
    "            current = next\n",
    "        self.head = prev\n",
    " \n",
    "    # Function to insert a new node at the beginning\n",
    "    def push(self, new_data):\n",
    "        new_node = Node(new_data)\n",
    "        new_node.next = self.head\n",
    "        self.head = new_node\n",
    " \n",
    "    # Utility function to print the linked LinkedList\n",
    "    def printList(self):\n",
    "        temp = self.head\n",
    "        while(temp):\n",
    "            print(temp.data)\n",
    "            temp = temp.next\n",
    " \n",
    " \n",
    "# Driver program to test above functions\n",
    "llist = LinkedList()\n",
    "llist.push(20)\n",
    "llist.push(4)\n",
    "llist.push(15)\n",
    "llist.push(85)\n",
    " \n",
    "print(\"Given Linked List\")\n",
    "llist.printList()\n",
    "llist.reverse()\n",
    "print(\"\\nReversed Linked List\")\n",
    "llist.printList()\n",
    " "
   ]
  },
  {
   "cell_type": "code",
   "execution_count": 6,
   "metadata": {},
   "outputs": [
    {
     "name": "stdout",
     "output_type": "stream",
     "text": [
      "Given linked list\n",
      "1\n",
      "2\n",
      "3\n",
      "4\n",
      "5\n",
      "6\n",
      "7\n",
      "8\n",
      "\n",
      "Reverse linked list\n",
      "8\n",
      "7\n",
      "6\n",
      "5\n",
      "4\n",
      "3\n",
      "2\n",
      "1\n"
     ]
    }
   ],
   "source": [
    "# Simple and tail recursive Python program to\n",
    "# reverse a linked list\n",
    " \n",
    "# Node class\n",
    " \n",
    " \n",
    "class Node:\n",
    " \n",
    "    # Constructor to initialize the node object\n",
    "    def __init__(self, data):\n",
    "        self.data = data\n",
    "        self.next = None\n",
    " \n",
    " \n",
    "class LinkedList:\n",
    " \n",
    "    # Function to initialize head\n",
    "    def __init__(self):\n",
    "        self.head = None\n",
    " \n",
    "    def reverseUtil(self, curr, prev):\n",
    " \n",
    "        # If last node mark it head\n",
    "        if curr.next is None:\n",
    "            self.head = curr\n",
    " \n",
    "            # Update next to prev node\n",
    "            curr.next = prev\n",
    "            return\n",
    " \n",
    "        # Save curr.next node for recursive call\n",
    "        next = curr.next\n",
    " \n",
    "        # And update next\n",
    "        curr.next = prev\n",
    " \n",
    "        self.reverseUtil(next, curr)\n",
    " \n",
    "    # This function mainly calls reverseUtil()\n",
    "    # with previous as None\n",
    " \n",
    "    def reverse(self):\n",
    "        if self.head is None:\n",
    "            return\n",
    "        self.reverseUtil(self.head, None)\n",
    " \n",
    "    # Function to insert a new node at the beginning\n",
    " \n",
    "    def push(self, new_data):\n",
    "        new_node = Node(new_data)\n",
    "        new_node.next = self.head\n",
    "        self.head = new_node\n",
    " \n",
    "    # Utility function to print the linked LinkedList\n",
    "    def printList(self):\n",
    "        temp = self.head\n",
    "        while(temp):\n",
    "            print(temp.data)\n",
    "            temp = temp.next\n",
    " \n",
    " \n",
    "# Driver program\n",
    "llist = LinkedList()\n",
    "llist.push(8)\n",
    "llist.push(7)\n",
    "llist.push(6)\n",
    "llist.push(5)\n",
    "llist.push(4)\n",
    "llist.push(3)\n",
    "llist.push(2)\n",
    "llist.push(1)\n",
    " \n",
    "print(\"Given linked list\")\n",
    "llist.printList()\n",
    " \n",
    "llist.reverse()\n",
    " \n",
    "print (\"\\nReverse linked list\")\n",
    "llist.printList()"
   ]
  },
  {
   "cell_type": "code",
   "execution_count": 36,
   "metadata": {},
   "outputs": [],
   "source": [
    "class Node:\n",
    "    def __init__(self,data):\n",
    "        self.data=data\n",
    "        self.next=None\n",
    "class LinkedList:\n",
    "    def __init__(self):\n",
    "        self.head=None\n",
    "    def pushstart(self,newdata):\n",
    "        newnode=Node(newdata)\n",
    "        if self.head==None:\n",
    "            self.head=newnode\n",
    "        else:\n",
    "            newnode.next=self.head\n",
    "            self.head=newnode\n",
    "    def insertlast(self,data):\n",
    "        newnode=Node(data)\n",
    "        if self.head==None:\n",
    "            self.head=newnode\n",
    "        else:\n",
    "            temp=self.head\n",
    "            while temp.next!=None:\n",
    "                temp=temp.next\n",
    "            temp.next=newnode\n",
    "            \n",
    "    def printlist(self):\n",
    "        temp=self.head\n",
    "        while temp:\n",
    "            print(temp.data)\n",
    "            temp=temp.next\n",
    "        "
   ]
  },
  {
   "cell_type": "code",
   "execution_count": 37,
   "metadata": {},
   "outputs": [],
   "source": [
    "a=LinkedList()"
   ]
  },
  {
   "cell_type": "code",
   "execution_count": 38,
   "metadata": {},
   "outputs": [],
   "source": [
    "a.insertlast(10)\n",
    "a.insertlast(20)\n",
    "a.insertlast(50)"
   ]
  },
  {
   "cell_type": "code",
   "execution_count": 39,
   "metadata": {},
   "outputs": [
    {
     "name": "stdout",
     "output_type": "stream",
     "text": [
      "10\n",
      "20\n",
      "50\n"
     ]
    }
   ],
   "source": [
    "a.printlist()"
   ]
  },
  {
   "cell_type": "code",
   "execution_count": 1,
   "metadata": {},
   "outputs": [],
   "source": [
    "def bubblesort(lst):\n",
    "    for i in range(len(lst)-1,0,-1):\n",
    "        for j in range(i):\n",
    "            if lst[j]>lst[j+1]:\n",
    "                lst[j],lst[j+1]=lst[j+1],lst[j]\n",
    "    return lst"
   ]
  },
  {
   "cell_type": "code",
   "execution_count": 2,
   "metadata": {},
   "outputs": [
    {
     "data": {
      "text/plain": [
       "[10, 20, 30, 40, 50]"
      ]
     },
     "execution_count": 2,
     "metadata": {},
     "output_type": "execute_result"
    }
   ],
   "source": [
    "bubblesort([10,40,20,50,30])"
   ]
  },
  {
   "cell_type": "code",
   "execution_count": null,
   "metadata": {},
   "outputs": [],
   "source": []
  }
 ],
 "metadata": {
  "kernelspec": {
   "display_name": "Python 3",
   "language": "python",
   "name": "python3"
  },
  "language_info": {
   "codemirror_mode": {
    "name": "ipython",
    "version": 3
   },
   "file_extension": ".py",
   "mimetype": "text/x-python",
   "name": "python",
   "nbconvert_exporter": "python",
   "pygments_lexer": "ipython3",
   "version": "3.6.5"
  }
 },
 "nbformat": 4,
 "nbformat_minor": 2
}
