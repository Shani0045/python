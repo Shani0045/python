{
 "cells": [
  {
   "cell_type": "markdown",
   "metadata": {},
   "source": [
    "# linear search"
   ]
  },
  {
   "cell_type": "code",
   "execution_count": 43,
   "metadata": {},
   "outputs": [],
   "source": [
    "class Linear_search:\n",
    "    def __init__(self,lst):\n",
    "        self.lst=lst\n",
    "    def search(self,item):\n",
    "        \"search item in the list\"\n",
    "        if item in self.lst:\n",
    "            i=0\n",
    "            for j in self.lst:\n",
    "                if j==item:\n",
    "                    print(\"item found at index \",i)\n",
    "                else:\n",
    "                    i+=1\n",
    "        else:\n",
    "            print(\"item not in list...\")"
   ]
  },
  {
   "cell_type": "code",
   "execution_count": 44,
   "metadata": {},
   "outputs": [],
   "source": [
    "l=Linear_search([10,20,30,40,50,60])"
   ]
  },
  {
   "cell_type": "code",
   "execution_count": 16,
   "metadata": {},
   "outputs": [
    {
     "name": "stdout",
     "output_type": "stream",
     "text": [
      "item found at index  1\n"
     ]
    }
   ],
   "source": [
    "l.search(20)"
   ]
  },
  {
   "cell_type": "code",
   "execution_count": 17,
   "metadata": {},
   "outputs": [
    {
     "name": "stdout",
     "output_type": "stream",
     "text": [
      "item not in list...\n"
     ]
    }
   ],
   "source": [
    "l.search(90)"
   ]
  },
  {
   "cell_type": "markdown",
   "metadata": {},
   "source": [
    "# Second way"
   ]
  },
  {
   "cell_type": "code",
   "execution_count": 12,
   "metadata": {},
   "outputs": [],
   "source": [
    "def linearsearch(lst,itm):\n",
    "    j=0\n",
    "    if itm in lst:\n",
    "        for item in lst:\n",
    "            if item==itm:\n",
    "                print(f\"{item} found at index {j}\")\n",
    "            else:\n",
    "                j+=1\n",
    "    else:\n",
    "        print(\"item not in list\")"
   ]
  },
  {
   "cell_type": "code",
   "execution_count": 14,
   "metadata": {},
   "outputs": [
    {
     "name": "stdout",
     "output_type": "stream",
     "text": [
      "item not in list\n"
     ]
    }
   ],
   "source": [
    "linearsearch([10,20,30,40,50],4)"
   ]
  },
  {
   "cell_type": "code",
   "execution_count": 5,
   "metadata": {},
   "outputs": [],
   "source": [
    "def linearsearch(lst,item):\n",
    "    if item in lst:\n",
    "        for i in range(len(lst)):\n",
    "            if item==lst[i]:\n",
    "                print(\"item found at index\",i)\n",
    "    else:\n",
    "        print(\"item not in list\")"
   ]
  },
  {
   "cell_type": "code",
   "execution_count": 8,
   "metadata": {},
   "outputs": [
    {
     "name": "stdout",
     "output_type": "stream",
     "text": [
      "item found at index 0\n"
     ]
    }
   ],
   "source": [
    "linearsearch([10,20,30,40,50],10)"
   ]
  },
  {
   "cell_type": "markdown",
   "metadata": {},
   "source": [
    "# Binary Search"
   ]
  },
  {
   "cell_type": "code",
   "execution_count": 1,
   "metadata": {},
   "outputs": [],
   "source": [
    "def binary_search(lst,item):\n",
    "    low=0\n",
    "    high=len(lst)-1\n",
    "    while(low<=high):\n",
    "        mid=(low+high)//2\n",
    "        if item>lst[mid]:\n",
    "            high=mid+1\n",
    "        elif item<lst[mid]:\n",
    "            low=mid-1\n",
    "        else:\n",
    "            return mid\n",
    "    return -1"
   ]
  },
  {
   "cell_type": "code",
   "execution_count": null,
   "metadata": {},
   "outputs": [],
   "source": [
    "binary_search([10,20,30,40,50],60)"
   ]
  },
  {
   "cell_type": "markdown",
   "metadata": {},
   "source": [
    "# recursive method"
   ]
  },
  {
   "cell_type": "code",
   "execution_count": 13,
   "metadata": {},
   "outputs": [],
   "source": [
    "def binary_search(lst,low,high,item):\n",
    "    if high>=low:\n",
    "        mid=(low+high)//2\n",
    "        if item==lst[mid]:\n",
    "               return mid\n",
    "        elif item>lst[mid]:\n",
    "                return binary_search(lst,mid+1,high,item)\n",
    "        else:\n",
    "            return binary_search(lst,low,mid-1,item)\n",
    "    return \"item not in lst\""
   ]
  },
  {
   "cell_type": "code",
   "execution_count": 14,
   "metadata": {},
   "outputs": [
    {
     "data": {
      "text/plain": [
       "4"
      ]
     },
     "execution_count": 14,
     "metadata": {},
     "output_type": "execute_result"
    }
   ],
   "source": [
    "binary_search([10,20,30,40,50],0,4,50)"
   ]
  },
  {
   "cell_type": "code",
   "execution_count": null,
   "metadata": {},
   "outputs": [],
   "source": []
  }
 ],
 "metadata": {
  "kernelspec": {
   "display_name": "Python 3",
   "language": "python",
   "name": "python3"
  },
  "language_info": {
   "codemirror_mode": {
    "name": "ipython",
    "version": 3
   },
   "file_extension": ".py",
   "mimetype": "text/x-python",
   "name": "python",
   "nbconvert_exporter": "python",
   "pygments_lexer": "ipython3",
   "version": "3.6.5"
  }
 },
 "nbformat": 4,
 "nbformat_minor": 2
}
