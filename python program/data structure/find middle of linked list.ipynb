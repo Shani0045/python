{
 "cells": [
  {
   "cell_type": "code",
   "execution_count": 1,
   "metadata": {},
   "outputs": [
    {
     "name": "stdout",
     "output_type": "stream",
     "text": [
      "The middle element is:  2\n"
     ]
    }
   ],
   "source": [
    "# Python 3 program to find the middle of a   \n",
    "# given linked list  \n",
    "  \n",
    "# Node class  \n",
    "class Node:  \n",
    "  \n",
    "    # Function to initialise the node object  \n",
    "    def __init__(self, data):  \n",
    "        self.data = data  \n",
    "        self.next = None \n",
    "  \n",
    "class LinkedList:\n",
    "    def __init__(self): \n",
    "        self.head = None\n",
    "  \n",
    "    def push(self, new_data): \n",
    "        new_node = Node(new_data) \n",
    "        new_node.next = self.head \n",
    "        self.head = new_node \n",
    "  \n",
    "    # Function to get the middle of  \n",
    "    # the linked list \n",
    "    def printMiddle(self): \n",
    "        slow_ptr = self.head \n",
    "        fast_ptr = self.head \n",
    "  \n",
    "        if self.head is not None: \n",
    "            while (fast_ptr is not None and fast_ptr.next is not None): \n",
    "                fast_ptr = fast_ptr.next.next\n",
    "                slow_ptr = slow_ptr.next\n",
    "            print(\"The middle element is: \", slow_ptr.data) \n",
    "  \n",
    "# Driver code \n",
    "list1 = LinkedList() \n",
    "list1.push(5) \n",
    "list1.push(4) \n",
    "list1.push(2) \n",
    "list1.push(3) \n",
    "list1.push(1) \n",
    "list1.printMiddle() "
   ]
  },
  {
   "cell_type": "code",
   "execution_count": null,
   "metadata": {},
   "outputs": [],
   "source": []
  }
 ],
 "metadata": {
  "kernelspec": {
   "display_name": "Python 3",
   "language": "python",
   "name": "python3"
  },
  "language_info": {
   "codemirror_mode": {
    "name": "ipython",
    "version": 3
   },
   "file_extension": ".py",
   "mimetype": "text/x-python",
   "name": "python",
   "nbconvert_exporter": "python",
   "pygments_lexer": "ipython3",
   "version": "3.6.5"
  }
 },
 "nbformat": 4,
 "nbformat_minor": 2
}
