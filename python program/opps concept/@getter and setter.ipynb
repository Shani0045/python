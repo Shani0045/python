{
 "cells": [
  {
   "cell_type": "code",
   "execution_count": 65,
   "id": "0f84886b",
   "metadata": {},
   "outputs": [],
   "source": [
    "class Student:\n",
    "    def __init__(self):\n",
    "        self.__name=None\n",
    "        self.__rollno=None\n",
    "    def getrollno(self):\n",
    "        return self.__rollno\n",
    "    def setrollno(self,roll):\n",
    "        if roll<=0:\n",
    "            raise ValueError(\"No should be +ve value\")\n",
    "        self.__rollno=roll\n",
    "    \n",
    "    def display(self):\n",
    "        print(f\"name is {self.__name} and rollno is {self.__rollno}\")\n",
    "        "
   ]
  },
  {
   "cell_type": "code",
   "execution_count": 66,
   "id": "12e62373",
   "metadata": {},
   "outputs": [],
   "source": [
    "obj=Student()"
   ]
  },
  {
   "cell_type": "code",
   "execution_count": 67,
   "id": "c7134e01",
   "metadata": {},
   "outputs": [],
   "source": [
    "obj.getrollno()"
   ]
  },
  {
   "cell_type": "code",
   "execution_count": 68,
   "id": "29db8e66",
   "metadata": {},
   "outputs": [],
   "source": [
    "obj.setrollno(20)"
   ]
  },
  {
   "cell_type": "code",
   "execution_count": 69,
   "id": "c5861330",
   "metadata": {},
   "outputs": [
    {
     "data": {
      "text/plain": [
       "20"
      ]
     },
     "execution_count": 69,
     "metadata": {},
     "output_type": "execute_result"
    }
   ],
   "source": [
    "obj.getrollno()"
   ]
  },
  {
   "cell_type": "code",
   "execution_count": 70,
   "id": "ce7257e9",
   "metadata": {},
   "outputs": [
    {
     "name": "stdout",
     "output_type": "stream",
     "text": [
      "name is None and rollno is 20\n"
     ]
    }
   ],
   "source": [
    "obj.display()"
   ]
  },
  {
   "cell_type": "code",
   "execution_count": null,
   "id": "40f9e9d3",
   "metadata": {},
   "outputs": [],
   "source": []
  },
  {
   "cell_type": "code",
   "execution_count": null,
   "id": "e1dcc680",
   "metadata": {},
   "outputs": [],
   "source": []
  }
 ],
 "metadata": {
  "kernelspec": {
   "display_name": "Python 3",
   "language": "python",
   "name": "python3"
  },
  "language_info": {
   "codemirror_mode": {
    "name": "ipython",
    "version": 3
   },
   "file_extension": ".py",
   "mimetype": "text/x-python",
   "name": "python",
   "nbconvert_exporter": "python",
   "pygments_lexer": "ipython3",
   "version": "3.6.5"
  }
 },
 "nbformat": 4,
 "nbformat_minor": 5
}
