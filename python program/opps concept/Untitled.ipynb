{
 "cells": [
  {
   "cell_type": "code",
   "execution_count": 7,
   "id": "715c4c03",
   "metadata": {},
   "outputs": [],
   "source": [
    "def listreverse(lst):\n",
    "    if len(lst)==0:\n",
    "        return []\n",
    "    else:\n",
    "        return listreverse(lst[1:])+[lst[0]]"
   ]
  },
  {
   "cell_type": "code",
   "execution_count": 8,
   "id": "2b8c6e13",
   "metadata": {},
   "outputs": [
    {
     "data": {
      "text/plain": [
       "[30, 20, 10]"
      ]
     },
     "execution_count": 8,
     "metadata": {},
     "output_type": "execute_result"
    }
   ],
   "source": [
    "listreverse([10,20,30])"
   ]
  },
  {
   "cell_type": "code",
   "execution_count": 9,
   "id": "62647f22",
   "metadata": {},
   "outputs": [],
   "source": [
    "def listlen(lst):\n",
    "    if len(lst)==0:\n",
    "        return 0\n",
    "    else:\n",
    "        return listlen(lst[1:])+1"
   ]
  },
  {
   "cell_type": "code",
   "execution_count": 10,
   "id": "5b8a54fe",
   "metadata": {},
   "outputs": [
    {
     "data": {
      "text/plain": [
       "3"
      ]
     },
     "execution_count": 10,
     "metadata": {},
     "output_type": "execute_result"
    }
   ],
   "source": [
    "listlen([10,2,3])"
   ]
  },
  {
   "cell_type": "code",
   "execution_count": 11,
   "id": "ad872bd9",
   "metadata": {},
   "outputs": [],
   "source": [
    "def stringrev(str):\n",
    "    if str==\"\":\n",
    "        return \"\"\n",
    "    else:\n",
    "        return stringrev(str[1:])+str[0]\n"
   ]
  },
  {
   "cell_type": "code",
   "execution_count": 12,
   "id": "c53bd6e7",
   "metadata": {},
   "outputs": [
    {
     "data": {
      "text/plain": [
       "'inahs'"
      ]
     },
     "execution_count": 12,
     "metadata": {},
     "output_type": "execute_result"
    }
   ],
   "source": [
    "stringrev(\"shani\")"
   ]
  },
  {
   "cell_type": "code",
   "execution_count": 17,
   "id": "32d38eb4",
   "metadata": {},
   "outputs": [],
   "source": [
    "def generateNo(n):\n",
    "    if n==0:\n",
    "        return 0\n",
    "    else:\n",
    "        generateNo(n-1)\n",
    "        print(n)"
   ]
  },
  {
   "cell_type": "code",
   "execution_count": 18,
   "id": "984f33ba",
   "metadata": {},
   "outputs": [
    {
     "name": "stdout",
     "output_type": "stream",
     "text": [
      "1\n",
      "2\n",
      "3\n",
      "4\n",
      "5\n"
     ]
    }
   ],
   "source": [
    "generateNo(5)"
   ]
  },
  {
   "cell_type": "code",
   "execution_count": 28,
   "id": "9299d17a",
   "metadata": {},
   "outputs": [
    {
     "name": "stdout",
     "output_type": "stream",
     "text": [
      "enter the no..10\n",
      "no is not prime\n"
     ]
    }
   ],
   "source": [
    "n=int(input(\"enter the no..\"))\n",
    "if n<2:\n",
    "    print(\"no is not prime\")\n",
    "else:\n",
    "    for i in range(2,n):\n",
    "        if n%i==0:\n",
    "            print(\"no is not prime\")\n",
    "            break\n",
    "    else:\n",
    "        print(\"no is prime\")"
   ]
  },
  {
   "cell_type": "code",
   "execution_count": 29,
   "id": "ac394ab7",
   "metadata": {},
   "outputs": [],
   "source": [
    "def fabo(n):\n",
    "    if n<0:\n",
    "        print(\"invalid input...\")\n",
    "    elif n==0:\n",
    "        return 0\n",
    "    elif n==1 or n==2:\n",
    "        return 1\n",
    "    else:\n",
    "        return fabo(n-1)+fabo(n-2)"
   ]
  },
  {
   "cell_type": "code",
   "execution_count": 36,
   "id": "899e22f4",
   "metadata": {},
   "outputs": [
    {
     "name": "stdout",
     "output_type": "stream",
     "text": [
      "0 1 1 2 3 5 8 13 21 34 "
     ]
    }
   ],
   "source": [
    "for i in range(10):\n",
    "    print(fabo(i),end=\" \")\n",
    "    "
   ]
  },
  {
   "cell_type": "code",
   "execution_count": 45,
   "id": "a91b207b",
   "metadata": {},
   "outputs": [],
   "source": [
    "def total(fun):\n",
    "    def wrapper(marks):\n",
    "        fun(marks)\n",
    "        pas=0\n",
    "        fail=0\n",
    "        for mark in marks:\n",
    "            if mark<21:\n",
    "                fail+=1\n",
    "            else:\n",
    "                pas+=1\n",
    "        print(\"total pass> \",pas)\n",
    "        print(\"total fail> \",fail)\n",
    "    return wrapper     "
   ]
  },
  {
   "cell_type": "code",
   "execution_count": 46,
   "id": "ffea4374",
   "metadata": {},
   "outputs": [],
   "source": [
    "@total\n",
    "def result(marks):\n",
    "    for mark in marks:\n",
    "        if mark<21:\n",
    "            print(mark,\">FAIL\")\n",
    "        else:\n",
    "            print(mark,\">PASS\")"
   ]
  },
  {
   "cell_type": "code",
   "execution_count": 47,
   "id": "69815d7f",
   "metadata": {},
   "outputs": [
    {
     "name": "stdout",
     "output_type": "stream",
     "text": [
      "10 >FAIL\n",
      "23 >PASS\n",
      "19 >FAIL\n",
      "25 >PASS\n",
      "32 >PASS\n",
      "total pass>  3\n",
      "total fail>  2\n"
     ]
    }
   ],
   "source": [
    "result([10,23,19,25,32])"
   ]
  },
  {
   "cell_type": "code",
   "execution_count": 48,
   "id": "34030653",
   "metadata": {},
   "outputs": [],
   "source": [
    "def generator(lst):\n",
    "    for i in lst:\n",
    "        yield i"
   ]
  },
  {
   "cell_type": "code",
   "execution_count": 63,
   "id": "6c257bb8",
   "metadata": {},
   "outputs": [],
   "source": [
    "a=generator([10,20,30,40,50,60,70])"
   ]
  },
  {
   "cell_type": "code",
   "execution_count": 64,
   "id": "27c02154",
   "metadata": {},
   "outputs": [
    {
     "data": {
      "text/plain": [
       "10"
      ]
     },
     "execution_count": 64,
     "metadata": {},
     "output_type": "execute_result"
    }
   ],
   "source": [
    "a.__next__()"
   ]
  },
  {
   "cell_type": "code",
   "execution_count": null,
   "id": "f2a623ee",
   "metadata": {},
   "outputs": [],
   "source": []
  },
  {
   "cell_type": "code",
   "execution_count": 67,
   "id": "1d429603",
   "metadata": {},
   "outputs": [],
   "source": [
    "s=iter([10,20,30,40])"
   ]
  },
  {
   "cell_type": "code",
   "execution_count": 68,
   "id": "c46a4136",
   "metadata": {},
   "outputs": [
    {
     "data": {
      "text/plain": [
       "<list_iterator at 0x25e3baf3cc0>"
      ]
     },
     "execution_count": 68,
     "metadata": {},
     "output_type": "execute_result"
    }
   ],
   "source": [
    "s"
   ]
  },
  {
   "cell_type": "code",
   "execution_count": 70,
   "id": "9405338c",
   "metadata": {},
   "outputs": [
    {
     "data": {
      "text/plain": [
       "['__class__',\n",
       " '__delattr__',\n",
       " '__dir__',\n",
       " '__doc__',\n",
       " '__eq__',\n",
       " '__format__',\n",
       " '__ge__',\n",
       " '__getattribute__',\n",
       " '__gt__',\n",
       " '__hash__',\n",
       " '__init__',\n",
       " '__init_subclass__',\n",
       " '__iter__',\n",
       " '__le__',\n",
       " '__length_hint__',\n",
       " '__lt__',\n",
       " '__ne__',\n",
       " '__new__',\n",
       " '__next__',\n",
       " '__reduce__',\n",
       " '__reduce_ex__',\n",
       " '__repr__',\n",
       " '__setattr__',\n",
       " '__setstate__',\n",
       " '__sizeof__',\n",
       " '__str__',\n",
       " '__subclasshook__']"
      ]
     },
     "execution_count": 70,
     "metadata": {},
     "output_type": "execute_result"
    }
   ],
   "source": [
    "dir(s)"
   ]
  },
  {
   "cell_type": "code",
   "execution_count": null,
   "id": "60cd338a",
   "metadata": {},
   "outputs": [],
   "source": []
  },
  {
   "cell_type": "code",
   "execution_count": null,
   "id": "bbb684f4",
   "metadata": {},
   "outputs": [],
   "source": []
  }
 ],
 "metadata": {
  "kernelspec": {
   "display_name": "Python 3",
   "language": "python",
   "name": "python3"
  },
  "language_info": {
   "codemirror_mode": {
    "name": "ipython",
    "version": 3
   },
   "file_extension": ".py",
   "mimetype": "text/x-python",
   "name": "python",
   "nbconvert_exporter": "python",
   "pygments_lexer": "ipython3",
   "version": "3.6.5"
  }
 },
 "nbformat": 4,
 "nbformat_minor": 5
}
