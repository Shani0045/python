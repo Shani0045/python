{
 "cells": [
  {
   "cell_type": "code",
   "execution_count": 1,
   "metadata": {},
   "outputs": [
    {
     "name": "stdout",
     "output_type": "stream",
     "text": [
      "amit\n",
      "bharati\n"
     ]
    },
    {
     "data": {
      "text/plain": [
       "'shani kumar'"
      ]
     },
     "execution_count": 1,
     "metadata": {},
     "output_type": "execute_result"
    }
   ],
   "source": [
    "class Name(object):\n",
    "    def __init__(self,fname,lname):\n",
    "        self.fname=fname\n",
    "        self.lname=lname\n",
    "        self.full_name=\"{} {}\".format(self.fname,self.lname)\n",
    "obj=Name(\"shani\",\"kumar\")\n",
    "obj.fname=\"amit\"\n",
    "obj.lname=\"bharati\"\n",
    "print(obj.fname)\n",
    "print(obj.lname)\n",
    "obj.full_name"
   ]
  },
  {
   "cell_type": "code",
   "execution_count": 19,
   "metadata": {},
   "outputs": [
    {
     "name": "stdout",
     "output_type": "stream",
     "text": [
      "amit\n",
      "bharati\n"
     ]
    },
    {
     "data": {
      "text/plain": [
       "'amit bharati'"
      ]
     },
     "execution_count": 19,
     "metadata": {},
     "output_type": "execute_result"
    }
   ],
   "source": [
    "class Name(object):\n",
    "    def __init__(self,fname,lname):\n",
    "        self.fname=fname\n",
    "        self.lname=lname\n",
    "    @property\n",
    "    def full_name(self):\n",
    "        return \"{} {}\".format(self.fname,self.lname)\n",
    "    \n",
    "obj=Name(\"shani\",\"kumar\")\n",
    "obj.fname=\"amit\"\n",
    "obj.lname=\"bharati\"\n",
    "print(obj.fname)\n",
    "print(obj.lname)\n",
    "obj.full_name"
   ]
  },
  {
   "cell_type": "code",
   "execution_count": 1,
   "metadata": {},
   "outputs": [
    {
     "name": "stdout",
     "output_type": "stream",
     "text": [
      "arjun\n",
      "singh\n",
      "arjun singh\n",
      "arjun.singh@gamil.com\n"
     ]
    }
   ],
   "source": [
    "class Name(object):\n",
    "    def __init__(self,fname,lname):\n",
    "        self.fname=fname\n",
    "        self.lname=lname\n",
    "    @property\n",
    "    def full_name(self):\n",
    "        return \"{} {}\".format(self.fname,self.lname)\n",
    "    @property\n",
    "    def email(self):\n",
    "        return f\"{self.fname}.{self.lname}@gamil.com\"\n",
    "    @full_name.setter\n",
    "    def full_name(self,name):\n",
    "        name=name.split(\" \")\n",
    "        self.fname=name[0]\n",
    "        self.lname=name[1]\n",
    "    \n",
    "obj=Name(\"shani\",\"kumar\")\n",
    "obj.full_name=\"raju kumar\"\n",
    "obj.full_name=\"arjun singh\"\n",
    "print(obj.fname)\n",
    "print(obj.lname)\n",
    "print(obj.full_name)\n",
    "print(obj.email)"
   ]
  },
  {
   "cell_type": "code",
   "execution_count": 11,
   "metadata": {},
   "outputs": [
    {
     "name": "stdout",
     "output_type": "stream",
     "text": [
      "kabil\n",
      "shani.kabil@gmail.com\n"
     ]
    }
   ],
   "source": [
    "class Name:\n",
    "    def __init__(self,fname,lname):\n",
    "        self.fname=fname\n",
    "    @property\n",
    "    def email(self):\n",
    "        return f\"{self.fname}.{self.lname}@gmail.com\"\n",
    "    @property\n",
    "    def lname(self):\n",
    "        return self._lname\n",
    "    @lname.setter\n",
    "    def lname(self,a):\n",
    "        self._lname=a\n",
    "    \n",
    "a=Name(\"shani\",\"kumar\")\n",
    "a.lname=\"kabil\"\n",
    "print(a.lname)\n",
    "print(a.email)\n"
   ]
  },
  {
   "cell_type": "code",
   "execution_count": 36,
   "metadata": {},
   "outputs": [
    {
     "name": "stdout",
     "output_type": "stream",
     "text": [
      "rahul\n",
      "kumar\n"
     ]
    }
   ],
   "source": [
    "class Name(object):\n",
    "    def __init__(self,fname,lname):\n",
    "        self.fname=fname\n",
    "        self.lname=lname\n",
    "        \n",
    "    def fname(self,fname):\n",
    "        self.fname=fname\n"
   ]
  },
  {
   "cell_type": "code",
   "execution_count": 3,
   "metadata": {},
   "outputs": [],
   "source": [
    "class car:\n",
    "    def __init__(self,a=40):\n",
    "        self.speed=a\n",
    "    def get_speed(self):\n",
    "        return self.speed\n",
    "    def set_speed(self,a):\n",
    "        self.speed=a\n",
    "        return self.speed   "
   ]
  },
  {
   "cell_type": "code",
   "execution_count": 4,
   "metadata": {},
   "outputs": [
    {
     "data": {
      "text/plain": [
       "20"
      ]
     },
     "execution_count": 4,
     "metadata": {},
     "output_type": "execute_result"
    }
   ],
   "source": [
    "a=car()\n",
    "a.get_speed()\n",
    "a.set_speed(20)\n",
    "a.get_speed()"
   ]
  },
  {
   "cell_type": "code",
   "execution_count": 5,
   "metadata": {},
   "outputs": [
    {
     "data": {
      "text/plain": [
       "30"
      ]
     },
     "execution_count": 5,
     "metadata": {},
     "output_type": "execute_result"
    }
   ],
   "source": [
    "a.speed=30\n",
    "a.speed"
   ]
  },
  {
   "cell_type": "code",
   "execution_count": 6,
   "metadata": {},
   "outputs": [],
   "source": [
    "class car:\n",
    "    def __init__(self,a=40):\n",
    "        self._speed=a\n",
    "    def get_speed(self):\n",
    "        return self._speed\n",
    "    def set_speed(self,a):\n",
    "        self._speed=a\n",
    "        return "
   ]
  },
  {
   "cell_type": "code",
   "execution_count": 7,
   "metadata": {},
   "outputs": [],
   "source": [
    "a=car()"
   ]
  },
  {
   "cell_type": "code",
   "execution_count": 8,
   "metadata": {},
   "outputs": [],
   "source": [
    "a.speed=30"
   ]
  },
  {
   "cell_type": "code",
   "execution_count": 9,
   "metadata": {},
   "outputs": [
    {
     "data": {
      "text/plain": [
       "30"
      ]
     },
     "execution_count": 9,
     "metadata": {},
     "output_type": "execute_result"
    }
   ],
   "source": [
    "a.speed"
   ]
  },
  {
   "cell_type": "code",
   "execution_count": 5,
   "metadata": {},
   "outputs": [],
   "source": [
    "class car:\n",
    "    def __init__(self,a=40):\n",
    "        self._speed=a\n",
    "    def get_speed(self):\n",
    "        return self._speed\n",
    "    def set_speed(self,a):\n",
    "        if a<=0 or a>=160:\n",
    "            print(\"speed should be in between 0 to 160\")\n",
    "        else:\n",
    "            self._speed=a\n",
    "    speed=property(get_speed,set_speed)   "
   ]
  },
  {
   "cell_type": "code",
   "execution_count": 6,
   "metadata": {},
   "outputs": [
    {
     "name": "stdout",
     "output_type": "stream",
     "text": [
      "speed should be in between 0 to 160\n"
     ]
    }
   ],
   "source": [
    "a=car()\n",
    "a.set_speed(-30)"
   ]
  },
  {
   "cell_type": "code",
   "execution_count": 7,
   "metadata": {},
   "outputs": [
    {
     "name": "stdout",
     "output_type": "stream",
     "text": [
      "speed should be in between 0 to 160\n"
     ]
    }
   ],
   "source": [
    "d=car()\n",
    "d.speed=-30"
   ]
  },
  {
   "cell_type": "code",
   "execution_count": 8,
   "metadata": {},
   "outputs": [],
   "source": [
    "d.speed=50"
   ]
  },
  {
   "cell_type": "code",
   "execution_count": 9,
   "metadata": {},
   "outputs": [
    {
     "data": {
      "text/plain": [
       "50"
      ]
     },
     "execution_count": 9,
     "metadata": {},
     "output_type": "execute_result"
    }
   ],
   "source": [
    "d.speed"
   ]
  },
  {
   "cell_type": "code",
   "execution_count": 14,
   "metadata": {},
   "outputs": [
    {
     "name": "stdout",
     "output_type": "stream",
     "text": [
      "kabil\n",
      "shani.kabil@gmail.com\n"
     ]
    }
   ],
   "source": [
    "class Name:\n",
    "    def __init__(self,fname,lname):\n",
    "        self.fname=fname\n",
    "    @property\n",
    "    def email(self):\n",
    "        return f\"{self.fname}.{self.lname}@gmail.com\"\n",
    "    @property\n",
    "    def lname(self):\n",
    "        return self._lname\n",
    "    @lname.setter\n",
    "    def lname(self,a):\n",
    "        self._lname=a\n",
    "    \n",
    "a=Name(\"shani\",\"kumar\")\n",
    "a.lname=\"kabil\"\n",
    "print(a.lname)\n",
    "print(a.email)\n"
   ]
  },
  {
   "cell_type": "code",
   "execution_count": 53,
   "metadata": {},
   "outputs": [],
   "source": [
    "class emp:\n",
    "    def __init__(self,sal):\n",
    "        self.__sal=sal\n",
    "    def get_sal(self):\n",
    "        return self.__sal\n",
    "    def set_sal(self,s):\n",
    "        self.__sal=s"
   ]
  },
  {
   "cell_type": "code",
   "execution_count": 54,
   "metadata": {},
   "outputs": [
    {
     "data": {
      "text/plain": [
       "1000"
      ]
     },
     "execution_count": 54,
     "metadata": {},
     "output_type": "execute_result"
    }
   ],
   "source": [
    "e=emp(1000)\n",
    "e.get_sal()"
   ]
  },
  {
   "cell_type": "code",
   "execution_count": 55,
   "metadata": {},
   "outputs": [
    {
     "data": {
      "text/plain": [
       "20000"
      ]
     },
     "execution_count": 55,
     "metadata": {},
     "output_type": "execute_result"
    }
   ],
   "source": [
    "e.set_sal(20000)\n",
    "e.get_sal()"
   ]
  },
  {
   "cell_type": "code",
   "execution_count": 52,
   "metadata": {},
   "outputs": [],
   "source": [
    "class emp:\n",
    "    def __init__(self,sal):\n",
    "        self.__sal=sal\n",
    "    def get_sal(self):\n",
    "        return self.__sal\n",
    "    def set_sal(self,s):\n",
    "        if s<self.__sal:\n",
    "            print(\"salary is less than your current income i cant update!\")\n",
    "        else:\n",
    "            self.__sal=s"
   ]
  },
  {
   "cell_type": "code",
   "execution_count": 48,
   "metadata": {},
   "outputs": [],
   "source": [
    "e=emp(2000)"
   ]
  },
  {
   "cell_type": "code",
   "execution_count": 49,
   "metadata": {},
   "outputs": [
    {
     "data": {
      "text/plain": [
       "2000"
      ]
     },
     "execution_count": 49,
     "metadata": {},
     "output_type": "execute_result"
    }
   ],
   "source": [
    "e.get_sal()"
   ]
  },
  {
   "cell_type": "code",
   "execution_count": 50,
   "metadata": {},
   "outputs": [
    {
     "data": {
      "text/plain": [
       "6000"
      ]
     },
     "execution_count": 50,
     "metadata": {},
     "output_type": "execute_result"
    }
   ],
   "source": [
    "e.set_sal(6000)\n",
    "e.get_sal()"
   ]
  },
  {
   "cell_type": "code",
   "execution_count": 51,
   "metadata": {},
   "outputs": [
    {
     "name": "stdout",
     "output_type": "stream",
     "text": [
      "salary is less than your current income i cant update!\n"
     ]
    }
   ],
   "source": [
    "e.set_sal(2000)"
   ]
  },
  {
   "cell_type": "code",
   "execution_count": 1,
   "metadata": {},
   "outputs": [
    {
     "name": "stdout",
     "output_type": "stream",
     "text": [
      "2\n",
      "10\n"
     ]
    }
   ],
   "source": [
    "# Agar setter use kar rhe ho to @property  ko use karna padega aur dono function ka name same hona chahiye.\n",
    "# otherwise you will get error.\n",
    "\n",
    "class shani:\n",
    "    def __init__(self,a):\n",
    "        self.__a=a\n",
    "    @property\n",
    "    def a_val(self):\n",
    "        print(self.__a)\n",
    "    @a_val.setter\n",
    "    def a_val(self,x):\n",
    "        self.__a=x\n",
    "        \n",
    "        \n",
    "obj=shani(2)\n",
    "obj.a_val\n",
    "obj.a_val=10\n",
    "obj.a_val"
   ]
  },
  {
   "cell_type": "code",
   "execution_count": null,
   "metadata": {},
   "outputs": [],
   "source": []
  },
  {
   "cell_type": "code",
   "execution_count": 17,
   "metadata": {},
   "outputs": [
    {
     "data": {
      "text/plain": [
       "'shani'"
      ]
     },
     "execution_count": 17,
     "metadata": {},
     "output_type": "execute_result"
    }
   ],
   "source": [
    "class New:\n",
    "    def __init__(self):\n",
    "        self.a=\"anil\"\n",
    "    def get_name(self):\n",
    "        return self.a\n",
    "    def set_name(self,n):\n",
    "        self.a=n\n",
    "        return \n",
    "        \n",
    "        \n",
    "obj=New()\n",
    "obj.set_name(\"shani\")\n",
    "obj.get_name()"
   ]
  },
  {
   "cell_type": "code",
   "execution_count": 15,
   "metadata": {},
   "outputs": [],
   "source": [
    "class Name:\n",
    "    def __init__(self,fname,lname):\n",
    "        self.fname=fname\n",
    "        self.lname=lname\n",
    "    @property\n",
    "    def fullname(self):\n",
    "        return f\"{self.fname} {self.lname}\"\n",
    "    @fullname.setter\n",
    "    def fullname(self,name):\n",
    "        self.name=name.split()\n",
    "        self.fname,self.lname=self.name[0],self.name[1]\n"
   ]
  },
  {
   "cell_type": "code",
   "execution_count": 17,
   "metadata": {},
   "outputs": [
    {
     "data": {
      "text/plain": [
       "'shani kumar'"
      ]
     },
     "execution_count": 17,
     "metadata": {},
     "output_type": "execute_result"
    }
   ],
   "source": [
    "obj=Name(\"shani\", \"kumar\")\n",
    "obj.fullname"
   ]
  },
  {
   "cell_type": "code",
   "execution_count": 19,
   "metadata": {},
   "outputs": [],
   "source": [
    "obj.fullname=\"amit kumar\""
   ]
  },
  {
   "cell_type": "code",
   "execution_count": 20,
   "metadata": {},
   "outputs": [
    {
     "data": {
      "text/plain": [
       "'amit kumar'"
      ]
     },
     "execution_count": 20,
     "metadata": {},
     "output_type": "execute_result"
    }
   ],
   "source": [
    "obj.fullname"
   ]
  },
  {
   "cell_type": "code",
   "execution_count": null,
   "metadata": {},
   "outputs": [],
   "source": []
  }
 ],
 "metadata": {
  "kernelspec": {
   "display_name": "Python 3",
   "language": "python",
   "name": "python3"
  },
  "language_info": {
   "codemirror_mode": {
    "name": "ipython",
    "version": 3
   },
   "file_extension": ".py",
   "mimetype": "text/x-python",
   "name": "python",
   "nbconvert_exporter": "python",
   "pygments_lexer": "ipython3",
   "version": "3.6.5"
  }
 },
 "nbformat": 4,
 "nbformat_minor": 2
}
