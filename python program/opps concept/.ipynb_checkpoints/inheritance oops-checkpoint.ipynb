{
 "cells": [
  {
   "cell_type": "code",
   "execution_count": 22,
   "metadata": {},
   "outputs": [],
   "source": [
    "class student:\n",
    "    def __init__(self,name,roll_no,year,address):\n",
    "        self.name=name\n",
    "        self.roll_no=roll_no\n",
    "        self.year=year\n",
    "        self.address=address\n",
    "    @property\n",
    "    def details(self):\n",
    "        print(f\"Students name is {self.name} roll no {self.roll_no} year {self.year} and address is {self.address}\")\n"
   ]
  },
  {
   "cell_type": "code",
   "execution_count": 23,
   "metadata": {},
   "outputs": [
    {
     "name": "stdout",
     "output_type": "stream",
     "text": [
      "Students name is amit roll no 1613810067 year 4 and address is jaunpur\n"
     ]
    }
   ],
   "source": [
    "s=student(name=\"shani\",roll_no=1613810031,year=4,address=\"allahabad\")\n",
    "s.name=\"amit\"\n",
    "s.roll_no=1613810067\n",
    "s.address=\"jaunpur\"\n",
    "s.details"
   ]
  },
  {
   "cell_type": "code",
   "execution_count": 74,
   "metadata": {},
   "outputs": [],
   "source": [
    "class Atm:\n",
    "    def __init__(self):\n",
    "        self.amount=0\n",
    "        self.withdrow=0\n",
    "        self.credit=0\n",
    "    def balance(self):\n",
    "        if self.credit is True:\n",
    "            self.a=(self.amount+self.credit)\n",
    "            print(\"total balance is\",self.a)\n",
    "        elif self.withdrow is True:\n",
    "            self.b=self.a-self.withdrow\n",
    "            print(\"total balance is\",self.b)"
   ]
  },
  {
   "cell_type": "code",
   "execution_count": 75,
   "metadata": {},
   "outputs": [],
   "source": [
    "s=Atm()"
   ]
  },
  {
   "cell_type": "code",
   "execution_count": 77,
   "metadata": {},
   "outputs": [],
   "source": [
    "s.withdrow=200"
   ]
  },
  {
   "cell_type": "code",
   "execution_count": null,
   "metadata": {},
   "outputs": [],
   "source": []
  }
 ],
 "metadata": {
  "kernelspec": {
   "display_name": "Python 3",
   "language": "python",
   "name": "python3"
  },
  "language_info": {
   "codemirror_mode": {
    "name": "ipython",
    "version": 3
   },
   "file_extension": ".py",
   "mimetype": "text/x-python",
   "name": "python",
   "nbconvert_exporter": "python",
   "pygments_lexer": "ipython3",
   "version": "3.6.5"
  }
 },
 "nbformat": 4,
 "nbformat_minor": 2
}
