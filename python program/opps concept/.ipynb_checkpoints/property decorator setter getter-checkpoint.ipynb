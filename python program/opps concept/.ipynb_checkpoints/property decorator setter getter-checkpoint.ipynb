{
 "cells": [
  {
   "cell_type": "code",
   "execution_count": 11,
   "metadata": {},
   "outputs": [
    {
     "name": "stdout",
     "output_type": "stream",
     "text": [
      "amit\n",
      "bharati\n"
     ]
    },
    {
     "data": {
      "text/plain": [
       "'shani kumar'"
      ]
     },
     "execution_count": 11,
     "metadata": {},
     "output_type": "execute_result"
    }
   ],
   "source": [
    "class Name(object):\n",
    "    def __init__(self,fname,lname):\n",
    "        self.fname=fname\n",
    "        self.lname=lname\n",
    "        self.full_name=\"{} {}\".format(self.fname,self.lname)\n",
    "obj=Name(\"shani\",\"kumar\")\n",
    "obj.fname=\"amit\"\n",
    "obj.lname=\"bharati\"\n",
    "print(obj.fname)\n",
    "print(obj.lname)\n",
    "obj.full_name"
   ]
  },
  {
   "cell_type": "code",
   "execution_count": 19,
   "metadata": {},
   "outputs": [
    {
     "name": "stdout",
     "output_type": "stream",
     "text": [
      "amit\n",
      "bharati\n"
     ]
    },
    {
     "data": {
      "text/plain": [
       "'amit bharati'"
      ]
     },
     "execution_count": 19,
     "metadata": {},
     "output_type": "execute_result"
    }
   ],
   "source": [
    "class Name(object):\n",
    "    def __init__(self,fname,lname):\n",
    "        self.fname=fname\n",
    "        self.lname=lname\n",
    "    @property\n",
    "    def full_name(self):\n",
    "        return \"{} {}\".format(self.fname,self.lname)\n",
    "    \n",
    "obj=Name(\"shani\",\"kumar\")\n",
    "obj.fname=\"amit\"\n",
    "obj.lname=\"bharati\"\n",
    "print(obj.fname)\n",
    "print(obj.lname)\n",
    "obj.full_name"
   ]
  },
  {
   "cell_type": "code",
   "execution_count": 40,
   "metadata": {},
   "outputs": [
    {
     "name": "stdout",
     "output_type": "stream",
     "text": [
      "arjun\n",
      "singh\n",
      "arjun.singh@gamil.com\n"
     ]
    }
   ],
   "source": [
    "class Name(object):\n",
    "    def __init__(self,fname,lname):\n",
    "        self.fname=fname\n",
    "        self.lname=lname\n",
    "    @property\n",
    "    def full_name(self):\n",
    "        return \"{} {}\".format(self.fname,self.lname)\n",
    "    @property\n",
    "    def email(self):\n",
    "        return f\"{self.fname}.{self.lname}@gamil.com\"\n",
    "    @full_name.setter\n",
    "    def full_name(self,name):\n",
    "        name=name.split(\" \")\n",
    "        self.fname=name[0]\n",
    "        self.lname=name[1]\n",
    "    \n",
    "obj=Name(\"shani\",\"kumar\")\n",
    "obj.full_name=\"raju kumar\"\n",
    "obj.full_name=\"arjun singh\"\n",
    "print(obj.fname)\n",
    "print(obj.lname)\n",
    "print(obj.email)"
   ]
  },
  {
   "cell_type": "code",
   "execution_count": 11,
   "metadata": {},
   "outputs": [
    {
     "name": "stdout",
     "output_type": "stream",
     "text": [
      "kabil\n",
      "shani.kabil@gmail.com\n"
     ]
    }
   ],
   "source": [
    "class Name:\n",
    "    def __init__(self,fname,lname):\n",
    "        self.fname=fname\n",
    "    @property\n",
    "    def email(self):\n",
    "        return f\"{self.fname}.{self.lname}@gmail.com\"\n",
    "    @property\n",
    "    def lname(self):\n",
    "        return self._lname\n",
    "    @lname.setter\n",
    "    def lname(self,a):\n",
    "        self._lname=a\n",
    "    \n",
    "a=Name(\"shani\",\"kumar\")\n",
    "a.lname=\"kabil\"\n",
    "print(a.lname)\n",
    "print(a.email)\n"
   ]
  },
  {
   "cell_type": "code",
   "execution_count": 36,
   "metadata": {},
   "outputs": [
    {
     "name": "stdout",
     "output_type": "stream",
     "text": [
      "rahul\n",
      "kumar\n"
     ]
    }
   ],
   "source": [
    "class Name(object):\n",
    "    def __init__(self,fname,lname):\n",
    "        self.fname=fname\n",
    "        self.lname=lname\n",
    "        \n",
    "    def fname(self,fname):\n",
    "        self.fname=fname\n"
   ]
  },
  {
   "cell_type": "code",
   "execution_count": 3,
   "metadata": {},
   "outputs": [],
   "source": [
    "class car:\n",
    "    def __init__(self,a=40):\n",
    "        self.speed=a\n",
    "    def get_speed(self):\n",
    "        return self.speed\n",
    "    def set_speed(self,a):\n",
    "        self.speed=a\n",
    "        return self.speed\n",
    "        "
   ]
  },
  {
   "cell_type": "code",
   "execution_count": 4,
   "metadata": {},
   "outputs": [
    {
     "data": {
      "text/plain": [
       "20"
      ]
     },
     "execution_count": 4,
     "metadata": {},
     "output_type": "execute_result"
    }
   ],
   "source": [
    "a=car()\n",
    "a.get_speed()\n",
    "a.set_speed(20)\n",
    "a.get_speed()"
   ]
  },
  {
   "cell_type": "code",
   "execution_count": 5,
   "metadata": {},
   "outputs": [
    {
     "data": {
      "text/plain": [
       "30"
      ]
     },
     "execution_count": 5,
     "metadata": {},
     "output_type": "execute_result"
    }
   ],
   "source": [
    "a.speed=30\n",
    "a.speed"
   ]
  },
  {
   "cell_type": "code",
   "execution_count": 6,
   "metadata": {},
   "outputs": [],
   "source": [
    "class car:\n",
    "    def __init__(self,a=40):\n",
    "        self._speed=a\n",
    "    def get_speed(self):\n",
    "        return self._speed\n",
    "    def set_speed(self,a):\n",
    "        self._speed=a\n",
    "        return \n",
    "        "
   ]
  },
  {
   "cell_type": "code",
   "execution_count": 7,
   "metadata": {},
   "outputs": [],
   "source": [
    "a=car()"
   ]
  },
  {
   "cell_type": "code",
   "execution_count": 8,
   "metadata": {},
   "outputs": [],
   "source": [
    "a.speed=30"
   ]
  },
  {
   "cell_type": "code",
   "execution_count": 9,
   "metadata": {},
   "outputs": [
    {
     "data": {
      "text/plain": [
       "30"
      ]
     },
     "execution_count": 9,
     "metadata": {},
     "output_type": "execute_result"
    }
   ],
   "source": [
    "a.speed"
   ]
  },
  {
   "cell_type": "code",
   "execution_count": 5,
   "metadata": {},
   "outputs": [],
   "source": [
    "class car:\n",
    "    def __init__(self,a=40):\n",
    "        self._speed=a\n",
    "    def get_speed(self):\n",
    "        return self._speed\n",
    "    def set_speed(self,a):\n",
    "        if a<=0 or a>=160:\n",
    "            print(\"speed should be in between 0 to 160\")\n",
    "        else:\n",
    "            self._speed=a\n",
    "    speed=property(get_speed,set_speed)   "
   ]
  },
  {
   "cell_type": "code",
   "execution_count": 6,
   "metadata": {},
   "outputs": [
    {
     "name": "stdout",
     "output_type": "stream",
     "text": [
      "speed should be in between 0 to 160\n"
     ]
    }
   ],
   "source": [
    "a=car()\n",
    "a.set_speed(-30)"
   ]
  },
  {
   "cell_type": "code",
   "execution_count": 7,
   "metadata": {},
   "outputs": [
    {
     "name": "stdout",
     "output_type": "stream",
     "text": [
      "speed should be in between 0 to 160\n"
     ]
    }
   ],
   "source": [
    "d=car()\n",
    "d.speed=-30"
   ]
  },
  {
   "cell_type": "code",
   "execution_count": 8,
   "metadata": {},
   "outputs": [],
   "source": [
    "d.speed=50"
   ]
  },
  {
   "cell_type": "code",
   "execution_count": 9,
   "metadata": {},
   "outputs": [
    {
     "data": {
      "text/plain": [
       "50"
      ]
     },
     "execution_count": 9,
     "metadata": {},
     "output_type": "execute_result"
    }
   ],
   "source": [
    "d.speed"
   ]
  },
  {
   "cell_type": "code",
   "execution_count": 14,
   "metadata": {},
   "outputs": [
    {
     "name": "stdout",
     "output_type": "stream",
     "text": [
      "kabil\n",
      "shani.kabil@gmail.com\n"
     ]
    }
   ],
   "source": [
    "class Name:\n",
    "    def __init__(self,fname,lname):\n",
    "        self.fname=fname\n",
    "    @property\n",
    "    def email(self):\n",
    "        return f\"{self.fname}.{self.lname}@gmail.com\"\n",
    "    @property\n",
    "    def lname(self):\n",
    "        return self._lname\n",
    "    @lname.setter\n",
    "    def lname(self,a):\n",
    "        self._lname=a\n",
    "    \n",
    "a=Name(\"shani\",\"kumar\")\n",
    "a.lname=\"kabil\"\n",
    "print(a.lname)\n",
    "print(a.email)\n"
   ]
  },
  {
   "cell_type": "code",
   "execution_count": null,
   "metadata": {},
   "outputs": [],
   "source": []
  }
 ],
 "metadata": {
  "kernelspec": {
   "display_name": "Python 3",
   "language": "python",
   "name": "python3"
  },
  "language_info": {
   "codemirror_mode": {
    "name": "ipython",
    "version": 3
   },
   "file_extension": ".py",
   "mimetype": "text/x-python",
   "name": "python",
   "nbconvert_exporter": "python",
   "pygments_lexer": "ipython3",
   "version": "3.6.5"
  }
 },
 "nbformat": 4,
 "nbformat_minor": 2
}
