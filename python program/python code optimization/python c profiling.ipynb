{
 "cells": [
  {
   "cell_type": "code",
   "execution_count": 2,
   "id": "1b5e8959",
   "metadata": {},
   "outputs": [
    {
     "name": "stdout",
     "output_type": "stream",
     "text": [
      "         3 function calls in 0.000 seconds\n",
      "\n",
      "   Ordered by: standard name\n",
      "\n",
      "   ncalls  tottime  percall  cumtime  percall filename:lineno(function)\n",
      "        1    0.000    0.000    0.000    0.000 <string>:1(<module>)\n",
      "        1    0.000    0.000    0.000    0.000 {built-in method builtins.exec}\n",
      "        1    0.000    0.000    0.000    0.000 {method 'disable' of '_lsprof.Profiler' objects}\n",
      "\n",
      "\n"
     ]
    }
   ],
   "source": [
    "import numpy as np\n",
    "import cProfile as p\n",
    "array=np.array([10,20,30,40,50])\n",
    "p.run(\"array\")"
   ]
  },
  {
   "cell_type": "code",
   "execution_count": 4,
   "id": "e0aaf555",
   "metadata": {},
   "outputs": [
    {
     "name": "stdout",
     "output_type": "stream",
     "text": [
      "Array created successfully\n",
      "         400041 function calls in 0.079 seconds\n",
      "\n",
      "   Ordered by: standard name\n",
      "\n",
      "   ncalls  tottime  percall  cumtime  percall filename:lineno(function)\n",
      "        1    0.046    0.046    0.074    0.074 <ipython-input-4-79b6565829da>:1(create_array)\n",
      "        1    0.005    0.005    0.079    0.079 <ipython-input-4-79b6565829da>:10(main)\n",
      "        1    0.000    0.000    0.000    0.000 <ipython-input-4-79b6565829da>:6(print_statement)\n",
      "        1    0.000    0.000    0.079    0.079 <string>:1(<module>)\n",
      "        3    0.000    0.000    0.000    0.000 iostream.py:195(schedule)\n",
      "        2    0.000    0.000    0.000    0.000 iostream.py:308(_is_master_process)\n",
      "        2    0.000    0.000    0.000    0.000 iostream.py:321(_schedule_flush)\n",
      "        2    0.000    0.000    0.000    0.000 iostream.py:384(write)\n",
      "        3    0.000    0.000    0.000    0.000 iostream.py:91(_event_pipe)\n",
      "        3    0.000    0.000    0.000    0.000 socket.py:480(send)\n",
      "        3    0.000    0.000    0.000    0.000 threading.py:1062(_wait_for_tstate_lock)\n",
      "        3    0.000    0.000    0.000    0.000 threading.py:1104(is_alive)\n",
      "        3    0.000    0.000    0.000    0.000 threading.py:506(is_set)\n",
      "        1    0.000    0.000    0.079    0.079 {built-in method builtins.exec}\n",
      "        2    0.000    0.000    0.000    0.000 {built-in method builtins.isinstance}\n",
      "        1    0.000    0.000    0.000    0.000 {built-in method builtins.print}\n",
      "        2    0.000    0.000    0.000    0.000 {built-in method nt.getpid}\n",
      "        3    0.000    0.000    0.000    0.000 {method 'acquire' of '_thread.lock' objects}\n",
      "        3    0.000    0.000    0.000    0.000 {method 'append' of 'collections.deque' objects}\n",
      "   400000    0.027    0.000    0.027    0.000 {method 'append' of 'list' objects}\n",
      "        1    0.000    0.000    0.000    0.000 {method 'disable' of '_lsprof.Profiler' objects}\n",
      "\n",
      "\n"
     ]
    }
   ],
   "source": [
    "def create_array():\n",
    "  arr=[]\n",
    "  for i in range(0,400000):\n",
    "    arr.append(i)\n",
    "\n",
    "def print_statement():\n",
    "  print('Array created successfully')\n",
    "\n",
    "\n",
    "def main():\n",
    "  create_array()\n",
    "  print_statement()\n",
    "\n",
    "\n",
    "if __name__ == '__main__':\n",
    "    p.run('main()')"
   ]
  },
  {
   "cell_type": "code",
   "execution_count": null,
   "id": "4a28d1a7",
   "metadata": {},
   "outputs": [],
   "source": []
  }
 ],
 "metadata": {
  "kernelspec": {
   "display_name": "Python 3",
   "language": "python",
   "name": "python3"
  },
  "language_info": {
   "codemirror_mode": {
    "name": "ipython",
    "version": 3
   },
   "file_extension": ".py",
   "mimetype": "text/x-python",
   "name": "python",
   "nbconvert_exporter": "python",
   "pygments_lexer": "ipython3",
   "version": "3.6.5"
  }
 },
 "nbformat": 4,
 "nbformat_minor": 5
}
