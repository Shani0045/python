{
 "cells": [
  {
   "cell_type": "code",
   "execution_count": 1,
   "id": "9c12a71c",
   "metadata": {},
   "outputs": [],
   "source": [
    "lst=[\"shani\",\"ajay\",\"sahil\",\"sumit\",\"arjun\",\"suraj\",\"amit\",\"dinesh\",\"mayank\"]"
   ]
  },
  {
   "cell_type": "markdown",
   "id": "3d76e7c2",
   "metadata": {},
   "source": [
    "## find name start from s"
   ]
  },
  {
   "cell_type": "code",
   "execution_count": 2,
   "id": "56ffd5d2",
   "metadata": {},
   "outputs": [],
   "source": [
    "s_names=list(filter(lambda x:x.startswith(\"s\"),lst))"
   ]
  },
  {
   "cell_type": "code",
   "execution_count": 3,
   "id": "0893ba33",
   "metadata": {},
   "outputs": [
    {
     "data": {
      "text/plain": [
       "['shani', 'sahil', 'sumit', 'suraj']"
      ]
     },
     "execution_count": 3,
     "metadata": {},
     "output_type": "execute_result"
    }
   ],
   "source": [
    "s_names"
   ]
  },
  {
   "cell_type": "markdown",
   "id": "239cbd6b",
   "metadata": {},
   "source": [
    "## or"
   ]
  },
  {
   "cell_type": "code",
   "execution_count": 7,
   "id": "7ef10e25",
   "metadata": {},
   "outputs": [
    {
     "data": {
      "text/plain": [
       "['shani', 'sahil', 'sumit', 'suraj']"
      ]
     },
     "execution_count": 7,
     "metadata": {},
     "output_type": "execute_result"
    }
   ],
   "source": [
    "def start(x):\n",
    "    if x.startswith(\"s\"):\n",
    "        return x\n",
    "    \n",
    "S_names=list(filter(start,lst))\n",
    "S_names"
   ]
  },
  {
   "cell_type": "code",
   "execution_count": 11,
   "id": "e59f7bd5",
   "metadata": {},
   "outputs": [
    {
     "data": {
      "text/plain": [
       "[2, 4, 6, 8, 10, 12, 14, 16, 18]"
      ]
     },
     "execution_count": 11,
     "metadata": {},
     "output_type": "execute_result"
    }
   ],
   "source": [
    "a=range(1,20)\n",
    "even=list(filter(lambda x:x%2==0,a))\n",
    "even"
   ]
  },
  {
   "cell_type": "markdown",
   "id": "0b5972e4",
   "metadata": {},
   "source": [
    "## using enumerate"
   ]
  },
  {
   "cell_type": "markdown",
   "id": "00778d7d",
   "metadata": {},
   "source": [
    "## if you want index"
   ]
  },
  {
   "cell_type": "code",
   "execution_count": 18,
   "id": "92822772",
   "metadata": {},
   "outputs": [
    {
     "name": "stdout",
     "output_type": "stream",
     "text": [
      "1 10\n",
      "2 11\n",
      "3 12\n",
      "4 13\n",
      "5 14\n",
      "6 15\n",
      "7 16\n",
      "8 17\n",
      "9 18\n",
      "10 19\n"
     ]
    }
   ],
   "source": [
    "for index,val in enumerate(range(10,20),1):\n",
    "    print(index,val)"
   ]
  },
  {
   "cell_type": "code",
   "execution_count": null,
   "id": "fa672d42",
   "metadata": {},
   "outputs": [],
   "source": []
  },
  {
   "cell_type": "code",
   "execution_count": null,
   "id": "c6ad983e",
   "metadata": {},
   "outputs": [],
   "source": []
  }
 ],
 "metadata": {
  "kernelspec": {
   "display_name": "Python 3",
   "language": "python",
   "name": "python3"
  },
  "language_info": {
   "codemirror_mode": {
    "name": "ipython",
    "version": 3
   },
   "file_extension": ".py",
   "mimetype": "text/x-python",
   "name": "python",
   "nbconvert_exporter": "python",
   "pygments_lexer": "ipython3",
   "version": "3.6.5"
  }
 },
 "nbformat": 4,
 "nbformat_minor": 5
}
