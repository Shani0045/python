{
 "cells": [
  {
   "cell_type": "code",
   "execution_count": 1,
   "metadata": {},
   "outputs": [
    {
     "name": "stdout",
     "output_type": "stream",
     "text": [
      "11111\n",
      "0000\n",
      "111\n",
      "00\n",
      "1\n"
     ]
    }
   ],
   "source": [
    "sign=1\n",
    "for i in range(5,0,-1):\n",
    "    if sign:\n",
    "        print(\"1\"*i)\n",
    "        sign=0\n",
    "    else:\n",
    "        print(\"0\"*i)\n",
    "        sign=1"
   ]
  },
  {
   "cell_type": "code",
   "execution_count": 9,
   "metadata": {},
   "outputs": [
    {
     "name": "stdout",
     "output_type": "stream",
     "text": [
      "*****\n",
      "####\n",
      "***\n",
      "##\n",
      "*\n"
     ]
    }
   ],
   "source": [
    "sign=1\n",
    "for i in range(5,0,-1):\n",
    "    if sign:\n",
    "        print(\"*\"*i)\n",
    "        sign=0\n",
    "    else:\n",
    "        print(\"#\"*i)\n",
    "        sign=1"
   ]
  },
  {
   "cell_type": "code",
   "execution_count": 24,
   "metadata": {},
   "outputs": [
    {
     "name": "stdout",
     "output_type": "stream",
     "text": [
      "enter the no> 5\n",
      "11111\n",
      "0000 \n",
      "111  \n",
      "00   \n",
      "1    \n"
     ]
    }
   ],
   "source": [
    "n=int(input(\"enter the no> \"))\n",
    "for i in range(n):\n",
    "    k=\"0\" if i%2 else \"1\"\n",
    "    for j in range(n):\n",
    "        if j<=(n-1)-i:\n",
    "            print(k,end=\"\")\n",
    "        else:\n",
    "            print(\" \",end=\"\")\n",
    "    print()"
   ]
  },
  {
   "cell_type": "code",
   "execution_count": null,
   "metadata": {},
   "outputs": [],
   "source": [
    "if 5:\n",
    "    print(\"yes\")"
   ]
  },
  {
   "cell_type": "code",
   "execution_count": null,
   "metadata": {},
   "outputs": [],
   "source": []
  }
 ],
 "metadata": {
  "kernelspec": {
   "display_name": "Python 3",
   "language": "python",
   "name": "python3"
  },
  "language_info": {
   "codemirror_mode": {
    "name": "ipython",
    "version": 3
   },
   "file_extension": ".py",
   "mimetype": "text/x-python",
   "name": "python",
   "nbconvert_exporter": "python",
   "pygments_lexer": "ipython3",
   "version": "3.6.5"
  }
 },
 "nbformat": 4,
 "nbformat_minor": 2
}
