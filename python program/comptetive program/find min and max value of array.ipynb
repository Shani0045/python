{
 "cells": [
  {
   "cell_type": "markdown",
   "metadata": {},
   "source": [
    "# find min value"
   ]
  },
  {
   "cell_type": "code",
   "execution_count": 5,
   "metadata": {},
   "outputs": [
    {
     "data": {
      "text/plain": [
       "2"
      ]
     },
     "execution_count": 5,
     "metadata": {},
     "output_type": "execute_result"
    }
   ],
   "source": [
    "l=[10,20,40,4,2,90,23]\n",
    "min1=l[0]\n",
    "for i in range(1,len(l)):\n",
    "    if l[i]<min1:\n",
    "        min1=l[i]\n",
    "min1"
   ]
  },
  {
   "cell_type": "markdown",
   "metadata": {},
   "source": [
    "# find max value"
   ]
  },
  {
   "cell_type": "code",
   "execution_count": 6,
   "metadata": {},
   "outputs": [
    {
     "data": {
      "text/plain": [
       "90"
      ]
     },
     "execution_count": 6,
     "metadata": {},
     "output_type": "execute_result"
    }
   ],
   "source": [
    "l=[10,20,40,4,2,90,23]\n",
    "max1=l[0]\n",
    "for i in range(1,len(l)):\n",
    "    if l[i]>max1:\n",
    "        max1=l[i]\n",
    "max1"
   ]
  },
  {
   "cell_type": "code",
   "execution_count": 1,
   "metadata": {},
   "outputs": [
    {
     "name": "stdout",
     "output_type": "stream",
     "text": [
      "Minimum element of array: 1\n",
      "Maximum element of array: 1234\n"
     ]
    }
   ],
   "source": [
    "# Python3 program to find minimum\n",
    "# (or maximum) element in an array\n",
    " \n",
    "# Minimum Function\n",
    "def getMin(arr, n):\n",
    "    res = arr[0]\n",
    "    for i in range(1,n):\n",
    "        res = min(res, arr[i])\n",
    "    return res\n",
    "# Maximum Function\n",
    "def getMax(arr, n):\n",
    "    res = arr[0]\n",
    "    for i in range(1,n):\n",
    "        res = max(res, arr[i])\n",
    "    return res\n",
    " \n",
    "# Driver Program\n",
    "arr = [12, 1234, 45, 67, 1]\n",
    "n = len(arr)\n",
    "print (\"Minimum element of array:\", getMin(arr, n))\n",
    "print (\"Maximum element of array:\", getMax(arr, n))"
   ]
  },
  {
   "cell_type": "code",
   "execution_count": null,
   "metadata": {},
   "outputs": [],
   "source": []
  },
  {
   "cell_type": "code",
   "execution_count": 5,
   "metadata": {},
   "outputs": [
    {
     "name": "stdout",
     "output_type": "stream",
     "text": [
      "Minimum element of array:  1\n",
      "Maximum element of array:  1234\n"
     ]
    }
   ],
   "source": [
    "# Python3 program to find minimum \n",
    "# (or maximum) element in an array.\n",
    "def getMin(arr, n):\n",
    "    if(n==1):\n",
    "        return arr[0]\n",
    "    # If there is single element, return it. \n",
    "    # Else return minimum of first element \n",
    "    # and minimum of remaining array. \n",
    "    else:\n",
    "        return min(getMin(arr[1:], n-1), arr[0])\n",
    "def getMax(arr, n): \n",
    "    if(n==1):\n",
    "        return arr[0]\n",
    "    # If there is single element, return it. \n",
    "    # Else return maximum of first element \n",
    "    # and maximum of remaining array. \n",
    "    else:\n",
    "        return max(getMax(arr[1:], n-1), arr[0])\n",
    " \n",
    "# Driver code\n",
    "arr = [12, 1234, 45, 67, 1]\n",
    "n = len(arr)\n",
    "print(\"Minimum element of array: \", \n",
    "                   getMin(arr, n));\n",
    "print(\"Maximum element of array: \",\n",
    "                   getMax(arr, n));"
   ]
  },
  {
   "cell_type": "code",
   "execution_count": null,
   "metadata": {},
   "outputs": [],
   "source": []
  }
 ],
 "metadata": {
  "kernelspec": {
   "display_name": "Python 3",
   "language": "python",
   "name": "python3"
  },
  "language_info": {
   "codemirror_mode": {
    "name": "ipython",
    "version": 3
   },
   "file_extension": ".py",
   "mimetype": "text/x-python",
   "name": "python",
   "nbconvert_exporter": "python",
   "pygments_lexer": "ipython3",
   "version": "3.6.5"
  }
 },
 "nbformat": 4,
 "nbformat_minor": 2
}
