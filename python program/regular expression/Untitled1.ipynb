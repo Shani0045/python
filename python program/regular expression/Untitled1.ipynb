{
 "cells": [
  {
   "cell_type": "code",
   "execution_count": 41,
   "id": "f6e46c8b",
   "metadata": {},
   "outputs": [],
   "source": [
    "str=\" my name is shani kumar and my img is shani.jpg as here 555549444444 and my brother image is amit.jpg and myphon no is 9936206003\""
   ]
  },
  {
   "cell_type": "code",
   "execution_count": 42,
   "id": "e5b8915c",
   "metadata": {},
   "outputs": [],
   "source": [
    "import re"
   ]
  },
  {
   "cell_type": "code",
   "execution_count": 43,
   "id": "71f88baf",
   "metadata": {},
   "outputs": [
    {
     "data": {
      "text/plain": [
       "['shani.jpg', 'amit.jpg']"
      ]
     },
     "execution_count": 43,
     "metadata": {},
     "output_type": "execute_result"
    }
   ],
   "source": [
    "re.findall(\"\\w+.jpg\",str)"
   ]
  },
  {
   "cell_type": "code",
   "execution_count": 45,
   "id": "b2f27165",
   "metadata": {},
   "outputs": [
    {
     "data": {
      "text/plain": [
       "['555549444444', '9936206003']"
      ]
     },
     "execution_count": 45,
     "metadata": {},
     "output_type": "execute_result"
    }
   ],
   "source": [
    "re.findall(\"\\d+\",str)"
   ]
  },
  {
   "cell_type": "code",
   "execution_count": null,
   "id": "9261fec5",
   "metadata": {},
   "outputs": [],
   "source": []
  },
  {
   "cell_type": "code",
   "execution_count": null,
   "id": "ab49259c",
   "metadata": {},
   "outputs": [],
   "source": []
  }
 ],
 "metadata": {
  "kernelspec": {
   "display_name": "Python 3",
   "language": "python",
   "name": "python3"
  },
  "language_info": {
   "codemirror_mode": {
    "name": "ipython",
    "version": 3
   },
   "file_extension": ".py",
   "mimetype": "text/x-python",
   "name": "python",
   "nbconvert_exporter": "python",
   "pygments_lexer": "ipython3",
   "version": "3.6.5"
  }
 },
 "nbformat": 4,
 "nbformat_minor": 5
}
