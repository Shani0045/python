{
 "cells": [
  {
   "cell_type": "code",
   "execution_count": 1,
   "id": "8e943717",
   "metadata": {},
   "outputs": [],
   "source": [
    "s=\"shani\""
   ]
  },
  {
   "cell_type": "code",
   "execution_count": 2,
   "id": "3be23c42",
   "metadata": {},
   "outputs": [],
   "source": [
    "def rev_str(string):\n",
    "    new_str=\"\"\n",
    "    for s in string:\n",
    "        new_str=s+new_str\n",
    "    return new_str\n",
    "        "
   ]
  },
  {
   "cell_type": "code",
   "execution_count": 3,
   "id": "e1674088",
   "metadata": {},
   "outputs": [
    {
     "data": {
      "text/plain": [
       "'inahs'"
      ]
     },
     "execution_count": 3,
     "metadata": {},
     "output_type": "execute_result"
    }
   ],
   "source": [
    "rev_str(s)"
   ]
  },
  {
   "cell_type": "code",
   "execution_count": 6,
   "id": "91ad6d36",
   "metadata": {},
   "outputs": [],
   "source": [
    "s=\"shani\""
   ]
  },
  {
   "cell_type": "code",
   "execution_count": 39,
   "id": "a452bbbd",
   "metadata": {},
   "outputs": [],
   "source": [
    "def rev_list(l):\n",
    "    for i in range(len(l)-1,-1,-1):\n",
    "        print(l[i])\n",
    "        "
   ]
  },
  {
   "cell_type": "code",
   "execution_count": 40,
   "id": "fc65c3ef",
   "metadata": {},
   "outputs": [
    {
     "name": "stdout",
     "output_type": "stream",
     "text": [
      "5\n",
      "4\n",
      "3\n",
      "2\n",
      "1\n"
     ]
    }
   ],
   "source": [
    "rev_list([1,2,3,4,5])"
   ]
  },
  {
   "cell_type": "code",
   "execution_count": 56,
   "id": "8c64c0c8",
   "metadata": {},
   "outputs": [],
   "source": [
    "def sum_digit(n):\n",
    "    sum=0\n",
    "    rev=0\n",
    "    count=0\n",
    "    while n>0:\n",
    "        d=n%10\n",
    "        sum+=d\n",
    "        rev=rev*10+d\n",
    "        n=n//10\n",
    "        count+=1\n",
    "    return sum,rev,count"
   ]
  },
  {
   "cell_type": "code",
   "execution_count": 57,
   "id": "596b0ee9",
   "metadata": {},
   "outputs": [
    {
     "data": {
      "text/plain": [
       "(15, 54321, 5)"
      ]
     },
     "execution_count": 57,
     "metadata": {},
     "output_type": "execute_result"
    }
   ],
   "source": [
    "sum_digit(12345)"
   ]
  },
  {
   "cell_type": "code",
   "execution_count": 58,
   "id": "58755596",
   "metadata": {},
   "outputs": [],
   "source": [
    "def decorator(fun):\n",
    "    def innerfun(*args,**kwargs):\n",
    "        print(\"this isawesome fun..\")\n",
    "        return fun(*args,**kwargs)\n",
    "    return innerfun"
   ]
  },
  {
   "cell_type": "code",
   "execution_count": 61,
   "id": "236df91a",
   "metadata": {},
   "outputs": [],
   "source": [
    "@decorator\n",
    "def fun(a):\n",
    "    print(a)"
   ]
  },
  {
   "cell_type": "code",
   "execution_count": 65,
   "id": "a811ace4",
   "metadata": {},
   "outputs": [],
   "source": [
    "s=\" shani \""
   ]
  },
  {
   "cell_type": "code",
   "execution_count": 71,
   "id": "733ac6f1",
   "metadata": {},
   "outputs": [],
   "source": [
    "l=[\"shani\",\"kumar\",\"bharati\"]"
   ]
  },
  {
   "cell_type": "code",
   "execution_count": 73,
   "id": "a734111e",
   "metadata": {},
   "outputs": [],
   "source": [
    "new=\" \".join(l)"
   ]
  },
  {
   "cell_type": "code",
   "execution_count": 74,
   "id": "0a4853ce",
   "metadata": {},
   "outputs": [
    {
     "data": {
      "text/plain": [
       "'shani kumar bharati'"
      ]
     },
     "execution_count": 74,
     "metadata": {},
     "output_type": "execute_result"
    }
   ],
   "source": [
    "new"
   ]
  },
  {
   "cell_type": "code",
   "execution_count": 77,
   "id": "dd5aa87d",
   "metadata": {},
   "outputs": [],
   "source": [
    "s=\"shani kumar Bharti AzamgarH\""
   ]
  },
  {
   "cell_type": "code",
   "execution_count": 83,
   "id": "c28e52a0",
   "metadata": {},
   "outputs": [],
   "source": [
    "lower=0\n",
    "upper=0\n",
    "for i in s:\n",
    "    if i.islower():\n",
    "        lower+=1\n",
    "    elif i.isupper():\n",
    "        upper+=1\n",
    "        "
   ]
  },
  {
   "cell_type": "code",
   "execution_count": 84,
   "id": "fe28d861",
   "metadata": {},
   "outputs": [
    {
     "data": {
      "text/plain": [
       "3"
      ]
     },
     "execution_count": 84,
     "metadata": {},
     "output_type": "execute_result"
    }
   ],
   "source": [
    "upper"
   ]
  },
  {
   "cell_type": "code",
   "execution_count": 85,
   "id": "af152a63",
   "metadata": {},
   "outputs": [],
   "source": []
  },
  {
   "cell_type": "code",
   "execution_count": 86,
   "id": "59b459b1",
   "metadata": {},
   "outputs": [
    {
     "data": {
      "text/plain": [
       "90"
      ]
     },
     "execution_count": 86,
     "metadata": {},
     "output_type": "execute_result"
    }
   ],
   "source": [
    "max(l)"
   ]
  },
  {
   "cell_type": "code",
   "execution_count": 87,
   "id": "9cc07f09",
   "metadata": {},
   "outputs": [
    {
     "data": {
      "text/plain": [
       "10"
      ]
     },
     "execution_count": 87,
     "metadata": {},
     "output_type": "execute_result"
    }
   ],
   "source": [
    "min(l)"
   ]
  },
  {
   "cell_type": "code",
   "execution_count": 89,
   "id": "1c5b9b7d",
   "metadata": {},
   "outputs": [
    {
     "name": "stdout",
     "output_type": "stream",
     "text": [
      "max 90\n",
      "min 10\n"
     ]
    }
   ],
   "source": [
    "l=[10,20,30,50,20,90,40]\n",
    "MAX=l[0]\n",
    "MIN=l[0]\n",
    "for i in l:\n",
    "    if i>MAX:\n",
    "        MAX=i\n",
    "    elif i<MIN:\n",
    "        MIN=i\n",
    "print(\"max\",MAX)\n",
    "print(\"min\",MIN)"
   ]
  },
  {
   "cell_type": "code",
   "execution_count": 94,
   "id": "38493575",
   "metadata": {},
   "outputs": [
    {
     "name": "stdout",
     "output_type": "stream",
     "text": [
      "10 20\n",
      "20 10\n"
     ]
    }
   ],
   "source": [
    "a=10;b=20\n",
    "print(a,b)\n",
    "a=a+b\n",
    "b=a-b\n",
    "a=a-b\n",
    "print(a,b)"
   ]
  },
  {
   "cell_type": "markdown",
   "id": "a4a1b6a6",
   "metadata": {},
   "source": [
    "## lambda vs list comprehension"
   ]
  },
  {
   "cell_type": "markdown",
   "id": "4a131cef",
   "metadata": {},
   "source": [
    "## if else"
   ]
  },
  {
   "cell_type": "code",
   "execution_count": 95,
   "id": "e8af4bcc",
   "metadata": {},
   "outputs": [],
   "source": [
    "fun=lambda a,b:\"a is greater\" if a>b else \"a is small\""
   ]
  },
  {
   "cell_type": "code",
   "execution_count": 98,
   "id": "7fec4659",
   "metadata": {},
   "outputs": [
    {
     "data": {
      "text/plain": [
       "'a is greater'"
      ]
     },
     "execution_count": 98,
     "metadata": {},
     "output_type": "execute_result"
    }
   ],
   "source": [
    "fun(5,2)"
   ]
  },
  {
   "cell_type": "markdown",
   "id": "b3c2cd89",
   "metadata": {},
   "source": [
    "# list comprehension"
   ]
  },
  {
   "cell_type": "code",
   "execution_count": 109,
   "id": "b38ce0c7",
   "metadata": {},
   "outputs": [
    {
     "data": {
      "text/plain": [
       "[0, 2, 4, 6, 8]"
      ]
     },
     "execution_count": 109,
     "metadata": {},
     "output_type": "execute_result"
    }
   ],
   "source": [
    "l=[i for i in range(10) if i%2==0]\n",
    "l"
   ]
  },
  {
   "cell_type": "code",
   "execution_count": 105,
   "id": "d3b455a7",
   "metadata": {},
   "outputs": [],
   "source": [
    "l=[\"even\" if i%2==0 else \"odd\" for i in range(10)]"
   ]
  },
  {
   "cell_type": "code",
   "execution_count": 104,
   "id": "0d1b3234",
   "metadata": {},
   "outputs": [
    {
     "data": {
      "text/plain": [
       "['even', 'odd', 'even', 'odd', 'even', 'odd', 'even', 'odd', 'even', 'odd']"
      ]
     },
     "execution_count": 104,
     "metadata": {},
     "output_type": "execute_result"
    }
   ],
   "source": [
    "l"
   ]
  },
  {
   "cell_type": "code",
   "execution_count": null,
   "id": "dda021f8",
   "metadata": {},
   "outputs": [],
   "source": []
  }
 ],
 "metadata": {
  "kernelspec": {
   "display_name": "Python 3",
   "language": "python",
   "name": "python3"
  },
  "language_info": {
   "codemirror_mode": {
    "name": "ipython",
    "version": 3
   },
   "file_extension": ".py",
   "mimetype": "text/x-python",
   "name": "python",
   "nbconvert_exporter": "python",
   "pygments_lexer": "ipython3",
   "version": "3.6.5"
  }
 },
 "nbformat": 4,
 "nbformat_minor": 5
}
