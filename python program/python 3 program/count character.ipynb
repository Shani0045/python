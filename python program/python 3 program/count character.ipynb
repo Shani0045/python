{
 "cells": [
  {
   "cell_type": "code",
   "execution_count": 9,
   "id": "befc0c05",
   "metadata": {},
   "outputs": [],
   "source": [
    "def counter(s):\n",
    "    d={}\n",
    "    for i in s:\n",
    "        if i not in d:\n",
    "            d[i]=1\n",
    "        else:\n",
    "            d[i]+=1\n",
    "    return d"
   ]
  },
  {
   "cell_type": "code",
   "execution_count": 11,
   "id": "cdc65cb4",
   "metadata": {},
   "outputs": [
    {
     "data": {
      "text/plain": [
       "{'s': 1, 'h': 1, 'a': 2, 'n': 1, 'i': 2}"
      ]
     },
     "execution_count": 11,
     "metadata": {},
     "output_type": "execute_result"
    }
   ],
   "source": [
    "counter(\"shaniai\")"
   ]
  },
  {
   "cell_type": "code",
   "execution_count": 12,
   "id": "538aae9b",
   "metadata": {},
   "outputs": [
    {
     "data": {
      "text/plain": [
       "{10: 2, 20: 2, 30: 1}"
      ]
     },
     "execution_count": 12,
     "metadata": {},
     "output_type": "execute_result"
    }
   ],
   "source": [
    "counter([10,20,30,10,20])"
   ]
  },
  {
   "cell_type": "code",
   "execution_count": 24,
   "id": "7e25394e",
   "metadata": {},
   "outputs": [
    {
     "data": {
      "text/plain": [
       "Counter({'s': 1, 'h': 1, 'a': 1, 'n': 1, 'i': 1})"
      ]
     },
     "execution_count": 24,
     "metadata": {},
     "output_type": "execute_result"
    }
   ],
   "source": [
    "from collections  import Counter\n",
    "Counter(\"shani\")"
   ]
  },
  {
   "cell_type": "code",
   "execution_count": 12,
   "id": "a12dee96",
   "metadata": {},
   "outputs": [],
   "source": [
    "def coun(s):\n",
    "    d={}\n",
    "    for i in s:\n",
    "        if i in d:\n",
    "            d[i]=d.get(i)+1\n",
    "        else:\n",
    "            d[i]=1\n",
    "    print(d)"
   ]
  },
  {
   "cell_type": "code",
   "execution_count": 14,
   "id": "66cf99ec",
   "metadata": {},
   "outputs": [
    {
     "name": "stdout",
     "output_type": "stream",
     "text": [
      "{1: 1, 2: 2, 3: 2, 4: 1, 5: 1}\n"
     ]
    }
   ],
   "source": [
    "coun([1,2,3,4,3,5,2])"
   ]
  },
  {
   "cell_type": "code",
   "execution_count": 9,
   "id": "291f2831",
   "metadata": {},
   "outputs": [],
   "source": [
    "def count(s):\n",
    "    d={}\n",
    "    for i in s:\n",
    "        if i in d:\n",
    "            d[i.lower()]=d[i]+1\n",
    "        else:\n",
    "            d[i.lower()]=1\n",
    "    print(d)"
   ]
  },
  {
   "cell_type": "code",
   "execution_count": 11,
   "id": "8483ec97",
   "metadata": {},
   "outputs": [
    {
     "name": "stdout",
     "output_type": "stream",
     "text": [
      "{'a': 2, 'b': 1, 'c': 1}\n"
     ]
    }
   ],
   "source": [
    "count(\"ABaCC\")"
   ]
  },
  {
   "cell_type": "code",
   "execution_count": 6,
   "id": "a4006896",
   "metadata": {},
   "outputs": [],
   "source": [
    "def counts(n):\n",
    "    d={}\n",
    "    for i in n:\n",
    "        if i in d:\n",
    "            d[i]=d[i]+1\n",
    "        else:\n",
    "            d[i]=1\n",
    "    return d"
   ]
  },
  {
   "cell_type": "code",
   "execution_count": 7,
   "id": "043bf91e",
   "metadata": {},
   "outputs": [
    {
     "data": {
      "text/plain": [
       "{1: 2, 2: 2, 3: 1, 4: 2, 5: 1}"
      ]
     },
     "execution_count": 7,
     "metadata": {},
     "output_type": "execute_result"
    }
   ],
   "source": [
    "counts([1,1,2,2,3,4,5,4])"
   ]
  },
  {
   "cell_type": "code",
   "execution_count": null,
   "id": "9d6c3dfc",
   "metadata": {},
   "outputs": [],
   "source": []
  }
 ],
 "metadata": {
  "kernelspec": {
   "display_name": "Python 3",
   "language": "python",
   "name": "python3"
  },
  "language_info": {
   "codemirror_mode": {
    "name": "ipython",
    "version": 3
   },
   "file_extension": ".py",
   "mimetype": "text/x-python",
   "name": "python",
   "nbconvert_exporter": "python",
   "pygments_lexer": "ipython3",
   "version": "3.6.5"
  }
 },
 "nbformat": 4,
 "nbformat_minor": 5
}
