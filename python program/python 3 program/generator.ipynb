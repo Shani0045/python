{
 "cells": [
  {
   "cell_type": "code",
   "execution_count": 12,
   "id": "a09ed6e5",
   "metadata": {},
   "outputs": [],
   "source": [
    "def gen(n):\n",
    "    a,b=0,1\n",
    "    for i in range(n):\n",
    "        yield b\n",
    "        a,b=b,a+b\n",
    "        "
   ]
  },
  {
   "cell_type": "code",
   "execution_count": 15,
   "id": "31907204",
   "metadata": {},
   "outputs": [],
   "source": [
    "a=gen(5)"
   ]
  },
  {
   "cell_type": "code",
   "execution_count": 16,
   "id": "2db668d3",
   "metadata": {},
   "outputs": [
    {
     "name": "stdout",
     "output_type": "stream",
     "text": [
      "1\n",
      "1\n",
      "2\n",
      "3\n",
      "5\n"
     ]
    }
   ],
   "source": [
    "for i in range(5):\n",
    "    print(next(a))"
   ]
  },
  {
   "cell_type": "code",
   "execution_count": null,
   "id": "acf0d101",
   "metadata": {},
   "outputs": [],
   "source": []
  }
 ],
 "metadata": {
  "kernelspec": {
   "display_name": "Python 3",
   "language": "python",
   "name": "python3"
  },
  "language_info": {
   "codemirror_mode": {
    "name": "ipython",
    "version": 3
   },
   "file_extension": ".py",
   "mimetype": "text/x-python",
   "name": "python",
   "nbconvert_exporter": "python",
   "pygments_lexer": "ipython3",
   "version": "3.6.5"
  }
 },
 "nbformat": 4,
 "nbformat_minor": 5
}
