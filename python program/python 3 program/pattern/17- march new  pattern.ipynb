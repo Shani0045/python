{
 "cells": [
  {
   "cell_type": "code",
   "execution_count": 6,
   "metadata": {},
   "outputs": [
    {
     "name": "stdout",
     "output_type": "stream",
     "text": [
      "*******\n",
      " ***** \n",
      "  ***  \n",
      "   *   \n"
     ]
    }
   ],
   "source": [
    "for i in range(1,5):      #row\n",
    "    for j in range(1,8):    #column\n",
    "        if(j>=i and j<=8-i):\n",
    "            print(\"*\",end=\"\")\n",
    "        else:\n",
    "            print(\" \",end=\"\")\n",
    "    print()"
   ]
  },
  {
   "cell_type": "code",
   "execution_count": 4,
   "metadata": {},
   "outputs": [
    {
     "name": "stdout",
     "output_type": "stream",
     "text": [
      "   *   \n",
      "  ***  \n",
      " ***** \n",
      "*******\n"
     ]
    }
   ],
   "source": [
    "for i in range(1,5):\n",
    "    for j in range(1,8):\n",
    "        if(j>=5-i and j<=3+i):\n",
    "            print(\"*\",end=\"\")\n",
    "        else:\n",
    "            print(\" \",end=\"\")\n",
    "    print()"
   ]
  },
  {
   "cell_type": "code",
   "execution_count": 6,
   "metadata": {},
   "outputs": [
    {
     "name": "stdout",
     "output_type": "stream",
     "text": [
      "  *  \n",
      " *** \n",
      "*****\n",
      " *** \n",
      "  *  \n"
     ]
    }
   ],
   "source": [
    "k=0\n",
    "for i in range(1,6):\n",
    "    k=k+1 if i<=3 else k-1\n",
    "    for j in range(1,6):\n",
    "        if(j>=4-k and j<=2+k):\n",
    "            print(\"*\",end=\"\")\n",
    "        else:\n",
    "            print(\" \",end=\"\")\n",
    "    print()"
   ]
  },
  {
   "cell_type": "code",
   "execution_count": 8,
   "metadata": {},
   "outputs": [
    {
     "name": "stdout",
     "output_type": "stream",
     "text": [
      "*****\n",
      " *** \n",
      "  *  \n",
      " *** \n",
      "*****\n"
     ]
    }
   ],
   "source": [
    "k=0\n",
    "for i in range(1,6):\n",
    "    k=k+1 if i<=3 else k-1\n",
    "    for j in range(1,6):\n",
    "        if(j>=k and j<=6-k):\n",
    "            print(\"*\",end=\"\")\n",
    "        else:\n",
    "            print(\" \",end=\"\")\n",
    "    print()"
   ]
  },
  {
   "cell_type": "code",
   "execution_count": 14,
   "metadata": {},
   "outputs": [
    {
     "name": "stdout",
     "output_type": "stream",
     "text": [
      "****\n",
      "*** \n",
      "**  \n",
      "*   \n",
      "**  \n",
      "*** \n",
      "****\n"
     ]
    }
   ],
   "source": [
    "k=0\n",
    "for i in range(1,8):\n",
    "    k=k+1 if i<=4 else k-1\n",
    "    for j in range(1,5):\n",
    "        if(j<=5-k):\n",
    "            print(\"*\",end=\"\")\n",
    "        else:\n",
    "            print(\" \",end=\"\")\n",
    "    print()"
   ]
  },
  {
   "cell_type": "code",
   "execution_count": 29,
   "metadata": {},
   "outputs": [
    {
     "name": "stdout",
     "output_type": "stream",
     "text": [
      "****\n",
      " ***\n",
      "  **\n",
      "   *\n",
      "  **\n",
      " ***\n",
      "****\n"
     ]
    }
   ],
   "source": [
    "k=0\n",
    "for i in range(1,8):\n",
    "    k=k+1 if i<=4 else k-1\n",
    "    for j in range(1,5):\n",
    "        if(j>=k):\n",
    "            print(\"*\",end=\"\")\n",
    "        else:\n",
    "            print(\" \",end=\"\")\n",
    "    print()"
   ]
  },
  {
   "cell_type": "code",
   "execution_count": 21,
   "metadata": {},
   "outputs": [
    {
     "name": "stdout",
     "output_type": "stream",
     "text": [
      "abcde\n",
      " bcd \n",
      "  c  \n",
      " bcd \n",
      "abcde\n"
     ]
    }
   ],
   "source": [
    "k=0\n",
    "for i in range(1,6):\n",
    "    k=k+1 if i<=3 else k-1\n",
    "    for j in range(1,6):\n",
    "        if(j>=k and j<=6-k):\n",
    "            print(chr(96+j),end=\"\")\n",
    "        else:\n",
    "            print(\" \",end=\"\")\n",
    "    print()"
   ]
  },
  {
   "cell_type": "code",
   "execution_count": 22,
   "metadata": {},
   "outputs": [
    {
     "name": "stdout",
     "output_type": "stream",
     "text": [
      "12345\n",
      " 234 \n",
      "  3  \n",
      " 234 \n",
      "12345\n"
     ]
    }
   ],
   "source": [
    "k=0\n",
    "for i in range(1,6):\n",
    "    k=k+1 if i<=3 else k-1\n",
    "    for j in range(1,6):\n",
    "        if(j>=k and j<=6-k):\n",
    "            print(j,end=\"\")\n",
    "        else:\n",
    "            print(\" \",end=\"\")\n",
    "    print()"
   ]
  },
  {
   "cell_type": "code",
   "execution_count": 30,
   "metadata": {},
   "outputs": [
    {
     "name": "stdout",
     "output_type": "stream",
     "text": [
      "*****\n",
      "** **\n",
      "*   *\n"
     ]
    }
   ],
   "source": [
    "for i in range(1,4):\n",
    "    for j in range(1,6):\n",
    "        if(j<=4-i or j>=2+i):\n",
    "            print(\"*\",end=\"\")\n",
    "        else:\n",
    "            print(\" \",end=\"\")\n",
    "    print()"
   ]
  },
  {
   "cell_type": "code",
   "execution_count": 1,
   "metadata": {},
   "outputs": [
    {
     "name": "stdout",
     "output_type": "stream",
     "text": [
      "*   *\n",
      "** **\n",
      "*****\n"
     ]
    }
   ],
   "source": [
    "for i in range(1,4):\n",
    "    for j in range(1,6):\n",
    "        if(j<=i or j>=6-i):\n",
    "            print(\"*\",end=\"\")\n",
    "        else:\n",
    "            print(\" \",end=\"\")\n",
    "    print()"
   ]
  },
  {
   "cell_type": "code",
   "execution_count": 2,
   "metadata": {},
   "outputs": [
    {
     "name": "stdout",
     "output_type": "stream",
     "text": [
      "*     *\n",
      " *   * \n",
      "  * *  \n",
      "   *   \n"
     ]
    }
   ],
   "source": [
    "for i in range(1,5):\n",
    "    for j in range(1,8):\n",
    "        if(j==i or j==8-i):\n",
    "            print(\"*\",end=\"\")\n",
    "        else:\n",
    "            print(\" \",end=\"\")\n",
    "    print()"
   ]
  },
  {
   "cell_type": "code",
   "execution_count": 3,
   "metadata": {},
   "outputs": [
    {
     "name": "stdout",
     "output_type": "stream",
     "text": [
      "   *   \n",
      "  * *  \n",
      " *   * \n",
      "*     *\n"
     ]
    }
   ],
   "source": [
    "for i in range(1,5):\n",
    "    for j in range(1,8):\n",
    "        if(j==5-i or j==3+i):\n",
    "            print(\"*\",end=\"\")\n",
    "        else:\n",
    "            print(\" \",end=\"\")\n",
    "    print()"
   ]
  },
  {
   "cell_type": "code",
   "execution_count": 6,
   "metadata": {},
   "outputs": [
    {
     "name": "stdout",
     "output_type": "stream",
     "text": [
      "  *  \n",
      " * * \n",
      "*   *\n",
      " * * \n",
      "  *  \n"
     ]
    }
   ],
   "source": [
    "k=0\n",
    "for i in range(1,6):\n",
    "    k=k+1 if i<=3 else k-1\n",
    "    for j in range(1,6):\n",
    "        if(j==4-k or j==2+k):\n",
    "            print(\"*\",end=\"\")\n",
    "        else:\n",
    "            print(\" \",end=\"\")\n",
    "    print()"
   ]
  },
  {
   "cell_type": "code",
   "execution_count": 30,
   "metadata": {},
   "outputs": [
    {
     "name": "stdout",
     "output_type": "stream",
     "text": [
      "    *    \n",
      "   ***   \n",
      "  *****  \n"
     ]
    }
   ],
   "source": [
    "for i in range(1,4):\n",
    "    for j in range(1,10):\n",
    "        if(j>=6-i and j<=4+i):\n",
    "            print(\"*\",end=\"\")\n",
    "        else:\n",
    "            print(\" \",end=\"\")\n",
    "    print()   "
   ]
  },
  {
   "cell_type": "code",
   "execution_count": 31,
   "metadata": {},
   "outputs": [
    {
     "name": "stdout",
     "output_type": "stream",
     "text": [
      "  *   *  \n",
      " *** *** \n",
      "*********\n"
     ]
    }
   ],
   "source": [
    "for i in range(1,4):\n",
    "    for j in range(1,10):\n",
    "        if((j>=4-i and j<=2+i) or (j>=8-i and j<=6+i)):\n",
    "            print(\"*\",end=\"\")\n",
    "        else:\n",
    "            print(\" \",end=\"\")\n",
    "    print()   "
   ]
  },
  {
   "cell_type": "code",
   "execution_count": 29,
   "metadata": {},
   "outputs": [
    {
     "name": "stdout",
     "output_type": "stream",
     "text": [
      "    *    \n",
      "   ***   \n",
      "  *****  \n",
      "  *   *  \n",
      " *** *** \n",
      "*********\n"
     ]
    }
   ],
   "source": [
    "# _________TOP_____________________\n",
    "for i in range(1,4):\n",
    "    for j in range(1,10):\n",
    "        if(j>=6-i and j<=4+i):\n",
    "            print(\"*\",end=\"\")\n",
    "        else:\n",
    "            print(\" \",end=\"\")\n",
    "    print()   \n",
    "#___________BOTTOM______________________\n",
    "for i in range(1,4):\n",
    "    for j in range(1,10):\n",
    "        if((j>=4-i and j<=2+i) or (j>=8-i and j<=6+i)):\n",
    "            print(\"*\",end=\"\")\n",
    "        else:\n",
    "            print(\" \",end=\"\")\n",
    "    print()   "
   ]
  },
  {
   "cell_type": "code",
   "execution_count": 41,
   "metadata": {},
   "outputs": [
    {
     "name": "stdout",
     "output_type": "stream",
     "text": [
      "$****\n",
      "$$***\n",
      "$$$**\n",
      "$$$$*\n",
      "$$$$$\n"
     ]
    }
   ],
   "source": [
    "for i in range(1,6):\n",
    "    for j in range(1,6):\n",
    "        if(j<=i):\n",
    "            print(\"$\",end=\"\")\n",
    "        else:\n",
    "            print(\"*\",end=\"\")\n",
    "    print()   "
   ]
  },
  {
   "cell_type": "code",
   "execution_count": 42,
   "metadata": {},
   "outputs": [
    {
     "name": "stdout",
     "output_type": "stream",
     "text": [
      "$****\n",
      "*$***\n",
      "**$**\n",
      "***$*\n",
      "****$\n"
     ]
    }
   ],
   "source": [
    "for i in range(1,6):\n",
    "    for j in range(1,6):\n",
    "        if(i==j):\n",
    "            print(\"$\",end=\"\")\n",
    "        else:\n",
    "            print(\"*\",end=\"\")\n",
    "    print()   "
   ]
  },
  {
   "cell_type": "code",
   "execution_count": 45,
   "metadata": {},
   "outputs": [
    {
     "name": "stdout",
     "output_type": "stream",
     "text": [
      "*****\n",
      "*****\n",
      "**$**\n",
      "*****\n",
      "*****\n"
     ]
    }
   ],
   "source": [
    "\n",
    "for i in range(1,6):\n",
    "    for j in range(1,6):\n",
    "        if(i==(5//2)+1 and j==(5//2)+1):\n",
    "            print(\"$\",end=\"\")\n",
    "        else:\n",
    "            print(\"*\",end=\"\")\n",
    "    print()   "
   ]
  },
  {
   "cell_type": "code",
   "execution_count": 49,
   "metadata": {},
   "outputs": [
    {
     "name": "stdout",
     "output_type": "stream",
     "text": [
      "**$**\n",
      "**$**\n",
      "$$$$$\n",
      "**$**\n",
      "**$**\n"
     ]
    }
   ],
   "source": [
    "\n",
    "for i in range(1,6):\n",
    "    for j in range(1,6):\n",
    "        if(i==3 or j==3):\n",
    "            print(\"$\",end=\"\")\n",
    "        else:\n",
    "            print(\"*\",end=\"\")\n",
    "    print()   "
   ]
  },
  {
   "cell_type": "code",
   "execution_count": 58,
   "metadata": {},
   "outputs": [
    {
     "name": "stdout",
     "output_type": "stream",
     "text": [
      "**\n",
      "**\n",
      "****\n",
      "****\n",
      "******\n",
      "******\n"
     ]
    }
   ],
   "source": [
    "# k=1\n",
    "for i in range(1,7):\n",
    "    k=i+1 if i%2!=0 else i\n",
    "    for j in range(0,k):\n",
    "            print(\"*\",end=\"\")\n",
    "    print()   "
   ]
  },
  {
   "cell_type": "code",
   "execution_count": 4,
   "metadata": {},
   "outputs": [
    {
     "name": "stdout",
     "output_type": "stream",
     "text": [
      "19\n"
     ]
    }
   ],
   "source": [
    "n=12934\n",
    "sum=0\n",
    "max=0\n",
    "while n>0:\n",
    "    d=n%10\n",
    "    if d>max:\n",
    "        max=d\n",
    "    sum+=d\n",
    "    n=n//10\n",
    "print(sum)"
   ]
  },
  {
   "cell_type": "code",
   "execution_count": null,
   "metadata": {},
   "outputs": [],
   "source": []
  },
  {
   "cell_type": "code",
   "execution_count": null,
   "metadata": {},
   "outputs": [],
   "source": []
  }
 ],
 "metadata": {
  "kernelspec": {
   "display_name": "Python 3",
   "language": "python",
   "name": "python3"
  },
  "language_info": {
   "codemirror_mode": {
    "name": "ipython",
    "version": 3
   },
   "file_extension": ".py",
   "mimetype": "text/x-python",
   "name": "python",
   "nbconvert_exporter": "python",
   "pygments_lexer": "ipython3",
   "version": "3.6.5"
  }
 },
 "nbformat": 4,
 "nbformat_minor": 2
}
