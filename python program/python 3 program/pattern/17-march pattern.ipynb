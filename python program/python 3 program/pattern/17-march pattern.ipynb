{
 "cells": [
  {
   "cell_type": "code",
   "execution_count": 1,
   "metadata": {},
   "outputs": [
    {
     "name": "stdout",
     "output_type": "stream",
     "text": [
      "****\n",
      " ***\n",
      "  **\n",
      "   *\n"
     ]
    }
   ],
   "source": [
    "for i in range(1,5):\n",
    "    for j in range(1,5):\n",
    "        if (j>=i):\n",
    "            print(\"*\",end=\"\")\n",
    "        else:\n",
    "            print(\" \",end=\"\")\n",
    "    print()"
   ]
  },
  {
   "cell_type": "code",
   "execution_count": null,
   "metadata": {},
   "outputs": [],
   "source": [
    "i   j\n",
    "1   j>=1\n",
    "2   j>=2"
   ]
  },
  {
   "cell_type": "code",
   "execution_count": null,
   "metadata": {},
   "outputs": [],
   "source": []
  },
  {
   "cell_type": "code",
   "execution_count": 2,
   "metadata": {},
   "outputs": [
    {
     "name": "stdout",
     "output_type": "stream",
     "text": [
      "   *   \n",
      "  ***  \n",
      " ***** \n",
      "*******\n"
     ]
    }
   ],
   "source": [
    "for i in range(1,5):\n",
    "    for j in range(1,8):\n",
    "        if (j>=5-i and j<=3+i):\n",
    "            print(\"*\",end=\"\")\n",
    "        else:\n",
    "            print(\" \",end=\"\")\n",
    "    print()"
   ]
  },
  {
   "cell_type": "code",
   "execution_count": null,
   "metadata": {},
   "outputs": [],
   "source": [
    "i  j\n",
    "1  j>=4 and j<=4\n",
    "2  j>=3 and j<=5"
   ]
  },
  {
   "cell_type": "code",
   "execution_count": 6,
   "metadata": {},
   "outputs": [
    {
     "name": "stdout",
     "output_type": "stream",
     "text": [
      "*******\n",
      " ***** \n",
      "  ***  \n",
      "   *   \n"
     ]
    }
   ],
   "source": [
    "\n",
    "for i in range(1,5):\n",
    "    for j in range(1,8):\n",
    "        if (j>=i and j<=8-i):\n",
    "            print(\"*\",end=\"\")\n",
    "        else:\n",
    "            print(\" \",end=\"\")\n",
    "    print()"
   ]
  },
  {
   "cell_type": "code",
   "execution_count": null,
   "metadata": {},
   "outputs": [],
   "source": [
    "i j\n",
    "1 j>=1 and j<=7\n",
    "2 j>=2  and j<=6"
   ]
  },
  {
   "cell_type": "code",
   "execution_count": null,
   "metadata": {},
   "outputs": [],
   "source": []
  },
  {
   "cell_type": "code",
   "execution_count": 8,
   "metadata": {},
   "outputs": [
    {
     "name": "stdout",
     "output_type": "stream",
     "text": [
      "*******\n",
      "*** ***\n",
      "**   **\n",
      "*     *\n"
     ]
    }
   ],
   "source": [
    "for i in range(1,5):\n",
    "    for j in range(1,8):\n",
    "        if (j<=5-i or j>=3+i):\n",
    "            print(\"*\",end=\"\")\n",
    "        else:\n",
    "            print(\" \",end=\"\")\n",
    "    print()"
   ]
  },
  {
   "cell_type": "code",
   "execution_count": 14,
   "metadata": {},
   "outputs": [
    {
     "name": "stdout",
     "output_type": "stream",
     "text": [
      "****\n",
      "****\n",
      "****\n",
      "****\n",
      "****\n",
      "****\n",
      "****\n"
     ]
    }
   ],
   "source": [
    "for i in range(1,8):\n",
    "    for j in range(1,5):\n",
    "        if (j>=1 and j<=5-i or j<=11-i):\n",
    "            print(\"*\",end=\"\")\n",
    "        else:\n",
    "            print(\" \",end=\"\")\n",
    "    print()"
   ]
  },
  {
   "cell_type": "code",
   "execution_count": 15,
   "metadata": {},
   "outputs": [
    {
     "name": "stdout",
     "output_type": "stream",
     "text": [
      "*   \n",
      "**  \n",
      "*** \n",
      "****\n",
      "*** \n",
      "**  \n",
      "*   \n"
     ]
    }
   ],
   "source": [
    "k=0\n",
    "for i in range(1,8):\n",
    "    k=k+1 if (i<=4) else k-1\n",
    "    for j in range(1,5):\n",
    "        if (j<=k):\n",
    "            print(\"*\",end=\"\")\n",
    "        else:\n",
    "            print(\" \",end=\"\")\n",
    "    print()"
   ]
  },
  {
   "cell_type": "code",
   "execution_count": 13,
   "metadata": {},
   "outputs": [
    {
     "name": "stdout",
     "output_type": "stream",
     "text": [
      "   *   \n",
      "  ***  \n",
      " ***** \n",
      "*******\n",
      " ***** \n",
      "  ***  \n",
      "   *   \n"
     ]
    }
   ],
   "source": [
    "k=0\n",
    "for i in range(1,8):\n",
    "    k=k+1 if (i<=4) else k-1\n",
    "    for j in range(1,8):\n",
    "        if (j>=5-k and j<=3+k):\n",
    "            print(\"*\",end=\"\")\n",
    "        else:\n",
    "            print(\" \",end=\"\")\n",
    "    print()"
   ]
  },
  {
   "cell_type": "code",
   "execution_count": null,
   "metadata": {},
   "outputs": [],
   "source": [
    "i  j       k\n",
    "1  j>=4 and j<=4\n",
    "2  j>=3 and j<=5\n",
    "3  j>=2 and j<=6\n",
    "4 j>=1 and j<=7\n",
    "5 j>=2  and j<=6\n",
    "6 j>=3 and j<=5\n",
    "7 j>=2 and j<=4"
   ]
  },
  {
   "cell_type": "code",
   "execution_count": null,
   "metadata": {},
   "outputs": [],
   "source": []
  },
  {
   "cell_type": "code",
   "execution_count": 16,
   "metadata": {},
   "outputs": [
    {
     "name": "stdout",
     "output_type": "stream",
     "text": [
      "  *  \n",
      " *** \n",
      "*****\n",
      " *** \n",
      "  *  \n"
     ]
    }
   ],
   "source": [
    "k=0\n",
    "for i in range(1,6):\n",
    "    k=k+1 if (i<=3) else k-1\n",
    "    for j in range(1,6):\n",
    "        if (j>=4-k and j<=2+k):\n",
    "            print(\"*\",end=\"\")\n",
    "        else:\n",
    "            print(\" \",end=\"\")\n",
    "    print()"
   ]
  },
  {
   "cell_type": "code",
   "execution_count": 7,
   "metadata": {},
   "outputs": [
    {
     "name": "stdout",
     "output_type": "stream",
     "text": [
      "enter the no19\n",
      "         *         \n",
      "        ***        \n",
      "       *****       \n",
      "      *******      \n",
      "     *********     \n",
      "    ***********    \n",
      "   *************   \n",
      "  ***************  \n",
      " ***************** \n",
      "*******************\n",
      " ***************** \n",
      "  ***************  \n",
      "   *************   \n",
      "    ***********    \n",
      "     *********     \n",
      "      *******      \n",
      "       *****       \n",
      "        ***        \n",
      "         *         \n"
     ]
    }
   ],
   "source": [
    "row=int(input(\"enter the no\"))\n",
    "n=(row+1)//2\n",
    "k=0\n",
    "for i in range(1,row+1):\n",
    "    k=k+1 if (i<=n) else k-1\n",
    "    for j in range(1,row+1):\n",
    "        if (j>=n+1-k and j<=n-1+k):\n",
    "            print(\"*\",end=\"\")\n",
    "        else:\n",
    "            print(\" \",end=\"\")\n",
    "    print()"
   ]
  },
  {
   "cell_type": "code",
   "execution_count": 19,
   "metadata": {},
   "outputs": [
    {
     "name": "stdout",
     "output_type": "stream",
     "text": [
      "****\n",
      "*** \n",
      "**  \n",
      "*   \n",
      "**  \n",
      "*** \n",
      "****\n"
     ]
    }
   ],
   "source": [
    "k=0\n",
    "for i in range(1,8):\n",
    "    k=k+1 if (i<=4) else k-1\n",
    "    for j in range(1,5):\n",
    "        if (j<=5-k):\n",
    "            print(\"*\",end=\"\")\n",
    "        else:\n",
    "            print(\" \",end=\"\")\n",
    "    print()"
   ]
  },
  {
   "cell_type": "code",
   "execution_count": 20,
   "metadata": {},
   "outputs": [
    {
     "name": "stdout",
     "output_type": "stream",
     "text": [
      "*****\n",
      " *** \n",
      "  *  \n",
      " *** \n",
      "*****\n"
     ]
    }
   ],
   "source": [
    "k=0\n",
    "for i in range(1,6):\n",
    "    k=k+1 if (i<=3) else k-1\n",
    "    for j in range(1,6):\n",
    "        if (j>=k and j<=6-k):\n",
    "            print(\"*\",end=\"\")\n",
    "        else:\n",
    "            print(\" \",end=\"\")\n",
    "    print()"
   ]
  },
  {
   "cell_type": "code",
   "execution_count": 10,
   "metadata": {},
   "outputs": [
    {
     "name": "stdout",
     "output_type": "stream",
     "text": [
      "enter the no = 9\n",
      "*********\n",
      " ******* \n",
      "  *****  \n",
      "   ***   \n",
      "    *    \n",
      "   ***   \n",
      "  *****  \n",
      " ******* \n",
      "*********\n"
     ]
    }
   ],
   "source": [
    "n=int(input(\"enter the no = \"))\n",
    "k=0\n",
    "for i in range(1,n+1):\n",
    "    k=k+1 if (i<=(n+1)/2) else k-1\n",
    "    for j in range(1,n+1):\n",
    "        if (j>=k and j<=(n+1)-k):\n",
    "            print(\"*\",end=\"\")\n",
    "        else:\n",
    "            print(\" \",end=\"\")\n",
    "    print()"
   ]
  },
  {
   "cell_type": "code",
   "execution_count": 26,
   "metadata": {},
   "outputs": [
    {
     "name": "stdout",
     "output_type": "stream",
     "text": [
      "   *\n",
      "  **\n",
      " ***\n",
      "****\n",
      " ***\n",
      "  **\n",
      "   *\n"
     ]
    }
   ],
   "source": [
    "k=0\n",
    "for i in range(1,8):\n",
    "    k=k+1 if (i<=4) else k-1\n",
    "    for j in range(1,5):\n",
    "        if (j>=5-k):\n",
    "            print(\"*\",end=\"\")\n",
    "        else:\n",
    "            print(\" \",end=\"\")\n",
    "    print()"
   ]
  },
  {
   "cell_type": "code",
   "execution_count": 29,
   "metadata": {},
   "outputs": [
    {
     "name": "stdout",
     "output_type": "stream",
     "text": [
      "*        *\n",
      "**      **\n",
      "***    ***\n",
      "****  ****\n",
      "**********\n"
     ]
    }
   ],
   "source": [
    "for i in range(1,6):\n",
    "    for j in range(1,11):\n",
    "        if (j<=i or j>=11-i):\n",
    "            print(\"*\",end=\"\")\n",
    "        else:\n",
    "            print(\" \",end=\"\")\n",
    "    print()"
   ]
  },
  {
   "cell_type": "code",
   "execution_count": 31,
   "metadata": {},
   "outputs": [
    {
     "name": "stdout",
     "output_type": "stream",
     "text": [
      "*     *\n",
      "**   **\n",
      "*** ***\n",
      "*******\n",
      "*** ***\n",
      "**   **\n",
      "*     *\n"
     ]
    }
   ],
   "source": [
    "k=0\n",
    "for i in range(1,8):\n",
    "    k=k+1 if (i<=4) else k-1\n",
    "    for j in range(1,8):\n",
    "        if (j<=k or j>=8-k):\n",
    "            print(\"*\",end=\"\")\n",
    "        else:\n",
    "            print(\" \",end=\"\")\n",
    "    print()"
   ]
  },
  {
   "cell_type": "code",
   "execution_count": 11,
   "metadata": {},
   "outputs": [
    {
     "name": "stdout",
     "output_type": "stream",
     "text": [
      "enter odd no = 21\n",
      "*                  *\n",
      "**                **\n",
      "***              ***\n",
      "****            ****\n",
      "*****          *****\n",
      "******        ******\n",
      "*******      *******\n",
      "********    ********\n",
      "*********  *********\n",
      "********************\n",
      "*********  *********\n",
      "********    ********\n",
      "*******      *******\n",
      "******        ******\n",
      "*****          *****\n",
      "****            ****\n",
      "***              ***\n",
      "**                **\n",
      "*                  *\n",
      "                    \n"
     ]
    }
   ],
   "source": [
    "n=int(input(\"enter odd no = \"))\n",
    "k=0\n",
    "for i in range(1,n):\n",
    "    k=k+1 if i<=n/2 else k-1\n",
    "    for j in range(1,n):\n",
    "        if (j<=k or j>=(n-k)):\n",
    "            print(\"*\",end=\"\")\n",
    "        else:\n",
    "            print(\" \",end=\"\")\n",
    "    print()"
   ]
  },
  {
   "cell_type": "code",
   "execution_count": 21,
   "metadata": {},
   "outputs": [
    {
     "name": "stdout",
     "output_type": "stream",
     "text": [
      "10\n",
      "9\n",
      "8\n",
      "7\n",
      "6\n",
      "5\n",
      "4\n",
      "3\n",
      "2\n",
      "1\n",
      "0\n",
      "-1\n",
      "-2\n"
     ]
    }
   ],
   "source": [
    "for i in range(10,-3,-1):\n",
    "    print(i)"
   ]
  },
  {
   "cell_type": "code",
   "execution_count": null,
   "metadata": {},
   "outputs": [],
   "source": []
  }
 ],
 "metadata": {
  "kernelspec": {
   "display_name": "Python 3",
   "language": "python",
   "name": "python3"
  },
  "language_info": {
   "codemirror_mode": {
    "name": "ipython",
    "version": 3
   },
   "file_extension": ".py",
   "mimetype": "text/x-python",
   "name": "python",
   "nbconvert_exporter": "python",
   "pygments_lexer": "ipython3",
   "version": "3.6.5"
  }
 },
 "nbformat": 4,
 "nbformat_minor": 2
}
