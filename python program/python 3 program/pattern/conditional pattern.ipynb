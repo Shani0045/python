{
 "cells": [
  {
   "cell_type": "code",
   "execution_count": 1,
   "metadata": {},
   "outputs": [
    {
     "name": "stdout",
     "output_type": "stream",
     "text": [
      "*\n",
      "**\n",
      "***\n",
      "****\n",
      "*****\n",
      "******\n",
      "*******\n",
      "********\n",
      "*********\n"
     ]
    }
   ],
   "source": [
    "for i in range(1,10):\n",
    "    for j in range(i):\n",
    "        print(\"*\",end=\"\")\n",
    "    print()"
   ]
  },
  {
   "cell_type": "markdown",
   "metadata": {},
   "source": [
    "*\n",
    "++\n",
    "***\n",
    "++++\n",
    "*****\n",
    "++++++\n",
    "*******\n",
    "++++++++"
   ]
  },
  {
   "cell_type": "code",
   "execution_count": 2,
   "metadata": {},
   "outputs": [
    {
     "name": "stdout",
     "output_type": "stream",
     "text": [
      "*\n",
      "++\n",
      "***\n",
      "++++\n",
      "*****\n",
      "++++++\n",
      "*******\n",
      "++++++++\n",
      "*********\n"
     ]
    }
   ],
   "source": [
    "for i in range(1,10):\n",
    "    k=\"+\" if i%2==0 else \"*\"\n",
    "    for j in range(i):\n",
    "        print(k,end=\"\")\n",
    "    print()"
   ]
  },
  {
   "cell_type": "code",
   "execution_count": 1,
   "metadata": {},
   "outputs": [
    {
     "name": "stdout",
     "output_type": "stream",
     "text": [
      "*\n",
      "++\n",
      "***\n",
      "++++\n",
      "*****\n",
      "++++++\n",
      "*******\n",
      "++++++++\n",
      "*********\n"
     ]
    }
   ],
   "source": [
    "for i in range(1,10):\n",
    "    k=\"+\" if i%2==0 else \"*\"\n",
    "    for j in range(1,10):\n",
    "        if (j<=i):\n",
    "            print(k,end=\"\")\n",
    "        else:\n",
    "            print(\"\",end=\"\")\n",
    "    print()"
   ]
  },
  {
   "cell_type": "code",
   "execution_count": 12,
   "metadata": {},
   "outputs": [
    {
     "name": "stdout",
     "output_type": "stream",
     "text": [
      "*********\n",
      " ++++++++\n",
      "  *******\n",
      "   ++++++\n",
      "    *****\n",
      "     ++++\n",
      "      ***\n",
      "       ++\n",
      "        *\n"
     ]
    }
   ],
   "source": [
    "for i in range(1,10):\n",
    "    k=\"+\" if i%2==0 else \"*\"\n",
    "    for j in range(1,10):\n",
    "        if (i<=j):\n",
    "            print(k,end=\"\")\n",
    "        else:\n",
    "            print(\" \",end=\"\")\n",
    "    print()"
   ]
  },
  {
   "cell_type": "code",
   "execution_count": 19,
   "metadata": {},
   "outputs": [
    {
     "name": "stdout",
     "output_type": "stream",
     "text": [
      "*        \n",
      "11       \n",
      "***      \n",
      "3333     \n",
      "*****    \n",
      "555555   \n",
      "*******  \n",
      "77777777 \n",
      "*********\n"
     ]
    }
   ],
   "source": [
    "k=0\n",
    "for i in range(1,10):\n",
    "    k=i-1 if i%2==0 else \"*\"\n",
    "    for j in range(1,10):\n",
    "        if (i>=j):\n",
    "            print(k,end=\"\")\n",
    "        else:\n",
    "            print(\" \",end=\"\")\n",
    "    print()"
   ]
  },
  {
   "cell_type": "code",
   "execution_count": 25,
   "metadata": {},
   "outputs": [
    {
     "name": "stdout",
     "output_type": "stream",
     "text": [
      "*        \n",
      "11       \n",
      "***      \n",
      "3333     \n",
      "*****    \n",
      "555555   \n",
      "*******  \n",
      "77777777 \n",
      "*********\n"
     ]
    }
   ],
   "source": [
    "for i in range(1,10):\n",
    "    for j in range(1,10):\n",
    "        k=i-1 if i%2==0 else \"*\"\n",
    "        if (i>=j):\n",
    "            print(k,end=\"\")\n",
    "        else:\n",
    "            print(\" \",end=\"\")\n",
    "    print()"
   ]
  },
  {
   "cell_type": "code",
   "execution_count": 48,
   "metadata": {},
   "outputs": [
    {
     "name": "stdout",
     "output_type": "stream",
     "text": [
      "9      \n",
      "888    \n",
      "77777  \n",
      "6666666\n"
     ]
    }
   ],
   "source": [
    "k=10\n",
    "for i in range(1,5):\n",
    "#     k=10-k if i%1==0 else k+2\n",
    "    for j in range(1,8):\n",
    "        if (j<=2*i-1):\n",
    "            print(10-i,end=\"\")\n",
    "        else:\n",
    "            print(\" \",end=\"\")\n",
    "    print()"
   ]
  },
  {
   "cell_type": "code",
   "execution_count": 51,
   "metadata": {},
   "outputs": [
    {
     "name": "stdout",
     "output_type": "stream",
     "text": [
      "   *   \n",
      "  * *  \n",
      " *   * \n",
      "*     *\n"
     ]
    }
   ],
   "source": [
    "\n",
    "for i in range(1,5):\n",
    "    for j in range(1,8):\n",
    "        if (j==5-i or j==3+i):\n",
    "            print(\"*\",end=\"\")\n",
    "        else:\n",
    "            print(\" \",end=\"\")\n",
    "    print()"
   ]
  },
  {
   "cell_type": "code",
   "execution_count": 52,
   "metadata": {},
   "outputs": [
    {
     "name": "stdout",
     "output_type": "stream",
     "text": [
      "   *     *   \n",
      "  ***   ***  \n",
      " ***** ***** \n",
      "*************\n"
     ]
    }
   ],
   "source": [
    "\n",
    "for i in range(1,5):\n",
    "    for j in range(1,14):\n",
    "        if ((j>=5-i and j<=3+i) or (j>=11-i and j<=9+i)):\n",
    "            print(\"*\",end=\"\")\n",
    "        else:\n",
    "            print(\" \",end=\"\")\n",
    "    print()"
   ]
  },
  {
   "cell_type": "code",
   "execution_count": 65,
   "metadata": {},
   "outputs": [
    {
     "name": "stdout",
     "output_type": "stream",
     "text": [
      "*  *\n",
      "*   \n",
      "*** \n",
      "*   \n",
      "*   \n"
     ]
    }
   ],
   "source": [
    "k=0\n",
    "for i in range(1,6):\n",
    "#     k=k+ if(i<=4) else k=1\n",
    "    for j in range(1,5):\n",
    "        if ((j==1 or j==4 or i==3) and (i==1 and j>=2 or j<=3)):\n",
    "            print(\"*\",end=\"\")\n",
    "        else:\n",
    "            print(\" \",end=\"\")\n",
    "    print()"
   ]
  },
  {
   "cell_type": "code",
   "execution_count": null,
   "metadata": {},
   "outputs": [],
   "source": []
  }
 ],
 "metadata": {
  "kernelspec": {
   "display_name": "Python 3",
   "language": "python",
   "name": "python3"
  },
  "language_info": {
   "codemirror_mode": {
    "name": "ipython",
    "version": 3
   },
   "file_extension": ".py",
   "mimetype": "text/x-python",
   "name": "python",
   "nbconvert_exporter": "python",
   "pygments_lexer": "ipython3",
   "version": "3.6.5"
  }
 },
 "nbformat": 4,
 "nbformat_minor": 2
}
