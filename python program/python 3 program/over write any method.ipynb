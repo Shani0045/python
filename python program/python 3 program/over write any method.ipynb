{
 "cells": [
  {
   "cell_type": "code",
   "execution_count": 27,
   "id": "89e56548",
   "metadata": {},
   "outputs": [],
   "source": [
    "class MyList(list):\n",
    "    def __init__(self,*args,**kwargs):\n",
    "        super(MyList,self).__init__(*args,**kwargs)\n",
    "    def append(self,*args,**kwargs):\n",
    "        print(\"this is my append methos\")"
   ]
  },
  {
   "cell_type": "code",
   "execution_count": 28,
   "id": "993d7a9b",
   "metadata": {},
   "outputs": [],
   "source": [
    "a=MyList([10,20,30])"
   ]
  },
  {
   "cell_type": "code",
   "execution_count": 29,
   "id": "6f3bce3c",
   "metadata": {},
   "outputs": [
    {
     "data": {
      "text/plain": [
       "[10, 20, 30]"
      ]
     },
     "execution_count": 29,
     "metadata": {},
     "output_type": "execute_result"
    }
   ],
   "source": [
    "a"
   ]
  },
  {
   "cell_type": "code",
   "execution_count": 12,
   "id": "9b6d1150",
   "metadata": {},
   "outputs": [],
   "source": [
    "a.extend([10,20,30])"
   ]
  },
  {
   "cell_type": "code",
   "execution_count": 13,
   "id": "36abcfc8",
   "metadata": {},
   "outputs": [
    {
     "name": "stdout",
     "output_type": "stream",
     "text": [
      "this is my append methos\n"
     ]
    }
   ],
   "source": [
    "a.append(30,40)"
   ]
  },
  {
   "cell_type": "code",
   "execution_count": null,
   "id": "0e3fd902",
   "metadata": {},
   "outputs": [],
   "source": []
  },
  {
   "cell_type": "code",
   "execution_count": null,
   "id": "085823e4",
   "metadata": {},
   "outputs": [],
   "source": []
  },
  {
   "cell_type": "code",
   "execution_count": null,
   "id": "8d3535da",
   "metadata": {},
   "outputs": [],
   "source": []
  }
 ],
 "metadata": {
  "kernelspec": {
   "display_name": "Python 3",
   "language": "python",
   "name": "python3"
  },
  "language_info": {
   "codemirror_mode": {
    "name": "ipython",
    "version": 3
   },
   "file_extension": ".py",
   "mimetype": "text/x-python",
   "name": "python",
   "nbconvert_exporter": "python",
   "pygments_lexer": "ipython3",
   "version": "3.6.5"
  }
 },
 "nbformat": 4,
 "nbformat_minor": 5
}
