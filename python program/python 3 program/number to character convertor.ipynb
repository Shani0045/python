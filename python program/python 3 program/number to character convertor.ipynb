{
 "cells": [
  {
   "cell_type": "code",
   "execution_count": 6,
   "metadata": {},
   "outputs": [
    {
     "name": "stdout",
     "output_type": "stream",
     "text": [
      "Phone: 341\n",
      "three four one \n"
     ]
    }
   ],
   "source": [
    "phone=input(\"Phone: \")\n",
    "digit_mapping={\n",
    "    \"0\":\"zero\",\n",
    "    \"1\":\"one\",\n",
    "    \"2\":\"two\",\n",
    "    \"3\":\"three\",\n",
    "    \"4\":\"four\",\n",
    "    \"5\":\"five\",\n",
    "    \"6\":\"seven\",\n",
    "    \"8\":\"eight\",\n",
    "    \"9\":\"nine\",\n",
    "}\n",
    "output=\"\"\n",
    "for ch in phone:\n",
    "    output+=digit_mapping.get(ch,\"!\")+\" \"\n",
    "print(output)"
   ]
  },
  {
   "cell_type": "code",
   "execution_count": null,
   "metadata": {},
   "outputs": [],
   "source": []
  },
  {
   "cell_type": "code",
   "execution_count": 11,
   "metadata": {},
   "outputs": [
    {
     "name": "stdout",
     "output_type": "stream",
     "text": [
      ">good morning :(\n",
      "good morning 😩 \n"
     ]
    }
   ],
   "source": [
    "message=input(\">\")\n",
    "words=message.split()\n",
    "emojis={\n",
    "    \":)\":\"\\U0001F600\",\n",
    "    \":(\":\"\\U0001F629\"\n",
    "}\n",
    "output=\"\"\n",
    "for word in words:\n",
    "    output+=emojis.get(word,word)+\" \"\n",
    "print(output)"
   ]
  },
  {
   "cell_type": "code",
   "execution_count": 1,
   "metadata": {},
   "outputs": [],
   "source": [
    "a=[10,20,30,40,50,60,70,80,90]"
   ]
  },
  {
   "cell_type": "code",
   "execution_count": 3,
   "metadata": {},
   "outputs": [
    {
     "name": "stdout",
     "output_type": "stream",
     "text": [
      "10\n",
      "9\n",
      "8\n",
      "7\n",
      "6\n",
      "5\n",
      "4\n",
      "3\n",
      "2\n",
      "1\n",
      "0\n"
     ]
    }
   ],
   "source": [
    "for i in range(10,-1,-1):\n",
    "    print(i)"
   ]
  },
  {
   "cell_type": "code",
   "execution_count": null,
   "metadata": {},
   "outputs": [],
   "source": []
  }
 ],
 "metadata": {
  "kernelspec": {
   "display_name": "Python 3",
   "language": "python",
   "name": "python3"
  },
  "language_info": {
   "codemirror_mode": {
    "name": "ipython",
    "version": 3
   },
   "file_extension": ".py",
   "mimetype": "text/x-python",
   "name": "python",
   "nbconvert_exporter": "python",
   "pygments_lexer": "ipython3",
   "version": "3.6.5"
  }
 },
 "nbformat": 4,
 "nbformat_minor": 2
}
