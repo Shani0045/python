{
 "cells": [
  {
   "cell_type": "code",
   "execution_count": 2,
   "metadata": {},
   "outputs": [
    {
     "name": "stdout",
     "output_type": "stream",
     "text": [
      "shani kumar bharati\n",
      "shani kumar bharat\n",
      "shani kumar bhara\n",
      "shani kumar bhar\n",
      "shani kumar bha\n",
      "shani kumar bh\n",
      "shani kumar b\n",
      "shani kumar \n",
      "shani kumar\n",
      "shani kuma\n",
      "shani kum\n",
      "shani ku\n",
      "shani k\n",
      "shani \n",
      "shani\n",
      "shan\n",
      "sha\n",
      "sh\n",
      "s\n"
     ]
    }
   ],
   "source": [
    "a=\"shani kumar bharati\"\n",
    "for i in range(len(a),0,-1):\n",
    "    print(a[0:i])"
   ]
  },
  {
   "cell_type": "code",
   "execution_count": 7,
   "metadata": {},
   "outputs": [
    {
     "name": "stdout",
     "output_type": "stream",
     "text": [
      "shani kumar bharati\n",
      "shani kumar bharat\n",
      "shani kumar bhara\n",
      "shani kumar bhar\n",
      "shani kumar bha\n",
      "shani kumar bh\n",
      "shani kumar b\n",
      "shani kumar \n",
      "shani kumar\n",
      "shani kuma\n",
      "shani kum\n",
      "shani ku\n",
      "shani k\n",
      "shani \n",
      "shani\n",
      "shan\n",
      "sha\n",
      "sh\n",
      "s\n"
     ]
    }
   ],
   "source": [
    "for i in range(len(a),0,-1):\n",
    "    for j in range(i):\n",
    "        print(a[j],end=\"\")\n",
    "    print()"
   ]
  },
  {
   "cell_type": "code",
   "execution_count": 8,
   "metadata": {},
   "outputs": [
    {
     "name": "stdout",
     "output_type": "stream",
     "text": [
      "**********\n",
      "*********\n",
      "********\n",
      "*******\n",
      "******\n",
      "*****\n",
      "****\n",
      "***\n",
      "**\n",
      "*\n"
     ]
    }
   ],
   "source": [
    "for i in range(10,0,-1):\n",
    "    for j in range(i):\n",
    "        print(\"*\",end=\"\")\n",
    "    print()"
   ]
  },
  {
   "cell_type": "code",
   "execution_count": 10,
   "metadata": {},
   "outputs": [
    {
     "name": "stdout",
     "output_type": "stream",
     "text": [
      "* \n",
      "* * \n",
      "* * * \n",
      "* * * * \n",
      "* * * * * \n",
      "* * * * * * \n",
      "* * * * * * * \n",
      "* * * * * * * * \n",
      "* * * * * * * * * \n"
     ]
    }
   ],
   "source": [
    "for i in range(1,10):\n",
    "    for j in range(i):\n",
    "        print(\"*\",end=\" \")\n",
    "    print()"
   ]
  },
  {
   "cell_type": "code",
   "execution_count": 11,
   "metadata": {},
   "outputs": [
    {
     "name": "stdout",
     "output_type": "stream",
     "text": [
      "* * * * * * * * * \n",
      "* * * * * * * * * \n",
      "* * * * * * * * * \n",
      "* * * * * * * * * \n",
      "* * * * * * * * * \n",
      "* * * * * * * * * \n",
      "* * * * * * * * * \n",
      "* * * * * * * * * \n",
      "* * * * * * * * * \n"
     ]
    }
   ],
   "source": [
    "for i in range(1,10):\n",
    "    for j in range(1,10):\n",
    "        print(\"*\",end=\" \")\n",
    "    print()"
   ]
  },
  {
   "cell_type": "code",
   "execution_count": 13,
   "metadata": {},
   "outputs": [
    {
     "name": "stdout",
     "output_type": "stream",
     "text": [
      "1 1 1 1 1 \n",
      "2 2 2 2 2 \n",
      "3 3 3 3 3 \n",
      "4 4 4 4 4 \n",
      "5 5 5 5 5 \n",
      "6 6 6 6 6 \n",
      "7 7 7 7 7 \n",
      "8 8 8 8 8 \n",
      "9 9 9 9 9 \n"
     ]
    }
   ],
   "source": [
    "for i in range(1,10):\n",
    "    for j in range(1,6):\n",
    "        print(i,end=\" \")\n",
    "    print()"
   ]
  },
  {
   "cell_type": "code",
   "execution_count": 14,
   "metadata": {},
   "outputs": [
    {
     "name": "stdout",
     "output_type": "stream",
     "text": [
      "1 2 3 4 5 \n",
      "1 2 3 4 5 \n",
      "1 2 3 4 5 \n",
      "1 2 3 4 5 \n",
      "1 2 3 4 5 \n",
      "1 2 3 4 5 \n",
      "1 2 3 4 5 \n",
      "1 2 3 4 5 \n",
      "1 2 3 4 5 \n"
     ]
    }
   ],
   "source": [
    "for i in range(1,10):\n",
    "    for j in range(1,6):\n",
    "        print(j,end=\" \")\n",
    "    print()"
   ]
  },
  {
   "cell_type": "code",
   "execution_count": 15,
   "metadata": {},
   "outputs": [
    {
     "name": "stdout",
     "output_type": "stream",
     "text": [
      "A A A A A \n",
      "B B B B B \n",
      "C C C C C \n",
      "D D D D D \n",
      "E E E E E \n"
     ]
    }
   ],
   "source": [
    "for i in range(65,70):\n",
    "    for j in range(1,6):\n",
    "        print(chr(i),end=\" \")\n",
    "    print()"
   ]
  },
  {
   "cell_type": "code",
   "execution_count": 17,
   "metadata": {},
   "outputs": [
    {
     "name": "stdout",
     "output_type": "stream",
     "text": [
      "A B C D E \n",
      "A B C D E \n",
      "A B C D E \n",
      "A B C D E \n",
      "A B C D E \n"
     ]
    }
   ],
   "source": [
    "for i in range(1,6):\n",
    "    for j in range(65,70):\n",
    "        print(chr(j),end=\" \")\n",
    "    print()"
   ]
  }
 ],
 "metadata": {
  "kernelspec": {
   "display_name": "Python 3",
   "language": "python",
   "name": "python3"
  },
  "language_info": {
   "codemirror_mode": {
    "name": "ipython",
    "version": 3
   },
   "file_extension": ".py",
   "mimetype": "text/x-python",
   "name": "python",
   "nbconvert_exporter": "python",
   "pygments_lexer": "ipython3",
   "version": "3.6.5"
  }
 },
 "nbformat": 4,
 "nbformat_minor": 2
}
