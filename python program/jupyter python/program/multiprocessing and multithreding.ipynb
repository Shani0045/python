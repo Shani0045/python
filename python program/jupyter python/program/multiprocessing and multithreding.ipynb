{
 "cells": [
  {
   "cell_type": "code",
   "execution_count": 1,
   "metadata": {},
   "outputs": [],
   "source": [
    "from multiprocessing import Process\n",
    "import time"
   ]
  },
  {
   "cell_type": "code",
   "execution_count": 3,
   "metadata": {},
   "outputs": [
    {
     "name": "stdout",
     "output_type": "stream",
     "text": [
      "shani 0\n",
      "shani 1\n",
      "shani 2\n",
      "shani 3\n",
      "shani 4\n",
      "amit 0\n",
      "amit 1\n",
      "amit 2\n",
      "amit 3\n",
      "amit 4\n"
     ]
    }
   ],
   "source": [
    "def shani():\n",
    "    for i in range(5):\n",
    "        time.sleep(0.3)\n",
    "        print(\"shani\",i)\n",
    "def amit():\n",
    "    for i in range(5):\n",
    "        time.sleep(0.3)\n",
    "        print(\"amit\",i)\n",
    "shani()\n",
    "amit()\n",
    "p1=Process(target=shani)\n",
    "p2=Process(target=amit)\n",
    "p1.start()\n",
    "p2.start()\n",
    "p1.join()\n",
    "p2.join()"
   ]
  },
  {
   "cell_type": "code",
   "execution_count": 1,
   "metadata": {},
   "outputs": [],
   "source": [
    "from threading import Thread\n",
    "import time"
   ]
  },
  {
   "cell_type": "code",
   "execution_count": 2,
   "metadata": {},
   "outputs": [
    {
     "name": "stdout",
     "output_type": "stream",
     "text": [
      "shaniamit\n",
      "\n",
      "amit\n",
      "shani\n",
      "shani\n",
      "amit\n",
      "shani\n",
      "amit\n",
      "shani\n",
      "amit\n"
     ]
    }
   ],
   "source": [
    "def shani():\n",
    "    for i in range(5):\n",
    "        time.sleep(1)\n",
    "        print(\"shani\")\n",
    "def amit():\n",
    "    for i in range(5):\n",
    "        time.sleep(1)\n",
    "        print(\"amit\")\n",
    "t1=Thread(target=shani)\n",
    "t2=Thread(target=amit)\n",
    "t1.start()\n",
    "t2.start()\n",
    "# t1.join()\n",
    "# t2.join()"
   ]
  },
  {
   "cell_type": "code",
   "execution_count": 8,
   "metadata": {},
   "outputs": [
    {
     "name": "stdout",
     "output_type": "stream",
     "text": [
      "pradeepshani\n",
      "\n",
      "amit\n",
      "shanipradeep\n",
      "\n",
      "amit\n",
      "shani\n",
      "pradeep\n",
      "amit\n",
      "pradeep\n",
      "shani\n",
      "amit\n",
      "shani\n",
      "pradeep\n",
      "amit\n"
     ]
    }
   ],
   "source": [
    "def shani():\n",
    "    for i in range(5):\n",
    "        time.sleep(1)\n",
    "        print(\"shani\")   \n",
    "def amit():\n",
    "    for i in range(5):\n",
    "        time.sleep(1)\n",
    "        print(\"amit\")\n",
    "def pradeep():\n",
    "    for i in range(5):\n",
    "        time.sleep(1)\n",
    "        print(\"pradeep\") \n",
    "t1=Thread(target=shani)\n",
    "t2=Thread(target=amit)\n",
    "t3=Thread(target=pradeep)\n",
    "t1.start()\n",
    "t2.start()\n",
    "t3.start()\n",
    "t1.join()\n",
    "t2.join()"
   ]
  },
  {
   "cell_type": "code",
   "execution_count": 1,
   "metadata": {},
   "outputs": [],
   "source": [
    "from threading import Thread\n",
    "import time"
   ]
  },
  {
   "cell_type": "code",
   "execution_count": 3,
   "metadata": {},
   "outputs": [
    {
     "name": "stdout",
     "output_type": "stream",
     "text": [
      "4 is less than 5\n",
      "0\n",
      "1\n",
      "2\n",
      "3\n",
      "4\n",
      "5\n",
      "6\n",
      "7\n",
      "8\n",
      "9\n"
     ]
    }
   ],
   "source": [
    "def b():\n",
    "    for i in range(10):\n",
    "        time.sleep(2)\n",
    "        print(i)\n",
    "def a():\n",
    "    \n",
    "\n",
    "t2=Thread(target=b)        \n",
    "t1=Thread(target=a)\n",
    "t2.start()\n",
    "t1.start()\n"
   ]
  },
  {
   "cell_type": "code",
   "execution_count": null,
   "metadata": {},
   "outputs": [],
   "source": []
  }
 ],
 "metadata": {
  "kernelspec": {
   "display_name": "Python 3",
   "language": "python",
   "name": "python3"
  },
  "language_info": {
   "codemirror_mode": {
    "name": "ipython",
    "version": 3
   },
   "file_extension": ".py",
   "mimetype": "text/x-python",
   "name": "python",
   "nbconvert_exporter": "python",
   "pygments_lexer": "ipython3",
   "version": "3.6.5"
  }
 },
 "nbformat": 4,
 "nbformat_minor": 2
}
