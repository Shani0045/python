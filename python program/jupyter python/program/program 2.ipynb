{
 "cells": [
  {
   "cell_type": "markdown",
   "metadata": {},
   "source": [
    "# Reverse the digits"
   ]
  },
  {
   "cell_type": "code",
   "execution_count": 4,
   "metadata": {},
   "outputs": [
    {
     "name": "stdout",
     "output_type": "stream",
     "text": [
      "enter the no123456789\n",
      "987654321\n"
     ]
    }
   ],
   "source": [
    "n=int(input(\"enter the no\"))\n",
    "rev=0\n",
    "while n>0:\n",
    "    rev*=10\n",
    "    rev+=n%10\n",
    "    n=n//10\n",
    "print(rev)"
   ]
  },
  {
   "cell_type": "markdown",
   "metadata": {},
   "source": [
    "# sum of digit"
   ]
  },
  {
   "cell_type": "code",
   "execution_count": 6,
   "metadata": {},
   "outputs": [
    {
     "name": "stdout",
     "output_type": "stream",
     "text": [
      "enter the no123\n",
      "6\n"
     ]
    }
   ],
   "source": [
    "n=int(input(\"enter the no\"))\n",
    "sum=0\n",
    "while n>0:\n",
    "    x=n%10\n",
    "    sum=sum+x\n",
    "    n=n//10\n",
    "print(sum)"
   ]
  },
  {
   "cell_type": "markdown",
   "metadata": {},
   "source": [
    "# fabonancy series"
   ]
  },
  {
   "cell_type": "markdown",
   "metadata": {},
   "source": [
    "## 1,1,2,3,5,8"
   ]
  },
  {
   "cell_type": "code",
   "execution_count": 1,
   "metadata": {},
   "outputs": [
    {
     "name": "stdout",
     "output_type": "stream",
     "text": [
      "Enter the no5\n",
      "fabonancy series\n",
      "  1   2   3   5   8 "
     ]
    }
   ],
   "source": [
    "a=0\n",
    "b=1\n",
    "n=int(input(\"Enter the no\"))\n",
    "print(\"fabonancy series\")\n",
    "# print(a,\" \",b,end=\" \")\n",
    "for i in range(n):\n",
    "    c=a+b\n",
    "    a=b\n",
    "    b=c\n",
    "    print(\" \",c,end=\" \")"
   ]
  },
  {
   "cell_type": "code",
   "execution_count": 2,
   "metadata": {},
   "outputs": [
    {
     "name": "stdout",
     "output_type": "stream",
     "text": [
      "enterthe number...5\n",
      "1\n",
      "2\n",
      "3\n",
      "5\n",
      "8\n"
     ]
    }
   ],
   "source": [
    "a=0\n",
    "b=1\n",
    "n=int(input(\"enterthe number...\"))\n",
    "for i in range(n):\n",
    "    c=a+b\n",
    "    a=b\n",
    "    b=c\n",
    "    print(c)"
   ]
  },
  {
   "cell_type": "markdown",
   "metadata": {},
   "source": [
    "# palidrome no"
   ]
  },
  {
   "cell_type": "markdown",
   "metadata": {},
   "source": [
    "# 1234321"
   ]
  },
  {
   "cell_type": "markdown",
   "metadata": {},
   "source": [
    "# racecar"
   ]
  },
  {
   "cell_type": "code",
   "execution_count": 30,
   "metadata": {},
   "outputs": [
    {
     "name": "stdout",
     "output_type": "stream",
     "text": [
      "enter the no or str1234321\n",
      "yes it is palidrome\n"
     ]
    }
   ],
   "source": [
    "str=input(\"enter the no or str\")\n",
    "str=str.casefold()\n",
    "if str==str[::-1]:\n",
    "    print(\"yes it is palidrome\")\n",
    "else:\n",
    "    print(\"No,it is not palidrome\")"
   ]
  },
  {
   "cell_type": "markdown",
   "metadata": {},
   "source": [
    "# 2nd"
   ]
  },
  {
   "cell_type": "code",
   "execution_count": 32,
   "metadata": {},
   "outputs": [
    {
     "name": "stdout",
     "output_type": "stream",
     "text": [
      "enter the no or str123\n",
      "No palidrome\n"
     ]
    }
   ],
   "source": [
    "str=input(\"enter the no or str\")\n",
    "str2=\"\"\n",
    "for i in str:\n",
    "    str2=i+str2\n",
    "if str==str2:\n",
    "    print(\"palidrome\")\n",
    "else:\n",
    "    print(\"No palidrome\")"
   ]
  },
  {
   "cell_type": "markdown",
   "metadata": {},
   "source": [
    "# leap year"
   ]
  },
  {
   "cell_type": "code",
   "execution_count": 36,
   "metadata": {},
   "outputs": [
    {
     "name": "stdout",
     "output_type": "stream",
     "text": [
      "enter the year: 2006\n",
      "not leap year\n"
     ]
    }
   ],
   "source": [
    "year=int(input(\"enter the year: \"))\n",
    "\n",
    "if (year%4==0 and year%100!=0 or year%400==0):\n",
    "    print(\"leap year\")\n",
    "else:\n",
    "    print(\"not leap year\")"
   ]
  },
  {
   "cell_type": "code",
   "execution_count": 17,
   "metadata": {},
   "outputs": [
    {
     "name": "stdout",
     "output_type": "stream",
     "text": [
      "enter the no...121\n",
      "no is palidrome..\n"
     ]
    }
   ],
   "source": [
    "n=int(input(\"enter the no...\"))\n",
    "n1=n\n",
    "rev=0\n",
    "while n>0:\n",
    "    d=n%10\n",
    "    rev=rev*10+d\n",
    "    n=n//10\n",
    "if n1==rev:\n",
    "    print(\"no is palidrome..\")\n",
    "else:\n",
    "    print(\"no is not palidrome..\")"
   ]
  },
  {
   "cell_type": "code",
   "execution_count": null,
   "metadata": {},
   "outputs": [],
   "source": []
  },
  {
   "cell_type": "code",
   "execution_count": null,
   "metadata": {},
   "outputs": [],
   "source": []
  },
  {
   "cell_type": "code",
   "execution_count": null,
   "metadata": {},
   "outputs": [],
   "source": []
  }
 ],
 "metadata": {
  "kernelspec": {
   "display_name": "Python 3",
   "language": "python",
   "name": "python3"
  },
  "language_info": {
   "codemirror_mode": {
    "name": "ipython",
    "version": 3
   },
   "file_extension": ".py",
   "mimetype": "text/x-python",
   "name": "python",
   "nbconvert_exporter": "python",
   "pygments_lexer": "ipython3",
   "version": "3.6.5"
  }
 },
 "nbformat": 4,
 "nbformat_minor": 2
}
