{
 "cells": [
  {
   "cell_type": "code",
   "execution_count": 1,
   "metadata": {},
   "outputs": [],
   "source": [
    "import json"
   ]
  },
  {
   "cell_type": "code",
   "execution_count": 5,
   "metadata": {},
   "outputs": [],
   "source": [
    "with open(\"Sample-employee-JSON-data.json\",\"r\") as r:\n",
    "    d=json.load(r)"
   ]
  },
  {
   "cell_type": "code",
   "execution_count": 6,
   "metadata": {},
   "outputs": [
    {
     "name": "stdout",
     "output_type": "stream",
     "text": [
      "{'Employees': [{'userId': 'krish', 'jobTitle': 'Developer', 'firstName': 'Krish', 'lastName': 'Lee', 'employeeCode': 'E1', 'region': 'CA', 'phoneNumber': '123456', 'emailAddress': 'krish.lee@learningcontainer.com'}, {'userId': 'devid', 'jobTitle': 'Developer', 'firstName': 'Devid', 'lastName': 'Rome', 'employeeCode': 'E2', 'region': 'CA', 'phoneNumber': '1111111', 'emailAddress': 'devid.rome@learningcontainer.com'}, {'userId': 'tin', 'jobTitle': 'Program Directory', 'firstName': 'tin', 'lastName': 'jonson', 'employeeCode': 'E3', 'region': 'CA', 'phoneNumber': '2222222', 'emailAddress': 'tin.jonson@learningcontainer.com'}]}\n"
     ]
    }
   ],
   "source": [
    "print(d)"
   ]
  },
  {
   "cell_type": "code",
   "execution_count": 7,
   "metadata": {},
   "outputs": [
    {
     "data": {
      "text/plain": [
       "dict"
      ]
     },
     "execution_count": 7,
     "metadata": {},
     "output_type": "execute_result"
    }
   ],
   "source": [
    "type(d)"
   ]
  },
  {
   "cell_type": "code",
   "execution_count": 6,
   "metadata": {},
   "outputs": [],
   "source": [
    "jsonfile=json.loads(d)"
   ]
  },
  {
   "cell_type": "code",
   "execution_count": 7,
   "metadata": {},
   "outputs": [
    {
     "data": {
      "text/plain": [
       "dict"
      ]
     },
     "execution_count": 7,
     "metadata": {},
     "output_type": "execute_result"
    }
   ],
   "source": [
    "type(jsonfile)"
   ]
  },
  {
   "cell_type": "code",
   "execution_count": 8,
   "metadata": {},
   "outputs": [
    {
     "data": {
      "text/plain": [
       "{'Employees': [{'userId': 'krish',\n",
       "   'jobTitle': 'Developer',\n",
       "   'firstName': 'Krish',\n",
       "   'lastName': 'Lee',\n",
       "   'employeeCode': 'E1',\n",
       "   'region': 'CA',\n",
       "   'phoneNumber': '123456',\n",
       "   'emailAddress': 'krish.lee@learningcontainer.com'},\n",
       "  {'userId': 'devid',\n",
       "   'jobTitle': 'Developer',\n",
       "   'firstName': 'Devid',\n",
       "   'lastName': 'Rome',\n",
       "   'employeeCode': 'E2',\n",
       "   'region': 'CA',\n",
       "   'phoneNumber': '1111111',\n",
       "   'emailAddress': 'devid.rome@learningcontainer.com'},\n",
       "  {'userId': 'tin',\n",
       "   'jobTitle': 'Program Directory',\n",
       "   'firstName': 'tin',\n",
       "   'lastName': 'jonson',\n",
       "   'employeeCode': 'E3',\n",
       "   'region': 'CA',\n",
       "   'phoneNumber': '2222222',\n",
       "   'emailAddress': 'tin.jonson@learningcontainer.com'}]}"
      ]
     },
     "execution_count": 8,
     "metadata": {},
     "output_type": "execute_result"
    }
   ],
   "source": [
    "jsonfile"
   ]
  },
  {
   "cell_type": "code",
   "execution_count": 17,
   "metadata": {},
   "outputs": [
    {
     "data": {
      "text/plain": [
       "[{'userId': 'krish',\n",
       "  'jobTitle': 'Developer',\n",
       "  'firstName': 'Krish',\n",
       "  'lastName': 'Lee',\n",
       "  'employeeCode': 'E1',\n",
       "  'region': 'CA',\n",
       "  'phoneNumber': '123456',\n",
       "  'emailAddress': 'krish.lee@learningcontainer.com'},\n",
       " {'userId': 'devid',\n",
       "  'jobTitle': 'Developer',\n",
       "  'firstName': 'Devid',\n",
       "  'lastName': 'Rome',\n",
       "  'employeeCode': 'E2',\n",
       "  'region': 'CA',\n",
       "  'phoneNumber': '1111111',\n",
       "  'emailAddress': 'devid.rome@learningcontainer.com'},\n",
       " {'userId': 'tin',\n",
       "  'jobTitle': 'Program Directory',\n",
       "  'firstName': 'tin',\n",
       "  'lastName': 'jonson',\n",
       "  'employeeCode': 'E3',\n",
       "  'region': 'CA',\n",
       "  'phoneNumber': '2222222',\n",
       "  'emailAddress': 'tin.jonson@learningcontainer.com'}]"
      ]
     },
     "execution_count": 17,
     "metadata": {},
     "output_type": "execute_result"
    }
   ],
   "source": [
    "jsonfile[\"Employees\"]"
   ]
  },
  {
   "cell_type": "code",
   "execution_count": 23,
   "metadata": {},
   "outputs": [
    {
     "data": {
      "text/plain": [
       "{'userId': 'krish',\n",
       " 'jobTitle': 'Developer',\n",
       " 'firstName': 'Krish',\n",
       " 'lastName': 'Lee',\n",
       " 'employeeCode': 'E1',\n",
       " 'region': 'CA',\n",
       " 'phoneNumber': '123456',\n",
       " 'emailAddress': 'krish.lee@learningcontainer.com'}"
      ]
     },
     "execution_count": 23,
     "metadata": {},
     "output_type": "execute_result"
    }
   ],
   "source": [
    "jsonfile[\"Employees\"][0]"
   ]
  },
  {
   "cell_type": "code",
   "execution_count": 24,
   "metadata": {},
   "outputs": [
    {
     "data": {
      "text/plain": [
       "'krish'"
      ]
     },
     "execution_count": 24,
     "metadata": {},
     "output_type": "execute_result"
    }
   ],
   "source": [
    "jsonfile[\"Employees\"][0][\"userId\"]"
   ]
  },
  {
   "cell_type": "code",
   "execution_count": 26,
   "metadata": {},
   "outputs": [],
   "source": [
    "with open(\"Sample-JSON-file-with-multiple-records-download.json\",\"r\") as r:\n",
    "    file=r.read()"
   ]
  },
  {
   "cell_type": "code",
   "execution_count": 27,
   "metadata": {},
   "outputs": [
    {
     "data": {
      "text/plain": [
       "'{\\n  \"users\": [\\n    {\\n      \"userId\": 1,\\n      \"firstName\": \"Krish\",\\n      \"lastName\": \"Lee\",\\n      \"phoneNumber\": \"123456\",\\n      \"emailAddress\": \"krish.lee@learningcontainer.com\"\\n    },\\n    {\\n      \"userId\": 2,\\n      \"firstName\": \"racks\",\\n      \"lastName\": \"jacson\",\\n      \"phoneNumber\": \"123456\",\\n      \"emailAddress\": \"racks.jacson@learningcontainer.com\"\\n    },\\n    {\\n      \"userId\": 3,\\n      \"firstName\": \"denial\",\\n      \"lastName\": \"roast\",\\n      \"phoneNumber\": \"33333333\",\\n      \"emailAddress\": \"denial.roast@learningcontainer.com\"\\n    },\\n    {\\n      \"userId\": 4,\\n      \"firstName\": \"devid\",\\n      \"lastName\": \"neo\",\\n      \"phoneNumber\": \"222222222\",\\n      \"emailAddress\": \"devid.neo@learningcontainer.com\"\\n    },\\n    {\\n      \"userId\": 5,\\n      \"firstName\": \"jone\",\\n      \"lastName\": \"mac\",\\n      \"phoneNumber\": \"111111111\",\\n      \"emailAddress\": \"jone.mac@learningcontainer.com\"\\n    }\\n  ]\\n}'"
      ]
     },
     "execution_count": 27,
     "metadata": {},
     "output_type": "execute_result"
    }
   ],
   "source": [
    "file"
   ]
  },
  {
   "cell_type": "code",
   "execution_count": 28,
   "metadata": {},
   "outputs": [],
   "source": [
    "files=json.loads(file)"
   ]
  },
  {
   "cell_type": "code",
   "execution_count": 29,
   "metadata": {},
   "outputs": [
    {
     "data": {
      "text/plain": [
       "{'users': [{'userId': 1,\n",
       "   'firstName': 'Krish',\n",
       "   'lastName': 'Lee',\n",
       "   'phoneNumber': '123456',\n",
       "   'emailAddress': 'krish.lee@learningcontainer.com'},\n",
       "  {'userId': 2,\n",
       "   'firstName': 'racks',\n",
       "   'lastName': 'jacson',\n",
       "   'phoneNumber': '123456',\n",
       "   'emailAddress': 'racks.jacson@learningcontainer.com'},\n",
       "  {'userId': 3,\n",
       "   'firstName': 'denial',\n",
       "   'lastName': 'roast',\n",
       "   'phoneNumber': '33333333',\n",
       "   'emailAddress': 'denial.roast@learningcontainer.com'},\n",
       "  {'userId': 4,\n",
       "   'firstName': 'devid',\n",
       "   'lastName': 'neo',\n",
       "   'phoneNumber': '222222222',\n",
       "   'emailAddress': 'devid.neo@learningcontainer.com'},\n",
       "  {'userId': 5,\n",
       "   'firstName': 'jone',\n",
       "   'lastName': 'mac',\n",
       "   'phoneNumber': '111111111',\n",
       "   'emailAddress': 'jone.mac@learningcontainer.com'}]}"
      ]
     },
     "execution_count": 29,
     "metadata": {},
     "output_type": "execute_result"
    }
   ],
   "source": [
    "files"
   ]
  },
  {
   "cell_type": "code",
   "execution_count": 2,
   "metadata": {},
   "outputs": [],
   "source": [
    "import numpy as np"
   ]
  },
  {
   "cell_type": "code",
   "execution_count": 24,
   "metadata": {},
   "outputs": [],
   "source": [
    "a=np.array([1,2,3])"
   ]
  },
  {
   "cell_type": "code",
   "execution_count": 18,
   "metadata": {},
   "outputs": [
    {
     "data": {
      "text/plain": [
       "[array([1, 2, 3])]"
      ]
     },
     "execution_count": 18,
     "metadata": {},
     "output_type": "execute_result"
    }
   ],
   "source": [
    "np.save()"
   ]
  },
  {
   "cell_type": "code",
   "execution_count": 25,
   "metadata": {},
   "outputs": [],
   "source": [
    "import h5py as p"
   ]
  },
  {
   "cell_type": "code",
   "execution_count": 26,
   "metadata": {},
   "outputs": [
    {
     "data": {
      "text/plain": [
       "<HDF5 dataset \"dataset\": shape (1, 2, 3), type \"<f4\">"
      ]
     },
     "execution_count": 26,
     "metadata": {},
     "output_type": "execute_result"
    }
   ],
   "source": [
    "f1=p.File(\"newdata.h5\",\"a\")\n",
    "f1.create_dataset(\"dataset\",a)"
   ]
  },
  {
   "cell_type": "code",
   "execution_count": 27,
   "metadata": {},
   "outputs": [
    {
     "data": {
      "text/plain": [
       "<HDF5 file \"newdata.h5\" (mode r+)>"
      ]
     },
     "execution_count": 27,
     "metadata": {},
     "output_type": "execute_result"
    }
   ],
   "source": [
    "hf=p.File(\"newdata.h5\",\"r\")\n",
    "hf"
   ]
  },
  {
   "cell_type": "code",
   "execution_count": null,
   "metadata": {},
   "outputs": [],
   "source": [
    "np.load(\"\")"
   ]
  }
 ],
 "metadata": {
  "kernelspec": {
   "display_name": "Python 3.6.5 64-bit",
   "language": "python",
   "name": "python3"
  },
  "language_info": {
   "codemirror_mode": {
    "name": "ipython",
    "version": 3
   },
   "file_extension": ".py",
   "mimetype": "text/x-python",
   "name": "python",
   "nbconvert_exporter": "python",
   "pygments_lexer": "ipython3",
   "version": "3.6.5"
  },
  "vscode": {
   "interpreter": {
    "hash": "24b8e48887c830b049cf7a9bfe070c74445bfe406cbd20f9629aa02b26f0d3e2"
   }
  }
 },
 "nbformat": 4,
 "nbformat_minor": 2
}
