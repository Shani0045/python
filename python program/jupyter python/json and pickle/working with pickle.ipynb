{
 "cells": [
  {
   "cell_type": "code",
   "execution_count": 1,
   "metadata": {},
   "outputs": [],
   "source": [
    "import pickle"
   ]
  },
  {
   "cell_type": "markdown",
   "metadata": {},
   "source": [
    "## pickling  without file"
   ]
  },
  {
   "cell_type": "code",
   "execution_count": 3,
   "metadata": {},
   "outputs": [],
   "source": [
    "Omkar = {'key' : 'Omkar', 'name' : 'Omkar Pathak', \n",
    "'age' : 21, 'pay' : 40000}\n",
    "Jagdish = {'key' : 'Jagdish', 'name' : 'Jagdish Pathak',\n",
    "'age' : 50, 'pay' : 50000}\n",
    "  \n",
    "# database\n",
    "db = {}\n",
    "db['Omkar'] = Omkar\n",
    "db['Jagdish'] = Jagdish\n",
    "  \n",
    "# For storing\n",
    "b = pickle.dumps(db)       # type(b) gives <class 'bytes'>"
   ]
  },
  {
   "cell_type": "code",
   "execution_count": 4,
   "metadata": {},
   "outputs": [
    {
     "name": "stdout",
     "output_type": "stream",
     "text": [
      "{'Omkar': {'key': 'Omkar', 'name': 'Omkar Pathak', 'age': 21, 'pay': 40000}, 'Jagdish': {'key': 'Jagdish', 'name': 'Jagdish Pathak', 'age': 50, 'pay': 50000}}\n"
     ]
    }
   ],
   "source": [
    "# For loading\n",
    "myEntry = pickle.loads(b)\n",
    "print(myEntry)"
   ]
  },
  {
   "cell_type": "markdown",
   "metadata": {},
   "source": [
    "## with file"
   ]
  },
  {
   "cell_type": "code",
   "execution_count": 5,
   "metadata": {},
   "outputs": [],
   "source": [
    "Omkar = {'key' : 'Omkar', 'name' : 'Omkar Pathak', \n",
    "'age' : 21, 'pay' : 40000}\n",
    "Jagdish = {'key' : 'Jagdish', 'name' : 'Jagdish Pathak',\n",
    "'age' : 50, 'pay' : 50000}\n",
    "  \n",
    "# database\n",
    "db = {}\n",
    "db['Omkar'] = Omkar\n",
    "db['Jagdish'] = Jagdish"
   ]
  },
  {
   "cell_type": "code",
   "execution_count": 6,
   "metadata": {},
   "outputs": [],
   "source": [
    "with open(\"file.pkl\",\"wb\") as file:\n",
    "    pickle.dump(db,file)"
   ]
  },
  {
   "cell_type": "markdown",
   "metadata": {},
   "source": [
    "## load file"
   ]
  },
  {
   "cell_type": "code",
   "execution_count": 2,
   "metadata": {},
   "outputs": [
    {
     "name": "stdout",
     "output_type": "stream",
     "text": [
      "{'Omkar': {'key': 'Omkar', 'name': 'Omkar Pathak', 'age': 21, 'pay': 40000}, 'Jagdish': {'key': 'Jagdish', 'name': 'Jagdish Pathak', 'age': 50, 'pay': 50000}}\n"
     ]
    }
   ],
   "source": [
    "with open(\"file.pkl\",\"rb\") as file:\n",
    "    d=pickle.load(file)\n",
    "    print(d)"
   ]
  }
 ],
 "metadata": {
  "kernelspec": {
   "display_name": "Python 3.6.5 64-bit",
   "language": "python",
   "name": "python3"
  },
  "language_info": {
   "codemirror_mode": {
    "name": "ipython",
    "version": 3
   },
   "file_extension": ".py",
   "mimetype": "text/x-python",
   "name": "python",
   "nbconvert_exporter": "python",
   "pygments_lexer": "ipython3",
   "version": "3.6.5"
  },
  "vscode": {
   "interpreter": {
    "hash": "24b8e48887c830b049cf7a9bfe070c74445bfe406cbd20f9629aa02b26f0d3e2"
   }
  }
 },
 "nbformat": 4,
 "nbformat_minor": 2
}
