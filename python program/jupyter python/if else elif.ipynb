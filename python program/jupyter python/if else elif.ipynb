{
 "cells": [
  {
   "cell_type": "code",
   "execution_count": 1,
   "metadata": {},
   "outputs": [
    {
     "name": "stdout",
     "output_type": "stream",
     "text": [
      "amit\n"
     ]
    }
   ],
   "source": [
    "def name(n):\n",
    "    if n==\"shani\":\n",
    "        return n\n",
    "    elif n==\"amit\":\n",
    "        return n\n",
    "    else:\n",
    "        return \"no name\"\n",
    "s=name(\"amit\")\n",
    "print(s)\n"
   ]
  },
  {
   "cell_type": "code",
   "execution_count": 4,
   "metadata": {},
   "outputs": [
    {
     "data": {
      "text/plain": [
       "'shani kumar'"
      ]
     },
     "execution_count": 4,
     "metadata": {},
     "output_type": "execute_result"
    }
   ],
   "source": [
    "def name(first_name):\n",
    "    if first_name==\"shani\":\n",
    "        return \"shani kumar\"\n",
    "a=name(\"shani\")\n",
    "a"
   ]
  },
  {
   "cell_type": "code",
   "execution_count": 1,
   "metadata": {},
   "outputs": [
    {
     "name": "stdout",
     "output_type": "stream",
     "text": [
      "enter first value: 2\n",
      "enter second value: 4\n",
      "************************************\n",
      "Select the Operation \n",
      "1. Addition\n",
      "2. Substraction\n",
      "3. Multiplication\n",
      "4. Division\n",
      "4\n",
      "Division is=  0 2\n",
      "do you want to continue y/n....6\n",
      "\n",
      "Thank you for using Calculator.....\n"
     ]
    }
   ],
   "source": [
    "while True:\n",
    "    a=int(input(\"enter first value: \"))\n",
    "    b=int(input(\"enter second value: \"))\n",
    "    print(\"************************************\")\n",
    "    print(\"Select the Operation \\n1. Addition\\n2. Substraction\\n3. Multiplication\\n4. Division\")\n",
    "    ch=int(input())\n",
    "    if ch==1:\n",
    "        print(\"Additon is= \",a+b)\n",
    "    elif ch==2:\n",
    "        print(\"Substraction is=\",a-b)\n",
    "    elif ch==3:\n",
    "        print(\"Multiplication is= \",a*b)\n",
    "    elif ch==4:\n",
    "        print(\"Division is= \",round(a/b),2)\n",
    "    else:\n",
    "        print(\"invalid enter\")\n",
    "        \n",
    "    x=input(\"do you want to continue y/n....\")\n",
    "    if x==\"y\":\n",
    "        continue\n",
    "    else:\n",
    "        break\n",
    "print(\"\\nThank you for using Calculator.....\")"
   ]
  },
  {
   "cell_type": "code",
   "execution_count": 11,
   "metadata": {},
   "outputs": [
    {
     "name": "stdout",
     "output_type": "stream",
     "text": [
      "********************\n"
     ]
    }
   ],
   "source": [
    "print(20*\"*\")"
   ]
  }
 ],
 "metadata": {
  "kernelspec": {
   "display_name": "Python 3",
   "language": "python",
   "name": "python3"
  },
  "language_info": {
   "codemirror_mode": {
    "name": "ipython",
    "version": 3
   },
   "file_extension": ".py",
   "mimetype": "text/x-python",
   "name": "python",
   "nbconvert_exporter": "python",
   "pygments_lexer": "ipython3",
   "version": "3.6.5"
  }
 },
 "nbformat": 4,
 "nbformat_minor": 2
}
