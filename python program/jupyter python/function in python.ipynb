{
 "cells": [
  {
   "cell_type": "markdown",
   "metadata": {},
   "source": [
    "## without argument"
   ]
  },
  {
   "cell_type": "code",
   "execution_count": 4,
   "metadata": {},
   "outputs": [
    {
     "name": "stdout",
     "output_type": "stream",
     "text": [
      "my name is shani\n"
     ]
    }
   ],
   "source": [
    "def shani():\n",
    "    print(\"my name is shani\")\n",
    "shani()"
   ]
  },
  {
   "cell_type": "markdown",
   "metadata": {},
   "source": [
    "## with argument"
   ]
  },
  {
   "cell_type": "code",
   "execution_count": 5,
   "metadata": {},
   "outputs": [
    {
     "name": "stdout",
     "output_type": "stream",
     "text": [
      "my name is  shani\n"
     ]
    }
   ],
   "source": [
    "def shani(a):\n",
    "    print(\"my name is \",a)\n",
    "shani(\"shani\")"
   ]
  },
  {
   "cell_type": "code",
   "execution_count": 6,
   "metadata": {},
   "outputs": [
    {
     "name": "stdout",
     "output_type": "stream",
     "text": [
      "5\n"
     ]
    }
   ],
   "source": [
    "def add(a,b):\n",
    "    c=a+b\n",
    "    return c\n",
    "z=add(2,3)\n",
    "print(z)"
   ]
  },
  {
   "cell_type": "code",
   "execution_count": 7,
   "metadata": {},
   "outputs": [
    {
     "name": "stdout",
     "output_type": "stream",
     "text": [
      "the multification is 12\n"
     ]
    }
   ],
   "source": [
    "def mul(a,b):\n",
    "    c=a*b\n",
    "    return c\n",
    "z=mul(3,4)\n",
    "print(\"the multification is {}\".format(z))"
   ]
  },
  {
   "cell_type": "code",
   "execution_count": 8,
   "metadata": {},
   "outputs": [
    {
     "name": "stdout",
     "output_type": "stream",
     "text": [
      "the multification is 12\n"
     ]
    }
   ],
   "source": [
    "def mul(a,b):\n",
    "    c=a*b\n",
    "    return c\n",
    "z=mul(3,4)\n",
    "print(f\"the multification is {z}\")"
   ]
  },
  {
   "cell_type": "code",
   "execution_count": 9,
   "metadata": {},
   "outputs": [
    {
     "name": "stdout",
     "output_type": "stream",
     "text": [
      "the multification is 12\n"
     ]
    }
   ],
   "source": [
    "def mul(a,b):\n",
    "    c=a*b\n",
    "    return c\n",
    "z=mul(3,4)\n",
    "print(\"the multification is %d\"%(z))"
   ]
  },
  {
   "cell_type": "code",
   "execution_count": 10,
   "metadata": {},
   "outputs": [
    {
     "name": "stdout",
     "output_type": "stream",
     "text": [
      "the multification is 12\n",
      "the multification is 12\n",
      "the multification is 12\n",
      "the multification is 12\n",
      "the multification is 12\n"
     ]
    }
   ],
   "source": [
    "def mul(a,b):\n",
    "    for i in range(5):\n",
    "        c=a*b\n",
    "        print(\"the multification is {}\".format(z))\n",
    "        \n",
    "mul(3,4)\n"
   ]
  },
  {
   "cell_type": "code",
   "execution_count": 11,
   "metadata": {},
   "outputs": [
    {
     "name": "stdout",
     "output_type": "stream",
     "text": [
      "3\n"
     ]
    }
   ],
   "source": [
    "def add(x,y):\n",
    "        a=x+y\n",
    "        return a\n",
    "z=add(1,2)\n",
    "print(z)\n"
   ]
  },
  {
   "cell_type": "code",
   "execution_count": 12,
   "metadata": {},
   "outputs": [
    {
     "name": "stdout",
     "output_type": "stream",
     "text": [
      "enter x1\n",
      "enter y2\n",
      "3\n"
     ]
    }
   ],
   "source": [
    "def add(x,y):\n",
    "    z=x+y\n",
    "    return z\n",
    "xt=int(input(\"enter x\"))\n",
    "yt=int(input(\"enter y\"))\n",
    "a=add(xt,yt)\n",
    "print(a)"
   ]
  },
  {
   "cell_type": "markdown",
   "metadata": {},
   "source": [
    "# with and without argument"
   ]
  },
  {
   "cell_type": "code",
   "execution_count": 2,
   "metadata": {},
   "outputs": [
    {
     "name": "stdout",
     "output_type": "stream",
     "text": [
      "bye bye..\n"
     ]
    }
   ],
   "source": [
    "def shani(a=None,b=None):\n",
    "    if a and b !=None:\n",
    "        print(a+b)\n",
    "    else:\n",
    "        print(\"bye bye..\")\n",
    "\n",
    "shani()"
   ]
  },
  {
   "cell_type": "code",
   "execution_count": 1,
   "metadata": {},
   "outputs": [
    {
     "name": "stdout",
     "output_type": "stream",
     "text": [
      "bye bye..\n"
     ]
    }
   ],
   "source": [
    "def shani(a=None,b=None):\n",
    "    if a and b is not None:\n",
    "        print(a+b)\n",
    "    else:\n",
    "        print(\"bye bye..\")\n",
    "\n",
    "shani()"
   ]
  },
  {
   "cell_type": "code",
   "execution_count": 2,
   "metadata": {},
   "outputs": [
    {
     "name": "stdout",
     "output_type": "stream",
     "text": [
      "30\n"
     ]
    }
   ],
   "source": [
    "shani(10,20)"
   ]
  },
  {
   "cell_type": "markdown",
   "metadata": {},
   "source": [
    "# local variable"
   ]
  },
  {
   "cell_type": "code",
   "execution_count": 17,
   "metadata": {},
   "outputs": [
    {
     "name": "stdout",
     "output_type": "stream",
     "text": [
      "value of a is 200\n"
     ]
    }
   ],
   "source": [
    "\n",
    "def abc():\n",
    "    a=200   #local varible\n",
    "    print(\"value of a is {}\".format(a))\n",
    "abc()"
   ]
  },
  {
   "cell_type": "markdown",
   "metadata": {},
   "source": [
    "# global varible"
   ]
  },
  {
   "cell_type": "code",
   "execution_count": 18,
   "metadata": {},
   "outputs": [
    {
     "name": "stdout",
     "output_type": "stream",
     "text": [
      "value of a is 200\n"
     ]
    }
   ],
   "source": [
    "\n",
    "def abc():\n",
    "    print(\"value of a is {}\".format(a))\n",
    "a=200  #global varible\n",
    "abc()"
   ]
  },
  {
   "cell_type": "code",
   "execution_count": 19,
   "metadata": {},
   "outputs": [
    {
     "name": "stdout",
     "output_type": "stream",
     "text": [
      "me too\n"
     ]
    }
   ],
   "source": [
    "def  fun():\n",
    "    s=\"me too\"\n",
    "    print(s)\n",
    "s=\"i love india\"\n",
    "fun()"
   ]
  },
  {
   "cell_type": "code",
   "execution_count": 3,
   "metadata": {},
   "outputs": [
    {
     "name": "stdout",
     "output_type": "stream",
     "text": [
      "this is outside fun\n",
      "this is inside fun\n"
     ]
    }
   ],
   "source": [
    "def fun():\n",
    "    global a\n",
    "    print(a)\n",
    "    a=\"this is inside fun\"\n",
    "    print(a)\n",
    "a=\"this is outside fun\"\n",
    "fun()"
   ]
  },
  {
   "cell_type": "markdown",
   "metadata": {},
   "source": [
    "## lambda funtion\n",
    "anonymous function"
   ]
  },
  {
   "cell_type": "markdown",
   "metadata": {},
   "source": [
    "## a=lambda x,y: statements or return"
   ]
  },
  {
   "cell_type": "code",
   "execution_count": 1,
   "metadata": {},
   "outputs": [
    {
     "name": "stdout",
     "output_type": "stream",
     "text": [
      "5\n"
     ]
    }
   ],
   "source": [
    "a=lambda a,b:a+b\n",
    "print(a(2,3))\n"
   ]
  },
  {
   "cell_type": "code",
   "execution_count": 2,
   "metadata": {},
   "outputs": [
    {
     "name": "stdout",
     "output_type": "stream",
     "text": [
      "False\n"
     ]
    }
   ],
   "source": [
    "b=lambda x,y:x>y\n",
    "print(b(2,3))"
   ]
  },
  {
   "cell_type": "code",
   "execution_count": 6,
   "metadata": {},
   "outputs": [
    {
     "name": "stdout",
     "output_type": "stream",
     "text": [
      "1\n",
      "4\n",
      "9\n",
      "16\n",
      "25\n"
     ]
    }
   ],
   "source": [
    "a=[1,2,3,4,5]\n",
    "b=map(lambda x:x**2,a)\n",
    "for i in b:\n",
    "    print(i)"
   ]
  },
  {
   "cell_type": "markdown",
   "metadata": {},
   "source": [
    "# return statement"
   ]
  },
  {
   "cell_type": "markdown",
   "metadata": {},
   "source": [
    "## return statement me hum jisko print karna hai use return me likhate hai.\n",
    "aur jab function call karte hai tab use variable me store kr lete hai taki baad me use aage use kr sake "
   ]
  },
  {
   "cell_type": "code",
   "execution_count": 12,
   "metadata": {},
   "outputs": [],
   "source": [
    "def name(a,b,c):\n",
    "    d=a+b+c\n",
    "    print(d)"
   ]
  },
  {
   "cell_type": "code",
   "execution_count": 13,
   "metadata": {},
   "outputs": [
    {
     "name": "stdout",
     "output_type": "stream",
     "text": [
      "6\n"
     ]
    }
   ],
   "source": [
    "a=name(1,2,3)"
   ]
  },
  {
   "cell_type": "code",
   "execution_count": 14,
   "metadata": {},
   "outputs": [
    {
     "ename": "TypeError",
     "evalue": "unsupported operand type(s) for +: 'NoneType' and 'int'",
     "output_type": "error",
     "traceback": [
      "\u001b[1;31m---------------------------------------------------------------------------\u001b[0m",
      "\u001b[1;31mTypeError\u001b[0m                                 Traceback (most recent call last)",
      "\u001b[1;32m<ipython-input-14-31c754003984>\u001b[0m in \u001b[0;36m<module>\u001b[1;34m\u001b[0m\n\u001b[1;32m----> 1\u001b[1;33m \u001b[0mprint\u001b[0m\u001b[1;33m(\u001b[0m\u001b[0ma\u001b[0m\u001b[1;33m+\u001b[0m\u001b[1;36m3\u001b[0m\u001b[1;33m)\u001b[0m\u001b[1;33m\u001b[0m\u001b[0m\n\u001b[0m",
      "\u001b[1;31mTypeError\u001b[0m: unsupported operand type(s) for +: 'NoneType' and 'int'"
     ]
    }
   ],
   "source": [
    "print(a+3)"
   ]
  },
  {
   "cell_type": "markdown",
   "metadata": {},
   "source": [
    "# pass list as a argument"
   ]
  },
  {
   "cell_type": "code",
   "execution_count": 1,
   "metadata": {},
   "outputs": [],
   "source": [
    "lst=[10,20,29,35,38,39,49,47,40,8,60,36]"
   ]
  },
  {
   "cell_type": "code",
   "execution_count": 5,
   "metadata": {},
   "outputs": [
    {
     "name": "stdout",
     "output_type": "stream",
     "text": [
      "even no: 7\n",
      "odd no: 5\n"
     ]
    }
   ],
   "source": [
    "def fun(lst):\n",
    "    even=0\n",
    "    odd=0\n",
    "    for i in lst:\n",
    "        if i%2==0:\n",
    "            even+=1\n",
    "        else:\n",
    "            odd+=1\n",
    "    return even,odd\n",
    "\n",
    "even,odd=fun(lst)\n",
    "print(f\"even no: {even}\\nodd no: {odd}\")"
   ]
  },
  {
   "cell_type": "code",
   "execution_count": 14,
   "metadata": {},
   "outputs": [
    {
     "name": "stdout",
     "output_type": "stream",
     "text": [
      "even no: [10, 20, 38, 40, 8, 60, 36] total even no is 7\n",
      "odd no: [29, 35, 39, 49, 47] total odd no is 5\n"
     ]
    }
   ],
   "source": [
    "def fun(lst):\n",
    "    even=[]\n",
    "    odd=[]\n",
    "    e=0\n",
    "    o=0\n",
    "    for i in lst:\n",
    "        if i%2==0:\n",
    "            even.append(i)\n",
    "            e+=1\n",
    "        else:\n",
    "            odd.append(i)\n",
    "            o+=1\n",
    "    return even,odd,e,o\n",
    "\n",
    "evn,od,e,o=fun(lst)\n",
    "print(f\"even no: {evn} total even no is {e}\\nodd no: {od} total odd no is {o}\")"
   ]
  },
  {
   "cell_type": "code",
   "execution_count": 19,
   "metadata": {},
   "outputs": [
    {
     "name": "stdout",
     "output_type": "stream",
     "text": [
      "even no: [10, 20, 38, 40, 8, 60, 36] total even no is 7\n",
      "odd no: [29, 35, 39, 49, 47] total odd no is 5\n"
     ]
    }
   ],
   "source": [
    "even=[]\n",
    "odd=[]\n",
    "def fun1(lst):\n",
    "    global even,odd\n",
    "    e=0\n",
    "    o=0\n",
    "    for i in lst:\n",
    "        if i%2==0:\n",
    "            even.append(i)\n",
    "            e+=1\n",
    "        else:\n",
    "            odd.append(i)\n",
    "            o+=1\n",
    "    return e,o\n",
    "\n",
    "e,o=fun1(lst)\n",
    "print(f\"even no: {even} total even no is {e}\\nodd no: {odd} total odd no is {o}\")"
   ]
  },
  {
   "cell_type": "markdown",
   "metadata": {},
   "source": [
    "# function shortcut if else"
   ]
  },
  {
   "cell_type": "code",
   "execution_count": 1,
   "metadata": {},
   "outputs": [],
   "source": [
    "def shani(x):\n",
    "    if x%2==0:\n",
    "        print(\"number is even....\")\n",
    "    print(\"number is odd\")"
   ]
  },
  {
   "cell_type": "code",
   "execution_count": 2,
   "metadata": {},
   "outputs": [
    {
     "name": "stdout",
     "output_type": "stream",
     "text": [
      "number is even....\n",
      "number is odd\n"
     ]
    }
   ],
   "source": [
    "shani(2)"
   ]
  },
  {
   "cell_type": "code",
   "execution_count": null,
   "metadata": {},
   "outputs": [],
   "source": []
  }
 ],
 "metadata": {
  "kernelspec": {
   "display_name": "Python 3",
   "language": "python",
   "name": "python3"
  },
  "language_info": {
   "codemirror_mode": {
    "name": "ipython",
    "version": 3
   },
   "file_extension": ".py",
   "mimetype": "text/x-python",
   "name": "python",
   "nbconvert_exporter": "python",
   "pygments_lexer": "ipython3",
   "version": "3.6.5"
  }
 },
 "nbformat": 4,
 "nbformat_minor": 2
}
