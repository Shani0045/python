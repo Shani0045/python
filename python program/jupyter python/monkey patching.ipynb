{
 "cells": [
  {
   "cell_type": "markdown",
   "id": "5ce386c6",
   "metadata": {},
   "source": [
    "# monkey patching"
   ]
  },
  {
   "cell_type": "markdown",
   "id": "2bd06a36",
   "metadata": {},
   "source": [
    "## adding new method or variable in a class after creation it called monkey patching."
   ]
  },
  {
   "cell_type": "code",
   "execution_count": 8,
   "id": "4edb1eab",
   "metadata": {},
   "outputs": [],
   "source": [
    "class A:\n",
    "    def add(self,a,b):\n",
    "        return a+b"
   ]
  },
  {
   "cell_type": "code",
   "execution_count": 9,
   "id": "b37be98a",
   "metadata": {},
   "outputs": [
    {
     "data": {
      "text/plain": [
       "5"
      ]
     },
     "execution_count": 9,
     "metadata": {},
     "output_type": "execute_result"
    }
   ],
   "source": [
    "a=A()\n",
    "a.add(2,3)"
   ]
  },
  {
   "cell_type": "code",
   "execution_count": 10,
   "id": "e727b706",
   "metadata": {},
   "outputs": [],
   "source": [
    "def sub(self,a,b):\n",
    "    return a-b"
   ]
  },
  {
   "cell_type": "code",
   "execution_count": 11,
   "id": "681b0cf3",
   "metadata": {},
   "outputs": [],
   "source": [
    "A.sub=sub"
   ]
  },
  {
   "cell_type": "code",
   "execution_count": 12,
   "id": "c224d119",
   "metadata": {},
   "outputs": [
    {
     "data": {
      "text/plain": [
       "2"
      ]
     },
     "execution_count": 12,
     "metadata": {},
     "output_type": "execute_result"
    }
   ],
   "source": [
    "a.sub(5,3)"
   ]
  },
  {
   "cell_type": "code",
   "execution_count": 13,
   "id": "725728b6",
   "metadata": {},
   "outputs": [],
   "source": [
    "A.a=30"
   ]
  },
  {
   "cell_type": "code",
   "execution_count": 15,
   "id": "6c36d937",
   "metadata": {},
   "outputs": [],
   "source": [
    "@staticmethod\n",
    "def mul(a,b):\n",
    "    return a*b"
   ]
  },
  {
   "cell_type": "code",
   "execution_count": 16,
   "id": "f7d2438c",
   "metadata": {},
   "outputs": [],
   "source": [
    "A.mul=mul"
   ]
  },
  {
   "cell_type": "code",
   "execution_count": 17,
   "id": "56b23d32",
   "metadata": {},
   "outputs": [
    {
     "data": {
      "text/plain": [
       "6"
      ]
     },
     "execution_count": 17,
     "metadata": {},
     "output_type": "execute_result"
    }
   ],
   "source": [
    "a.mul(2,3)"
   ]
  },
  {
   "cell_type": "code",
   "execution_count": 23,
   "id": "20c1ed3c",
   "metadata": {},
   "outputs": [],
   "source": [
    "y=30"
   ]
  },
  {
   "cell_type": "code",
   "execution_count": 24,
   "id": "db1cbee3",
   "metadata": {},
   "outputs": [],
   "source": [
    "A.y=y"
   ]
  },
  {
   "cell_type": "code",
   "execution_count": 25,
   "id": "00b498cf",
   "metadata": {},
   "outputs": [
    {
     "data": {
      "text/plain": [
       "30"
      ]
     },
     "execution_count": 25,
     "metadata": {},
     "output_type": "execute_result"
    }
   ],
   "source": [
    "a.y"
   ]
  }
 ],
 "metadata": {
  "kernelspec": {
   "display_name": "Python 3",
   "language": "python",
   "name": "python3"
  },
  "language_info": {
   "codemirror_mode": {
    "name": "ipython",
    "version": 3
   },
   "file_extension": ".py",
   "mimetype": "text/x-python",
   "name": "python",
   "nbconvert_exporter": "python",
   "pygments_lexer": "ipython3",
   "version": "3.6.5"
  }
 },
 "nbformat": 4,
 "nbformat_minor": 5
}
