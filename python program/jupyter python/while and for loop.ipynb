{
 "cells": [
  {
   "cell_type": "markdown",
   "metadata": {},
   "source": [
    "# Expanding a string like a-z"
   ]
  },
  {
   "cell_type": "code",
   "execution_count": 1,
   "metadata": {},
   "outputs": [
    {
     "name": "stdout",
     "output_type": "stream",
     "text": [
      "Enter the firsta\n",
      "Enter the lastw\n",
      "a b c d e f g h i j k l m n o p q r s t u v w \n"
     ]
    }
   ],
   "source": [
    "first=input('Enter the first')\n",
    "last=input('Enter the last')\n",
    "while first<=last:\n",
    "    print(first,end=' ')\n",
    "    first=chr(ord(first)+1)\n",
    "print()"
   ]
  },
  {
   "cell_type": "markdown",
   "metadata": {},
   "source": [
    "# multiplication table while loop"
   ]
  },
  {
   "cell_type": "code",
   "execution_count": 2,
   "metadata": {},
   "outputs": [
    {
     "name": "stdout",
     "output_type": "stream",
     "text": [
      "   1    2    3    4    5    6    7    8    9 \n",
      "   2    4    6    8   10   12   14   16   18 \n",
      "   3    6    9   12   15   18   21   24   27 \n",
      "   4    8   12   16   20   24   28   32   36 \n",
      "   5   10   15   20   25   30   35   40   45 \n",
      "   6   12   18   24   30   36   42   48   54 \n",
      "   7   14   21   28   35   42   49   56   63 \n",
      "   8   16   24   32   40   48   56   64   72 \n",
      "   9   18   27   36   45   54   63   72   81 \n"
     ]
    }
   ],
   "source": [
    "i=1\n",
    "while i<10:\n",
    "    j=1\n",
    "    while j<10:\n",
    "        print('%4d' %(i*j),end=' ')\n",
    "        j+=1\n",
    "    print()\n",
    "    i+=1"
   ]
  },
  {
   "cell_type": "markdown",
   "metadata": {},
   "source": [
    "# multiplication table using for loop"
   ]
  },
  {
   "cell_type": "code",
   "execution_count": 5,
   "metadata": {},
   "outputs": [
    {
     "name": "stdout",
     "output_type": "stream",
     "text": [
      "   1    2    3    4    5    6    7    8    9   10   11   12   13   14   15   16   17   18   19   20 \n",
      "   2    4    6    8   10   12   14   16   18   20   22   24   26   28   30   32   34   36   38   40 \n",
      "   3    6    9   12   15   18   21   24   27   30   33   36   39   42   45   48   51   54   57   60 \n",
      "   4    8   12   16   20   24   28   32   36   40   44   48   52   56   60   64   68   72   76   80 \n",
      "   5   10   15   20   25   30   35   40   45   50   55   60   65   70   75   80   85   90   95  100 \n",
      "   6   12   18   24   30   36   42   48   54   60   66   72   78   84   90   96  102  108  114  120 \n",
      "   7   14   21   28   35   42   49   56   63   70   77   84   91   98  105  112  119  126  133  140 \n",
      "   8   16   24   32   40   48   56   64   72   80   88   96  104  112  120  128  136  144  152  160 \n",
      "   9   18   27   36   45   54   63   72   81   90   99  108  117  126  135  144  153  162  171  180 \n",
      "  10   20   30   40   50   60   70   80   90  100  110  120  130  140  150  160  170  180  190  200 \n"
     ]
    }
   ],
   "source": [
    "for i in range(1,11):   # for row\n",
    "    for j in range(1,21):\n",
    "        print(\"%4d\" %(i*j),end=' ')\n",
    "    print()"
   ]
  },
  {
   "cell_type": "markdown",
   "metadata": {},
   "source": [
    "# the sum and product of a digits of a number"
   ]
  },
  {
   "cell_type": "code",
   "execution_count": 10,
   "metadata": {},
   "outputs": [
    {
     "name": "stdout",
     "output_type": "stream",
     "text": [
      "21\n",
      "sum 3\n",
      "product: 2\n"
     ]
    }
   ],
   "source": [
    "a=abs(int(input()))\n",
    "suma=0\n",
    "mul=1\n",
    "while a>0:\n",
    "    digit=a%10\n",
    "    suma+=digit\n",
    "    mul*=digit\n",
    "    a=a//10\n",
    "print('sum',suma)\n",
    "print('product:',mul)"
   ]
  },
  {
   "cell_type": "markdown",
   "metadata": {},
   "source": [
    "# factorial no"
   ]
  },
  {
   "cell_type": "code",
   "execution_count": 23,
   "metadata": {},
   "outputs": [
    {
     "name": "stdout",
     "output_type": "stream",
     "text": [
      "5\n",
      "120\n"
     ]
    }
   ],
   "source": [
    "n=int(input())\n",
    "factorial=1\n",
    "while n>1:\n",
    "    factorial*=n\n",
    "    n-=1\n",
    "print(factorial)"
   ]
  },
  {
   "cell_type": "markdown",
   "metadata": {},
   "source": [
    "# count the even and odd digits of the number"
   ]
  },
  {
   "cell_type": "code",
   "execution_count": 25,
   "metadata": {},
   "outputs": [
    {
     "name": "stdout",
     "output_type": "stream",
     "text": [
      "123\n",
      "Even 1\n",
      "odd 2\n"
     ]
    }
   ],
   "source": [
    "a=int(input())\n",
    "even=0\n",
    "odd=0\n",
    "while a>0:\n",
    "    if a%2==0:\n",
    "        even+=1\n",
    "    else:\n",
    "        odd+=1\n",
    "    a=a//10\n",
    "print(\"Even %d\" %even)\n",
    "print(\"odd %d\"%odd)"
   ]
  },
  {
   "cell_type": "markdown",
   "metadata": {},
   "source": [
    "# fibonanci series"
   ]
  },
  {
   "cell_type": "code",
   "execution_count": 26,
   "metadata": {},
   "outputs": [
    {
     "name": "stdout",
     "output_type": "stream",
     "text": [
      "10\n",
      "1 1 2 3 5 8 13 21 34 55 \n"
     ]
    }
   ],
   "source": [
    "n=int(input())\n",
    "f1=f2=1\n",
    "print(f1,f2,end=' ')\n",
    "i=2\n",
    "while i<n:\n",
    "9    f1,f2=f2,f1+f2\n",
    "    print(f2, end=' ')\n",
    "    i+=1\n",
    "print()"
   ]
  },
  {
   "cell_type": "markdown",
   "metadata": {},
   "source": [
    "# change the order of digits of an integer to the reverse"
   ]
  },
  {
   "cell_type": "code",
   "execution_count": 27,
   "metadata": {},
   "outputs": [
    {
     "name": "stdout",
     "output_type": "stream",
     "text": [
      "12345\n",
      "inverse number: 54321\n"
     ]
    }
   ],
   "source": [
    "n1=int(input())\n",
    "n2=0\n",
    "while n1>0:\n",
    "    digit=n1%10\n",
    "    n1=n1//10\n",
    "    n2=n2*10\n",
    "    n2=n2+digit\n",
    "print('inverse number:',n2)"
   ]
  },
  {
   "cell_type": "code",
   "execution_count": null,
   "metadata": {},
   "outputs": [],
   "source": []
  }
 ],
 "metadata": {
  "kernelspec": {
   "display_name": "Python 3",
   "language": "python",
   "name": "python3"
  },
  "language_info": {
   "codemirror_mode": {
    "name": "ipython",
    "version": 3
   },
   "file_extension": ".py",
   "mimetype": "text/x-python",
   "name": "python",
   "nbconvert_exporter": "python",
   "pygments_lexer": "ipython3",
   "version": "3.7.1"
  }
 },
 "nbformat": 4,
 "nbformat_minor": 2
}
