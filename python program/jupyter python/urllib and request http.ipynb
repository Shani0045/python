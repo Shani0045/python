{
 "cells": [
  {
   "cell_type": "markdown",
   "metadata": {},
   "source": [
    "# request module"
   ]
  },
  {
   "cell_type": "code",
   "execution_count": 2,
   "metadata": {},
   "outputs": [],
   "source": [
    "import requests"
   ]
  },
  {
   "cell_type": "code",
   "execution_count": 7,
   "metadata": {},
   "outputs": [],
   "source": [
    "r=requests.get(\"https://xkcd.com/353\")"
   ]
  },
  {
   "cell_type": "code",
   "execution_count": 8,
   "metadata": {},
   "outputs": [
    {
     "name": "stdout",
     "output_type": "stream",
     "text": [
      "<Response [200]>\n"
     ]
    }
   ],
   "source": [
    "print(r)"
   ]
  },
  {
   "cell_type": "code",
   "execution_count": 9,
   "metadata": {},
   "outputs": [
    {
     "name": "stdout",
     "output_type": "stream",
     "text": [
      "['__attrs__', '__bool__', '__class__', '__delattr__', '__dict__', '__dir__', '__doc__', '__enter__', '__eq__', '__exit__', '__format__', '__ge__', '__getattribute__', '__getstate__', '__gt__', '__hash__', '__init__', '__init_subclass__', '__iter__', '__le__', '__lt__', '__module__', '__ne__', '__new__', '__nonzero__', '__reduce__', '__reduce_ex__', '__repr__', '__setattr__', '__setstate__', '__sizeof__', '__str__', '__subclasshook__', '__weakref__', '_content', '_content_consumed', '_next', 'apparent_encoding', 'close', 'connection', 'content', 'cookies', 'elapsed', 'encoding', 'headers', 'history', 'is_permanent_redirect', 'is_redirect', 'iter_content', 'iter_lines', 'json', 'links', 'next', 'ok', 'raise_for_status', 'raw', 'reason', 'request', 'status_code', 'text', 'url']\n"
     ]
    }
   ],
   "source": [
    "print(dir(r))"
   ]
  },
  {
   "cell_type": "code",
   "execution_count": 10,
   "metadata": {},
   "outputs": [
    {
     "name": "stdout",
     "output_type": "stream",
     "text": [
      "<!DOCTYPE html>\n",
      "<html>\n",
      "<head>\n",
      "<link rel=\"stylesheet\" type=\"text/css\" href=\"/s/b0dcca.css\" title=\"Default\"/>\n",
      "<title>xkcd: Python</title>\n",
      "<meta http-equiv=\"X-UA-Compatible\" content=\"IE=edge\"/>\n",
      "<link rel=\"shortcut icon\" href=\"/s/919f27.ico\" type=\"image/x-icon\"/>\n",
      "<link rel=\"icon\" href=\"/s/919f27.ico\" type=\"image/x-icon\"/>\n",
      "<link rel=\"alternate\" type=\"application/atom+xml\" title=\"Atom 1.0\" href=\"/atom.xml\"/>\n",
      "<link rel=\"alternate\" type=\"application/rss+xml\" title=\"RSS 2.0\" href=\"/rss.xml\"/>\n",
      "<script type=\"text/javascript\" src=\"/s/b66ed7.js\" async></script>\n",
      "<script type=\"text/javascript\" src=\"/s/1b9456.js\" async></script>\n",
      "\n",
      "<meta property=\"og:site_name\" content=\"xkcd\">\n",
      "\n",
      "<meta property=\"og:title\" content=\"Python\">\n",
      "<meta property=\"og:url\" content=\"https://xkcd.com/353/\">\n",
      "<meta property=\"og:image\" content=\"https://imgs.xkcd.com/comics/\">\n",
      "<meta name=\"twitter:card\" content=\"summary_large_image\">\n",
      "\n",
      "</head>\n",
      "<body>\n",
      "<div id=\"topContainer\">\n",
      "<div id=\"topLeft\">\n",
      "<ul>\n",
      "<li><a href=\"/archive\">Archive</a></li>\n",
      "<li><a href=\"http://what-if.xkcd.com\">What If?</a></li>\n",
      "<li><a href=\"http://blag.xkcd.com\">Blag</a></li>\n",
      "<li><a href=\"/how-to/\">How To</a></li>\n",
      "<li><a href=\"http://store.xkcd.com/\">Store</a></li>\n",
      "<li><a rel=\"author\" href=\"/about\">About</a></li>\n",
      "<li><a href=\"/atom.xml\">Feed</a> &bull; <a href=\"/newsletter/\">Email</a></li>\n",
      "</ul>\n",
      "</div>\n",
      "<div id=\"topRight\">\n",
      "<div id=\"masthead\">\n",
      "<span><a href=\"/\"><img src=\"/s/0b7742.png\" alt=\"xkcd.com logo\" height=\"83\" width=\"185\"/></a></span>\n",
      "<span id=\"slogan\">A webcomic of romance,<br/> sarcasm, math, and language.</span>\n",
      "</div>\n",
      "<div id=\"news\">\n",
      "<div id=\"htNews\">\n",
      "<a href=\"https://xkcd.com/how-to/\"><img border=0 src=\"//imgs.xkcd.com/static/howto_release_g38fq.png\"></a><br />\n",
      "You can get it here:<br />\n",
      "<a href=\"https://www.amazon.com/How-Absurd-Scientific-Real-World-Problems/dp/0525537090/\">Amazon</a>,\n",
      "    <a href=\"http://links.penguinrandomhouse.com/type/affiliate/isbn/9780525537090/siteID/8001/retailerid/2/trackingcode/PRH5522E62429\">B&N</a>,\n",
      "    <a href=\"http://links.penguinrandomhouse.com/type/affiliate/isbn/9780525537090/siteID/8001/retailerid/6/trackingcode/penguinrandom\">IndieBound</a>,\n",
      "    <a href=\"https://itunes.apple.com/us/book/how-to/id1451461524?mt=11\">Apple</a>,\n",
      "    <a href=\"https://www.audible.com/search?advsearchKeywords=How+To+Randall+Munroe&source_code=COMA0213WS031709&SID=PRHA9A5E24CFB--9780525635680\">Audible</a>,\n",
      "    <a href=\"http://links.penguinrandomhouse.com/type/affiliate/isbn/9780525537090/siteID/8001/retailerid/23/trackingcode/PRH3D17167A3B\">Target</a>\n",
      "</div>\n",
      "<script>\n",
      "var client = new XMLHttpRequest();\n",
      "client.open(\"GET\", \"//c.xkcd.com/how-to/news\", true);\n",
      "client.send();\n",
      "client.onreadystatechange = function() {\n",
      "  if(client.readyState == 4 && client.status == 200) {\n",
      "    document.getElementById(\"htNews\").innerHTML = client.responseText;\n",
      "  }\n",
      "}\n",
      "</script>\n",
      "\n",
      "</div>\n",
      "</div>\n",
      "<div id=\"bgLeft\" class=\"bg box\"></div>\n",
      "<div id=\"bgRight\" class=\"bg box\"></div>\n",
      "</div>\n",
      "<div id=\"middleContainer\" class=\"box\">\n",
      "\n",
      "<div id=\"ctitle\">Python</div>\n",
      "<ul class=\"comicNav\">\n",
      "<li><a href=\"/1/\">|&lt;</a></li>\n",
      "<li><a rel=\"prev\" href=\"/352/\" accesskey=\"p\">&lt; Prev</a></li>\n",
      "<li><a href=\"//c.xkcd.com/random/comic/\">Random</a></li>\n",
      "<li><a rel=\"next\" href=\"/354/\" accesskey=\"n\">Next &gt;</a></li>\n",
      "<li><a href=\"/\">&gt;|</a></li>\n",
      "</ul>\n",
      "<div id=\"comic\">\n",
      "<img src=\"//imgs.xkcd.com/comics/python.png\" title=\"I wrote 20 short programs in Python yesterday.  It was wonderful.  Perl, I&#39;m leaving you.\" alt=\"Python\" />\n",
      "</div>\n",
      "<ul class=\"comicNav\">\n",
      "<li><a href=\"/1/\">|&lt;</a></li>\n",
      "<li><a rel=\"prev\" href=\"/352/\" accesskey=\"p\">&lt; Prev</a></li>\n",
      "<li><a href=\"//c.xkcd.com/random/comic/\">Random</a></li>\n",
      "<li><a rel=\"next\" href=\"/354/\" accesskey=\"n\">Next &gt;</a></li>\n",
      "<li><a href=\"/\">&gt;|</a></li>\n",
      "</ul>\n",
      "<br />\n",
      "Permanent link to this comic: https://xkcd.com/353/<br />\n",
      "Image URL (for hotlinking/embedding): https://imgs.xkcd.com/comics/python.png\n",
      "<div id=\"transcript\" style=\"display: none\">[[ Guy 1 is talking to Guy 2, who is floating in the sky ]]\n",
      "Guy 1: You&#39;re flying! How?\n",
      "Guy 2: Python!\n",
      "Guy 2: I learned it last night! Everything is so simple!\n",
      "Guy 2: Hello world is just &#39;print &quot;Hello, World!&quot; &#39;\n",
      "Guy 1: I dunno... Dynamic typing? Whitespace?\n",
      "Guy 2: Come join us! Programming is fun again! It&#39;s a whole new world up here!\n",
      "Guy 1: But how are you flying?\n",
      "Guy 2: I just typed &#39;import antigravity&#39;\n",
      "Guy 1: That&#39;s it?\n",
      "Guy 2: ...I also sampled everything in the medicine cabinet for comparison.\n",
      "Guy 2: But i think this is the python.\n",
      "{{ I wrote 20 short programs in Python yesterday.  It was wonderful.  Perl, I&#39;m leaving you. }}</div>\n",
      "</div>\n",
      "<div id=\"bottom\" class=\"box\">\n",
      "<img src=\"//imgs.xkcd.com/s/a899e84.jpg\" width=\"520\" height=\"100\" alt=\"Selected Comics\" usemap=\"#comicmap\"/>\n",
      "<map id=\"comicmap\" name=\"comicmap\">\n",
      "<area shape=\"rect\" coords=\"0,0,100,100\" href=\"/150/\" alt=\"Grownups\"/>\n",
      "<area shape=\"rect\" coords=\"104,0,204,100\" href=\"/730/\" alt=\"Circuit Diagram\"/>\n",
      "<area shape=\"rect\" coords=\"208,0,308,100\" href=\"/162/\" alt=\"Angular Momentum\"/>\n",
      "<area shape=\"rect\" coords=\"312,0,412,100\" href=\"/688/\" alt=\"Self-Description\"/>\n",
      "<area shape=\"rect\" coords=\"416,0,520,100\" href=\"/556/\" alt=\"Alternative Energy Revolution\"/>\n",
      "</map>\n",
      "<br />\n",
      "<a href=\"//xkcd.com/1732/\"><img border=0 src=\"//imgs.xkcd.com/s/temperature.png\" width=\"520\" height=\"100\" alt=\"Earth temperature timeline\"></a>\n",
      "<br />\n",
      "<div>\n",
      "<!--\n",
      "Search comic titles and transcripts:\n",
      "<script type=\"text/javascript\" src=\"//www.google.com/jsapi\"></script>\n",
      "<script type=\"text/javascript\">google.load('search', '1');google.setOnLoadCallback(function() {google.search.CustomSearchControl.attachAutoCompletion('012652707207066138651:zudjtuwe28q',document.getElementById('q'),'cse-search-box');});</script>\n",
      "<form action=\"//www.google.com/cse\" id=\"cse-search-box\">\n",
      "<div>\n",
      "<input type=\"hidden\" name=\"cx\" value=\"012652707207066138651:zudjtuwe28q\"/>\n",
      "<input type=\"hidden\" name=\"ie\" value=\"UTF-8\"/>\n",
      "<input type=\"text\" name=\"q\" id=\"q\" size=\"31\"/>\n",
      "<input type=\"submit\" name=\"sa\" value=\"Search\"/>\n",
      "</div>\n",
      "</form>\n",
      "<script type=\"text/javascript\" src=\"//www.google.com/cse/brand?form=cse-search-box&amp;lang=en\"></script>\n",
      "-->\n",
      "<a href=\"/rss.xml\">RSS Feed</a> - <a href=\"/atom.xml\">Atom Feed</a> - <a href=\"/newsletter/\">Email</a>\n",
      "</div>\n",
      "<br />\n",
      "<div id=\"comicLinks\">\n",
      "Comics I enjoy:<br/>\n",
      "        <a href=\"http://threewordphrase.com/\">Three Word Phrase</a>,\n",
      "        <a href=\"http://www.smbc-comics.com/\">SMBC</a>,\n",
      "        <a href=\"http://www.qwantz.com\">Dinosaur Comics</a>,\n",
      "        <a href=\"http://oglaf.com/\">Oglaf</a> (nsfw),\n",
      "        <a href=\"http://www.asofterworld.com\">A Softer World</a>,\n",
      "        <a href=\"http://buttersafe.com/\">Buttersafe</a>,\n",
      "        <a href=\"http://pbfcomics.com/\">Perry Bible Fellowship</a>,\n",
      "        <a href=\"http://questionablecontent.net/\">Questionable Content</a>,\n",
      "        <a href=\"http://www.buttercupfestival.com/\">Buttercup Festival</a>,\n",
      "        <a href=\"http://www.mspaintadventures.com/?s=6&p=001901\">Homestuck</a>,\n",
      "\t<a href=\"http://www.jspowerhour.com/\">Junior Scientist Power Hour</a>\n",
      "</div>\n",
      "<br />\n",
      "<div id=\"comicLinks\">\n",
      "Other things:<br/>\n",
      "        <a href=\"https://medium.com/civic-tech-thoughts-from-joshdata/so-you-want-to-reform-democracy-7f3b1ef10597\">Tips on technology and government</a>,<br /> \n",
      "        <a href=\"https://www.nytimes.com/interactive/2017/climate/what-is-climate-change.html\">Climate FAQ</a>,\n",
      "\t<a href=\"https://twitter.com/KHayhoe\">Katharine Hayhoe</a>\n",
      "</div>\n",
      "<br />\n",
      "<center>\n",
      "<div id=\"footnote\" style=\"width:70%\">xkcd.com is best viewed with Netscape Navigator 4.0 or below on a Pentium 3&plusmn;1 emulated in Javascript on an Apple IIGS<br />at a screen resolution of 1024x1. Please enable your ad blockers, disable high-heat drying, and remove your device<br />from Airplane Mode and set it to Boat Mode. For security reasons, please leave caps lock on while browsing.</div>\n",
      "</center>\n",
      "<div id=\"licenseText\">\n",
      "<p>\n",
      "This work is licensed under a\n",
      "<a href=\"http://creativecommons.org/licenses/by-nc/2.5/\">Creative Commons Attribution-NonCommercial 2.5 License</a>.\n",
      "</p><p>\n",
      "This means you're free to copy and share these comics (but not to sell them). <a rel=\"license\" href=\"/license.html\">More details</a>.</p>\n",
      "</div>\n",
      "</div>\n",
      "</body>\n",
      "<!-- Layout by Ian Clasbey, davean, and chromakode -->\n",
      "</html>\n",
      "\n",
      "\n"
     ]
    }
   ],
   "source": [
    "print(r.text)"
   ]
  },
  {
   "cell_type": "code",
   "execution_count": 11,
   "metadata": {},
   "outputs": [
    {
     "name": "stdout",
     "output_type": "stream",
     "text": [
      "Help on Response in module requests.models object:\n",
      "\n",
      "class Response(builtins.object)\n",
      " |  The :class:`Response <Response>` object, which contains a\n",
      " |  server's response to an HTTP request.\n",
      " |  \n",
      " |  Methods defined here:\n",
      " |  \n",
      " |  __bool__(self)\n",
      " |      Returns True if :attr:`status_code` is less than 400.\n",
      " |      \n",
      " |      This attribute checks if the status code of the response is between\n",
      " |      400 and 600 to see if there was a client error or a server error. If\n",
      " |      the status code, is between 200 and 400, this will return True. This\n",
      " |      is **not** a check to see if the response code is ``200 OK``.\n",
      " |  \n",
      " |  __enter__(self)\n",
      " |  \n",
      " |  __exit__(self, *args)\n",
      " |  \n",
      " |  __getstate__(self)\n",
      " |  \n",
      " |  __init__(self)\n",
      " |      Initialize self.  See help(type(self)) for accurate signature.\n",
      " |  \n",
      " |  __iter__(self)\n",
      " |      Allows you to use a response as an iterator.\n",
      " |  \n",
      " |  __nonzero__(self)\n",
      " |      Returns True if :attr:`status_code` is less than 400.\n",
      " |      \n",
      " |      This attribute checks if the status code of the response is between\n",
      " |      400 and 600 to see if there was a client error or a server error. If\n",
      " |      the status code, is between 200 and 400, this will return True. This\n",
      " |      is **not** a check to see if the response code is ``200 OK``.\n",
      " |  \n",
      " |  __repr__(self)\n",
      " |      Return repr(self).\n",
      " |  \n",
      " |  __setstate__(self, state)\n",
      " |  \n",
      " |  close(self)\n",
      " |      Releases the connection back to the pool. Once this method has been\n",
      " |      called the underlying ``raw`` object must not be accessed again.\n",
      " |      \n",
      " |      *Note: Should not normally need to be called explicitly.*\n",
      " |  \n",
      " |  iter_content(self, chunk_size=1, decode_unicode=False)\n",
      " |      Iterates over the response data.  When stream=True is set on the\n",
      " |      request, this avoids reading the content at once into memory for\n",
      " |      large responses.  The chunk size is the number of bytes it should\n",
      " |      read into memory.  This is not necessarily the length of each item\n",
      " |      returned as decoding can take place.\n",
      " |      \n",
      " |      chunk_size must be of type int or None. A value of None will\n",
      " |      function differently depending on the value of `stream`.\n",
      " |      stream=True will read data as it arrives in whatever size the\n",
      " |      chunks are received. If stream=False, data is returned as\n",
      " |      a single chunk.\n",
      " |      \n",
      " |      If decode_unicode is True, content will be decoded using the best\n",
      " |      available encoding based on the response.\n",
      " |  \n",
      " |  iter_lines(self, chunk_size=512, decode_unicode=False, delimiter=None)\n",
      " |      Iterates over the response data, one line at a time.  When\n",
      " |      stream=True is set on the request, this avoids reading the\n",
      " |      content at once into memory for large responses.\n",
      " |      \n",
      " |      .. note:: This method is not reentrant safe.\n",
      " |  \n",
      " |  json(self, **kwargs)\n",
      " |      Returns the json-encoded content of a response, if any.\n",
      " |      \n",
      " |      :param \\*\\*kwargs: Optional arguments that ``json.loads`` takes.\n",
      " |      :raises ValueError: If the response body does not contain valid json.\n",
      " |  \n",
      " |  raise_for_status(self)\n",
      " |      Raises stored :class:`HTTPError`, if one occurred.\n",
      " |  \n",
      " |  ----------------------------------------------------------------------\n",
      " |  Data descriptors defined here:\n",
      " |  \n",
      " |  __dict__\n",
      " |      dictionary for instance variables (if defined)\n",
      " |  \n",
      " |  __weakref__\n",
      " |      list of weak references to the object (if defined)\n",
      " |  \n",
      " |  apparent_encoding\n",
      " |      The apparent encoding, provided by the chardet library.\n",
      " |  \n",
      " |  content\n",
      " |      Content of the response, in bytes.\n",
      " |  \n",
      " |  is_permanent_redirect\n",
      " |      True if this Response one of the permanent versions of redirect.\n",
      " |  \n",
      " |  is_redirect\n",
      " |      True if this Response is a well-formed HTTP redirect that could have\n",
      " |      been processed automatically (by :meth:`Session.resolve_redirects`).\n",
      " |  \n",
      " |  links\n",
      " |      Returns the parsed header links of the response, if any.\n",
      " |  \n",
      " |  next\n",
      " |      Returns a PreparedRequest for the next request in a redirect chain, if there is one.\n",
      " |  \n",
      " |  ok\n",
      " |      Returns True if :attr:`status_code` is less than 400, False if not.\n",
      " |      \n",
      " |      This attribute checks if the status code of the response is between\n",
      " |      400 and 600 to see if there was a client error or a server error. If\n",
      " |      the status code is between 200 and 400, this will return True. This\n",
      " |      is **not** a check to see if the response code is ``200 OK``.\n",
      " |  \n",
      " |  text\n",
      " |      Content of the response, in unicode.\n",
      " |      \n",
      " |      If Response.encoding is None, encoding will be guessed using\n",
      " |      ``chardet``.\n",
      " |      \n",
      " |      The encoding of the response content is determined based solely on HTTP\n",
      " |      headers, following RFC 2616 to the letter. If you can take advantage of\n",
      " |      non-HTTP knowledge to make a better guess at the encoding, you should\n",
      " |      set ``r.encoding`` appropriately before accessing this property.\n",
      " |  \n",
      " |  ----------------------------------------------------------------------\n",
      " |  Data and other attributes defined here:\n",
      " |  \n",
      " |  __attrs__ = ['_content', 'status_code', 'headers', 'url', 'history', '...\n",
      "\n",
      "None\n"
     ]
    }
   ],
   "source": [
    "print(help(r))"
   ]
  },
  {
   "cell_type": "code",
   "execution_count": 12,
   "metadata": {},
   "outputs": [
    {
     "data": {
      "text/plain": [
       "b'<!DOCTYPE html>\\n<html>\\n<head>\\n<link rel=\"stylesheet\" type=\"text/css\" href=\"/s/b0dcca.css\" title=\"Default\"/>\\n<title>xkcd: Python</title>\\n<meta http-equiv=\"X-UA-Compatible\" content=\"IE=edge\"/>\\n<link rel=\"shortcut icon\" href=\"/s/919f27.ico\" type=\"image/x-icon\"/>\\n<link rel=\"icon\" href=\"/s/919f27.ico\" type=\"image/x-icon\"/>\\n<link rel=\"alternate\" type=\"application/atom+xml\" title=\"Atom 1.0\" href=\"/atom.xml\"/>\\n<link rel=\"alternate\" type=\"application/rss+xml\" title=\"RSS 2.0\" href=\"/rss.xml\"/>\\n<script type=\"text/javascript\" src=\"/s/b66ed7.js\" async></script>\\n<script type=\"text/javascript\" src=\"/s/1b9456.js\" async></script>\\n\\n<meta property=\"og:site_name\" content=\"xkcd\">\\n\\n<meta property=\"og:title\" content=\"Python\">\\n<meta property=\"og:url\" content=\"https://xkcd.com/353/\">\\n<meta property=\"og:image\" content=\"https://imgs.xkcd.com/comics/\">\\n<meta name=\"twitter:card\" content=\"summary_large_image\">\\n\\n</head>\\n<body>\\n<div id=\"topContainer\">\\n<div id=\"topLeft\">\\n<ul>\\n<li><a href=\"/archive\">Archive</a></li>\\n<li><a href=\"http://what-if.xkcd.com\">What If?</a></li>\\n<li><a href=\"http://blag.xkcd.com\">Blag</a></li>\\n<li><a href=\"/how-to/\">How To</a></li>\\n<li><a href=\"http://store.xkcd.com/\">Store</a></li>\\n<li><a rel=\"author\" href=\"/about\">About</a></li>\\n<li><a href=\"/atom.xml\">Feed</a> &bull; <a href=\"/newsletter/\">Email</a></li>\\n</ul>\\n</div>\\n<div id=\"topRight\">\\n<div id=\"masthead\">\\n<span><a href=\"/\"><img src=\"/s/0b7742.png\" alt=\"xkcd.com logo\" height=\"83\" width=\"185\"/></a></span>\\n<span id=\"slogan\">A webcomic of romance,<br/> sarcasm, math, and language.</span>\\n</div>\\n<div id=\"news\">\\n<div id=\"htNews\">\\n<a href=\"https://xkcd.com/how-to/\"><img border=0 src=\"//imgs.xkcd.com/static/howto_release_g38fq.png\"></a><br />\\nYou can get it here:<br />\\n<a href=\"https://www.amazon.com/How-Absurd-Scientific-Real-World-Problems/dp/0525537090/\">Amazon</a>,\\n    <a href=\"http://links.penguinrandomhouse.com/type/affiliate/isbn/9780525537090/siteID/8001/retailerid/2/trackingcode/PRH5522E62429\">B&N</a>,\\n    <a href=\"http://links.penguinrandomhouse.com/type/affiliate/isbn/9780525537090/siteID/8001/retailerid/6/trackingcode/penguinrandom\">IndieBound</a>,\\n    <a href=\"https://itunes.apple.com/us/book/how-to/id1451461524?mt=11\">Apple</a>,\\n    <a href=\"https://www.audible.com/search?advsearchKeywords=How+To+Randall+Munroe&source_code=COMA0213WS031709&SID=PRHA9A5E24CFB--9780525635680\">Audible</a>,\\n    <a href=\"http://links.penguinrandomhouse.com/type/affiliate/isbn/9780525537090/siteID/8001/retailerid/23/trackingcode/PRH3D17167A3B\">Target</a>\\n</div>\\n<script>\\nvar client = new XMLHttpRequest();\\nclient.open(\"GET\", \"//c.xkcd.com/how-to/news\", true);\\nclient.send();\\nclient.onreadystatechange = function() {\\n  if(client.readyState == 4 && client.status == 200) {\\n    document.getElementById(\"htNews\").innerHTML = client.responseText;\\n  }\\n}\\n</script>\\n\\n</div>\\n</div>\\n<div id=\"bgLeft\" class=\"bg box\"></div>\\n<div id=\"bgRight\" class=\"bg box\"></div>\\n</div>\\n<div id=\"middleContainer\" class=\"box\">\\n\\n<div id=\"ctitle\">Python</div>\\n<ul class=\"comicNav\">\\n<li><a href=\"/1/\">|&lt;</a></li>\\n<li><a rel=\"prev\" href=\"/352/\" accesskey=\"p\">&lt; Prev</a></li>\\n<li><a href=\"//c.xkcd.com/random/comic/\">Random</a></li>\\n<li><a rel=\"next\" href=\"/354/\" accesskey=\"n\">Next &gt;</a></li>\\n<li><a href=\"/\">&gt;|</a></li>\\n</ul>\\n<div id=\"comic\">\\n<img src=\"//imgs.xkcd.com/comics/python.png\" title=\"I wrote 20 short programs in Python yesterday.  It was wonderful.  Perl, I&#39;m leaving you.\" alt=\"Python\" />\\n</div>\\n<ul class=\"comicNav\">\\n<li><a href=\"/1/\">|&lt;</a></li>\\n<li><a rel=\"prev\" href=\"/352/\" accesskey=\"p\">&lt; Prev</a></li>\\n<li><a href=\"//c.xkcd.com/random/comic/\">Random</a></li>\\n<li><a rel=\"next\" href=\"/354/\" accesskey=\"n\">Next &gt;</a></li>\\n<li><a href=\"/\">&gt;|</a></li>\\n</ul>\\n<br />\\nPermanent link to this comic: https://xkcd.com/353/<br />\\nImage URL (for hotlinking/embedding): https://imgs.xkcd.com/comics/python.png\\n<div id=\"transcript\" style=\"display: none\">[[ Guy 1 is talking to Guy 2, who is floating in the sky ]]\\nGuy 1: You&#39;re flying! How?\\nGuy 2: Python!\\nGuy 2: I learned it last night! Everything is so simple!\\nGuy 2: Hello world is just &#39;print &quot;Hello, World!&quot; &#39;\\nGuy 1: I dunno... Dynamic typing? Whitespace?\\nGuy 2: Come join us! Programming is fun again! It&#39;s a whole new world up here!\\nGuy 1: But how are you flying?\\nGuy 2: I just typed &#39;import antigravity&#39;\\nGuy 1: That&#39;s it?\\nGuy 2: ...I also sampled everything in the medicine cabinet for comparison.\\nGuy 2: But i think this is the python.\\n{{ I wrote 20 short programs in Python yesterday.  It was wonderful.  Perl, I&#39;m leaving you. }}</div>\\n</div>\\n<div id=\"bottom\" class=\"box\">\\n<img src=\"//imgs.xkcd.com/s/a899e84.jpg\" width=\"520\" height=\"100\" alt=\"Selected Comics\" usemap=\"#comicmap\"/>\\n<map id=\"comicmap\" name=\"comicmap\">\\n<area shape=\"rect\" coords=\"0,0,100,100\" href=\"/150/\" alt=\"Grownups\"/>\\n<area shape=\"rect\" coords=\"104,0,204,100\" href=\"/730/\" alt=\"Circuit Diagram\"/>\\n<area shape=\"rect\" coords=\"208,0,308,100\" href=\"/162/\" alt=\"Angular Momentum\"/>\\n<area shape=\"rect\" coords=\"312,0,412,100\" href=\"/688/\" alt=\"Self-Description\"/>\\n<area shape=\"rect\" coords=\"416,0,520,100\" href=\"/556/\" alt=\"Alternative Energy Revolution\"/>\\n</map>\\n<br />\\n<a href=\"//xkcd.com/1732/\"><img border=0 src=\"//imgs.xkcd.com/s/temperature.png\" width=\"520\" height=\"100\" alt=\"Earth temperature timeline\"></a>\\n<br />\\n<div>\\n<!--\\nSearch comic titles and transcripts:\\n<script type=\"text/javascript\" src=\"//www.google.com/jsapi\"></script>\\n<script type=\"text/javascript\">google.load(\\'search\\', \\'1\\');google.setOnLoadCallback(function() {google.search.CustomSearchControl.attachAutoCompletion(\\'012652707207066138651:zudjtuwe28q\\',document.getElementById(\\'q\\'),\\'cse-search-box\\');});</script>\\n<form action=\"//www.google.com/cse\" id=\"cse-search-box\">\\n<div>\\n<input type=\"hidden\" name=\"cx\" value=\"012652707207066138651:zudjtuwe28q\"/>\\n<input type=\"hidden\" name=\"ie\" value=\"UTF-8\"/>\\n<input type=\"text\" name=\"q\" id=\"q\" size=\"31\"/>\\n<input type=\"submit\" name=\"sa\" value=\"Search\"/>\\n</div>\\n</form>\\n<script type=\"text/javascript\" src=\"//www.google.com/cse/brand?form=cse-search-box&amp;lang=en\"></script>\\n-->\\n<a href=\"/rss.xml\">RSS Feed</a> - <a href=\"/atom.xml\">Atom Feed</a> - <a href=\"/newsletter/\">Email</a>\\n</div>\\n<br />\\n<div id=\"comicLinks\">\\nComics I enjoy:<br/>\\n        <a href=\"http://threewordphrase.com/\">Three Word Phrase</a>,\\n        <a href=\"http://www.smbc-comics.com/\">SMBC</a>,\\n        <a href=\"http://www.qwantz.com\">Dinosaur Comics</a>,\\n        <a href=\"http://oglaf.com/\">Oglaf</a> (nsfw),\\n        <a href=\"http://www.asofterworld.com\">A Softer World</a>,\\n        <a href=\"http://buttersafe.com/\">Buttersafe</a>,\\n        <a href=\"http://pbfcomics.com/\">Perry Bible Fellowship</a>,\\n        <a href=\"http://questionablecontent.net/\">Questionable Content</a>,\\n        <a href=\"http://www.buttercupfestival.com/\">Buttercup Festival</a>,\\n        <a href=\"http://www.mspaintadventures.com/?s=6&p=001901\">Homestuck</a>,\\n\\t<a href=\"http://www.jspowerhour.com/\">Junior Scientist Power Hour</a>\\n</div>\\n<br />\\n<div id=\"comicLinks\">\\nOther things:<br/>\\n        <a href=\"https://medium.com/civic-tech-thoughts-from-joshdata/so-you-want-to-reform-democracy-7f3b1ef10597\">Tips on technology and government</a>,<br /> \\n        <a href=\"https://www.nytimes.com/interactive/2017/climate/what-is-climate-change.html\">Climate FAQ</a>,\\n\\t<a href=\"https://twitter.com/KHayhoe\">Katharine Hayhoe</a>\\n</div>\\n<br />\\n<center>\\n<div id=\"footnote\" style=\"width:70%\">xkcd.com is best viewed with Netscape Navigator 4.0 or below on a Pentium 3&plusmn;1 emulated in Javascript on an Apple IIGS<br />at a screen resolution of 1024x1. Please enable your ad blockers, disable high-heat drying, and remove your device<br />from Airplane Mode and set it to Boat Mode. For security reasons, please leave caps lock on while browsing.</div>\\n</center>\\n<div id=\"licenseText\">\\n<p>\\nThis work is licensed under a\\n<a href=\"http://creativecommons.org/licenses/by-nc/2.5/\">Creative Commons Attribution-NonCommercial 2.5 License</a>.\\n</p><p>\\nThis means you\\'re free to copy and share these comics (but not to sell them). <a rel=\"license\" href=\"/license.html\">More details</a>.</p>\\n</div>\\n</div>\\n</body>\\n<!-- Layout by Ian Clasbey, davean, and chromakode -->\\n</html>\\n\\n'"
      ]
     },
     "execution_count": 12,
     "metadata": {},
     "output_type": "execute_result"
    }
   ],
   "source": [
    "r.content"
   ]
  },
  {
   "cell_type": "code",
   "execution_count": 16,
   "metadata": {},
   "outputs": [],
   "source": [
    "f=open(\"comic.png\",\"wb\")"
   ]
  },
  {
   "cell_type": "code",
   "execution_count": 17,
   "metadata": {},
   "outputs": [],
   "source": [
    "f.close()"
   ]
  },
  {
   "cell_type": "code",
   "execution_count": 19,
   "metadata": {},
   "outputs": [
    {
     "data": {
      "text/plain": [
       "'https://xkcd.com/353/'"
      ]
     },
     "execution_count": 19,
     "metadata": {},
     "output_type": "execute_result"
    }
   ],
   "source": [
    "r.url"
   ]
  },
  {
   "cell_type": "code",
   "execution_count": 20,
   "metadata": {},
   "outputs": [
    {
     "name": "stdout",
     "output_type": "stream",
     "text": [
      "<Response [200]>\n"
     ]
    }
   ],
   "source": [
    "print(r)"
   ]
  },
  {
   "cell_type": "markdown",
   "metadata": {},
   "source": [
    "# urllib module"
   ]
  },
  {
   "cell_type": "code",
   "execution_count": 8,
   "metadata": {},
   "outputs": [],
   "source": [
    "import urllib"
   ]
  },
  {
   "cell_type": "code",
   "execution_count": 11,
   "metadata": {},
   "outputs": [],
   "source": [
    "a=urllib.request.urlopen(\"https://www.w3schools.com/\")"
   ]
  },
  {
   "cell_type": "code",
   "execution_count": 12,
   "metadata": {},
   "outputs": [],
   "source": [
    "b=a.read()"
   ]
  },
  {
   "cell_type": "code",
   "execution_count": 13,
   "metadata": {},
   "outputs": [
    {
     "name": "stdout",
     "output_type": "stream",
     "text": [
      "b'\\r\\n<!DOCTYPE html>\\r\\n<html lang=\"en-US\">\\r\\n<head>\\r\\n<title>W3Schools Online Web Tutorials</title>\\r\\n<meta charset=\"utf-8\">\\r\\n<meta name=\"viewport\" content=\"width=device-width, initial-scale=1\">\\r\\n<meta name=\"Keywords\" content=\"HTML,CSS,JavaScript,DOM,jQuery,PHP,SQL,XML,Python,Java,Bootstrap,Web,W3CSS,W3C,tutorials,programming,development,training,learning,quiz,primer,lessons,reference,examples,source code,colors,demos,tips,w3c\">\\r\\n<link rel=\"icon\" href=\"/favicon.ico\" type=\"image/x-icon\">\\r\\n<link rel=\"stylesheet\" href=\"w3css/4/w3.css\">\\r\\n<script>\\r\\n(function() {\\r\\nvar cx = \\'012971019331610648934:m2tou3_miwy\\';\\r\\nvar gcse = document.createElement(\\'script\\'); gcse.type = \\'text/javascript\\'; gcse.async = true;\\r\\ngcse.src = \\'https://www.google.com/cse/cse.js?cx=\\' + cx;\\r\\nvar s = document.getElementsByTagName(\\'script\\')[0]; s.parentNode.insertBefore(gcse, s);\\r\\n})();\\r\\n(function(i,s,o,g,r,a,m){i[\\'GoogleAnalyticsObject\\']=r;i[r]=i[r]||function(){\\r\\n(i[r].q=i[r].q||[]).push(arguments)},i[r].l=1*new Date();a=s.createElement(o),\\r\\nm=s.getElementsByTagName(o)[0];a.async=1;a.src=g;m.parentNode.insertBefore(a,m)\\r\\n})(window,document,\\'script\\',\\'https://www.google-analytics.com/analytics.js\\',\\'ga\\');\\r\\nga(\\'create\\', \\'UA-3855518-1\\', \\'auto\\');\\r\\nga(\\'require\\', \\'displayfeatures\\');\\r\\nga(\\'send\\', \\'pageview\\');\\r\\n</script>\\r\\n<style>\\r\\n/* W3Schools Font Logo */\\r\\n.w3schools-logo {\\r\\nfont-family:fontawesome;\\r\\ntext-decoration:none;\\r\\nline-height: 1;\\r\\n-webkit-font-smoothing: antialiased;\\r\\n-moz-osx-font-smoothing: grayscale;\\r\\nfont-size:37px;\\r\\nletter-spacing:3px;\\r\\ncolor:#555555;\\r\\ndisplay:block;\\r\\nposition:relative;\\r\\n}\\r\\n.w3schools-logo .dotcom {color:#4CAF50;}\\r\\n@font-face {\\r\\nfont-family:\\'fontawesome\\';\\r\\nsrc:url(\\'../lib/fonts/fontawesome.eot?14663396#iefix\\') format(\\'embedded-opentype\\'),\\r\\nurl(\\'../lib/fonts/fontawesome.woff?14663396\\') format(\\'woff\\'),\\r\\nurl(\\'../lib/fonts/fontawesome.ttf?14663396\\') format(\\'truetype\\'),\\r\\nurl(\\'../lib/fonts/fontawesome.svg?14663396#fontawesome\\') format(\\'svg\\');\\r\\nfont-style:normal;\\r\\n}\\r\\n.fa {\\r\\ndisplay:inline-block;\\r\\nfont:normal normal normal 14px/1 FontAwesome;\\r\\nfont-size:20px;\\r\\ntext-rendering:auto;\\r\\n-webkit-font-smoothing:antialiased;\\r\\n-moz-osx-font-smoothing:grayscale;\\r\\ntransform:translate(0,0);\\r\\n}\\r\\n.fa-home:before {content:\\'\\\\e800\\';}\\r\\n.fa-menu:before {content: \\'\\\\f0c9\\';}\\r\\n.fa-globe:before {content:\\'\\\\e801\\';}\\r\\n.fa-search:before {content:\\'\\\\e802\\'; }\\r\\n.fa-thumbs-o-up:before {content:\\'\\\\e803\\';}\\r\\n.fa-left-open:before {content:\\'\\\\e804\\';}\\r\\n.fa-right-open:before {content:\\'\\\\e805\\';}\\r\\n.fa-caret-down:before {content:\\'\\\\e809\\';}\\r\\n.fa-caret-up:before {content:\\'\\\\e80a\\';}\\r\\n/* Google */\\r\\n#nav_translate, #nav_search {display:none;}\\r\\n#nav_translate a {display:inline;}\\r\\n#googleSearch {color:#000000;}\\r\\n.searchdiv {\\r\\nmax-width:400px;\\r\\nmargin:auto;\\r\\ntext-align:left;\\r\\nfont-size:16px;\\r\\n}\\r\\ndiv.cse .gsc-control-cse, div.gsc-control-cse {\\r\\nbackground-color:transparent;\\r\\nborder:none;\\r\\npadding:0px;\\r\\nmargin:0px;\\r\\n}\\r\\ntd.gsc-search-button input.gsc-search-button {background-color:#555555;border-color:#555555;}\\r\\ninput.gsc-input, .gsc-input-box, .gsc-input-box-hover, .gsc-input-box-focus, .gsc-search-button {\\r\\nbox-sizing:content-box;\\r\\nline-height:normal;\\r\\n}\\r\\n.gsc-tabsArea div {overflow:visible;}\\r\\n.gsst_a .gscb_a {margin-top:3px;}\\r\\n/* Customize W3.CSS */\\r\\n#nav_tutorials,#nav_references,#nav_examples,#nav_exercises {\\r\\ndisplay:none;\\r\\npadding-bottom:40px;\\r\\nposition:absolute;\\r\\nwidth:100%;\\r\\nz-index:5 !important;\\r\\n}\\r\\n.w3-col .w3-button {\\r\\nmargin:5px 5px 5px 0;\\r\\nfont-size:16px;\\r\\n}\\r\\n.w3-col.l4 .w3-card-2 {\\r\\npadding:15px 10px;\\r\\nheight:260px;\\r\\n}\\r\\n.w3-theme {color:#fff !important;background-color:#4CAF50 !important;}\\r\\n.w3-main {margin-left:230px;}\\r\\n.w3-sidebar {\\r\\nz-index:3;\\r\\nwidth:230px;\\r\\noverflow:hidden !important;\\r\\nposition:absolute !important;\\r\\nmargin-bottom:-155px;\\r\\n}\\r\\n.w3-sidebar .w3-bar-block .w3-bar-item{\\r\\npadding:0 16px;\\r\\nfont-size:16px; \\r\\n}\\r\\n.w3-bar {\\r\\nposition:relative;\\r\\nz-index:4;\\r\\nfont-size:17px;\\r\\n}\\r\\n.w3-wide {\\r\\nfont-family:\"Segoe UI\",Arial,sans-serif;\\r\\n}\\r\\nh1 {\\r\\nfont-size:80px;\\r\\ncolor:#555555;\\r\\nmargin:2px 0 -20px 0 !important;\\r\\n}\\r\\n.certoverlay {\\r\\n  position:absolute;\\r\\n  top:0;\\r\\n  background-color:rgba(0, 0, 0, 0.5);\\r\\n  width:100%;\\r\\n  text-align:center;\\r\\n  padding:15px\\r\\n}\\r\\n.certoverlay h2 {\\r\\n  margin:10px 0 0 0;\\r\\n  font-size:36px;\\r\\n}\\r\\n.certoverlay h3 {\\r\\n  margin:0 0 10px 0;\\r\\n}\\r\\n.tagcolor{color:mediumblue}\\r\\n.tagnamecolor{color:brown}\\r\\n.attributecolor{color:red}\\r\\n.attributevaluecolor{color:mediumblue}\\r\\n.commentcolor{color:green}\\r\\n.cssselectorcolor{color:brown}\\r\\n.csspropertycolor{color:red}\\r\\n.csspropertyvaluecolor{color:mediumblue}\\r\\n.cssdelimitercolor{color:black}\\r\\n.cssimportantcolor{color:red}  \\r\\n.jscolor{color:black}\\r\\n.jskeywordcolor{color:mediumblue}\\r\\n.jsstringcolor{color:brown}\\r\\n.jsnumbercolor{color:red}\\r\\n.jspropertycolor{color:black}\\r\\n.javacolor{color:black}\\r\\n.javakeywordcolor{color:mediumblue}\\r\\n.javastringcolor{color:brown}\\r\\n.javanumbercolor{color:red}\\r\\n.javapropertycolor{color:black}\\r\\n.kotlincolor{color:black}\\r\\n.kotlinkeywordcolor{color:mediumblue}\\r\\n.kotlinstringcolor{color:brown}\\r\\n.kotlinnumbercolor{color:red}\\r\\n.kotlinpropertycolor{color:black}\\r\\n.phptagcolor{color:red}\\r\\n.phpcolor{color:black}\\r\\n.phpkeywordcolor{color:mediumblue}\\r\\n.phpglobalcolor{color:goldenrod}\\r\\n.phpstringcolor{color:brown}\\r\\n.phpnumbercolor{color:red}  \\r\\n.pythoncolor{color:black}\\r\\n.pythonkeywordcolor{color:mediumblue}\\r\\n.pythonstringcolor{color:brown}\\r\\n.pythonnumbercolor{color:red}  \\r\\n.angularstatementcolor{color:red}\\r\\n.sqlcolor{color:black}\\r\\n.sqlkeywordcolor{color:mediumblue}\\r\\n.sqlstringcolor{color:brown}\\r\\n.sqlnumbercolor{color:} \\r\\n.darktheme .w3-code{background-color:rgb(40,44,52);color:white;border-left-color:rgb(40,44,52)!important}\\r\\n.darktheme .w3-example pre{background-color:rgb(40,44,52)!important;border-left-color:rgb(40,44,52)}\\r\\n.darktheme .tagcolor{color:#88ccbb/*green2*/!important}\\r\\n.darktheme .tagnamecolor{color:#ff9999/*red*/!important}\\r\\n.darktheme .attributecolor{color:#c5a5c5/*purple*/!important}\\r\\n.darktheme .attributevaluecolor{color:#88c999/*green*/!important}\\r\\n.darktheme .commentcolor{color:#999!important}\\r\\n.darktheme .cssselectorcolor{color:#ff9999/*red*/!important}\\r\\n.darktheme .csspropertycolor{color:#c5a5c5/*purple*/!important}\\r\\n.darktheme .csspropertyvaluecolor{color:#88c999/*green*/!important}\\r\\n.darktheme .cssdelimitercolor{color:white!important}\\r\\n.darktheme .cssimportantcolor{color:#ff9999/*red*/!important}\\r\\n.darktheme .jscolor{color:white!important}\\r\\n.darktheme .jskeywordcolor{color:#c5a5c5/*purple*/!important}\\r\\n.darktheme .jsstringcolor{color:#88c999/*green*/!important}\\r\\n.darktheme .jsnumbercolor{color:#80b6ff/*blue*/!important}\\r\\n.darktheme .jspropertycolor{color:white!important}\\r\\n.darktheme .javacolor{color:white!important}\\r\\n.darktheme .javakeywordcolor{color:#88c999/*green*/!important}\\r\\n.darktheme .javastringcolor{color:#88c999/*green*/!important}\\r\\n.darktheme .javanumbercolor{color:#88c999/*green*/!important}\\r\\n.darktheme .javapropertycolor{color:white!important}\\r\\n.darktheme .kotlincolor{color:white!important}\\r\\n.darktheme .kotlinkeywordcolor{color:#88c999/*green*/!important}\\r\\n.darktheme .kotlinstringcolor{color:#88c999/*green*/!important}\\r\\n.darktheme .kotlinnumbercolor{color:#88c999/*green*/!important}\\r\\n.darktheme .kotlinpropertycolor{color:white!important}\\r\\n.darktheme .phptagcolor{color:#999!important}\\r\\n.darktheme .phpcolor{color:white!important}\\r\\n.darktheme .phpkeywordcolor{color:#ff9999/*red*/!important}\\r\\n.darktheme .phpglobalcolor{color:white!important}\\r\\n.darktheme .phpstringcolor{color:#88c999/*green*/!important}\\r\\n.darktheme .phpnumbercolor{color:#88c999/*green*/!important}\\r\\n.darktheme .pythoncolor{color:white!important}\\r\\n.darktheme .pythonkeywordcolor{color:#ff9999/*red*/!important}\\r\\n.darktheme .pythonstringcolor{color:#88c999/*green*/!important}\\r\\n.darktheme .pythonnumbercolor{color:#88c999/*green*/!important}\\r\\n.darktheme .angularstatementcolor{color:#ff9999/*red*/!important}\\r\\n.darktheme .sqlcolor{color:white!important}\\r\\n.darktheme .sqlkeywordcolor{color:#80b6ff/*blue*/!important}\\r\\n.darktheme .sqlstringcolor{color:#88c999/*green*/!important}\\r\\n.darktheme .sqlnumbercolor{color:}\\r\\n\\r\\n@media screen and (min-width:769px){.w3-sidebar.w3-collapse{display:block !important;}}\\r\\n@media screen and (min-width:769px){#myAccordion,.hidesm{display:none !important;}}\\r\\n@media screen and (min-width:769px){.w3-main{margin-left:230px !important;}.w3-bar-block .w3-button{padding:0;}}\\r\\n@media screen and (max-width:768px){.w3-sidebar.w3-collapse,.barex,.navex{display:none !important;}.w3-bar-block .w3-bar-item{text-align:center !important;padding:2px 0;}h1,.w3-jumbo{font-size:60px !important;}}\\r\\n@media screen and (max-width:545px){.certoverlay{padding:10px;height:100%;}.certoverlay h3{font-size:15px;}}\\r\\n@media screen and (max-width:380px){.getcert{position:absolute;text-align:center;left:50%;bottom:50%;font-size:13px;}}\\r\\n@media only screen and (max-device-width: 1366px){.w3-hide-device{display:none;}}\\r\\n</style>\\r\\n<!--[if lt IE 9]>\\r\\n<script src=\"https://oss.maxcdn.com/libs/html5shiv/3.7.0/html5shiv.js\"></script>\\r\\n<script src=\"https://oss.maxcdn.com/libs/respond.js/1.4.2/respond.min.js\"></script>\\r\\n<![endif]-->\\r\\n<!-- begin cmp -->\\r\\n\\t<script src=\"//static.h-bid.com/sncmp/latest/sncmp_stub.min.js\" type=\"text/javascript\"></script>\\r\\n<script>\\r\\n\\t\\t\\twindow.__cmp(\\'setLogo\\', \"//www.w3schools.com/images/w3schoolscom_gray.gif\", function(result){\\r\\n\\t       \\t\\t//snhb.console.log(\"Logo set\");\\r\\n\\t    \\t});\\r\\n\\t\\t\\twindow.__cmp(\\'setPrivacyPolicy\\', \"//www.w3schools.com/about/about_privacy.asp\", function(result){\\r\\n\\t       \\t\\t//snhb.console.log(\"Privacy policy URI set\");\\r\\n\\t    \\t});\\r\\n\\t\\t\\t__cmp(\\'forceLocale\\', \\'en\\', function(result){\\r\\n\\t    });\\r\\n\\t\\t\\twindow.__cmp(\\'enableWelcomeBanner\\', null, function(result) {\\r\\n\\t       \\t\\t//snhb.console.log(\"Banner mode enabled\");\\r\\n\\t\\t\\t});\\r\\n\\t\\t\\t__cmp(\\'enablePopupDismissable\\', null, function(result) {});\\r\\n\\t\\t\\twindow.__cmp(\\'disableBannerPrivacyPolicyButton\\', null, function(result) {\\r\\n\\t       \\t\\t//snhb.console.log(\"Banner mode without privacy policy button enabled\");\\r\\n\\t\\t\\t});\\r\\n      window.__cmp(\\'setTranslationFiles\\', { path: \\'//www.w3schools.com/lib/\\', locales: [\"en\"] }, function(result) {});\\r\\n      __cmp(\\'setCSS\\', \\'//www.w3schools.com/lib/cmp.css?date=20190315\\', function(result){} );\\r\\n</script>\\r\\n<script async type=\"text/javascript\" src=\"//static.h-bid.com/w3schools.com/20200121/snhb-w3schools.com.min.js\"></script>\\r\\n<!-- end cmp -->\\r\\n</head>\\r\\n<body style=\"position:relative;min-height:100%;\">\\r\\n\\r\\n<div class=\"w3-row w3-white w3-padding w3-hide-medium w3-hide-small\" style=\"margin-top:5px;\">\\r\\n <div class=\"w3-col s5 notranslate\" style=\"margin:4px 0 6px 0\"><a class=\\'w3schools-logo\\' href=\\'//www.w3schools.com\\'>w3schools<span class=\\'dotcom\\'>.com</span></a></div>\\r\\n <div class=\"w3-col s7 w3-margin-top w3-wide w3-hide-medium w3-hide-small\">\\r\\n  <div class=\"w3-right\" style=\"position:relative;top:5px;\">THE WORLD\\'S LARGEST WEB DEVELOPER SITE</div>\\r\\n </div>\\r\\n</div>\\r\\n\\r\\n<div class=\"w3-hide-large w3-hide-large w3-padding-16\">\\r\\n <div class=\"w3-center notranslate\"><a class=\\'w3schools-logo\\' href=\\'//www.w3schools.com\\'>w3schools<span class=\\'dotcom\\'>.com</span></a></div>\\r\\n <div class=\"w3-center w3-wide w3-hide-small\" style=\"margin:14px 0 -5px 0\">THE WORLD\\'S LARGEST WEB DEVELOPER SITE</div>\\r\\n</div>\\r\\n\\r\\n<div style=\\'display:none;position:absolute;z-index:6;right:60px;height:57px;padding-top:12px;padding-right:20px;background-color:#4CAF50;\\' id=\\'googleSearch\\'><div class=\\'gcse-search\\'></div></div>\\r\\n<div style=\\'display:none;position:absolute;z-index:5;right:120px;height:57px;background-color:#4CAF50;text-align:right;padding-top:15px;\\' id=\\'google_translate_element\\'></div>\\r\\n\\r\\n<div class=\"w3-bar w3-theme w3-card-2 w3-wide notranslate\">\\r\\n <a class=\"w3-bar-item w3-button w3-hover-white w3-padding-16 hidesm\" href=\"javascript:void(0)\" onclick=\"w3_open()\"><i class=\\'fa\\'>&#xf0c9;</i></a>\\r\\n <a class=\"w3-bar-item w3-button barex w3-hover-white w3-padding-16\" href=\"javascript:void(0)\" onclick=\"w3_open_nav(\\'tutorials\\')\" id=\"navbtn_tutorials\">TUTORIALS <i class=\\'fa fa-caret-down\\'></i><i class=\\'fa fa-caret-up\\' style=\"display:none\"></i></a>\\r\\n <a class=\"w3-bar-item w3-button barex w3-hover-white w3-padding-16\" href=\"javascript:void(0)\" onclick=\"w3_open_nav(\\'references\\')\" id=\"navbtn_references\">REFERENCES <i class=\\'fa fa-caret-down\\'></i><i class=\\'fa fa-caret-up\\' style=\"display:none\"></i></a>\\r\\n <a class=\"w3-bar-item w3-button barex w3-hover-white w3-padding-16\" href=\"javascript:void(0)\" onclick=\"w3_open_nav(\\'examples\\')\" id=\"navbtn_examples\">EXAMPLES <i class=\\'fa fa-caret-down\\'></i><i class=\\'fa fa-caret-up\\' style=\"display:none\"></i></a>\\r\\n <a class=\"w3-bar-item w3-button barex w3-hover-white w3-padding-16 w3-hide-medium w3-hide-small\" href=\"javascript:void(0)\" onclick=\"w3_open_nav(\\'exercises\\')\" id=\"navbtn_exercises\">EXERCISES <i class=\\'fa fa-caret-down\\'></i><i class=\\'fa fa-caret-up\\' style=\"display:none\"></i></a>\\r\\n <div class=\"w3-right\">\\r\\n  <a class=\"w3-bar-item w3-button w3-hover-white w3-padding-16 w3-right\" href=\"javascript:void(0)\" onclick=\"open_search(this)\" title=\\'Search W3Schools\\'><i class=\\'fa\\'>&#xe802;</i></a>\\r\\n  <a class=\"w3-bar-item w3-button w3-hover-white w3-padding-16 w3-right\" href=\"javascript:void(0)\" onclick=\"open_translate(this)\" title=\\'Translate W3Schools\\'><i class=\\'fa\\'>&#xe801;</i></a>\\r\\n  <a class=\"w3-bar-item w3-button w3-hover-white w3-padding-16 w3-right w3-hide-small\" href=\"javascript:void(0)\" onclick=\"changecodetheme(this)\" title=\\'Toggle Dark Code\\'><i class=\\'fa\\'>&#xe80b;</i></a>\\r\\n </div>\\r\\n</div>\\r\\n\\r\\n<nav class=\"w3-sidebar w3-collapse w3-white w3-card-2\" id=\"mySidenav\">\\r\\n<div class=\"w3-bar-block\">\\r\\n <div class=\"w3-container\">\\r\\n  <h4 class=\"w3-margin-top\">HTML and CSS</h4>\\r\\n </div>\\r\\n <a class=\"w3-bar-item w3-button\" href=\"/html/default.asp\">Learn HTML</a>\\r\\n <a class=\"w3-bar-item w3-button\" href=\"/css/default.asp\">Learn CSS</a>\\r\\n <a class=\"w3-bar-item w3-button\" href=\"/bootstrap/bootstrap_ver.asp\">Learn Bootstrap</a>\\r\\n <a class=\"w3-bar-item w3-button\" href=\"/w3css/default.asp\">Learn W3.CSS</a>\\r\\n <a class=\"w3-bar-item w3-button\" href=\"/colors/default.asp\">Learn Colors</a>\\r\\n <a class=\"w3-bar-item w3-button\" href=\"/icons/default.asp\">Learn Icons</a>\\r\\n <a class=\"w3-bar-item w3-button\" href=\"/graphics/default.asp\">Learn Graphics</a>\\r\\n <a class=\"w3-bar-item w3-button\" href=\"/howto/default.asp\">Learn How To</a>\\r\\n <a class=\"w3-bar-item w3-button\" href=\"/sass/default.asp\">Learn Sass</a> \\r\\n <div class=\"w3-container\">\\r\\n  <h4 class=\"w3-margin-top\">JavaScript</h4>\\r\\n </div>\\r\\n <a class=\"w3-bar-item w3-button\" href=\"/js/default.asp\">Learn JavaScript</a>\\r\\n <a class=\"w3-bar-item w3-button\" href=\"/jquery/default.asp\">Learn jQuery</a>\\r\\n <a class=\"w3-bar-item w3-button\" href=\"/react/default.asp\">Learn React</a>\\r\\n <a class=\"w3-bar-item w3-button\" href=\"/angular/default.asp\">Learn AngularJS</a>\\r\\n <a class=\"w3-bar-item w3-button\" href=\"/js/js_json_intro.asp\">Learn JSON</a>\\r\\n <a class=\"w3-bar-item w3-button\" href=\"/js/js_ajax_intro.asp\">Learn AJAX</a>\\r\\n <a class=\"w3-bar-item w3-button\" href=\"/w3js/default.asp\">Learn W3.JS</a>\\r\\n <div class=\"w3-container\">\\r\\n  <h4 class=\"w3-margin-top\">Server Side</h4>\\r\\n </div>\\r\\n <a class=\"w3-bar-item w3-button\" href=\"/sql/default.asp\">Learn SQL</a>\\r\\n <a class=\"w3-bar-item w3-button\" href=\"/php/default.asp\">Learn PHP</a>\\r\\n <a class=\"w3-bar-item w3-button\" href=\\'/asp/default.asp\\'>Learn ASP</a>\\r\\n <a class=\"w3-bar-item w3-button\" href=\\'/nodejs/default.asp\\'>Learn Node.js</a>\\r\\n <a class=\"w3-bar-item w3-button\" href=\\'/nodejs/nodejs_raspberrypi.asp\\'>Learn Raspberry Pi</a>\\r\\n <div class=\"w3-container\">\\r\\n  <h4 class=\"w3-margin-top\">Programming</h4>\\r\\n </div>\\r\\n <a class=\"w3-bar-item w3-button\" href=\"/python/default.asp\">Learn Python</a>\\r\\n <a class=\"w3-bar-item w3-button\" href=\"/java/default.asp\">Learn Java</a>\\r\\n <a class=\"w3-bar-item w3-button\" href=\"/cpp/default.asp\">Learn C++</a>\\r\\n <a class=\"w3-bar-item w3-button\" href=\"/cs/default.asp\">Learn C#</a>\\r\\n <a class=\"w3-bar-item w3-button\" href=\"/python/python_ml_getting_started.asp\">Learn Machine Learning</a>\\r\\n\\r\\n <div class=\"w3-container\">\\r\\n  <h4 class=\"w3-margin-top\">Web Building</h4>\\r\\n </div>\\r\\n <a class=\"w3-bar-item w3-button\" href=\"/w3css/w3css_templates.asp\">Web Templates</a>\\r\\n <a class=\"w3-bar-item w3-button\" href=\"/browsers/default.asp\">Web Statistics</a>\\r\\n <a class=\"w3-bar-item w3-button\" href=\"/cert/default.asp\">Web Certificates</a>\\r\\n <a class=\"w3-bar-item w3-button\" href=\\'/tryit/default.asp\\'>Web Editor</a>\\r\\n <a class=\"w3-bar-item w3-button\" href=\"/whatis/default.asp\">Web Development</a>\\r\\n <a class=\"w3-bar-item w3-button\" href=\"/typingspeed/default.asp\">Test Your Typing Speed</a>\\r\\n\\r\\n <div class=\"w3-container\">\\r\\n  <h4 class=\"w3-margin-top\">XML Tutorials</h4>\\r\\n </div>\\r\\n <a class=\"w3-bar-item w3-button\" href=\"/xml/default.asp\">Learn XML</a>\\r\\n <a class=\"w3-bar-item w3-button\" href=\\'/xml/ajax_intro.asp\\'>Learn XML AJAX</a>\\r\\n <a class=\"w3-bar-item w3-button\" href=\"/xml/dom_intro.asp\">Learn XML DOM</a>\\r\\n <a class=\"w3-bar-item w3-button\" href=\\'/xml/xml_dtd_intro.asp\\'>Learn XML DTD</a>\\r\\n <a class=\"w3-bar-item w3-button\" href=\\'/xml/schema_intro.asp\\'>Learn XML Schema</a>\\r\\n <a class=\"w3-bar-item w3-button\" href=\"/xml/xsl_intro.asp\">Learn XSLT</a>\\r\\n <a class=\"w3-bar-item w3-button\" href=\\'/xml/xpath_intro.asp\\'>Learn XPath</a>\\r\\n <a class=\"w3-bar-item w3-button\" href=\\'/xml/xquery_intro.asp\\'>Learn XQuery</a>\\r\\n <div class=\"w3-container\">\\r\\n  <h4 class=\"w3-margin-top\">References</h4>\\r\\n </div>\\r\\n <a class=\"w3-bar-item w3-button\" href=\\'/tags/default.asp\\'>HTML Reference</a>\\r\\n <a class=\"w3-bar-item w3-button\" href=\\'/cssref/default.asp\\'>CSS Reference</a>\\r\\n <a class=\"w3-bar-item w3-button\" href=\\'/jsref/default.asp\\'>JS Reference</a>\\r\\n <a class=\"w3-bar-item w3-button\" href=\\'/sql/sql_ref_keywords.asp\\'>SQL Reference</a>\\r\\n <a class=\"w3-bar-item w3-button\" href=\\'/php/php_ref_overview.asp\\'>PHP Reference</a>\\r\\n <a class=\"w3-bar-item w3-button\" href=\\'/jquery/jquery_ref_overview.asp\\'>jQuery Reference</a>\\r\\n <a class=\"w3-bar-item w3-button\" href=\\'/python/python_reference.asp\\'>Python Reference</a>\\r\\n <a class=\"w3-bar-item w3-button\" href=\\'/bootstrap/bootstrap_ref_all_classes.asp\\'>Bootstrap 3 Reference</a>\\r\\n <a class=\"w3-bar-item w3-button\" href=\\'/bootstrap4/bootstrap_ref_all_classes.asp\\'>Bootstrap 4 Reference</a>\\r\\n <a class=\"w3-bar-item w3-button\" href=\\'/w3css/w3css_references.asp\\'>W3.CSS Reference</a>\\r\\n <a class=\"w3-bar-item w3-button\" href=\\'/java/java_ref_keywords.asp\\'>Java Reference</a>\\r\\n <a class=\"w3-bar-item w3-button\" href=\"/angular/angular_ref_directives.asp\">Angular Reference</a>\\r\\n <a class=\"w3-bar-item w3-button\" href=\\'/sass/sass_functions_string.asp\\'>Sass Reference</a>\\r\\n <a class=\"w3-bar-item w3-button\" href=\\'/charsets/default.asp\\'>UTF-8 Reference</a>\\r\\n <div class=\"w3-container\">\\r\\n  <h4 class=\"w3-margin-top\">Exercises</h4>\\r\\n </div>\\r\\n <a class=\"w3-bar-item w3-button\" href=\\'/html/html_exercises.asp\\'>HTML Exercises</a>\\r\\n <a class=\"w3-bar-item w3-button\" href=\\'/css/css_exercises.asp\\'>CSS Exercises</a>\\r\\n <a class=\"w3-bar-item w3-button\" href=\\'/js/js_exercises.asp\\'>JavaScript Exercises</a>\\r\\n <a class=\"w3-bar-item w3-button\" href=\\'/sql/sql_exercises.asp\\'>SQL Exercises</a>\\r\\n <a class=\"w3-bar-item w3-button\" href=\\'/php/php_exercises.asp\\'>PHP Exercises</a>\\r\\n <a class=\"w3-bar-item w3-button\" href=\\'/python/python_exercises.asp\\'>Python Exercises</a>\\r\\n <a class=\"w3-bar-item w3-button\" href=\"/java/java_exercises.asp\">Java Exercises</a>\\r\\n <a class=\"w3-bar-item w3-button\" href=\"/cpp/cpp_exercises.asp\">C++ Exercises</a>\\r\\n <a class=\"w3-bar-item w3-button\" href=\"/cs/cs_exercises.asp\">C# Exercises</a>\\r\\n <a class=\"w3-bar-item w3-button\" href=\\'/bootstrap/bootstrap_exercises.asp\\'>Bootstrap Exercises</a>\\r\\n</div>\\r\\n</nav>\\r\\n\\r\\n<div id=\\'myAccordion\\' class=\"w3-card-2 w3-light-grey w3-center w3-hide-large\" style=\"display:none;cursor:default\">\\r\\n <a href=\"javascript:void(0)\" onclick=\"w3_close()\" class=\"w3-button w3-xlarge w3-right\">&times;</a><br>\\r\\n <div class=\"w3-container w3-padding-32\">\\r\\n  <a class=\"w3-button w3-block w3-large w3-wide\" onclick=\"open_xs_menu(\\'tutorials\\');\" href=\"javascript:void(0);\">TUTORIALS <i class=\\'fa fa-caret-down\\'></i></a>\\r\\n  <div id=\"sectionxs_tutorials\" class=\"w3-white w3-show\"></div>\\r\\n  <a class=\"w3-button w3-block w3-large w3-wide\" onclick=\"open_xs_menu(\\'references\\')\" href=\"javascript:void(0);\">REFERENCES <i class=\\'fa fa-caret-down\\'></i></a>\\r\\n  <div id=\"sectionxs_references\" class=\"w3-white w3-show\"></div>\\r\\n  <a class=\"w3-button w3-block w3-large w3-wide\" onclick=\"open_xs_menu(\\'examples\\')\" href=\"javascript:void(0);\">EXAMPLES <i class=\\'fa fa-caret-down\\'></i></a>\\r\\n  <div id=\"sectionxs_examples\" class=\"w3-white w3-show\"></div>\\r\\n  <a class=\"w3-button w3-block w3-large w3-wide\" onclick=\"open_xs_menu(\\'exercises\\')\" href=\"javascript:void(0);\">EXERCISES <i class=\\'fa fa-caret-down\\'></i></a>\\r\\n  <div id=\"sectionxs_exercises\" class=\"w3-white w3-show\"></div>\\r\\n </div>\\r\\n</div>\\r\\n\\r\\n<nav id=\"nav_tutorials\" class=\"w3-light-grey w3-card-2 w3-hide-small navex\">\\r\\n <span onclick=\"w3_close_nav(\\'tutorials\\')\" class=\"w3-button w3-xlarge w3-display-topright barex\">&times;</span><br>\\r\\n <div class=\"w3-row-padding w3-bar-block\">\\r\\n  <div class=\"w3-col l3 m6\">\\r\\n   <h3 class=\"w3-margin-top\">HTML and CSS</h3>\\r\\n   <a class=\"w3-bar-item w3-button\" href=\"/html/default.asp\">Learn HTML</a>\\r\\n   <a class=\"w3-bar-item w3-button\" href=\"/css/default.asp\">Learn CSS</a>\\r\\n   <a class=\"w3-bar-item w3-button\" href=\"/bootstrap/bootstrap_ver.asp\">Learn Bootstrap</a>\\r\\n   <a class=\"w3-bar-item w3-button\" href=\"/w3css/default.asp\">Learn W3.CSS</a>\\r\\n   <a class=\"w3-bar-item w3-button\" href=\"/colors/default.asp\">Learn Colors</a>\\r\\n   <a class=\"w3-bar-item w3-button\" href=\"/icons/default.asp\">Learn Icons</a>\\r\\n   <a class=\"w3-bar-item w3-button\" href=\"/graphics/default.asp\">Learn Graphics</a>\\r\\n   <a class=\"w3-bar-item w3-button\" href=\\'/graphics/svg_intro.asp\\'>Learn SVG</a>\\r\\n   <a class=\"w3-bar-item w3-button\" href=\\'/graphics/canvas_intro.asp\\'>Learn Canvas</a>\\r\\n   <a class=\"w3-bar-item w3-button\" href=\"/howto/default.asp\">Learn How To</a>\\r\\n   <a class=\"w3-bar-item w3-button\" href=\"/sass/default.asp\">Learn Sass</a>   \\r\\n   <div class=\"w3-hide-large w3-hide-small\">\\r\\n   <h3 class=\"w3-margin-top\">XML Tutorials</h3>\\r\\n   <a class=\"w3-bar-item w3-button\" href=\"/xml/default.asp\">Learn XML</a>\\r\\n   <a class=\"w3-bar-item w3-button\" href=\\'/xml/ajax_intro.asp\\'>Learn XML AJAX</a>\\r\\n   <a class=\"w3-bar-item w3-button\" href=\"/xml/dom_intro.asp\">Learn XML DOM</a>\\r\\n   <a class=\"w3-bar-item w3-button\" href=\\'/xml/xml_dtd_intro.asp\\'>Learn XML DTD</a>\\r\\n   <a class=\"w3-bar-item w3-button\" href=\\'/xml/schema_intro.asp\\'>Learn XML Schema</a>\\r\\n   <a class=\"w3-bar-item w3-button\" href=\"/xml/xsl_intro.asp\">Learn XSLT</a>\\r\\n   <a class=\"w3-bar-item w3-button\" href=\\'/xml/xpath_intro.asp\\'>Learn XPath</a>\\r\\n   <a class=\"w3-bar-item w3-button\" href=\\'/xml/xquery_intro.asp\\'>Learn XQuery</a>\\r\\n  </div>\\r\\n  </div>\\r\\n  <div class=\"w3-col l3 m6\">\\r\\n   <h3 class=\"w3-margin-top\">JavaScript</h3>\\r\\n   <a class=\"w3-bar-item w3-button\" href=\"/js/default.asp\">Learn JavaScript</a>\\r\\n   <a class=\"w3-bar-item w3-button\" href=\"/jquery/default.asp\">Learn jQuery</a>\\r\\n   <a class=\"w3-bar-item w3-button\" href=\"/react/default.asp\">Learn React</a>\\r\\n   <a class=\"w3-bar-item w3-button\" href=\"/angular/default.asp\">Learn AngularJS</a>\\r\\n   <a class=\"w3-bar-item w3-button\" href=\"/js/js_json_intro.asp\">Learn JSON</a>\\r\\n   <a class=\"w3-bar-item w3-button\" href=\"/js/js_ajax_intro.asp\">Learn AJAX</a>\\r\\n   <a class=\"w3-bar-item w3-button\" href=\"/w3js/default.asp\">Learn W3.JS</a>\\r\\n\\r\\n   <h3 class=\"w3-margin-top\">Programming</h3>\\r\\n   <a class=\"w3-bar-item w3-button\" href=\"/python/default.asp\">Learn Python</a>\\r\\n   <a class=\"w3-bar-item w3-button\" href=\"/java/default.asp\">Learn Java</a>\\r\\n   <a class=\"w3-bar-item w3-button\" href=\"/cpp/default.asp\">Learn C++</a>\\r\\n   <a class=\"w3-bar-item w3-button\" href=\"/cs/default.asp\">Learn C#</a>\\r\\n   <a class=\"w3-bar-item w3-button\" href=\"/python/python_ml_getting_started.asp\">Learn Machine Learning</a>\\r\\n  </div> \\r\\n <div class=\"w3-col l3 m6\">\\r\\n   <h3 class=\"w3-margin-top\">Server Side</h3>\\r\\n   <a class=\"w3-bar-item w3-button\" href=\"/sql/default.asp\">Learn SQL</a>\\r\\n   <a class=\"w3-bar-item w3-button\" href=\"/php/default.asp\">Learn PHP</a>\\r\\n   <a class=\"w3-bar-item w3-button\" href=\\'/asp/default.asp\\'>Learn ASP</a>\\r\\n   <a class=\"w3-bar-item w3-button\" href=\\'/nodejs/default.asp\\'>Learn Node.js</a>\\r\\n   <a class=\"w3-bar-item w3-button\" href=\\'/nodejs/nodejs_raspberrypi.asp\\'>Learn Raspberry Pi</a>\\r\\n\\r\\n   <h3 class=\"w3-margin-top\">Web Building</h3>\\r\\n   <a class=\"w3-bar-item w3-button\" href=\"/w3css/w3css_templates.asp\">Web Templates</a>\\r\\n   <a class=\"w3-bar-item w3-button\" href=\"/browsers/default.asp\">Web Statistics</a>\\r\\n   <a class=\"w3-bar-item w3-button\" href=\"/cert/default.asp\">Web Certificates</a>\\r\\n   <a class=\"w3-bar-item w3-button\" href=\\'/tryit/default.asp\\'>Web Editor</a>\\r\\n   <a class=\"w3-bar-item w3-button\" href=\"/whatis/default.asp\">Web Development</a>\\r\\n   <a class=\"w3-bar-item w3-button\" href=\"/typingspeed/default.asp\">Test Your Typing Speed</a>\\r\\n  </div>\\r\\n  <div class=\"w3-col l3 m6 w3-hide-medium\">\\r\\n   <h3 class=\"w3-margin-top\">XML Tutorials</h3>\\r\\n   <a class=\"w3-bar-item w3-button\" href=\"/xml/default.asp\">Learn XML</a>\\r\\n   <a class=\"w3-bar-item w3-button\" href=\\'/xml/ajax_intro.asp\\'>Learn XML AJAX</a>\\r\\n   <a class=\"w3-bar-item w3-button\" href=\"/xml/dom_intro.asp\">Learn XML DOM</a>\\r\\n   <a class=\"w3-bar-item w3-button\" href=\\'/xml/xml_dtd_intro.asp\\'>Learn XML DTD</a>\\r\\n   <a class=\"w3-bar-item w3-button\" href=\\'/xml/schema_intro.asp\\'>Learn XML Schema</a>\\r\\n   <a class=\"w3-bar-item w3-button\" href=\"/xml/xsl_intro.asp\">Learn XSLT</a>\\r\\n   <a class=\"w3-bar-item w3-button\" href=\\'/xml/xpath_intro.asp\\'>Learn XPath</a>\\r\\n   <a class=\"w3-bar-item w3-button\" href=\\'/xml/xquery_intro.asp\\'>Learn XQuery</a>\\r\\n  </div>\\r\\n </div>\\r\\n <br class=\"hidesm\">\\r\\n</nav>\\r\\n\\r\\n<nav id=\"nav_references\" class=\"w3-light-grey w3-card-2 w3-hide-small navex\">\\r\\n <span onclick=\"w3_close_nav(\\'references\\')\" class=\"w3-button w3-xlarge w3-display-topright barex\">&times;</span><br>\\r\\n <div class=\"w3-row-padding w3-bar-block\">\\r\\n  <div class=\"w3-col l3 m6\">\\r\\n   <h3 class=\"w3-margin-top\">HTML</h3>\\r\\n   <a class=\"w3-bar-item w3-button\" href=\\'/tags/default.asp\\'>HTML Tag Reference</a>\\r\\n   <a class=\"w3-bar-item w3-button\" href=\\'/tags/ref_html_browsersupport.asp\\'>HTML Browser Support</a>   \\r\\n   <a class=\"w3-bar-item w3-button\" href=\\'/tags/ref_eventattributes.asp\\'>HTML Event Reference</a>\\r\\n   <a class=\"w3-bar-item w3-button\" href=\\'/colors/default.asp\\'>HTML Color Reference</a>\\r\\n   <a class=\"w3-bar-item w3-button\" href=\\'/tags/ref_attributes.asp\\'>HTML Attribute Reference</a>\\r\\n   <a class=\"w3-bar-item w3-button\" href=\\'/tags/ref_canvas.asp\\'>HTML Canvas Reference</a>\\r\\n   <a class=\"w3-bar-item w3-button\" href=\\'/graphics/svg_reference.asp\\'>HTML SVG Reference</a>\\r\\n   <a class=\"w3-bar-item w3-button\" href=\\'/graphics/google_maps_reference.asp\\'>Google Maps Reference</a>\\r\\n   <h3 class=\"w3-margin-top\">CSS</h3>\\r\\n   <a class=\"w3-bar-item w3-button\" href=\\'/cssref/default.asp\\'>CSS Reference</a>\\r\\n   <a class=\"w3-bar-item w3-button\" href=\\'/cssref/css3_browsersupport.asp\\'>CSS Browser Support</a>\\r\\n   <a class=\"w3-bar-item w3-button\" href=\\'/cssref/css_selectors.asp\\'>CSS Selector Reference</a>\\r\\n   <a class=\"w3-bar-item w3-button\" href=\\'/bootstrap/bootstrap_ref_all_classes.asp\\'>Bootstrap 3 Reference</a>\\r\\n   <a class=\"w3-bar-item w3-button\" href=\\'/bootstrap4/bootstrap_ref_all_classes.asp\\'>Bootstrap 4 Reference</a>\\r\\n   <a class=\"w3-bar-item w3-button\" href=\\'/w3css/w3css_references.asp\\'>W3.CSS Reference</a>\\r\\n   <a class=\"w3-bar-item w3-button\" href=\\'/icons/icons_reference.asp\\'>Icon Reference</a>\\r\\n   <a class=\"w3-bar-item w3-button\" href=\\'/sass/sass_functions_string.asp\\'>Sass Reference</a>\\r\\n  </div>\\r\\n  <div class=\"w3-col l3 m6\">\\r\\n   <h3 class=\"w3-margin-top\">JavaScript</h3>\\r\\n   <a class=\"w3-bar-item w3-button\" href=\\'/jsref/default.asp\\'>JavaScript Reference</a>\\r\\n   <a class=\"w3-bar-item w3-button\" href=\\'/jsref/default.asp\\'>HTML DOM Reference</a>\\r\\n   <a class=\"w3-bar-item w3-button\" href=\\'/jquery/jquery_ref_overview.asp\\'>jQuery Reference</a>\\r\\n   <a class=\"w3-bar-item w3-button\" href=\\'/angular/angular_ref_directives.asp\\'>AngularJS Reference</a>\\r\\n   <a class=\"w3-bar-item w3-button\" href=\"/w3js/w3js_references.asp\">W3.JS Reference</a>\\r\\n\\r\\n   <h3 class=\"w3-margin-top\">Programming</h3>\\r\\n   <a class=\"w3-bar-item w3-button\" href=\\'/python/python_reference.asp\\'>Python Reference</a>\\r\\n   <a class=\"w3-bar-item w3-button\" href=\\'/java/java_ref_keywords.asp\\'>Java Reference</a>\\r\\n  </div>\\r\\n  <div class=\"w3-col l3 m6\">\\r\\n   <h3 class=\"w3-margin-top\">Server Side</h3>\\r\\n   <a class=\"w3-bar-item w3-button\" href=\\'/sql/sql_ref_keywords.asp\\'>SQL Reference</a>\\r\\n   <a class=\"w3-bar-item w3-button\" href=\\'/php/php_ref_overview.asp\\'>PHP Reference</a>\\r\\n   <a class=\"w3-bar-item w3-button\" href=\\'/asp/asp_ref_response.asp\\'>ASP Reference</a>\\r\\n   <h3 class=\"w3-margin-top\">XML</h3>\\r\\n   <a class=\"w3-bar-item w3-button\" href=\\'/xml/dom_nodetype.asp\\'>XML DOM Reference</a>\\r\\n   <a class=\"w3-bar-item w3-button\" href=\\'/xml/dom_http.asp\\'>XML Http Reference</a>\\r\\n   <a class=\"w3-bar-item w3-button\" href=\\'/xml/xsl_elementref.asp\\'>XSLT Reference</a>\\r\\n   <a class=\"w3-bar-item w3-button\" href=\\'/xml/schema_elements_ref.asp\\'>XML Schema Reference</a>\\r\\n  </div>\\r\\n  <div class=\"w3-col l3 m6\">\\r\\n   <h3 class=\"w3-margin-top\">Character Sets</h3>\\r\\n   <a class=\"w3-bar-item w3-button\" href=\\'/charsets/default.asp\\'>HTML Character Sets</a>\\r\\n   <a class=\"w3-bar-item w3-button\" href=\\'/charsets/ref_html_ascii.asp\\'>HTML ASCII</a>\\r\\n   <a class=\"w3-bar-item w3-button\" href=\\'/charsets/ref_html_ansi.asp\\'>HTML ANSI</a>\\r\\n   <a class=\"w3-bar-item w3-button\" href=\\'/charsets/ref_html_ansi.asp\\'>HTML Windows-1252</a>\\r\\n   <a class=\"w3-bar-item w3-button\" href=\\'/charsets/ref_html_8859.asp\\'>HTML ISO-8859-1</a>\\r\\n   <a class=\"w3-bar-item w3-button\" href=\\'/charsets/ref_html_symbols.asp\\'>HTML Symbols</a>\\r\\n   <a class=\"w3-bar-item w3-button\" href=\\'/charsets/ref_html_utf8.asp\\'>HTML UTF-8</a>\\r\\n  </div>\\r\\n </div>\\r\\n <br class=\"hidesm\">\\r\\n</nav>\\r\\n\\r\\n<nav id=\"nav_examples\" class=\"w3-light-grey w3-card-2 w3-hide-small navex\">\\r\\n <span onclick=\"w3_close_nav(\\'examples\\')\" class=\"w3-button w3-xlarge w3-display-topright barex\">&times;</span><br>\\r\\n <div class=\"w3-row-padding w3-bar-block\">\\r\\n  <div class=\"w3-col l3 m6\">\\r\\n   <h3 class=\"w3-margin-top\">HTML and CSS</h3>\\r\\n   <a class=\"w3-bar-item w3-button\" href=\\'/html/html_examples.asp\\'>HTML Examples</a>\\r\\n   <a class=\"w3-bar-item w3-button\" href=\\'/css/css_examples.asp\\'>CSS Examples</a>\\r\\n   <a class=\"w3-bar-item w3-button\" href=\\'/w3css/w3css_examples.asp\\'>W3.CSS Examples</a>\\r\\n   <a class=\"w3-bar-item w3-button\" href=\\'/bootstrap/bootstrap_examples.asp\\'>Bootstrap Examples</a>\\r\\n   <a class=\"w3-bar-item w3-button\" href=\\'/howto/default.asp\\'>How To Examples</a>\\r\\n   <a class=\"w3-bar-item w3-button\" href=\\'/graphics/svg_examples.asp\\'>SVG Examples</a>\\r\\n   <a class=\"w3-bar-item w3-button\" href=\\'/w3css/w3css_templates.asp\\'>Web Templates</a>\\r\\n   <div class=\"w3-hide-large w3-hide-small\">\\r\\n     <h3 class=\"w3-margin-top\">Quizzes</h3>\\r\\n     <a class=\"w3-bar-item w3-button\" href=\"/html/html_quiz.asp\" target=\"_top\">HTML Quiz</a>\\r\\n     <a class=\"w3-bar-item w3-button\" href=\"/css/css_quiz.asp\" target=\"_top\">CSS Quiz</a>\\r\\n     <a class=\"w3-bar-item w3-button\" href=\"/js/js_quiz.asp\" target=\"_top\">JavaScript Quiz</a>\\r\\n     <a class=\"w3-bar-item w3-button\" href=\"/sql/sql_quiz.asp\" target=\"_top\">SQL Quiz</a>\\r\\n     <a class=\"w3-bar-item w3-button\" href=\"/php/php_quiz.asp\" target=\"_top\">PHP Quiz</a>\\r\\n     <a class=\"w3-bar-item w3-button\" href=\"/python/python_quiz.asp\" target=\"_top\">Python Quiz</a>\\r\\n     <a class=\"w3-bar-item w3-button\" href=\"/jquery/jquery_quiz.asp\" target=\"_top\">jQuery Quiz</a>\\r\\n     <a class=\"w3-bar-item w3-button\" href=\"/bootstrap/bootstrap_quiz.asp\" target=\"_top\">Bootstrap Quiz</a>\\r\\n     <a class=\"w3-bar-item w3-button\" href=\"/java/java_quiz.asp\" target=\"_top\">Java Quiz</a>\\r\\n     <a class=\"w3-bar-item w3-button\" href=\"/cpp/cpp_quiz.asp\" target=\"_top\">C++ Quiz</a>\\r\\n     <a class=\"w3-bar-item w3-button\" href=\"/cs/cs_quiz.asp\" target=\"_top\">C# Quiz</a>\\r\\n     <a class=\"w3-bar-item w3-button\" href=\"/xml/xml_quiz.asp\" target=\"_top\">XML Quiz</a>\\r\\n   </div>\\r\\n  </div>\\r\\n  <div class=\"w3-col l3 m6\">\\r\\n   <h3 class=\"w3-margin-top\">JavaScript</h3>\\r\\n   <a class=\"w3-bar-item w3-button\" href=\"/js/js_examples.asp\" target=\"_top\">JavaScript Examples</a>\\r\\n   <a class=\"w3-bar-item w3-button\" href=\"/js/js_dom_examples.asp\" target=\"_top\">HTML DOM Examples</a>\\r\\n   <a class=\"w3-bar-item w3-button\" href=\"/jquery/jquery_examples.asp\" target=\"_top\">jQuery Examples</a>\\r\\n   <a class=\"w3-bar-item w3-button\" href=\"/angular/angular_examples.asp\" target=\"_top\">AngularJS Examples</a>\\r\\n   <a class=\"w3-bar-item w3-button\" href=\"/js/js_ajax_examples.asp\" target=\"_top\">AJAX Examples</a>\\r\\n   <a class=\"w3-bar-item w3-button\" href=\"/w3js/w3js_examples.asp\" target=\"_top\">W3.JS Examples</a>\\r\\n   <h3 class=\"w3-margin-top\">Programming</h3>\\r\\n   <a class=\"w3-bar-item w3-button\" href=\"/python/python_examples.asp\" target=\"_top\">Python Examples</a>\\r\\n   <a class=\"w3-bar-item w3-button\" href=\"/java/java_examples.asp\" target=\"_top\">Java Examples</a>\\r\\n   <a class=\"w3-bar-item w3-button\" href=\"/cpp/cpp_examples.asp\" target=\"_top\">C++ Examples</a>\\r\\n   <a class=\"w3-bar-item w3-button\" href=\"/cs/cs_examples.asp\" target=\"_top\">C# Examples</a>\\r\\n  </div>\\r\\n  <div class=\"w3-col l3 m6\">\\r\\n   <h3 class=\"w3-margin-top\">Server Side</h3>\\r\\n   <a class=\"w3-bar-item w3-button\" href=\"/sql/sql_examples.asp\" target=\"_top\">SQL Examples</a>\\r\\n   <a class=\"w3-bar-item w3-button\" href=\"/php/php_examples.asp\" target=\"_top\">PHP Examples</a>\\r\\n   <a class=\"w3-bar-item w3-button\" href=\"/asp/asp_examples.asp\" target=\"_top\">ASP Examples</a>\\r\\n   <h3 class=\"w3-margin-top\">XML</h3>\\r\\n   <a class=\"w3-bar-item w3-button\" href=\"/xml/xml_examples.asp\" target=\"_top\">XML Examples</a>\\r\\n   <a class=\"w3-bar-item w3-button\" href=\"/xml/xsl_examples.asp\" target=\"_top\">XSLT Examples</a>\\r\\n   <a class=\"w3-bar-item w3-button\" href=\"/xml/xpath_examples.asp\" target=\"_top\">XPath Examples</a>\\r\\n   <a class=\"w3-bar-item w3-button\" href=\"/xml/schema_example.asp\" target=\"_top\">XML Schema Examples</a>\\r\\n   <a class=\"w3-bar-item w3-button\" href=\"/xml/ajax_examples.asp\" target=\"_top\">AJAX Examples</a>\\r\\n   <a class=\"w3-bar-item w3-button\" href=\"/graphics/svg_examples.asp\" target=\"_top\">SVG Examples</a>\\r\\n  </div>\\r\\n  <div class=\"w3-col l3 m6 w3-hide-medium\">\\r\\n   <h3 class=\"w3-margin-top\">Quizzes</h3>\\r\\n   <a class=\"w3-bar-item w3-button\" href=\"/html/html_quiz.asp\" target=\"_top\">HTML Quiz</a>\\r\\n   <a class=\"w3-bar-item w3-button\" href=\"/css/css_quiz.asp\" target=\"_top\">CSS Quiz</a>\\r\\n   <a class=\"w3-bar-item w3-button\" href=\"/js/js_quiz.asp\" target=\"_top\">JavaScript Quiz</a>\\r\\n   <a class=\"w3-bar-item w3-button\" href=\"/sql/sql_quiz.asp\" target=\"_top\">SQL Quiz</a>\\r\\n   <a class=\"w3-bar-item w3-button\" href=\"/php/php_quiz.asp\" target=\"_top\">PHP Quiz</a>\\r\\n   <a class=\"w3-bar-item w3-button\" href=\"/python/python_quiz.asp\" target=\"_top\">Python Quiz</a>\\r\\n   <a class=\"w3-bar-item w3-button\" href=\"/jquery/jquery_quiz.asp\" target=\"_top\">jQuery Quiz</a>\\r\\n   <a class=\"w3-bar-item w3-button\" href=\"/bootstrap/bootstrap_quiz.asp\" target=\"_top\">Bootstrap Quiz</a>\\r\\n   <a class=\"w3-bar-item w3-button\" href=\"/java/java_quiz.asp\" target=\"_top\">Java Quiz</a>\\r\\n   <a class=\"w3-bar-item w3-button\" href=\"/cpp/cpp_quiz.asp\" target=\"_top\">C++ Quiz</a>\\r\\n   <a class=\"w3-bar-item w3-button\" href=\"/cs/cs_quiz.asp\" target=\"_top\">C# Quiz</a>\\r\\n   <a class=\"w3-bar-item w3-button\" href=\"/xml/xml_quiz.asp\" target=\"_top\">XML Quiz</a>\\r\\n  </div>\\r\\n</div>\\r\\n <br class=\"hidesm\">\\r\\n</nav>\\r\\n\\r\\n<nav id=\"nav_exercises\" class=\"w3-light-grey w3-card-2 w3-hide-small w3-hide-medium navex\">\\r\\n <span onclick=\"w3_close_nav(\\'exercises\\')\" class=\"w3-button w3-xlarge w3-display-topright barex\">&times;</span><br>\\r\\n <div class=\"w3-row-padding w3-bar-block\">\\r\\n  <div class=\"w3-col l4 m12\">\\r\\n   <h3 class=\"w3-margin-top\">Exercises</h3>\\r\\n   <a class=\"w3-bar-item w3-button\" href=\"/html/html_exercises.asp\">HTML Exercises</a>\\r\\n   <a class=\"w3-bar-item w3-button\" href=\"/css/css_exercises.asp\">CSS Exercises</a>\\r\\n   <a class=\"w3-bar-item w3-button\" href=\"/js/js_exercises.asp\">JavaScript Exercises</a>\\r\\n   <a class=\"w3-bar-item w3-button\" href=\"/sql/sql_exercises.asp\">SQL Exercises</a>\\r\\n   <a class=\"w3-bar-item w3-button\" href=\"/php/php_exercises.asp\">PHP Exercises</a>\\r\\n   <a class=\"w3-bar-item w3-button\" href=\"/python/python_exercises.asp\">Python Exercises</a>\\r\\n   <a class=\"w3-bar-item w3-button\" href=\"/jquery/jquery_exercises.asp\">jQuery Exercises</a>\\r\\n   <a class=\"w3-bar-item w3-button\" href=\"/java/java_exercises.asp\">Java Exercises</a>\\r\\n   <a class=\"w3-bar-item w3-button\" href=\"/bootstrap/bootstrap_exercises.asp\">Bootstrap Exercises</a>\\r\\n   <a class=\"w3-bar-item w3-button\" href=\"/cpp/cpp_exercises.asp\">C++ Exercises</a>\\r\\n   <a class=\"w3-bar-item w3-button\" href=\"/cs/cs_exercises.asp\">C# Exercises</a>\\r\\n  </div>\\r\\n  <div class=\"w3-col l4 m12\">\\r\\n   <h3 class=\"w3-margin-top\">Quizzes</h3>\\r\\n   <a class=\"w3-bar-item w3-button\" href=\"/html/html_quiz.asp\" target=\"_top\">HTML Quiz</a>\\r\\n   <a class=\"w3-bar-item w3-button\" href=\"/css/css_quiz.asp\" target=\"_top\">CSS Quiz</a>\\r\\n   <a class=\"w3-bar-item w3-button\" href=\"/js/js_quiz.asp\" target=\"_top\">JavaScript Quiz</a>\\r\\n   <a class=\"w3-bar-item w3-button\" href=\"/sql/sql_quiz.asp\" target=\"_top\">SQL Quiz</a>\\r\\n   <a class=\"w3-bar-item w3-button\" href=\"/php/php_quiz.asp\" target=\"_top\">PHP Quiz</a>\\r\\n   <a class=\"w3-bar-item w3-button\" href=\"/python/python_quiz.asp\" target=\"_top\">Python Quiz</a>\\r\\n   <a class=\"w3-bar-item w3-button\" href=\"/jquery/jquery_quiz.asp\" target=\"_top\">jQuery Quiz</a>\\r\\n   <a class=\"w3-bar-item w3-button\" href=\"/bootstrap/bootstrap_quiz.asp\" target=\"_top\">Bootstrap Quiz</a>\\r\\n   <a class=\"w3-bar-item w3-button\" href=\"/java/java_quiz.asp\" target=\"_top\">Java Quiz</a>\\r\\n   <a class=\"w3-bar-item w3-button\" href=\"/cpp/cpp_quiz.asp\" target=\"_top\">C++ Quiz</a>\\r\\n   <a class=\"w3-bar-item w3-button\" href=\"/cs/cs_quiz.asp\" target=\"_top\">C# Quiz</a>\\r\\n   <a class=\"w3-bar-item w3-button\" href=\"/xml/xml_quiz.asp\" target=\"_top\">XML Quiz</a>\\r\\n  </div>\\r\\n  <div class=\"w3-col l4 m12\">\\r\\n   <h3 class=\"w3-margin-top\">Certificates</h3>\\r\\n   <a class=\"w3-bar-item w3-button\" href=\"/cert/cert_html_new.asp\" target=\"_top\">HTML Certificate</a>\\r\\n   <a class=\"w3-bar-item w3-button\" href=\"/cert/cert_css.asp\" target=\"_top\">CSS Certificate</a>\\r\\n   <a class=\"w3-bar-item w3-button\" href=\"/cert/cert_javascript.asp\" target=\"_top\">JavaScript Certificate</a>\\r\\n   <a class=\"w3-bar-item w3-button\" href=\"/cert/cert_sql.asp\" target=\"_top\">SQL Certificate</a>\\r\\n   <a class=\"w3-bar-item w3-button\" href=\"/cert/cert_php.asp\" target=\"_top\">PHP Certificate</a>\\r\\n   <a class=\"w3-bar-item w3-button\" href=\"/cert/cert_python.asp\" target=\"_top\">Python Certificate</a>\\r\\n   <a class=\"w3-bar-item w3-button\" href=\"/cert/cert_bootstrap.asp\" target=\"_top\">Bootstrap Certificate</a>\\r\\n   <a class=\"w3-bar-item w3-button\" href=\"/cert/cert_jquery.asp\" target=\"_top\">jQuery Certificate</a>\\r\\n   <a class=\"w3-bar-item w3-button\" href=\"/cert/cert_xml.asp\" target=\"_top\">XML Certificate</a>\\r\\n  </div>\\r\\n </div>\\r\\n <br class=\"hidesm\">\\r\\n</nav>\\r\\n\\r\\n<!-- MAIN -->\\r\\n<div class=\"w3-main\" id=\"main\">\\r\\n\\r\\n<div class=\"w3-row w3-margin-bottom\">\\r\\n <div class=\"w3-col l6 w3-center\" style=\"padding:3%\">\\r\\n  <h1>HTML</h1>\\r\\n  <p class=\"w3-xlarge w3-text-dark-grey\">The language for building web pages</p>\\r\\n  <a href=\"/html/default.asp\" class=\"w3-button w3-dark-grey\">LEARN HTML</a>\\r\\n  <a href=\"/tags/default.asp\" class=\"w3-button w3-dark-grey\">HTML REFERENCE</a>\\r\\n </div>\\r\\n <div class=\"w3-col l6\" style=\"padding:3%\">\\r\\n  <div class=\"w3-hide-small w3-light-grey w3-card-2\" style=\"padding:16px;\">\\r\\n   <h3>HTML Example:</h3>\\r\\n   <div class=\"w3-code htmlHigh notranslate w3-border-green\">\\r\\n&lt;!DOCTYPE html&gt;<br>\\r\\n&lt;html&gt;<br>\\r\\n&lt;title&gt;HTML Tutorial&lt;/title&gt;<br>\\r\\n&lt;body&gt;<br><br>\\r\\n&lt;h1&gt;This is a heading&lt;/h1&gt;<br>\\r\\n&lt;p&gt;This is a paragraph.&lt;/p&gt;<br><br>\\r\\n&lt;/body&gt;<br>\\r\\n&lt;/html&gt;\\r\\n   </div>\\r\\n   <a href=\"/html/tryit.asp?filename=tryhtml_default\" target=\"_blank\" class=\"w3-button w3-theme w3-hover-green w3-hover-shadow\">Try it Yourself &raquo;</a>\\r\\n  </div>\\r\\n </div>\\r\\n</div>\\r\\n\\r\\n<div class=\"w3-row w3-light-grey w3-hide-medium w3-hide-small\">\\r\\n <div class=\"w3-col l6\" style=\"padding-top:40px;padding:3%;\">\\r\\n  <h3>CSS Example:</h3>\\r\\n  <div class=\"w3-code cssHigh notranslate w3-card-2 w3-border-green\">\\r\\nbody {<br>\\r\\n&nbsp; background-color: lightblue;<br>}<br><br>\\r\\nh1 {<br>\\r\\n&nbsp; color: white;<br>\\r\\n&nbsp; text-align: center;<br>}<br><br>\\r\\np {<br>\\r\\n&nbsp; font-family: verdana;<br>\\r\\n&nbsp; font-size: 20px;<br>}\\r\\n  </div>\\r\\n  <a href=\"/css/tryit.asp?filename=trycss_default\" target=\"_blank\" class=\"w3-button w3-theme w3-hover-green w3-hover-shadow\">Try it Yourself &raquo;</a>\\r\\n </div>\\r\\n <div class=\"w3-col l6 w3-center\" style=\"padding:3%\">\\r\\n  <h1>CSS</h1>\\r\\n  <p class=\"w3-xlarge\">The language for styling web pages</p>\\r\\n  <a href=\"/css/default.asp\" class=\"w3-button w3-dark-grey\">LEARN CSS</a>\\r\\n  <a href=\"/cssref/default.asp\" class=\"w3-button w3-dark-grey\">CSS REFERENCE</a>\\r\\n </div>\\r\\n</div>\\r\\n\\r\\n<div class=\"w3-row w3-light-grey w3-hide-large\" style=\"padding-bottom:30px\">\\r\\n <div class=\"w3-col l6 w3-center\" style=\"padding:3%\">\\r\\n  <h1>CSS</h1>\\r\\n  <p class=\"w3-xlarge\">The language for styling web pages</p>\\r\\n  <a href=\"/css/default.asp\" class=\"w3-button w3-dark-grey\">LEARN CSS</a>\\r\\n  <a href=\"/cssref/default.asp\" class=\"w3-button w3-dark-grey\">CSS REFERENCE</a>\\r\\n </div>\\r\\n <div class=\"w3-col l6 w3-hide-small\" style=\"padding-top:40px;padding:3%;\">\\r\\n  <h3>CSS Example:</h3>\\r\\n  <div class=\"w3-code cssHigh notranslate w3-card-2 w3-border-green\">\\r\\nbody {<br>\\r\\n&nbsp; background-color: lightblue;<br>}<br><br>\\r\\nh1 {<br>\\r\\n&nbsp; color: white;<br>\\r\\n&nbsp; text-align: center;<br>}<br><br>\\r\\np {<br>\\r\\n&nbsp; font-family: verdana;<br>\\r\\n&nbsp; font-size: 20px;<br>}\\r\\n  </div>\\r\\n  <a href=\"/css/tryit.asp?filename=trycss_default\" target=\"_blank\" class=\"w3-button w3-theme w3-hover-green w3-hover-shadow\">Try it Yourself &raquo;</a>\\r\\n </div>\\r\\n</div>\\r\\n\\r\\n<div class=\"w3-row\">\\r\\n <div class=\"w3-col l6 w3-center\" style=\"padding:3%\">\\r\\n  <h1 class=\"w3-jumbo\">JavaScript</h1>\\r\\n  <p class=\"w3-xlarge w3-text-dark-grey\">The language for programming web pages</p>\\r\\n  <a href=\"/js/default.asp\" class=\"w3-button w3-dark-grey\">LEARN JAVASCRIPT</a>\\r\\n  <a href=\"/jsref/default.asp\" class=\"w3-button w3-dark-grey\">JAVASCRIPT REFERENCE</a>\\r\\n </div>\\r\\n <div class=\"w3-col l6\" style=\"padding:3%\">\\r\\n  <div class=\"w3-hide-small w3-card-2 w3-light-grey\" style=\"padding:16px;\">\\r\\n   <h3>JavaScript Example:</h3>\\r\\n   <div class=\"w3-code notranslate w3-card-2 w3-border-green\">\\r\\n   <div class=\"htmlHigh\">\\r\\n&lt;button onclick=&quot;myFunction()&quot;&gt;Click Me!&lt;/button&gt;<br><br>\\r\\n&lt;script&gt;<br>\\r\\nfunction myFunction() {<br>\\r\\n&nbsp; var x = document.getElementById(&quot;demo&quot;);<br>\\r\\n&nbsp; x.style.fontSize = &quot;25px&quot;; <br>\\r\\n&nbsp; x.style.color = &quot;red&quot;; <br>}<br>\\r\\n&lt;/script&gt;\\r\\n    </div>\\r\\n   </div>\\r\\n   <a href=\"/js/tryit.asp?filename=tryjs_default\" target=\"_blank\" class=\"w3-button w3-theme w3-hover-green w3-hover-shadow\">Try it Yourself &raquo;</a>\\r\\n  </div>\\r\\n </div>\\r\\n</div>\\r\\n\\r\\n<div class=\"w3-row w3-light-grey w3-hide-medium w3-hide-small\">\\r\\n <div class=\"w3-col l6\" style=\"padding-top:40px;padding:3%;padding-bottom:45px\">\\r\\n  <h3>SQL Example:</h3>\\r\\n  <div class=\"w3-code sqlHigh notranslate w3-card-2 w3-border-green\" style=\"height:180px\">\\r\\nSELECT * FROM Customers<br>\\r\\nWHERE Country=\\'Mexico\\';\\r\\n\\r\\n  </div>\\r\\n  <a href=\"/sql/trysql.asp?filename=trysql_select_where\" target=\"_blank\" class=\"w3-button w3-theme w3-hover-green w3-hover-shadow\">Try it Yourself &raquo;</a>\\r\\n </div>\\r\\n <div class=\"w3-col l6 w3-center\" style=\"padding:3%\">\\r\\n  <h1>SQL</h1>\\r\\n  <p class=\"w3-xlarge\">A language for accessing databases</p>\\r\\n  <a href=\"/sql/default.asp\" class=\"w3-button w3-dark-grey\">LEARN SQL</a>\\r\\n  <a href=\"/sql/sql_ref_keywords.asp\" class=\"w3-button w3-dark-grey\">SQL REFERENCE</a>\\r\\n </div>\\r\\n</div>\\r\\n\\r\\n<div class=\"w3-row w3-light-grey w3-hide-large\" style=\"padding-bottom:30px;margin-top:40px\">\\r\\n <div class=\"w3-col l6 w3-center\" style=\"padding:3%\">\\r\\n  <h1>SQL</h1>\\r\\n  <p class=\"w3-xlarge\">A language for accessing databases</p>\\r\\n  <a href=\"/sql/default.asp\" class=\"w3-button w3-dark-grey\">LEARN SQL</a>\\r\\n  <a href=\"/sql/sql_ref_keywords.asp\" class=\"w3-button w3-dark-grey\">SQL REFERENCE</a>\\r\\n </div>\\r\\n <div class=\"w3-col l6 w3-hide-small\" style=\"padding-top:40px;padding:3%;\">\\r\\n  <h3>SQL Example:</h3>\\r\\n  <div class=\"w3-code sqlHigh notranslate w3-card-2 w3-border-green\" style=\"height:100px\">\\r\\nSELECT * FROM Customers<br>\\r\\nWHERE Country=\\'Mexico\\';\\r\\n  </div>\\r\\n  <a href=\"/sql/trysql.asp?filename=trysql_select_where\" target=\"_blank\" class=\"w3-button w3-theme w3-hover-green w3-hover-shadow\">Try it Yourself &raquo;</a>\\r\\n </div>\\r\\n</div>\\r\\n\\r\\n\\r\\n<div class=\"w3-row w3-dark-grey w3-padding-32\">\\r\\n <div class=\"w3-col l6 w3-center\" style=\"padding:2% 3%;\">\\r\\n  <div class=\"w3-card-2 w3-white w3-padding\" style=\"padding-bottom:24px!important\">\\r\\n   <h2 class=\"w3-xxlarge\">Python</h2>\\r\\n   <div style=\"height:70px;\">\\r\\n     <h4 class=\"w3-text-dark-grey\">A programming language</h4>\\r\\n   </div>\\r\\n   <a href=\"/python/default.asp\" class=\"w3-button w3-dark-grey\">LEARN PYTHON</a>\\r\\n  </div>\\r\\n </div>\\r\\n <div class=\"w3-col l6 w3-center\" style=\"padding:2% 3%;\">\\r\\n  <div class=\"w3-card-2 w3-white w3-padding\" style=\"padding-bottom:24px!important\">\\r\\n   <h2 class=\"w3-xxlarge\">PHP</h2>\\r\\n   <div style=\"height:70px;\">\\r\\n      <h4 class=\"w3-text-dark-grey\">A web server programming language</h4>\\r\\n   </div>\\r\\n   <a href=\"/php/default.asp\" class=\"w3-button w3-dark-grey\">LEARN PHP</a>\\r\\n  </div>\\r\\n\\r\\n </div>\\r\\n <div class=\"w3-col l6 w3-center\" style=\"padding:2% 3%;\">\\r\\n  <div class=\"w3-card-2 w3-white w3-padding\" style=\"padding-bottom:24px!important\">\\r\\n   <h2 class=\"w3-xxlarge\">jQuery</h2>\\r\\n   <div style=\"height:70px;\">\\r\\n     <h4 class=\"w3-text-dark-grey\">A JavaScript library for developing web pages</h4>\\r\\n   </div>\\r\\n   <a href=\"/jquery/default.asp\" class=\"w3-button w3-dark-grey\">LEARN JQUERY</a>\\r\\n  </div>\\r\\n </div>\\r\\n \\r\\n <div class=\"w3-col l6 w3-center\" style=\"padding:2% 3%;\">\\r\\n  <div class=\"w3-card-2 w3-white w3-padding\" style=\"padding-bottom:24px!important\">\\r\\n   <h2 class=\"w3-xxlarge\">Java</h2>\\r\\n   <div style=\"height:70px;\">\\r\\n     <h4 class=\"w3-text-dark-grey\">A programming language</h4>\\r\\n   </div>\\r\\n   <a href=\"/java/default.asp\" class=\"w3-button w3-dark-grey\">LEARN JAVA</a>\\r\\n  </div>\\r\\n </div>\\r\\n</div>\\r\\n<div class=\"w3-row w3-white\" style=\"padding-top:40px;padding-bottom:40px\">\\r\\n <div class=\"w3-col l4 w3-center\" style=\"padding:3%;\">\\r\\n  <h2 class=\"w3-xxlarge\">W3.CSS</h2>\\r\\n  <h4 class=\"w3-text-dark-grey\">A modern CSS framework for faster and better responsive web pages</h4>\\r\\n  <a href=\"/w3css/default.asp\" class=\"w3-button w3-dark-grey\">LEARN W3.CSS</a>\\r\\n </div>\\r\\n <div class=\"w3-col l4 w3-center\" style=\"padding:3%;\">\\r\\n  <h2 class=\"w3-xxlarge\">Color Picker</h2>\\r\\n  <a href=\"/colors/colors_picker.asp\" class=\"w3-hover-opacity\"><img style=\"width:150px;height:128px;margin-top:16px;\" src=\"/images/colorpicker.png\" alt=\"Colorpicker\"></a>\\r\\n </div>\\r\\n <div class=\"w3-col l4 w3-center\" style=\"padding:3%;\">\\r\\n  <h2 class=\"w3-xxlarge\">Bootstrap</h2>\\r\\n  <h4 class=\"w3-text-dark-grey\">A CSS framework for designing better web pages</h4>\\r\\n  <a href=\"/bootstrap/default.asp\" class=\"w3-button w3-dark-grey\">LEARN BOOTSTRAP 3</a>\\r\\n  <a href=\"/bootstrap4/default.asp\" class=\"w3-button w3-dark-grey\">LEARN BOOTSTRAP 4</a>\\r\\n </div>\\r\\n</div>\\r\\n\\r\\n<div class=\"w3-dark-grey w3-center w3-padding-large w3-padding-48\" style=\"padding-bottom:68px!important\">\\r\\n  <h2 class=\"w3-xxlarge\">Exercises</h2>\\r\\n  <h4>Test yourself with exercises</h4>\\r\\n  <div class=\"w3-row-padding w3-content\">\\r\\n    <div class=\"w3-third\">\\r\\n      <p><a class=\"w3-btn w3-green w3-block w3-padding-16\" href=\"/html/html_exercises.asp\">HTML Exercises</a></p>\\r\\n    </div>\\r\\n    <div class=\"w3-third\">\\r\\n      <p><a class=\"w3-btn w3-green w3-block w3-padding-16\" href=\"/css/css_exercises.asp\">CSS Exercises</a></p>\\r\\n    </div>\\r\\n    <div class=\"w3-third w3-hide-large w3-hide-small\">\\r\\n      <p><a class=\"w3-btn w3-green w3-block w3-padding-16\" href=\"/js/js_exercises.asp\">JS Exercises</a></p>\\r\\n    </div>\\r\\n    <div class=\"w3-third w3-hide-medium\">\\r\\n      <p><a class=\"w3-btn w3-green w3-block w3-padding-16\" href=\"/js/js_exercises.asp\">JavaScript Exercises</a></p>\\r\\n    </div>\\r\\n  </div>\\r\\n  <div class=\"w3-row-padding w3-content w3-hide-medium w3-hide-small\">\\r\\n    <div class=\"w3-col\" style=\"width:14.28%\">\\r\\n      <p><a class=\"w3-btn w3-green w3-block w3-padding-16\" href=\"/sql/sql_exercises.asp\">SQL</a></p>\\r\\n    </div>\\r\\n    <div class=\"w3-col\" style=\"width:14.28%\">\\r\\n      <p><a class=\"w3-btn w3-green w3-block w3-padding-16\" href=\"/php/php_exercises.asp\">PHP</a></p>\\r\\n    </div>\\r\\n    <div class=\"w3-col\" style=\"width:14.28%\">\\r\\n      <p><a class=\"w3-btn w3-green w3-block w3-padding-16\" href=\"/python/python_exercises.asp\">Python</a></p>\\r\\n    </div>\\r\\n    <div class=\"w3-col\" style=\"width:14.28%\">\\r\\n      <p><a class=\"w3-btn w3-green w3-block w3-padding-16\" href=\"/jquery/jquery_exercises.asp\">jQuery</a></p>\\r\\n    </div>\\r\\n    <div class=\"w3-col\" style=\"width:14.28%\">\\r\\n      <p><a class=\"w3-btn w3-green w3-block w3-padding-16\" href=\"/java/java_exercises.asp\">Java</a></p>\\r\\n    </div>\\r\\n    <div class=\"w3-col\" style=\"width:14.28%\">\\r\\n      <p><a class=\"w3-btn w3-green w3-block w3-padding-16\" href=\"/cpp/cpp_exercises.asp\">C++</a></p>\\r\\n    </div>\\r\\n    <div class=\"w3-col\" style=\"width:14.28%\">\\r\\n      <p><a class=\"w3-btn w3-green w3-block w3-padding-16\" href=\"/cs/cs_exercises.asp\">C#</a></p>\\r\\n    </div>\\r\\n  </div>\\r\\n  <div class=\"w3-row-padding w3-content w3-hide-small w3-hide-large\">\\r\\n    <div class=\"w3-col\" style=\"width:20%\">\\r\\n      <p><a class=\"w3-btn w3-green w3-block w3-padding-16\" href=\"/sql/sql_exercises.asp\">SQL</a></p>\\r\\n    </div>\\r\\n    <div class=\"w3-col\" style=\"width:20%\">\\r\\n      <p><a class=\"w3-btn w3-green w3-block w3-padding-16\" href=\"/php/php_exercises.asp\">PHP</a></p>\\r\\n    </div>\\r\\n    <div class=\"w3-col\" style=\"width:20%\">\\r\\n      <p><a class=\"w3-btn w3-green w3-block w3-padding-16\" href=\"/python/python_exercises.asp\">Python</a></p>\\r\\n    </div>\\r\\n    <div class=\"w3-col\" style=\"width:20%\">\\r\\n      <p><a class=\"w3-btn w3-green w3-block w3-padding-16\" href=\"/jquery/jquery_exercises.asp\">jQuery</a></p>\\r\\n    </div>\\r\\n    <div class=\"w3-col\" style=\"width:20%\">\\r\\n      <p><a class=\"w3-btn w3-green w3-block w3-padding-16\" href=\"/java/java_exercises.asp\">Java</a></p>\\r\\n    </div>\\r\\n  </div>\\r\\n</div>\\r\\n\\r\\n<div class=\"w3-light-grey w3-center w3-padding-large w3-padding-32\">\\r\\n  <h2 class=\"w3-xxlarge\">Web Templates</h2>\\r\\n  <h4 class=\"w3-text-dark-grey\">Browse our selection of <strong>free</strong> responsive HTML Templates</h4>\\r\\n  <div class=\"w3-content\">\\r\\n    <a href=\"/w3css/w3css_templates.asp\"><img src=\"w3css_templates.jpg\" style=\"width:100%;margin:16px 0 20px 0\" alt=\"W3.CSS Templates\"></a>\\r\\n  </div>\\r\\n  <p><a href=\"/w3css/w3css_templates.asp\" class=\"w3-button w3-dark-grey w3-padding-large w3-mobile\">BROWSE TEMPLATES</a></p>\\r\\n</div>\\r\\n<br>\\r\\n\\r\\n<div class=\"w3-white w3-center w3-padding-large w3-padding-16\" style=\"padding-bottom:36px!important\">\\r\\n  <h2 class=\"w3-xxlarge\">How To Section</h2>\\r\\n  <h4 class=\"w3-text-dark-grey\">Code snippets for HTML, CSS and JavaScript</h4>\\r\\n  <div class=\"w3-content w3-hide-device\">\\r\\n    <div class=\"w3-row-padding\" style=\"margin:32px -16px\">\\r\\n      <div class=\"w3-col l6 s12\">\\r\\n        <iframe src=\"/howto/tryhow_css_sidenav_ifr.htm\" style=\"width:100%;border:5px solid #ddd;height:300px\"></iframe>\\r\\n      </div>\\r\\n      <div class=\"w3-col l6 w3-hide-small w3-hide-medium\">\\r\\n        <iframe src=\"/howto/tryhow_css_sidenav_ifr2.htm\" style=\"width:100%;border:5px solid #ddd;height:300px\"></iframe>\\r\\n      </div>\\r\\n    </div>\\r\\n  </div>\\r\\n  <p><a href=\"/howto/default.asp\" class=\"w3-button w3-dark-grey w3-padding-large w3-mobile\">LEARN HOW TO</a></p>\\r\\n</div>\\r\\n\\r\\n<div class=\"w3-display-container w3-black\" id=\"certsection\">\\r\\n  <a href=\"/cert/default.asp\">\\r\\n    <img src=\"getcertified.jpg\" style=\"max-width:100%;margin:auto;display:block\" alt=\"W3 Certificates\">\\r\\n    <div class=\"certoverlay\">\\r\\n    <br class=\"w3-hide-small w3-hide-medium\">\\r\\n      <h2>Web Certificates</h2><h3>Get Certified in HTML, CSS, and JavaScript</h3>\\r\\n    </div>\\r\\n  </a>\\r\\n  <p class=\"w3-display-middle getcert\"><a href=\"/cert/default.asp\" class=\"w3-button w3-green w3-hover-white w3-padding-large\" style=\"font-size:17px\">Get Certified &raquo;</a></p>\\r\\n</div>\\r\\n\\r\\n<footer class=\"w3-container w3-dark-grey w3-center w3-padding-32\">\\r\\n <div class=\"w3-container w3-padding-32\">\\r\\n   <a class=\"w3-button w3-light-grey w3-hide-small w3-hide-medium w3-left\" href=\"/cert/default.asp\" style=\"font-size:16px;margin-top:-9px\">WEB CERTIFICATES</a>\\r\\n   <a class=\"w3-button w3-light-grey w3-hide-small w3-hide-medium w3-left\" href=\"/quiztest/default.asp\" style=\"font-size:16px;margin-top:-9px;margin-left:12px\">QUIZZES</a>\\r\\n   <a class=\"w3-button w3-light-grey w3-hide-small w3-hide-medium w3-left\" href=\"/html/html_exercises.asp\" style=\"font-size:16px;margin-top:-9px;margin-left:12px\">EXERCISES</a>\\r\\n   <a class=\"w3-button w3-light-grey w3-hide-large\" href=\"/cert/default.asp\" style=\"font-size:16px;margin-bottom:16px\">CERTIFICATES</a>\\r\\n   <a class=\"w3-button w3-light-grey w3-hide-large\" href=\"/quiztest/default.asp\" style=\"font-size:16px;margin-bottom:16px;\">QUIZZES</a>\\r\\n   <a class=\"w3-button w3-light-grey w3-hide-large\" href=\"/html/html_exercises.asp\" style=\"font-size:16px;margin-bottom:16px;\">EXERCISES</a>\\r\\n   <nav class=\"w3-right w3-hide-medium w3-hide-small w3-wide\">\\r\\n    <a href=\"/forum/default.asp\" target=\"_blank\" class=\"w3-hover-text-green\" style=\"text-decoration:none\">FORUM</a> |\\r\\n    <a href=\"/about/default.asp\" target=\"_top\" class=\"w3-hover-text-green\" style=\"text-decoration:none\">ABOUT</a>\\r\\n   </nav>\\r\\n   <nav class=\"w3-center w3-hide-large w3-margin-top w3-wide\">\\r\\n    <a href=\"/forum/default.asp\" target=\"_blank\" class=\"w3-hover-text-green\" style=\"text-decoration:none\">FORUM</a> |\\r\\n    <a href=\"/about/default.asp\" target=\"_top\" class=\"w3-hover-text-green\" style=\"text-decoration:none\">ABOUT</a>\\r\\n   </nav>\\r\\n </div>\\r\\n <p class=\"w3-medium\">\\r\\n W3Schools is optimized for learning, testing, and training. Examples might be simplified to improve reading and basic understanding. Tutorials, references, and examples are constantly reviewed to avoid errors, but we cannot warrant full correctness of\\r\\n all content. While using this site, you agree to have read and accepted our <a href=\"/about/about_copyright.asp\" class=\"w3-hover-text-green\">terms of use</a>, <a href=\"/about/about_privacy.asp\" class=\"w3-hover-text-green\">cookie and privacy policy</a>.<br>\\r\\n <a href=\"/about/about_copyright.asp\" class=\"w3-hover-text-green\">Copyright 1999-2020</a> by Refsnes Data. All Rights Reserved.<br><br></p>\\r\\n <a href=\"javascript:void(0);\" onclick=\"clickFBLike()\" title=\"Like W3Schools on Facebook\" class=\"w3-hover-text-light-grey\">\\r\\n <i class=\"fa fa-thumbs-o-up w3-xxlarge\"></i></a>\\r\\n <div id=\"fblikeframe\" class=\"w3-modal\">\\r\\n  <div class=\"w3-modal-content w3-padding-64 w3-animate-zoom\" id=\"popupDIV\"></div>\\r\\n </div>\\r\\n</footer>\\r\\n\\r\\n<!-- END MAIN -->\\r\\n</div>\\r\\n\\r\\n<script>\\r\\nfunction w3_open() {\\r\\n  var x = document.getElementById(\"myAccordion\");\\r\\n  if (x.style.display === \\'none\\') {\\r\\n    x.style.display = \\'block\\';\\r\\n  } else {\\r\\n    x.style.display = \\'none\\';\\r\\n  }\\r\\n}\\r\\nfunction w3_close() {\\r\\n  document.getElementById(\"myAccordion\").style.display = \"none\";\\r\\n}\\r\\nfunction open_xs_menu(x) {\\r\\n  if (document.getElementById(\"sectionxs_\" + x).innerHTML == \"\") {\\r\\n    document.getElementById(\"sectionxs_\" + x).innerHTML = document.getElementById(\"nav_\" + x).innerHTML;\\r\\n  } else {\\r\\n    document.getElementById(\"sectionxs_\" + x).innerHTML = \"\";\\r\\n  }\\r\\n}\\r\\nfunction w3_open_nav(x) {\\r\\n  if (document.getElementById(\"nav_\" + x).style.display == \"block\") {\\r\\n    w3_close_nav(x);\\r\\n  } else {\\r\\n    w3_close_nav(\"tutorials\");\\r\\n    w3_close_nav(\"references\");\\r\\n    w3_close_nav(\"examples\");\\r\\n    w3_close_nav(\"exercises\");\\r\\n    document.getElementById(\"nav_\" + x).style.display = \"block\";\\r\\n    if (document.getElementById(\"navbtn_\" + x)) {\\r\\n      document.getElementById(\"navbtn_\" + x).getElementsByTagName(\"i\")[0].style.display = \"none\";\\r\\n      document.getElementById(\"navbtn_\" + x).getElementsByTagName(\"i\")[1].style.display = \"inline\";\\r\\n    } \\r\\n    if (x == \"search\") {\\r\\n      if (document.getElementById(\"gsc-i-id1\")) {document.getElementById(\"gsc-i-id1\").focus(); }\\r\\n    }\\r\\n  }\\r\\n}\\r\\nfunction w3_close_all_nav() {\\r\\n  w3_close_nav(\"tutorials\");\\r\\n  w3_close_nav(\"references\");\\r\\n  w3_close_nav(\"examples\");\\r\\n  w3_close_nav(\"exercises\");\\r\\n  w3_close();\\r\\n}\\r\\nfunction w3_close_nav(x) {\\r\\n  document.getElementById(\"nav_\" + x).style.display = \"none\";\\r\\n  if (document.getElementById(\"navbtn_\" + x)) {\\r\\n    document.getElementById(\"navbtn_\" + x).getElementsByTagName(\"i\")[0].style.display = \"inline\";\\r\\n    document.getElementById(\"navbtn_\" + x).getElementsByTagName(\"i\")[1].style.display = \"none\";\\r\\n  }\\r\\n}\\r\\nfunction changecodetheme() {\\r\\n  var cc = document.body.className;\\r\\n  if (cc.indexOf(\"darktheme\") > -1) {\\r\\n    document.body.className = cc.replace(\"darktheme\", \"\");\\r\\n    localStorage.setItem(\"preferredmode\", \"light\");\\r\\n  } else {\\r\\n    document.body.className += \" darktheme\";\\r\\n    localStorage.setItem(\"preferredmode\", \"dark\");\\r\\n  }\\r\\n}\\r\\nfunction open_translate(elmnt) {\\r\\n  var a = document.getElementById(\"google_translate_element\");\\r\\n  if (a.style.display == \"\") {\\r\\n    a.style.display = \"none\";\\r\\n    elmnt.innerHTML = \"<i class=\\'fa\\'>&#xe801;</i>\";\\r\\n  } else {\\r\\n    a.style.display = \"\";\\r\\n    if (window.innerWidth > 830) {\\r\\n      a.style.width = \"20%\";\\r\\n    } else {\\r\\n      a.style.width = \"60%\";\\r\\n    }\\r\\n    elmnt.innerHTML = \"<span style=\\'font-family:verdana;font-weight:bold;display:inline-block;width:21px;text-align:center;\\'>X</span>\";\\r\\n  }\\r\\n}\\r\\nfunction open_search(elmnt) {\\r\\n  var a = document.getElementById(\"googleSearch\");\\r\\n  document.getElementById(\"navbtn_tutorials\").style.visibility = \"visible\";\\r\\n  if (a.style.display == \"\") {\\r\\n    a.style.display = \"none\";\\r\\n    elmnt.innerHTML = \"<i class=\\'fa\\'>&#xe802;</i>\";    \\r\\n  } else {\\r\\n    a.style.display = \"\";  \\r\\n    if (window.innerWidth > 1000) {\\r\\n      a.style.width = \"40%\";\\r\\n    } else if (window.innerWidth >768) {\\r\\n      document.getElementById(\"navbtn_tutorials\").style.visibility = \"hidden\";\\r\\n      a.style.width = \"80%\";    \\r\\n    } else {\\r\\n      a.style.width = \"80%\";\\r\\n    }\\r\\n    if (document.getElementById(\"gsc-i-id1\")) {document.getElementById(\"gsc-i-id1\").focus(); }\\r\\n    elmnt.innerHTML = \"<span style=\\'font-family:verdana;font-weight:bold;display:inline-block;width:23px;text-align:center;\\'>X</span>\";\\r\\n  }\\r\\n}\\r\\nfunction googleTranslateElementInit() {\\r\\n  new google.translate.TranslateElement({\\r\\n  pageLanguage: \\'en\\',\\r\\n  autoDisplay: false,    \\r\\n  gaTrack: true,\\r\\n  gaId: \\'UA-3855518-1\\',\\r\\n  layout: google.translate.TranslateElement.InlineLayout.SIMPLE\\r\\n  }, \\'google_translate_element\\');\\r\\n}\\r\\nfunction clickFBLike() {\\r\\n  document.getElementById(\"fblikeframe\").style.display=\\'block\\';\\r\\n  document.getElementById(\"popupDIV\").innerHTML = \"<iframe src=\\'/fblike.asp?r=\" + Math.random() + \"\\' frameborder=\\'no\\' style=\\'height:200px;width:250px;\\'></iframe><br><button onclick=\\'hideFBLike()\\' class=\\'w3-button w3-dark-grey w3-hover-black\\'>Close</button>\";\\r\\n}\\r\\nfunction hideFBLike() {\\r\\n  document.getElementById(\"fblikeframe\").style.display=\\'none\\';\\r\\n}\\r\\nif (window.addEventListener) { \\r\\n  document.getElementById(\"main\").addEventListener(\"click\", w3_close_all_nav, true);\\r\\n  document.getElementById(\"mySidenav\").addEventListener(\"click\", w3_close_all_nav, true);\\r\\n  document.getElementById(\"main\").addEventListener(\"wheel\", w3_close_all_nav, true);\\r\\n  document.getElementById(\"main\").addEventListener(\"touchstart\", w3_close_all_nav, true);\\r\\n} else if (window.attachEvent) {         \\r\\n  document.getElementById(\"main\").attachEvent(\"onclick\", w3_close_all_nav);\\r\\n  document.getElementById(\"mySidenav\").attachEvent(\"onclick\", w3_close_all_nav);\\r\\n}\\r\\n\\r\\n</script>\\r\\n<script src=\"/lib/w3codecolor.js\"></script>\\r\\n<script src=\"https://translate.google.com/translate_a/element.js?cb=googleTranslateElementInit\"></script>\\r\\n<script>\\r\\nw3CodeColor();\\r\\n(\\r\\nfunction setThemeMode() {\\r\\n  var x = localStorage.getItem(\"preferredmode\");\\r\\n  if (x == \"dark\") {\\r\\n    document.body.className += \" darktheme\";\\r\\n  }\\r\\n})();\\r\\n</script>\\r\\n</body>\\r\\n</html>'\n"
     ]
    }
   ],
   "source": [
    "print(b)"
   ]
  },
  {
   "cell_type": "code",
   "execution_count": 16,
   "metadata": {},
   "outputs": [
    {
     "ename": "AttributeError",
     "evalue": "'HTTPResponse' object has no attribute 'decode'",
     "output_type": "error",
     "traceback": [
      "\u001b[1;31m---------------------------------------------------------------------------\u001b[0m",
      "\u001b[1;31mAttributeError\u001b[0m                            Traceback (most recent call last)",
      "\u001b[1;32m<ipython-input-16-1085cb2d9a2a>\u001b[0m in \u001b[0;36m<module>\u001b[1;34m\u001b[0m\n\u001b[1;32m----> 1\u001b[1;33m \u001b[0ms\u001b[0m\u001b[1;33m=\u001b[0m\u001b[0ma\u001b[0m\u001b[1;33m.\u001b[0m\u001b[0mdecode\u001b[0m\u001b[1;33m(\u001b[0m\u001b[1;33m)\u001b[0m\u001b[1;33m\u001b[0m\u001b[0m\n\u001b[0m",
      "\u001b[1;31mAttributeError\u001b[0m: 'HTTPResponse' object has no attribute 'decode'"
     ]
    }
   ],
   "source": []
  },
  {
   "cell_type": "code",
   "execution_count": 7,
   "metadata": {
    "collapsed": true
   },
   "outputs": [
    {
     "ename": "NameError",
     "evalue": "name 'a' is not defined",
     "output_type": "error",
     "traceback": [
      "\u001b[1;31m---------------------------------------------------------------------------\u001b[0m",
      "\u001b[1;31mNameError\u001b[0m                                 Traceback (most recent call last)",
      "\u001b[1;32m<ipython-input-7-1085cb2d9a2a>\u001b[0m in \u001b[0;36m<module>\u001b[1;34m\u001b[0m\n\u001b[1;32m----> 1\u001b[1;33m \u001b[0ms\u001b[0m\u001b[1;33m=\u001b[0m\u001b[0ma\u001b[0m\u001b[1;33m.\u001b[0m\u001b[0mdecode\u001b[0m\u001b[1;33m(\u001b[0m\u001b[1;33m)\u001b[0m\u001b[1;33m\u001b[0m\u001b[0m\n\u001b[0m",
      "\u001b[1;31mNameError\u001b[0m: name 'a' is not defined"
     ]
    }
   ],
   "source": [
    "s=a.decode()"
   ]
  },
  {
   "cell_type": "code",
   "execution_count": null,
   "metadata": {},
   "outputs": [],
   "source": []
  }
 ],
 "metadata": {
  "kernelspec": {
   "display_name": "Python 3",
   "language": "python",
   "name": "python3"
  },
  "language_info": {
   "codemirror_mode": {
    "name": "ipython",
    "version": 3
   },
   "file_extension": ".py",
   "mimetype": "text/x-python",
   "name": "python",
   "nbconvert_exporter": "python",
   "pygments_lexer": "ipython3",
   "version": "3.6.5"
  }
 },
 "nbformat": 4,
 "nbformat_minor": 2
}
