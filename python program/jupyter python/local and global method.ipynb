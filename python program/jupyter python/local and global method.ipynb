{
 "cells": [
  {
   "cell_type": "code",
   "execution_count": 2,
   "id": "92982c6d",
   "metadata": {},
   "outputs": [
    {
     "name": "stdout",
     "output_type": "stream",
     "text": [
      "{'__name__': '__main__', '__doc__': 'Automatically created module for IPython interactive environment', '__package__': None, '__loader__': None, '__spec__': None, '__builtin__': <module 'builtins' (built-in)>, '__builtins__': <module 'builtins' (built-in)>, '_ih': ['', 'a=10\\nb=20\\nglobals()', 'a=10\\nb=20\\nprint(globals())'], '_oh': {1: {...}}, '_dh': ['D:\\\\Python\\\\python program\\\\jupyter python'], 'In': ['', 'a=10\\nb=20\\nglobals()', 'a=10\\nb=20\\nprint(globals())'], 'Out': {1: {...}}, 'get_ipython': <bound method InteractiveShell.get_ipython of <ipykernel.zmqshell.ZMQInteractiveShell object at 0x000001594B91BA90>>, 'exit': <IPython.core.autocall.ZMQExitAutocall object at 0x000001594B97BC50>, 'quit': <IPython.core.autocall.ZMQExitAutocall object at 0x000001594B97BC50>, '_': {...}, '__': '', '___': '', '__path__': ['c:\\\\users\\\\hp\\\\appdata\\\\local\\\\programs\\\\python\\\\python36\\\\lib\\\\site-packages\\\\pyforest'], '__cached__': 'c:\\\\users\\\\hp\\\\appdata\\\\local\\\\programs\\\\python\\\\python36\\\\lib\\\\site-packages\\\\pyforest\\\\__pycache__\\\\__init__.cpython-36.pyc', '_importable': <module 'pyforest._importable' from 'c:\\\\users\\\\hp\\\\appdata\\\\local\\\\programs\\\\python\\\\python36\\\\lib\\\\site-packages\\\\pyforest\\\\_importable.py'>, 'user_specific_imports': <module 'pyforest.user_specific_imports' from 'c:\\\\users\\\\hp\\\\appdata\\\\local\\\\programs\\\\python\\\\python36\\\\lib\\\\site-packages\\\\pyforest\\\\user_specific_imports.py'>, '_imports': <module 'pyforest._imports' from 'c:\\\\users\\\\hp\\\\appdata\\\\local\\\\programs\\\\python\\\\python36\\\\lib\\\\site-packages\\\\pyforest\\\\_imports.py'>, 'LazyImport': <class 'pyforest._importable.LazyImport'>, 'pd': lazy pyforest.LazyImport for 'import pandas as pd', 'np': lazy pyforest.LazyImport for 'import numpy as np', 'dd': lazy pyforest.LazyImport for 'from dask import dataframe as dd', 'SparkContext': lazy pyforest.LazyImport for 'from pyspark import SparkContext', 'load_workbook': lazy pyforest.LazyImport for 'from openpyxl import load_workbook', 'open_workbook': lazy pyforest.LazyImport for 'from xlrd import open_workbook', 'wr': lazy pyforest.LazyImport for 'import awswrangler as wr', 'mpl': lazy pyforest.LazyImport for 'import matplotlib as mpl', 'plt': lazy pyforest.LazyImport for 'import matplotlib.pyplot as plt', 'sns': lazy pyforest.LazyImport for 'import seaborn as sns', 'py': lazy pyforest.LazyImport for 'import plotly as py', 'go': lazy pyforest.LazyImport for 'import plotly.graph_objs as go', 'px': lazy pyforest.LazyImport for 'import plotly.express as px', 'dash': lazy pyforest.LazyImport for 'import dash', 'bokeh': lazy pyforest.LazyImport for 'import bokeh', 'alt': lazy pyforest.LazyImport for 'import altair as alt', 'pydot': lazy pyforest.LazyImport for 'import pydot', 'cv2': lazy pyforest.LazyImport for 'import cv2', 'skimage': lazy pyforest.LazyImport for 'import skimage', 'Image': lazy pyforest.LazyImport for 'from PIL import Image', 'imutils': lazy pyforest.LazyImport for 'import imutils', 'statistics': lazy pyforest.LazyImport for 'import statistics', 'stats': lazy pyforest.LazyImport for 'from scipy import stats', 'sm': lazy pyforest.LazyImport for 'import statsmodels.api as sm', 'fbprophet': lazy pyforest.LazyImport for 'import fbprophet', 'Prophet': lazy pyforest.LazyImport for 'from fbprophet import Prophet', 'ARIMA': lazy pyforest.LazyImport for 'from statsmodels.tsa.arima_model import ARIMA', 'sklearn': lazy pyforest.LazyImport for 'import sklearn', 'LinearRegression': lazy pyforest.LazyImport for 'from sklearn.linear_model import LinearRegression', 'LogisticRegression': lazy pyforest.LazyImport for 'from sklearn.linear_model import LogisticRegression', 'Lasso': lazy pyforest.LazyImport for 'from sklearn.linear_model import Lasso', 'LassoCV': lazy pyforest.LazyImport for 'from sklearn.linear_model import LassoCV', 'Ridge': lazy pyforest.LazyImport for 'from sklearn.linear_model import Ridge', 'RidgeCV': lazy pyforest.LazyImport for 'from sklearn.linear_model import RidgeCV', 'ElasticNet': lazy pyforest.LazyImport for 'from sklearn.linear_model import ElasticNet', 'ElasticNetCV': lazy pyforest.LazyImport for 'from sklearn.linear_model import ElasticNetCV', 'PolynomialFeatures': lazy pyforest.LazyImport for 'from sklearn.preprocessing import PolynomialFeatures', 'StandardScaler': lazy pyforest.LazyImport for 'from sklearn.preprocessing import StandardScaler', 'MinMaxScaler': lazy pyforest.LazyImport for 'from sklearn.preprocessing import MinMaxScaler', 'RobustScaler': lazy pyforest.LazyImport for 'from sklearn.preprocessing import RobustScaler', 'OneHotEncoder': lazy pyforest.LazyImport for 'from sklearn.preprocessing import OneHotEncoder', 'LabelEncoder': lazy pyforest.LazyImport for 'from sklearn.preprocessing import LabelEncoder', 'TSNE': lazy pyforest.LazyImport for 'from sklearn.manifold import TSNE', 'PCA': lazy pyforest.LazyImport for 'from sklearn.decomposition import PCA', 'SimpleImputer': lazy pyforest.LazyImport for 'from sklearn.impute import SimpleImputer', 'train_test_split': lazy pyforest.LazyImport for 'from sklearn.model_selection import train_test_split', 'cross_val_score': lazy pyforest.LazyImport for 'from sklearn.model_selection import cross_val_score', 'GridSearchCV': lazy pyforest.LazyImport for 'from sklearn.model_selection import GridSearchCV', 'RandomizedSearchCV': lazy pyforest.LazyImport for 'from sklearn.model_selection import RandomizedSearchCV', 'KFold': lazy pyforest.LazyImport for 'from sklearn.model_selection import KFold', 'StratifiedKFold': lazy pyforest.LazyImport for 'from sklearn.model_selection import StratifiedKFold', 'svm': lazy pyforest.LazyImport for 'from sklearn import svm', 'GradientBoostingClassifier': lazy pyforest.LazyImport for 'from sklearn.ensemble import GradientBoostingClassifier', 'GradientBoostingRegressor': lazy pyforest.LazyImport for 'from sklearn.ensemble import GradientBoostingRegressor', 'RandomForestClassifier': lazy pyforest.LazyImport for 'from sklearn.ensemble import RandomForestClassifier', 'RandomForestRegressor': lazy pyforest.LazyImport for 'from sklearn.ensemble import RandomForestRegressor', 'TfidfVectorizer': lazy pyforest.LazyImport for 'from sklearn.feature_extraction.text import TfidfVectorizer', 'CountVectorizer': lazy pyforest.LazyImport for 'from sklearn.feature_extraction.text import CountVectorizer', 'metrics': lazy pyforest.LazyImport for 'from sklearn import metrics', 'sg': lazy pyforest.LazyImport for 'from scipy import signal as sg', 'KMeans': lazy pyforest.LazyImport for 'from sklearn.cluster import KMeans', 'xgb': lazy pyforest.LazyImport for 'import xgboost as xgb', 'lgb': lazy pyforest.LazyImport for 'import lightgbm as lgb', 'tf': lazy pyforest.LazyImport for 'import tensorflow as tf', 'keras': lazy pyforest.LazyImport for 'import keras', 'torch': lazy pyforest.LazyImport for 'import torch', 'fastai': lazy pyforest.LazyImport for 'import fastai', 'nltk': lazy pyforest.LazyImport for 'import nltk', 'gensim': lazy pyforest.LazyImport for 'import gensim', 'spacy': lazy pyforest.LazyImport for 'import spacy', 're': lazy pyforest.LazyImport for 'import re', 'textblob': lazy pyforest.LazyImport for 'import textblob', 'sys': lazy pyforest.LazyImport for 'import sys', 'os': lazy pyforest.LazyImport for 'import os', 'glob': lazy pyforest.LazyImport for 'import glob', 'Path': lazy pyforest.LazyImport for 'from pathlib import Path', 'pickle': lazy pyforest.LazyImport for 'import pickle', 'dt': lazy pyforest.LazyImport for 'import datetime as dt', 'tqdm': lazy pyforest.LazyImport for 'import tqdm', 'lazy_imports': <function lazy_imports at 0x000001594B9BC950>, 'active_imports': <function active_imports at 0x000001594B9D56A8>, 'utils': <module 'pyforest.utils' from 'c:\\\\users\\\\hp\\\\appdata\\\\local\\\\programs\\\\python\\\\python36\\\\lib\\\\site-packages\\\\pyforest\\\\utils.py'>, 'get_user_symbols': <function get_user_symbols at 0x000001594B9D5730>, 'install_extensions': <function install_extensions at 0x000001594B9D5A60>, 'install_nbextension': <function install_nbextension at 0x000001594B9D5AE8>, 'install_labextension': <function install_labextension at 0x000001594B9D5B70>, 'user_symbols': {...}, 'pyforest': <module 'pyforest' from 'c:\\\\users\\\\hp\\\\appdata\\\\local\\\\programs\\\\python\\\\python36\\\\lib\\\\site-packages\\\\pyforest\\\\__init__.py'>, '_i': 'a=10\\nb=20\\nglobals()', '_ii': '', '_iii': '', '_i1': 'a=10\\nb=20\\nglobals()', 'a': 10, 'b': 20, '_1': {...}, '_i2': 'a=10\\nb=20\\nprint(globals())'}\n"
     ]
    }
   ],
   "source": [
    "a=10\n",
    "b=20\n",
    "print(globals())"
   ]
  },
  {
   "cell_type": "code",
   "execution_count": 3,
   "id": "7a36f37d",
   "metadata": {},
   "outputs": [
    {
     "data": {
      "text/plain": [
       "10"
      ]
     },
     "execution_count": 3,
     "metadata": {},
     "output_type": "execute_result"
    }
   ],
   "source": [
    "globals()[\"a\"]"
   ]
  },
  {
   "cell_type": "code",
   "execution_count": 4,
   "id": "83fd45b2",
   "metadata": {},
   "outputs": [
    {
     "data": {
      "text/plain": [
       "20"
      ]
     },
     "execution_count": 4,
     "metadata": {},
     "output_type": "execute_result"
    }
   ],
   "source": [
    "globals().get(\"b\")"
   ]
  },
  {
   "cell_type": "code",
   "execution_count": 11,
   "id": "9d96adc2",
   "metadata": {},
   "outputs": [
    {
     "name": "stdout",
     "output_type": "stream",
     "text": [
      "shani\n"
     ]
    }
   ],
   "source": [
    "def fun():\n",
    "    name=\"shani\"\n",
    "    print(locals()[\"name\"])\n",
    "fun()"
   ]
  },
  {
   "cell_type": "code",
   "execution_count": null,
   "id": "92b6a890",
   "metadata": {},
   "outputs": [],
   "source": []
  }
 ],
 "metadata": {
  "kernelspec": {
   "display_name": "Python 3",
   "language": "python",
   "name": "python3"
  },
  "language_info": {
   "codemirror_mode": {
    "name": "ipython",
    "version": 3
   },
   "file_extension": ".py",
   "mimetype": "text/x-python",
   "name": "python",
   "nbconvert_exporter": "python",
   "pygments_lexer": "ipython3",
   "version": "3.6.5"
  }
 },
 "nbformat": 4,
 "nbformat_minor": 5
}
