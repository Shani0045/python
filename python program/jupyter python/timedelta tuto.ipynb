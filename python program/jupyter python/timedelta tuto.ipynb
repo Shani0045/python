{
 "cells": [
  {
   "cell_type": "code",
   "execution_count": 1,
   "metadata": {},
   "outputs": [],
   "source": [
    "import datetime"
   ]
  },
  {
   "cell_type": "code",
   "execution_count": 2,
   "metadata": {},
   "outputs": [
    {
     "name": "stdout",
     "output_type": "stream",
     "text": [
      "2020-10-15 16:56:33.358478\n"
     ]
    }
   ],
   "source": [
    "current_date=datetime.datetime.now()\n",
    "print(current_date)"
   ]
  },
  {
   "cell_type": "code",
   "execution_count": 6,
   "metadata": {},
   "outputs": [
    {
     "name": "stdout",
     "output_type": "stream",
     "text": [
      "2020-10-17 16:56:33.358478\n"
     ]
    }
   ],
   "source": [
    "new_date=current_date+datetime.timedelta(days=2)\n",
    "print(new_date)"
   ]
  },
  {
   "cell_type": "code",
   "execution_count": 8,
   "metadata": {},
   "outputs": [
    {
     "name": "stdout",
     "output_type": "stream",
     "text": [
      "2020-10-13 16:56:33.358478\n"
     ]
    }
   ],
   "source": [
    "new_date=current_date-datetime.timedelta(days=2)\n",
    "print(new_date)"
   ]
  },
  {
   "cell_type": "code",
   "execution_count": 9,
   "metadata": {},
   "outputs": [
    {
     "name": "stdout",
     "output_type": "stream",
     "text": [
      "2021-10-15 16:56:33.358478\n"
     ]
    }
   ],
   "source": [
    "new_date=current_date+datetime.timedelta(days=365)\n",
    "print(new_date)"
   ]
  },
  {
   "cell_type": "code",
   "execution_count": 10,
   "metadata": {},
   "outputs": [
    {
     "name": "stdout",
     "output_type": "stream",
     "text": [
      "2022-10-15 16:56:33.358478\n"
     ]
    }
   ],
   "source": [
    "new_date=current_date+datetime.timedelta(days=2*365)\n",
    "print(new_date)"
   ]
  },
  {
   "cell_type": "code",
   "execution_count": 12,
   "metadata": {},
   "outputs": [
    {
     "name": "stdout",
     "output_type": "stream",
     "text": [
      "2020-10-15 16:56:33.358478\n",
      "2020-10-22 16:56:33.358478\n"
     ]
    }
   ],
   "source": [
    "new_date=current_date+datetime.timedelta(weeks=1)\n",
    "print(current_date)\n",
    "print(new_date)"
   ]
  },
  {
   "cell_type": "code",
   "execution_count": 13,
   "metadata": {},
   "outputs": [
    {
     "name": "stdout",
     "output_type": "stream",
     "text": [
      "2020-10-15 16:56:33.358478\n",
      "2020-11-12 16:56:33.358478\n"
     ]
    }
   ],
   "source": [
    "new_date=current_date+datetime.timedelta(weeks=4)\n",
    "print(current_date)\n",
    "print(new_date)"
   ]
  },
  {
   "cell_type": "code",
   "execution_count": 14,
   "metadata": {},
   "outputs": [
    {
     "name": "stdout",
     "output_type": "stream",
     "text": [
      "2020-10-15 16:56:33.358478\n",
      "2020-11-14 16:56:33.358478\n"
     ]
    }
   ],
   "source": [
    "new_date=current_date+datetime.timedelta(days=30)\n",
    "print(current_date)\n",
    "print(new_date)"
   ]
  },
  {
   "cell_type": "code",
   "execution_count": null,
   "metadata": {},
   "outputs": [],
   "source": []
  }
 ],
 "metadata": {
  "kernelspec": {
   "display_name": "Python 3",
   "language": "python",
   "name": "python3"
  },
  "language_info": {
   "codemirror_mode": {
    "name": "ipython",
    "version": 3
   },
   "file_extension": ".py",
   "mimetype": "text/x-python",
   "name": "python",
   "nbconvert_exporter": "python",
   "pygments_lexer": "ipython3",
   "version": "3.6.5"
  }
 },
 "nbformat": 4,
 "nbformat_minor": 2
}
