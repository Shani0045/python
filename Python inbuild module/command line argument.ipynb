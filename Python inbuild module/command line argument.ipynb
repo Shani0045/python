{
 "cells": [
  {
   "cell_type": "code",
   "execution_count": 1,
   "metadata": {},
   "outputs": [],
   "source": [
    "import sys"
   ]
  },
  {
   "cell_type": "code",
   "execution_count": 8,
   "metadata": {},
   "outputs": [
    {
     "name": "stdout",
     "output_type": "stream",
     "text": [
      "c:\\users\\hp\\appdata\\local\\programs\\python\\python36\\lib\\site-packages\\ipykernel_launcher.py\n"
     ]
    }
   ],
   "source": [
    "a=sys.argv[0]\n",
    "print(a)"
   ]
  },
  {
   "cell_type": "code",
   "execution_count": 12,
   "metadata": {},
   "outputs": [
    {
     "name": "stdout",
     "output_type": "stream",
     "text": [
      "Overwriting arg.py\n"
     ]
    }
   ],
   "source": [
    "%%writefile arg.py\n",
    "import sys\n",
    "print(sys.argv)"
   ]
  },
  {
   "cell_type": "code",
   "execution_count": 15,
   "metadata": {},
   "outputs": [
    {
     "name": "stdout",
     "output_type": "stream",
     "text": [
      "['arg.py', '4', '5', '6']\n"
     ]
    }
   ],
   "source": [
    "!py arg.py 4 5 6"
   ]
  },
  {
   "cell_type": "code",
   "execution_count": 16,
   "metadata": {},
   "outputs": [
    {
     "name": "stdout",
     "output_type": "stream",
     "text": [
      "['arg.py', 'shani', 'kumar', 'bharti']\n"
     ]
    }
   ],
   "source": [
    "!py arg.py \"shani\" \"kumar\" \"bharti\""
   ]
  },
  {
   "cell_type": "code",
   "execution_count": 17,
   "metadata": {},
   "outputs": [],
   "source": []
  },
  {
   "cell_type": "code",
   "execution_count": 31,
   "metadata": {},
   "outputs": [
    {
     "name": "stdout",
     "output_type": "stream",
     "text": [
      "Overwriting parser.py\n"
     ]
    }
   ],
   "source": [
    "%%writefile parser.py\n",
    "import argparse\n",
    "parser=argparse.ArgumentParser()\n",
    "parser.add_argument(\"n1\",help=\"first_number\",type=int)\n",
    "parser.add_argument(\"n2\",help=\"second number\",type=int)\n",
    "parser.add_argument(\"operation\",help=\"operation perform\")\n",
    "args=parser.parse_args()\n",
    "print(args)  \n",
    "print(args.n1)\n",
    "print(args.n2)\n",
    "print(args.operation)"
   ]
  },
  {
   "cell_type": "code",
   "execution_count": 24,
   "metadata": {},
   "outputs": [
    {
     "name": "stdout",
     "output_type": "stream",
     "text": [
      "Namespace(n1=3, n2=5, operation='+')\n",
      "+\n"
     ]
    }
   ],
   "source": [
    "!py parser.py 3 5 +"
   ]
  },
  {
   "cell_type": "code",
   "execution_count": null,
   "metadata": {},
   "outputs": [],
   "source": []
  },
  {
   "cell_type": "code",
   "execution_count": 28,
   "metadata": {},
   "outputs": [
    {
     "name": "stdout",
     "output_type": "stream",
     "text": [
      "Overwriting parser2.py\n"
     ]
    }
   ],
   "source": [
    "%%writefile parser2.py\n",
    "import argparse\n",
    "parser=argparse.ArgumentParser()\n",
    "parser.add_argument(\"n1\",help=\"first_number\",type=int)\n",
    "parser.add_argument(\"n2\",help=\"second number\",type=int)\n",
    "parser.add_argument(\"operation\",help=\"operation perform\")\n",
    "args=parser.parse_args()\n",
    "if args.operation==\"+\":\n",
    "    result=args.n1+args.n2\n",
    "    print(result)\n",
    "elif args.operation==\"-\":\n",
    "    print(args.n1-args.n2)\n",
    "elif args.operation==\"*\":\n",
    "    print(args.n1*args.n2)\n",
    "elif args.operation==\"/\":\n",
    "    print(args.n1/args.n2)\n",
    "else:\n",
    "    print(\"bad arguments \")"
   ]
  },
  {
   "cell_type": "code",
   "execution_count": 29,
   "metadata": {},
   "outputs": [
    {
     "name": "stdout",
     "output_type": "stream",
     "text": [
      "9\n"
     ]
    }
   ],
   "source": [
    "!parser2.py 4 5 +"
   ]
  },
  {
   "cell_type": "code",
   "execution_count": 30,
   "metadata": {},
   "outputs": [
    {
     "name": "stdout",
     "output_type": "stream",
     "text": [
      "1\n"
     ]
    }
   ],
   "source": [
    "!parser2.py 10 9 -"
   ]
  },
  {
   "cell_type": "code",
   "execution_count": 35,
   "metadata": {},
   "outputs": [
    {
     "name": "stdout",
     "output_type": "stream",
     "text": [
      "Namespace(n1=5, n2=7, operation='-')\n",
      "5\n",
      "7\n",
      "-\n"
     ]
    }
   ],
   "source": [
    "!py parser.py 5 7 -"
   ]
  },
  {
   "cell_type": "code",
   "execution_count": null,
   "metadata": {},
   "outputs": [],
   "source": []
  }
 ],
 "metadata": {
  "kernelspec": {
   "display_name": "Python 3",
   "language": "python",
   "name": "python3"
  },
  "language_info": {
   "codemirror_mode": {
    "name": "ipython",
    "version": 3
   },
   "file_extension": ".py",
   "mimetype": "text/x-python",
   "name": "python",
   "nbconvert_exporter": "python",
   "pygments_lexer": "ipython3",
   "version": "3.6.5"
  }
 },
 "nbformat": 4,
 "nbformat_minor": 2
}
