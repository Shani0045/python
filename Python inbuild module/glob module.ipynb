{
 "cells": [
  {
   "cell_type": "code",
   "execution_count": 10,
   "metadata": {},
   "outputs": [],
   "source": [
    "import os"
   ]
  },
  {
   "cell_type": "code",
   "execution_count": 2,
   "metadata": {},
   "outputs": [],
   "source": [
    "file=os.listdir(\"f:/\")"
   ]
  },
  {
   "cell_type": "code",
   "execution_count": 3,
   "metadata": {},
   "outputs": [],
   "source": [
    "jpg=[]\n",
    "for i in file:\n",
    "    if i.endswith(\".jpg\"):\n",
    "        jpg.append(i)"
   ]
  },
  {
   "cell_type": "code",
   "execution_count": 4,
   "metadata": {},
   "outputs": [
    {
     "data": {
      "text/plain": [
       "['download.jpg',\n",
       " 'face-mask.jpg',\n",
       " 'girlmask1.jpg',\n",
       " 'shani.jpg',\n",
       " 'shk.jpg',\n",
       " 'varun1.jpg',\n",
       " 'varunjpg.jpg']"
      ]
     },
     "execution_count": 4,
     "metadata": {},
     "output_type": "execute_result"
    }
   ],
   "source": [
    "jpg"
   ]
  },
  {
   "cell_type": "code",
   "execution_count": 1,
   "metadata": {},
   "outputs": [],
   "source": [
    "from glob import glob"
   ]
  },
  {
   "cell_type": "code",
   "execution_count": 6,
   "metadata": {},
   "outputs": [
    {
     "data": {
      "text/plain": [
       "['f:/!qhlogs.doc',\n",
       " 'f:/$RECYCLE.BIN',\n",
       " 'f:/amit',\n",
       " 'f:/attendance system.ipynb',\n",
       " 'f:/c project',\n",
       " 'f:/cheat sheat',\n",
       " 'f:/Config.Msi',\n",
       " 'f:/D.L',\n",
       " 'f:/debug.log',\n",
       " 'f:/deep learning ducat',\n",
       " 'f:/desktop file',\n",
       " 'f:/Django tutorial',\n",
       " 'f:/DL 16 aug',\n",
       " 'f:/download.jpg',\n",
       " 'f:/English lecture',\n",
       " 'f:/exe file of python',\n",
       " 'f:/face recognition',\n",
       " 'f:/face-mask-detection-keras-master',\n",
       " 'f:/face-mask.jpg',\n",
       " 'f:/folder img',\n",
       " 'f:/free-screen-recorder.exe',\n",
       " 'f:/girlmask1.jpg',\n",
       " 'f:/github',\n",
       " 'f:/hands on ML',\n",
       " 'f:/Html tutorial',\n",
       " 'f:/java book',\n",
       " 'f:/kaggle',\n",
       " 'f:/myimages',\n",
       " 'f:/mysql',\n",
       " 'f:/opencv',\n",
       " 'f:/program',\n",
       " 'f:/Project',\n",
       " 'f:/Pycharm tutorial',\n",
       " 'f:/python',\n",
       " 'f:/shani.jpg',\n",
       " 'f:/shk.jpg',\n",
       " 'f:/sir',\n",
       " 'f:/soft computing',\n",
       " 'f:/Software',\n",
       " 'f:/Speech to text vice versa',\n",
       " 'f:/System Volume Information',\n",
       " 'f:/tkinter',\n",
       " 'f:/tut',\n",
       " 'f:/ubnto',\n",
       " 'f:/Ubuntu18.04',\n",
       " 'f:/Untitled Folder',\n",
       " 'f:/Untitled Folder 1',\n",
       " 'f:/Untitled.ipynb',\n",
       " 'f:/Untitled1.ipynb',\n",
       " 'f:/Untitled2.ipynb',\n",
       " 'f:/varun1.jpg',\n",
       " 'f:/varunjpg.jpg',\n",
       " 'f:/VertualBox']"
      ]
     },
     "execution_count": 6,
     "metadata": {},
     "output_type": "execute_result"
    }
   ],
   "source": [
    "data=glob(\"f:/*\")\n",
    "data"
   ]
  },
  {
   "cell_type": "code",
   "execution_count": 7,
   "metadata": {},
   "outputs": [
    {
     "data": {
      "text/plain": [
       "['f:/download.jpg',\n",
       " 'f:/face-mask.jpg',\n",
       " 'f:/girlmask1.jpg',\n",
       " 'f:/shani.jpg',\n",
       " 'f:/shk.jpg',\n",
       " 'f:/varun1.jpg',\n",
       " 'f:/varunjpg.jpg']"
      ]
     },
     "execution_count": 7,
     "metadata": {},
     "output_type": "execute_result"
    }
   ],
   "source": [
    "data=glob(\"f:/*.jpg\")\n",
    "data"
   ]
  },
  {
   "cell_type": "code",
   "execution_count": 8,
   "metadata": {},
   "outputs": [
    {
     "data": {
      "text/plain": [
       "['f:/varun1.jpg', 'f:/varunjpg.jpg']"
      ]
     },
     "execution_count": 8,
     "metadata": {},
     "output_type": "execute_result"
    }
   ],
   "source": [
    "varun_photo=glob(\"f:/varun*.jpg\")\n",
    "varun_photo"
   ]
  },
  {
   "cell_type": "code",
   "execution_count": 9,
   "metadata": {},
   "outputs": [
    {
     "data": {
      "text/plain": [
       "2"
      ]
     },
     "execution_count": 9,
     "metadata": {},
     "output_type": "execute_result"
    }
   ],
   "source": [
    "len(varun_photo)"
   ]
  },
  {
   "cell_type": "code",
   "execution_count": 7,
   "metadata": {},
   "outputs": [],
   "source": [
    "from glob import glob"
   ]
  },
  {
   "cell_type": "code",
   "execution_count": 13,
   "metadata": {},
   "outputs": [
    {
     "data": {
      "text/plain": [
       "['f:/!qhlogs.doc',\n",
       " 'f:/$RECYCLE.BIN',\n",
       " 'f:/amit',\n",
       " 'f:/attendance system.ipynb',\n",
       " 'f:/c project',\n",
       " 'f:/cheat sheat',\n",
       " 'f:/Config.Msi',\n",
       " 'f:/D.L',\n",
       " 'f:/debug.log',\n",
       " 'f:/deep learning ducat',\n",
       " 'f:/desktop file',\n",
       " 'f:/Django tutorial',\n",
       " 'f:/DL 16 aug',\n",
       " 'f:/download.jpg',\n",
       " 'f:/English lecture',\n",
       " 'f:/exe file of python',\n",
       " 'f:/face recognition',\n",
       " 'f:/face-mask-detection-keras-master',\n",
       " 'f:/face-mask.jpg',\n",
       " 'f:/folder img',\n",
       " 'f:/free-screen-recorder.exe',\n",
       " 'f:/girlmask1.jpg',\n",
       " 'f:/github',\n",
       " 'f:/hands on ML',\n",
       " 'f:/Html tutorial',\n",
       " 'f:/java book',\n",
       " 'f:/kaggle',\n",
       " 'f:/myimages',\n",
       " 'f:/mysql',\n",
       " 'f:/opencv',\n",
       " 'f:/program',\n",
       " 'f:/Project',\n",
       " 'f:/Pycharm tutorial',\n",
       " 'f:/python',\n",
       " 'f:/shani.jpg',\n",
       " 'f:/shk.jpg',\n",
       " 'f:/sir',\n",
       " 'f:/soft computing',\n",
       " 'f:/Software',\n",
       " 'f:/Speech to text vice versa',\n",
       " 'f:/System Volume Information',\n",
       " 'f:/tkinter',\n",
       " 'f:/tut',\n",
       " 'f:/ubnto',\n",
       " 'f:/Ubuntu18.04',\n",
       " 'f:/Untitled Folder',\n",
       " 'f:/Untitled Folder 1',\n",
       " 'f:/Untitled.ipynb',\n",
       " 'f:/Untitled1.ipynb',\n",
       " 'f:/Untitled2.ipynb',\n",
       " 'f:/varun1.jpg',\n",
       " 'f:/varunjpg.jpg',\n",
       " 'f:/VertualBox']"
      ]
     },
     "execution_count": 13,
     "metadata": {},
     "output_type": "execute_result"
    }
   ],
   "source": [
    "a=glob(\"f:/*\")\n",
    "a"
   ]
  },
  {
   "cell_type": "code",
   "execution_count": 10,
   "metadata": {},
   "outputs": [
    {
     "data": {
      "text/plain": [
       "53"
      ]
     },
     "execution_count": 10,
     "metadata": {},
     "output_type": "execute_result"
    }
   ],
   "source": [
    "len(a)"
   ]
  },
  {
   "cell_type": "code",
   "execution_count": 9,
   "metadata": {},
   "outputs": [
    {
     "data": {
      "text/plain": [
       "'F:/face recognition\\\\bg.jpg'"
      ]
     },
     "execution_count": 9,
     "metadata": {},
     "output_type": "execute_result"
    }
   ],
   "source": [
    "a=glob(\"F:/face recognition/*.jpg\")\n"
   ]
  },
  {
   "cell_type": "code",
   "execution_count": 23,
   "metadata": {},
   "outputs": [
    {
     "data": {
      "text/plain": [
       "'bg.jpg'"
      ]
     },
     "execution_count": 23,
     "metadata": {},
     "output_type": "execute_result"
    }
   ],
   "source": [
    "s=os.listdir(\"F:/face recognition\")[2]\n",
    "s"
   ]
  },
  {
   "cell_type": "code",
   "execution_count": 26,
   "metadata": {},
   "outputs": [],
   "source": [
    "path=os.path.join(\"f:/face recognition/\",s)"
   ]
  },
  {
   "cell_type": "code",
   "execution_count": 31,
   "metadata": {},
   "outputs": [
    {
     "data": {
      "text/plain": [
       "['F:/face recognition\\\\bg.jpg',\n",
       " 'F:/face recognition\\\\face.jpg',\n",
       " 'F:/face recognition\\\\face1.jpg',\n",
       " 'F:/face recognition\\\\face2.jpg',\n",
       " 'F:/face recognition\\\\face4.jpg']"
      ]
     },
     "execution_count": 31,
     "metadata": {},
     "output_type": "execute_result"
    }
   ],
   "source": [
    "glob(\"F:/face recognition/*.jpg\",recursive=True)"
   ]
  },
  {
   "cell_type": "code",
   "execution_count": null,
   "metadata": {},
   "outputs": [],
   "source": []
  }
 ],
 "metadata": {
  "kernelspec": {
   "display_name": "Python 3",
   "language": "python",
   "name": "python3"
  },
  "language_info": {
   "codemirror_mode": {
    "name": "ipython",
    "version": 3
   },
   "file_extension": ".py",
   "mimetype": "text/x-python",
   "name": "python",
   "nbconvert_exporter": "python",
   "pygments_lexer": "ipython3",
   "version": "3.6.5"
  }
 },
 "nbformat": 4,
 "nbformat_minor": 2
}
