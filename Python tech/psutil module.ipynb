{
 "cells": [
  {
   "cell_type": "code",
   "execution_count": null,
   "id": "b24946d1",
   "metadata": {},
   "outputs": [],
   "source": [
    "import psutil\n",
    "from plyer import notification\n",
    "import time\n",
    "\n",
    "while(True):\n",
    "\tbattery = psutil.sensors_battery()\n",
    "\tpercent = battery.percent\n",
    "\t\n",
    "\tnotification.notify(\n",
    "\t\ttitle=\"Battery Percentage\",\n",
    "\t\tmessage=str(percent)+\"% Battery remaining\",\n",
    "\t\ttimeout=10\n",
    "\t)\n",
    "\t\n",
    "\t# after every 60 mins it will show the\n",
    "\t# battery percentage\n",
    "\ttime.sleep(60)\n",
    "\t\n",
    "\tcontinue\n"
   ]
  },
  {
   "cell_type": "code",
   "execution_count": null,
   "id": "ca9dbc75",
   "metadata": {},
   "outputs": [],
   "source": []
  }
 ],
 "metadata": {
  "kernelspec": {
   "display_name": "Python 3",
   "language": "python",
   "name": "python3"
  },
  "language_info": {
   "codemirror_mode": {
    "name": "ipython",
    "version": 3
   },
   "file_extension": ".py",
   "mimetype": "text/x-python",
   "name": "python",
   "nbconvert_exporter": "python",
   "pygments_lexer": "ipython3",
   "version": "3.6.5"
  }
 },
 "nbformat": 4,
 "nbformat_minor": 5
}
