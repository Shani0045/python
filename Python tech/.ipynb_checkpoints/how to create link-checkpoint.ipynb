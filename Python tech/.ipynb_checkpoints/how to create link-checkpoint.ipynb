{
 "cells": [
  {
   "cell_type": "code",
   "execution_count": 1,
   "metadata": {},
   "outputs": [
    {
     "data": {
      "text/plain": [
       "'1.0.1'"
      ]
     },
     "execution_count": 1,
     "metadata": {},
     "output_type": "execute_result"
    }
   ],
   "source": [
    "import pyshorteners as t\n",
    "t.__version__"
   ]
  },
  {
   "cell_type": "code",
   "execution_count": 2,
   "metadata": {},
   "outputs": [
    {
     "name": "stdout",
     "output_type": "stream",
     "text": [
      "['adfly', 'bitly', 'chilpit', 'clckru', 'cuttly', 'dagd', 'gitio', 'isgd', 'nullpointer', 'osdb', 'owly', 'post', 'qpsru', 'shortcm', 'tinycc', 'tinyurl']\n"
     ]
    }
   ],
   "source": [
    "import pyshorteners\n",
    "s=pyshorteners.Shortener()\n",
    "print(s.available_shorteners)"
   ]
  },
  {
   "cell_type": "markdown",
   "metadata": {},
   "source": [
    "# all available link creation"
   ]
  },
  {
   "cell_type": "code",
   "execution_count": 3,
   "metadata": {},
   "outputs": [
    {
     "name": "stdout",
     "output_type": "stream",
     "text": [
      "['adfly', 'bitly', 'chilpit', 'clckru', 'cuttly', 'dagd', 'gitio', 'isgd', 'nullpointer', 'osdb', 'owly', 'post', 'qpsru', 'shortcm', 'tinycc', 'tinyurl']\n"
     ]
    }
   ],
   "source": [
    "from pyshorteners import Shortener\n",
    "s=Shortener()\n",
    "print(s.available_shorteners)"
   ]
  },
  {
   "cell_type": "code",
   "execution_count": 16,
   "metadata": {},
   "outputs": [
    {
     "data": {
      "text/plain": [
       "'https://qps.ru/XmOzf'"
      ]
     },
     "execution_count": 16,
     "metadata": {},
     "output_type": "execute_result"
    }
   ],
   "source": [
    "s=Shortener()\n",
    "s.shortcm.short(\"http://www.w3schools.com\")"
   ]
  },
  {
   "cell_type": "code",
   "execution_count": 5,
   "metadata": {},
   "outputs": [
    {
     "data": {
      "text/plain": [
       "'https://tinyurl.com/a5fw7'"
      ]
     },
     "execution_count": 5,
     "metadata": {},
     "output_type": "execute_result"
    }
   ],
   "source": [
    "s=Shortener()\n",
    "a=s.tinyurl\n",
    "a.short(\"http://www.w3schools.com\")\n"
   ]
  },
  {
   "cell_type": "code",
   "execution_count": 44,
   "metadata": {},
   "outputs": [
    {
     "data": {
      "text/plain": [
       "'https://www.w3schools.com/'"
      ]
     },
     "execution_count": 44,
     "metadata": {},
     "output_type": "execute_result"
    }
   ],
   "source": [
    "a.expand('http://tinyurl.com/a5fw7')"
   ]
  },
  {
   "cell_type": "code",
   "execution_count": 31,
   "metadata": {},
   "outputs": [
    {
     "name": "stdout",
     "output_type": "stream",
     "text": [
      "['adfly', 'bitly', 'chilpit', 'clckru', 'cuttly', 'dagd', 'gitio', 'isgd', 'nullpointer', 'osdb', 'owly', 'post', 'qpsru', 'shortcm', 'tinycc', 'tinyurl']\n"
     ]
    }
   ],
   "source": [
    "print(s.available_shorteners)"
   ]
  },
  {
   "cell_type": "code",
   "execution_count": 69,
   "metadata": {},
   "outputs": [
    {
     "name": "stdout",
     "output_type": "stream",
     "text": [
      "https://da.gd/4PYk7Y\n"
     ]
    }
   ],
   "source": [
    "def link(url):\n",
    "    st=Shortener()\n",
    "    a=st.dagd\n",
    "    print(a.short(url))\n",
    "link(\"https://www.w3schools.com\")"
   ]
  },
  {
   "cell_type": "code",
   "execution_count": 56,
   "metadata": {},
   "outputs": [
    {
     "name": "stdout",
     "output_type": "stream",
     "text": [
      "adfly\n",
      "bitly\n",
      "chilpit\n",
      "clckru\n",
      "cuttly\n",
      "dagd\n",
      "gitio\n",
      "isgd\n",
      "nullpointer\n",
      "osdb\n",
      "owly\n",
      "post\n",
      "qpsru\n",
      "shortcm\n",
      "tinycc\n",
      "tinyurl\n"
     ]
    }
   ],
   "source": [
    "from pyshorteners import Shortener\n",
    "for i in s.available_shorteners:\n",
    "    print(i)\n",
    "#     s=Shortener()\n",
    "#     a=s.i\n",
    "#     print(a.short(\"http://www.w3schools.com\"))"
   ]
  },
  {
   "cell_type": "code",
   "execution_count": null,
   "metadata": {},
   "outputs": [],
   "source": []
  }
 ],
 "metadata": {
  "kernelspec": {
   "display_name": "Python 3",
   "language": "python",
   "name": "python3"
  },
  "language_info": {
   "codemirror_mode": {
    "name": "ipython",
    "version": 3
   },
   "file_extension": ".py",
   "mimetype": "text/x-python",
   "name": "python",
   "nbconvert_exporter": "python",
   "pygments_lexer": "ipython3",
   "version": "3.6.5"
  }
 },
 "nbformat": 4,
 "nbformat_minor": 2
}
