{
 "cells": [
  {
   "cell_type": "code",
   "execution_count": 11,
   "metadata": {},
   "outputs": [
    {
     "name": "stdout",
     "output_type": "stream",
     "text": [
      "enter the stringmalayalam\n",
      "number is palidroms \n"
     ]
    }
   ],
   "source": [
    "n=input(\"enter the string\")\n",
    "n1=\"\"\n",
    "for i in n:\n",
    "    n1=i+n1\n",
    "if n==n1:\n",
    "    print(\"number is palidroms \")\n",
    "else:\n",
    "    print(\"no is not palidrome\")"
   ]
  },
  {
   "cell_type": "code",
   "execution_count": 13,
   "metadata": {},
   "outputs": [
    {
     "name": "stdout",
     "output_type": "stream",
     "text": [
      "enter the stringmalayalam\n",
      "no is palidrome\n"
     ]
    }
   ],
   "source": [
    "n=input(\"enter the string\")\n",
    "if n==n[::-1]:\n",
    "    print(\"no is palidrome\")\n",
    "else:\n",
    "    print(\"no is not palidrome\")"
   ]
  },
  {
   "cell_type": "code",
   "execution_count": null,
   "metadata": {},
   "outputs": [],
   "source": []
  }
 ],
 "metadata": {
  "kernelspec": {
   "display_name": "Python 3",
   "language": "python",
   "name": "python3"
  },
  "language_info": {
   "codemirror_mode": {
    "name": "ipython",
    "version": 3
   },
   "file_extension": ".py",
   "mimetype": "text/x-python",
   "name": "python",
   "nbconvert_exporter": "python",
   "pygments_lexer": "ipython3",
   "version": "3.6.5"
  }
 },
 "nbformat": 4,
 "nbformat_minor": 2
}
