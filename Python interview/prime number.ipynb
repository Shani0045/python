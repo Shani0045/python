{
 "cells": [
  {
   "cell_type": "code",
   "execution_count": 7,
   "metadata": {},
   "outputs": [
    {
     "name": "stdout",
     "output_type": "stream",
     "text": [
      "Enter the Number for check... 10\n",
      "number is not prime!\n"
     ]
    }
   ],
   "source": [
    "n=int(input(\"Enter the Number for check... \"))\n",
    "if (n<2) and (n!=1):\n",
    "    print(\"Number is not prime number!\")\n",
    "else:\n",
    "    for i in range(2,n):\n",
    "        if n%i==0:\n",
    "            print(\"number is not prime!\")\n",
    "            break\n",
    "    else:\n",
    "        print(\"number is prime!\")\n",
    "    "
   ]
  },
  {
   "cell_type": "markdown",
   "metadata": {},
   "source": [
    "# using while loop"
   ]
  },
  {
   "cell_type": "code",
   "execution_count": 12,
   "metadata": {
    "scrolled": true
   },
   "outputs": [
    {
     "name": "stdout",
     "output_type": "stream",
     "text": [
      "Enter the Number for check... 3\n",
      "number is prime!\n"
     ]
    }
   ],
   "source": [
    "n=int(input(\"Enter the Number for check... \"))\n",
    "if (n<2) and (n!=1):\n",
    "    print(\"Number is not prime number!\")\n",
    "else:\n",
    "    j=2\n",
    "    while (j<n):\n",
    "        if n%j==0:\n",
    "            print(n,j,\"number is not prime\")\n",
    "            break\n",
    "        else:\n",
    "            j+=1      \n",
    "    else:\n",
    "        print(\"number is prime!\")"
   ]
  }
 ],
 "metadata": {
  "kernelspec": {
   "display_name": "Python 3",
   "language": "python",
   "name": "python3"
  },
  "language_info": {
   "codemirror_mode": {
    "name": "ipython",
    "version": 3
   },
   "file_extension": ".py",
   "mimetype": "text/x-python",
   "name": "python",
   "nbconvert_exporter": "python",
   "pygments_lexer": "ipython3",
   "version": "3.6.5"
  }
 },
 "nbformat": 4,
 "nbformat_minor": 2
}
