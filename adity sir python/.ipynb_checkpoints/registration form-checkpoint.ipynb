{
 "cells": [
  {
   "cell_type": "code",
   "execution_count": 1,
   "metadata": {},
   "outputs": [],
   "source": [
    "from tkinter import*\n",
    "root=Tk()\n",
    "root.geometry(\"450x500\")\n",
    "root.title(\"registration form\")\n",
    "root.config(bg=\"wheat\")\n",
    "def register():\n",
    "     a=e.get()\n",
    "     b=e1.get()\n",
    "     c=e2.get()\n",
    "     l.config(text=f\"Name :{a}\\nEmail :{b}\\nMobile Number: {c}\")\n",
    "\n",
    "l=Label(root,text=\"Registration Form\",font=(\"crucial\",18,\"bold\",\"underline\"),bg=\"wheat\")\n",
    "l.pack(fill=BOTH)\n",
    "l1=Label(root,text=\"Name\",font=(\"crucial\",16),bg=\"wheat\")\n",
    "l1.place(x=15,y=50)\n",
    "e=Entry(root,font=(\"crucial\",16))\n",
    "e.place(x=120,y=50)\n",
    "l2=Label(root,text=\"E-mail\",font=(\"crucial\",16),bg=\"wheat\")\n",
    "l2.place(x=15,y=100)\n",
    "e1=Entry(root,font=(\"crucial\",16))\n",
    "e1.place(x=120,y=100)\n",
    "l3=Label(root,text=\"Mob\",font=(\"crucial\",16),bg=\"wheat\")\n",
    "l3.place(x=15,y=150)\n",
    "e2=Entry(root,font=(\"crucial\",16))\n",
    "e2.place(x=120,y=150)\n",
    "     \n",
    "l4=Label(root,text=\"Gender\",font=(\"crucial\",16),bg=\"wheat\")\n",
    "l4.place(x=15,y=200)\n",
    "op1=Checkbutton(root,text=\"Male\",font=(\"crucial\",12),bg=\"wheat\")\n",
    "op1.place(x=120,y=200)\n",
    "op2=Checkbutton(root,text=\"Female\",font=(\"crucial\",12),bg=\"wheat\")\n",
    "op2.place(x=200,y=200)\n",
    "btn1=Button(root,text=\"Login\",font=(\"crucial\",12),bg=\"green\",command=register)\n",
    "btn1.place(x=15,y=250)\n",
    "btn2=Button(root,text=\"Quit\",font=(\"crucial\",12),bg=\"red\")\n",
    "btn2.place(x=100,y=250)\n",
    "l=Label(root,font=(\"crucial\",12),bg=\"wheat\")\n",
    "l.place(x=15,y=310)\n",
    "\n",
    "\n",
    "\n",
    "root.mainloop()\n"
   ]
  },
  {
   "cell_type": "code",
   "execution_count": null,
   "metadata": {},
   "outputs": [],
   "source": []
  }
 ],
 "metadata": {
  "kernelspec": {
   "display_name": "Python 3",
   "language": "python",
   "name": "python3"
  },
  "language_info": {
   "codemirror_mode": {
    "name": "ipython",
    "version": 3
   },
   "file_extension": ".py",
   "mimetype": "text/x-python",
   "name": "python",
   "nbconvert_exporter": "python",
   "pygments_lexer": "ipython3",
   "version": "3.6.5"
  }
 },
 "nbformat": 4,
 "nbformat_minor": 2
}
