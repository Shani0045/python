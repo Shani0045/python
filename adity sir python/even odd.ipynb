{
 "cells": [
  {
   "cell_type": "code",
   "execution_count": 3,
   "metadata": {},
   "outputs": [
    {
     "name": "stdout",
     "output_type": "stream",
     "text": [
      "1.check number Even or Odd...\n",
      "2.check number Positive or Negetive...\n",
      "3.exit...\n",
      "Enter the choice1\n",
      "Enter the number for checking even odd..2\n",
      "number is even\n",
      "1.check number Even or Odd...\n",
      "2.check number Positive or Negetive...\n",
      "3.exit...\n",
      "Enter the choice3\n",
      "Thank you....\n"
     ]
    }
   ],
   "source": [
    "def even_odd(num):\n",
    "    if num%2==0:\n",
    "        print(\"number is even\")\n",
    "    else:\n",
    "        print(\"number is odd\")\n",
    "        \n",
    "def pos_neg(num):\n",
    "    if num>=0:\n",
    "        print(\"number is Positive\")\n",
    "    else:\n",
    "        print(\"number is Negative\")\n",
    "\n",
    "while True:\n",
    "    print(\"1.check number Even or Odd...\")\n",
    "    print(\"2.check number Positive or Negetive...\")\n",
    "    print(\"3.exit...\")\n",
    "    ch=int(input(\"Enter the choice\"))\n",
    "    if ch==1:\n",
    "        i=int(input(\"Enter the number for checking even odd..\"))\n",
    "        even_odd(i)\n",
    "    elif ch==2:\n",
    "        i=int(input(\"Enter the number for checking positive negetive..\"))\n",
    "        pos_neg(i)\n",
    "    else:\n",
    "        break\n",
    "print(\"Thank you....\")\n",
    "     "
   ]
  },
  {
   "cell_type": "code",
   "execution_count": 42,
   "metadata": {},
   "outputs": [],
   "source": [
    "from tkinter import*\n",
    "from tkinter.messagebox import showerror\n",
    "root=Tk()\n",
    "root.geometry(\"700x500\")\n",
    "f1=Frame(root,bd=5,relief=RIDGE,bg=\"tomato\",)\n",
    "f1.place(x=0,y=0,width=700,height=500)\n",
    "\n",
    "def click():\n",
    "    s=e.get()\n",
    "    try:\n",
    "        if int(s)%2==0:\n",
    "            l2.config(text=\"Number is Even\")\n",
    "        else:\n",
    "            l2.config(text=\"Number is Odd\")\n",
    "    except:\n",
    "        showerror(\"errro\",\"please enter the number not string!\")\n",
    "\n",
    "\n",
    "L=Label(f1,text=\"Find Even And Odd Number\",font=(\"ariel\",20,\"bold\",\"underline\"),bg=\"tomato\",fg=\"white\")\n",
    "L.pack()\n",
    "\n",
    "e=Entry(f1,font=(\"ariel\",15))\n",
    "e.place(x=210,y=100)\n",
    "\n",
    "btn=Button(f1,text=\"Find Even Odd\",font=(\"ariel\",15),command=lambda:click())\n",
    "btn.place(x=250,y=140)\n",
    "\n",
    "l2=Label(f1,font=(\"ariel\",16,\"bold\"),bg=\"tomato\",fg=\"white\")\n",
    "l2.place(x=240,y=200)\n",
    "\n",
    "root.mainloop()"
   ]
  },
  {
   "cell_type": "code",
   "execution_count": null,
   "metadata": {},
   "outputs": [],
   "source": []
  }
 ],
 "metadata": {
  "kernelspec": {
   "display_name": "Python 3",
   "language": "python",
   "name": "python3"
  },
  "language_info": {
   "codemirror_mode": {
    "name": "ipython",
    "version": 3
   },
   "file_extension": ".py",
   "mimetype": "text/x-python",
   "name": "python",
   "nbconvert_exporter": "python",
   "pygments_lexer": "ipython3",
   "version": "3.6.5"
  }
 },
 "nbformat": 4,
 "nbformat_minor": 2
}
