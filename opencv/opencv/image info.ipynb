{
 "cells": [
  {
   "cell_type": "code",
   "execution_count": 5,
   "metadata": {},
   "outputs": [],
   "source": [
    "import cv2 as cv"
   ]
  },
  {
   "cell_type": "code",
   "execution_count": 6,
   "metadata": {},
   "outputs": [
    {
     "data": {
      "text/plain": [
       "(674, 1152, 3)"
      ]
     },
     "execution_count": 6,
     "metadata": {},
     "output_type": "execute_result"
    }
   ],
   "source": [
    "img=cv.imread('image.png')\n",
    "img.shape"
   ]
  },
  {
   "cell_type": "code",
   "execution_count": 7,
   "metadata": {},
   "outputs": [],
   "source": [
    "# cv.imshow('window',img)\n",
    "# rgb=cv.cvtColor(img,cv.COLOR_BGR2RGB)\n",
    "# cv.imshow(\"window\",rgb)\n",
    "# cv.waitKey(0)"
   ]
  },
  {
   "cell_type": "code",
   "execution_count": null,
   "metadata": {},
   "outputs": [],
   "source": []
  },
  {
   "cell_type": "code",
   "execution_count": null,
   "metadata": {},
   "outputs": [],
   "source": [
    "x=cv.rectangle(img,(10,10),(100,100),(255,0,0),2)\n",
    "cv.imshow(\"window\",img)\n",
    "cv.waitKey(0)\n",
    "x=cv.circle(img,(155,200),100,(0,255,0),-1)\n",
    "cv.imshow(\"window\",img)\n",
    "cv.waitKey(0)\n",
    "x=cv.circle(img,(150),100,(0,0,255),-1)\n",
    "cv.imshow(\"window\",img)\n",
    "cv.waitKey(0)\n",
    "x=cv.circle(img,(150,200),100,(0,255,0),2)\n",
    "cv.imshow(\"window\",img)\n",
    "cv.waitKey(0)"
   ]
  },
  {
   "cell_type": "code",
   "execution_count": null,
   "metadata": {},
   "outputs": [],
   "source": []
  }
 ],
 "metadata": {
  "kernelspec": {
   "display_name": "Python 3",
   "language": "python",
   "name": "python3"
  },
  "language_info": {
   "codemirror_mode": {
    "name": "ipython",
    "version": 3
   },
   "file_extension": ".py",
   "mimetype": "text/x-python",
   "name": "python",
   "nbconvert_exporter": "python",
   "pygments_lexer": "ipython3",
   "version": "3.6.5"
  }
 },
 "nbformat": 4,
 "nbformat_minor": 2
}
