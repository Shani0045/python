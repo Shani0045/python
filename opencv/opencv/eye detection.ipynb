{
 "cells": [
  {
   "cell_type": "code",
   "execution_count": 1,
   "metadata": {},
   "outputs": [],
   "source": [
    "import cv2\n",
    "import numpy as np"
   ]
  },
  {
   "cell_type": "code",
   "execution_count": null,
   "metadata": {},
   "outputs": [
    {
     "name": "stdout",
     "output_type": "stream",
     "text": [
      "162 115 35 35\n",
      "212 113 35 35\n",
      "154 138 99 99\n",
      "18 196 49 49\n"
     ]
    }
   ],
   "source": [
    "img=cv2.imread(\"f:/varunjpg.jpg\")\n",
    "clf=cv2.CascadeClassifier(\"haar cascades/haarcascade_eye.xml\")\n",
    "eyes=clf.detectMultiScale(img)\n",
    "for x,y,w,h in eyes:\n",
    "    cv2.rect\n",
    "cv2.imshow(\" \",img)\n",
    "cv2.waitKey(0)\n",
    "cv2.destroyAllWindows()"
   ]
  },
  {
   "cell_type": "code",
   "execution_count": null,
   "metadata": {},
   "outputs": [],
   "source": []
  }
 ],
 "metadata": {
  "kernelspec": {
   "display_name": "Python 3",
   "language": "python",
   "name": "python3"
  },
  "language_info": {
   "codemirror_mode": {
    "name": "ipython",
    "version": 3
   },
   "file_extension": ".py",
   "mimetype": "text/x-python",
   "name": "python",
   "nbconvert_exporter": "python",
   "pygments_lexer": "ipython3",
   "version": "3.6.5"
  }
 },
 "nbformat": 4,
 "nbformat_minor": 2
}
