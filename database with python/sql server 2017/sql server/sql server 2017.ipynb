{
 "cells": [
  {
   "cell_type": "markdown",
   "metadata": {},
   "source": [
    "# database connectivity"
   ]
  },
  {
   "cell_type": "code",
   "execution_count": 18,
   "metadata": {},
   "outputs": [],
   "source": [
    "import pyodbc\n",
    "def connect():\n",
    "    conn=pyodbc.connect(\"Driver={SQL Server};\"\n",
    "                    \"Server=DESKTOP-69T7FVK\\SQLEXPRESS;\"\n",
    "                    \"Database=dms;\"\n",
    "                    \"Trusted_Connection=yes;\")\n",
    "    cur=conn.cursor()\n",
    "    return conn,cur"
   ]
  },
  {
   "cell_type": "markdown",
   "metadata": {},
   "source": [
    "# insert data into table"
   ]
  },
  {
   "cell_type": "code",
   "execution_count": 24,
   "metadata": {},
   "outputs": [],
   "source": [
    "conn,cur=connect()\n",
    "query=\"insert into drivers(drivername,dlno,dltype,address,dlexpiry,isactive,drivermobile) values(?,?,?,?,?,?,?)\"\n",
    "value=('AMIT KUMAR','JH02BA0934','TRANS','KANPUR','2021-08-15','true','9936789291')\n",
    "cur.execute(query,value)\n",
    "conn.commit()\n",
    "conn.close()"
   ]
  },
  {
   "cell_type": "markdown",
   "metadata": {},
   "source": [
    "# fetch data from database table"
   ]
  },
  {
   "cell_type": "code",
   "execution_count": 19,
   "metadata": {},
   "outputs": [],
   "source": [
    "def fetch_data():\n",
    "    conn,cur=connect()\n",
    "    cur.execute(\"select * from drivers\")\n",
    "    data=cur.fetchall()\n",
    "    for row in data:\n",
    "        print(row)\n",
    "        "
   ]
  },
  {
   "cell_type": "code",
   "execution_count": 20,
   "metadata": {},
   "outputs": [
    {
     "name": "stdout",
     "output_type": "stream",
     "text": [
      "(1, 'VIJAY KUMAR', 'JH02BA0931', 'TRANS', 'NOIDA', '2021-10-10', True, '9889542112', None, None, None, None)\n",
      "(2, 'AJAY KUMAR', 'JH02BA0932', 'TRANS', 'DELHI', '2021-10-12', True, '9889542112', None, None, None, None)\n",
      "(3, 'DINESH KUMAR', 'JH02BA0933', 'TRANS', 'LUCKNOW', '2021-10-15', True, '9936789291', None, None, None, None)\n"
     ]
    }
   ],
   "source": [
    "fetch_data()"
   ]
  },
  {
   "cell_type": "markdown",
   "metadata": {},
   "source": [
    "# using config file"
   ]
  },
  {
   "cell_type": "code",
   "execution_count": 21,
   "metadata": {},
   "outputs": [],
   "source": [
    "import pyodbc\n",
    "def connect_db():\n",
    "    file=open(\"config.ini\")\n",
    "    data=file.read().replace(\"\\n\",\"\")\n",
    "    file_data=data.split(\",\")\n",
    "    connection=pyodbc.connect(Driver=file_data[0][7:],Server=file_data[1][7:],Database=file_data[2][9:],Trusted_Connection=file_data[3][19:])\n",
    "    cursor=connection.cursor()\n",
    "    file.close()\n",
    "    return connection,cursor"
   ]
  },
  {
   "cell_type": "code",
   "execution_count": 25,
   "metadata": {},
   "outputs": [
    {
     "name": "stdout",
     "output_type": "stream",
     "text": [
      "(1, 'VIJAY KUMAR', 'JH02BA0931', 'TRANS', 'NOIDA', '2021-10-10', True, '9889542112', None, None, None, None)\n",
      "(2, 'AJAY KUMAR', 'JH02BA0932', 'TRANS', 'DELHI', '2021-10-12', True, '9889542112', None, None, None, None)\n",
      "(3, 'DINESH KUMAR', 'JH02BA0933', 'TRANS', 'LUCKNOW', '2021-10-15', True, '9936789291', None, None, None, None)\n",
      "(4, 'AMIT KUMAR', 'JH02BA0934', 'TRANS', 'KANPUR', '2021-08-15', True, '9936789291', None, None, None, None)\n"
     ]
    }
   ],
   "source": [
    "conn,cur=connect_db()\n",
    "cur.execute(\"select* from drivers\")\n",
    "all_data=cur.fetchall()\n",
    "for row in all_data:\n",
    "    print(row)"
   ]
  },
  {
   "cell_type": "code",
   "execution_count": null,
   "metadata": {},
   "outputs": [],
   "source": []
  }
 ],
 "metadata": {
  "kernelspec": {
   "display_name": "Python 3",
   "language": "python",
   "name": "python3"
  },
  "language_info": {
   "codemirror_mode": {
    "name": "ipython",
    "version": 3
   },
   "file_extension": ".py",
   "mimetype": "text/x-python",
   "name": "python",
   "nbconvert_exporter": "python",
   "pygments_lexer": "ipython3",
   "version": "3.6.5"
  }
 },
 "nbformat": 4,
 "nbformat_minor": 2
}
