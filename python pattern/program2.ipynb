{
 "cells": [
  {
   "cell_type": "code",
   "execution_count": 9,
   "id": "35077eff",
   "metadata": {},
   "outputs": [],
   "source": [
    "def fabo(n):\n",
    "    a=0\n",
    "    b=1\n",
    "    print(a,b,end=\" \")\n",
    "    for i in range(n-2):\n",
    "        c=a+b\n",
    "        a=b\n",
    "        b=c\n",
    "        print(c,end=\" \")"
   ]
  },
  {
   "cell_type": "code",
   "execution_count": 10,
   "id": "03aabc27",
   "metadata": {},
   "outputs": [
    {
     "name": "stdout",
     "output_type": "stream",
     "text": [
      "0 1 1 2 3 "
     ]
    }
   ],
   "source": [
    "fabo(5)"
   ]
  },
  {
   "cell_type": "code",
   "execution_count": 14,
   "id": "6c4c258a",
   "metadata": {},
   "outputs": [],
   "source": [
    "def fabo(n):\n",
    "    if n==0:\n",
    "        return 0\n",
    "    elif n==1 or n==2:\n",
    "        return 1\n",
    "    else:\n",
    "        return fabo(n-1)+fabo(n-2)"
   ]
  },
  {
   "cell_type": "code",
   "execution_count": 15,
   "id": "3fc6c3e0",
   "metadata": {},
   "outputs": [
    {
     "name": "stdout",
     "output_type": "stream",
     "text": [
      "enter no..5\n",
      "0 1 1 2 3 "
     ]
    }
   ],
   "source": [
    "n=int(input(\"enter no..\"))\n",
    "for i in range(n):\n",
    "    print(fabo(i),end=\" \")"
   ]
  },
  {
   "cell_type": "code",
   "execution_count": 16,
   "id": "c35f1268",
   "metadata": {},
   "outputs": [],
   "source": [
    "def facto(n):\n",
    "    if n==1:\n",
    "        return 1\n",
    "    else:\n",
    "        return n*facto(n-1)"
   ]
  },
  {
   "cell_type": "code",
   "execution_count": 17,
   "id": "0c46e568",
   "metadata": {},
   "outputs": [
    {
     "data": {
      "text/plain": [
       "120"
      ]
     },
     "execution_count": 17,
     "metadata": {},
     "output_type": "execute_result"
    }
   ],
   "source": [
    "facto(5)"
   ]
  },
  {
   "cell_type": "code",
   "execution_count": 19,
   "id": "a57828bd",
   "metadata": {},
   "outputs": [
    {
     "name": "stdout",
     "output_type": "stream",
     "text": [
      "enter the no....5\n",
      "120\n"
     ]
    }
   ],
   "source": [
    "n=int(input(\"enter the no....\"))\n",
    "f=1\n",
    "for i in range(1,n+1):\n",
    "    f=f*i\n",
    "print(f)"
   ]
  },
  {
   "cell_type": "code",
   "execution_count": 23,
   "id": "04756173",
   "metadata": {},
   "outputs": [
    {
     "name": "stdout",
     "output_type": "stream",
     "text": [
      "enter the no....5\n",
      "120\n"
     ]
    }
   ],
   "source": [
    "n=int(input(\"enter the no....\"))\n",
    "f=1\n",
    "i=1\n",
    "while i<=n:\n",
    "    f=f*i\n",
    "    i+=1\n",
    "print(f)"
   ]
  },
  {
   "cell_type": "code",
   "execution_count": 49,
   "id": "61124c90",
   "metadata": {},
   "outputs": [],
   "source": [
    "def decorators(fun):\n",
    "    def wrapper(lst):\n",
    "        p=0\n",
    "        f=0\n",
    "        fun(lst)\n",
    "        for i in lst:\n",
    "            if i>21:\n",
    "                p+=1\n",
    "            else:\n",
    "                f+=1\n",
    "        print(\"tatal pass: \",p)\n",
    "        print(\"tatal fail: \",f)\n",
    "    return wrapper\n",
    "                "
   ]
  },
  {
   "cell_type": "code",
   "execution_count": 50,
   "id": "1e89af50",
   "metadata": {},
   "outputs": [],
   "source": [
    "@decorators\n",
    "def result(lst):\n",
    "    for mark in lst:\n",
    "        if mark>21:\n",
    "            print(\"pass\")\n",
    "        else:\n",
    "            print(\"fail\")\n",
    "        "
   ]
  },
  {
   "cell_type": "code",
   "execution_count": 51,
   "id": "332ce4c6",
   "metadata": {},
   "outputs": [
    {
     "name": "stdout",
     "output_type": "stream",
     "text": [
      "fail\n",
      "pass\n",
      "pass\n",
      "fail\n",
      "tatal pass:  2\n",
      "tatal fail:  2\n"
     ]
    }
   ],
   "source": [
    "result([21,22,23,19])"
   ]
  },
  {
   "cell_type": "code",
   "execution_count": 66,
   "id": "0efa3c1b",
   "metadata": {},
   "outputs": [],
   "source": [
    "a=[i if i%2==0  else \" \" for i in range(10)]"
   ]
  },
  {
   "cell_type": "code",
   "execution_count": 67,
   "id": "8c718639",
   "metadata": {},
   "outputs": [
    {
     "name": "stdout",
     "output_type": "stream",
     "text": [
      "[0, ' ', 2, ' ', 4, ' ', 6, ' ', 8, ' ']\n"
     ]
    }
   ],
   "source": [
    "print(a)"
   ]
  },
  {
   "cell_type": "code",
   "execution_count": 71,
   "id": "4e57f078",
   "metadata": {},
   "outputs": [],
   "source": [
    "a=lambda a,b:\"greater\" if a>b else \"less\""
   ]
  },
  {
   "cell_type": "code",
   "execution_count": 72,
   "id": "c6cd3a2e",
   "metadata": {},
   "outputs": [
    {
     "data": {
      "text/plain": [
       "'less'"
      ]
     },
     "execution_count": 72,
     "metadata": {},
     "output_type": "execute_result"
    }
   ],
   "source": [
    "a(10,20)"
   ]
  },
  {
   "cell_type": "code",
   "execution_count": 82,
   "id": "82f51241",
   "metadata": {},
   "outputs": [],
   "source": [
    "a=id(254)"
   ]
  },
  {
   "cell_type": "code",
   "execution_count": 83,
   "id": "8c9626dc",
   "metadata": {},
   "outputs": [],
   "source": [
    "b=id(254)"
   ]
  },
  {
   "cell_type": "code",
   "execution_count": 84,
   "id": "9acebbf9",
   "metadata": {},
   "outputs": [
    {
     "data": {
      "text/plain": [
       "False"
      ]
     },
     "execution_count": 84,
     "metadata": {},
     "output_type": "execute_result"
    }
   ],
   "source": [
    "a is b"
   ]
  },
  {
   "cell_type": "code",
   "execution_count": 87,
   "id": "7aa1a31e",
   "metadata": {},
   "outputs": [
    {
     "data": {
      "text/plain": [
       "False"
      ]
     },
     "execution_count": 87,
     "metadata": {},
     "output_type": "execute_result"
    }
   ],
   "source": [
    "a=257\n",
    "b=257\n",
    "a is b"
   ]
  },
  {
   "cell_type": "code",
   "execution_count": null,
   "id": "a7058eb7",
   "metadata": {},
   "outputs": [],
   "source": []
  }
 ],
 "metadata": {
  "kernelspec": {
   "display_name": "Python 3",
   "language": "python",
   "name": "python3"
  },
  "language_info": {
   "codemirror_mode": {
    "name": "ipython",
    "version": 3
   },
   "file_extension": ".py",
   "mimetype": "text/x-python",
   "name": "python",
   "nbconvert_exporter": "python",
   "pygments_lexer": "ipython3",
   "version": "3.6.5"
  }
 },
 "nbformat": 4,
 "nbformat_minor": 5
}
