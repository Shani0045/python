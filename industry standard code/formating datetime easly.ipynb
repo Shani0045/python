{
 "cells": [
  {
   "cell_type": "markdown",
   "id": "f989efa9",
   "metadata": {},
   "source": [
    "## using datetime"
   ]
  },
  {
   "cell_type": "code",
   "execution_count": 16,
   "id": "d2c07dc7",
   "metadata": {},
   "outputs": [],
   "source": [
    "import datetime"
   ]
  },
  {
   "cell_type": "code",
   "execution_count": 38,
   "id": "9174c158",
   "metadata": {},
   "outputs": [
    {
     "data": {
      "text/plain": [
       "datetime.datetime(2022, 3, 25, 17, 27, 42, 691582)"
      ]
     },
     "execution_count": 38,
     "metadata": {},
     "output_type": "execute_result"
    }
   ],
   "source": [
    "datetime.datetime.now()"
   ]
  },
  {
   "cell_type": "code",
   "execution_count": 32,
   "id": "d7220c24",
   "metadata": {},
   "outputs": [
    {
     "name": "stdout",
     "output_type": "stream",
     "text": [
      "2022-03-25 17:25:57.467328\n"
     ]
    }
   ],
   "source": [
    "now=datetime.datetime.today()\n",
    "print(now)\n",
    "now=str(now)\n",
    "a,b=now.split(\".\")"
   ]
  },
  {
   "cell_type": "code",
   "execution_count": 34,
   "id": "c4e5d2ed",
   "metadata": {},
   "outputs": [
    {
     "data": {
      "text/plain": [
       "'25-03-2022 17:25'"
      ]
     },
     "execution_count": 34,
     "metadata": {},
     "output_type": "execute_result"
    }
   ],
   "source": [
    "datetime.datetime.strptime(str(a),\"%Y-%m-%d %H:%M:%S\").strftime(\"%d-%m-%Y %H:%M:%S\")"
   ]
  },
  {
   "cell_type": "code",
   "execution_count": 36,
   "id": "a92fc025",
   "metadata": {},
   "outputs": [
    {
     "data": {
      "text/plain": [
       "'25-03-2022 17:25'"
      ]
     },
     "execution_count": 36,
     "metadata": {},
     "output_type": "execute_result"
    }
   ],
   "source": [
    "datetime.datetime.strptime(str(a),\"%Y-%m-%d %H:%M:%S\").strftime(\"%d-%m-%Y %H:%M\")"
   ]
  },
  {
   "cell_type": "code",
   "execution_count": null,
   "id": "a780cc2f",
   "metadata": {},
   "outputs": [],
   "source": []
  },
  {
   "cell_type": "markdown",
   "id": "0f335b64",
   "metadata": {},
   "source": [
    "## using arrow method"
   ]
  },
  {
   "cell_type": "code",
   "execution_count": 2,
   "id": "5f8078b3",
   "metadata": {},
   "outputs": [
    {
     "name": "stdout",
     "output_type": "stream",
     "text": [
      "Collecting arrow\n",
      "  Downloading arrow-1.2.2-py3-none-any.whl (64 kB)\n",
      "Requirement already satisfied: typing-extensions in c:\\users\\hp\\appdata\\local\\programs\\python\\python36\\lib\\site-packages (from arrow) (3.7.4.3)\n",
      "Requirement already satisfied: python-dateutil>=2.7.0 in c:\\users\\hp\\appdata\\local\\programs\\python\\python36\\lib\\site-packages (from arrow) (2.8.2)\n",
      "Requirement already satisfied: six>=1.5 in c:\\users\\hp\\appdata\\local\\programs\\python\\python36\\lib\\site-packages (from python-dateutil>=2.7.0->arrow) (1.15.0)\n",
      "Installing collected packages: arrow\n",
      "Successfully installed arrow-1.2.2\n"
     ]
    }
   ],
   "source": [
    "!pip install arrow"
   ]
  },
  {
   "cell_type": "code",
   "execution_count": 1,
   "id": "a7719e73",
   "metadata": {},
   "outputs": [],
   "source": [
    "import arrow as dt"
   ]
  },
  {
   "cell_type": "code",
   "execution_count": 2,
   "id": "558af4db",
   "metadata": {},
   "outputs": [
    {
     "data": {
      "text/plain": [
       "['Arrow',\n",
       " 'ArrowFactory',\n",
       " 'FORMAT_ATOM',\n",
       " 'FORMAT_COOKIE',\n",
       " 'FORMAT_RFC1036',\n",
       " 'FORMAT_RFC1123',\n",
       " 'FORMAT_RFC2822',\n",
       " 'FORMAT_RFC3339',\n",
       " 'FORMAT_RFC822',\n",
       " 'FORMAT_RFC850',\n",
       " 'FORMAT_RSS',\n",
       " 'FORMAT_W3C',\n",
       " 'ParserError',\n",
       " '__all__',\n",
       " '__builtins__',\n",
       " '__cached__',\n",
       " '__doc__',\n",
       " '__file__',\n",
       " '__loader__',\n",
       " '__name__',\n",
       " '__package__',\n",
       " '__path__',\n",
       " '__spec__',\n",
       " '__version__',\n",
       " '_version',\n",
       " 'api',\n",
       " 'arrow',\n",
       " 'constants',\n",
       " 'factory',\n",
       " 'formatter',\n",
       " 'get',\n",
       " 'locales',\n",
       " 'now',\n",
       " 'parser',\n",
       " 'utcnow',\n",
       " 'util']"
      ]
     },
     "execution_count": 2,
     "metadata": {},
     "output_type": "execute_result"
    }
   ],
   "source": [
    "dir(dt)"
   ]
  },
  {
   "cell_type": "code",
   "execution_count": 11,
   "id": "768811a4",
   "metadata": {},
   "outputs": [
    {
     "name": "stdout",
     "output_type": "stream",
     "text": [
      "2022-05-04T16:24:31.802709+05:30\n"
     ]
    }
   ],
   "source": [
    "now=dt.now()\n",
    "print(now)"
   ]
  },
  {
   "cell_type": "code",
   "execution_count": 26,
   "id": "50629a8d",
   "metadata": {},
   "outputs": [
    {
     "data": {
      "text/plain": [
       "'Dec'"
      ]
     },
     "execution_count": 26,
     "metadata": {},
     "output_type": "execute_result"
    }
   ],
   "source": [
    "dt2=dt.get('2022-12-06 16:20:03').format(\"MMM\")\n",
    "dt2"
   ]
  },
  {
   "cell_type": "code",
   "execution_count": null,
   "id": "9f7fea06",
   "metadata": {},
   "outputs": [],
   "source": []
  },
  {
   "cell_type": "code",
   "execution_count": null,
   "id": "ab54f4d9",
   "metadata": {},
   "outputs": [],
   "source": []
  },
  {
   "cell_type": "code",
   "execution_count": null,
   "id": "b14e68a1",
   "metadata": {},
   "outputs": [],
   "source": [
    "now.format(\"YYYY\")"
   ]
  },
  {
   "cell_type": "code",
   "execution_count": 9,
   "id": "ed8f97c6",
   "metadata": {},
   "outputs": [
    {
     "data": {
      "text/plain": [
       "'May'"
      ]
     },
     "execution_count": 9,
     "metadata": {},
     "output_type": "execute_result"
    }
   ],
   "source": [
    "now.format(\"MMM\")"
   ]
  },
  {
   "cell_type": "code",
   "execution_count": 5,
   "id": "90b0d398",
   "metadata": {},
   "outputs": [
    {
     "data": {
      "text/plain": [
       "'2022-03-25'"
      ]
     },
     "execution_count": 5,
     "metadata": {},
     "output_type": "execute_result"
    }
   ],
   "source": [
    "now.format(\"YYYY-MM-DD\")"
   ]
  },
  {
   "cell_type": "code",
   "execution_count": 6,
   "id": "72239ac7",
   "metadata": {},
   "outputs": [
    {
     "data": {
      "text/plain": [
       "'25-03-2022'"
      ]
     },
     "execution_count": 6,
     "metadata": {},
     "output_type": "execute_result"
    }
   ],
   "source": [
    "now.format(\"DD-MM-YYYY\")"
   ]
  },
  {
   "cell_type": "code",
   "execution_count": 7,
   "id": "101523d0",
   "metadata": {},
   "outputs": [
    {
     "data": {
      "text/plain": [
       "'25-03-2022 17:14:18'"
      ]
     },
     "execution_count": 7,
     "metadata": {},
     "output_type": "execute_result"
    }
   ],
   "source": [
    "now.format(\"DD-MM-YYYY HH:mm:ss\")"
   ]
  },
  {
   "cell_type": "code",
   "execution_count": 12,
   "id": "fa6cca83",
   "metadata": {},
   "outputs": [
    {
     "data": {
      "text/plain": [
       "'25-03-2022 17:14:18 PM'"
      ]
     },
     "execution_count": 12,
     "metadata": {},
     "output_type": "execute_result"
    }
   ],
   "source": [
    "now.format(\"DD-MM-YYYY HH:mm:ss A\")"
   ]
  },
  {
   "cell_type": "code",
   "execution_count": 13,
   "id": "c728c277",
   "metadata": {},
   "outputs": [
    {
     "data": {
      "text/plain": [
       "'25-03-2022 17:14:18 pm'"
      ]
     },
     "execution_count": 13,
     "metadata": {},
     "output_type": "execute_result"
    }
   ],
   "source": [
    "now.format(\"DD-MM-YYYY HH:mm:ss a\")"
   ]
  },
  {
   "cell_type": "code",
   "execution_count": 14,
   "id": "c2f9e1d6",
   "metadata": {},
   "outputs": [
    {
     "data": {
      "text/plain": [
       "'25-03-2022 17:14:18 PM Friday'"
      ]
     },
     "execution_count": 14,
     "metadata": {},
     "output_type": "execute_result"
    }
   ],
   "source": [
    "now.format(\"DD-MM-YYYY HH:mm:ss A dddd\")"
   ]
  },
  {
   "cell_type": "code",
   "execution_count": 15,
   "id": "542ee18f",
   "metadata": {},
   "outputs": [
    {
     "data": {
      "text/plain": [
       "'25-03-2022 17:14:18 PM Fri'"
      ]
     },
     "execution_count": 15,
     "metadata": {},
     "output_type": "execute_result"
    }
   ],
   "source": [
    "now.format(\"DD-MM-YYYY HH:mm:ss A ddd\")"
   ]
  },
  {
   "cell_type": "markdown",
   "id": "86721f0e",
   "metadata": {},
   "source": [
    "## shifting time"
   ]
  },
  {
   "cell_type": "code",
   "execution_count": 31,
   "id": "98a0193c",
   "metadata": {},
   "outputs": [
    {
     "name": "stdout",
     "output_type": "stream",
     "text": [
      "current time:  17-03-2022 09:52:39\n",
      "after 5 hours:  14:52:39\n",
      "before 5 hours:  04:52:39\n"
     ]
    }
   ],
   "source": [
    "print(\"current time: \",now.format(\"DD-MM-YYYY HH:mm:ss\"))\n",
    "hours_5=now.shift(hours=5)\n",
    "print(\"after 5 hours: \",hours_5.format(\"HH:mm:ss\"))\n",
    "\n",
    "before_5=now.shift(hours=-5)\n",
    "print(\"before 5 hours: \",before_5.format(\"HH:mm:ss\"))"
   ]
  },
  {
   "cell_type": "code",
   "execution_count": 23,
   "id": "dc437a55",
   "metadata": {},
   "outputs": [
    {
     "name": "stdout",
     "output_type": "stream",
     "text": [
      "after 5 days:  22-03-2022 09:52:39\n"
     ]
    }
   ],
   "source": [
    "days_5=now.shift(days=5)\n",
    "print(\"after 5 days: \",days_5.format(\"DD-MM-YYYY HH:mm:ss\"))"
   ]
  },
  {
   "cell_type": "code",
   "execution_count": 28,
   "id": "94273b48",
   "metadata": {},
   "outputs": [],
   "source": [
    "date_5=now.shift(days=-5).date()"
   ]
  },
  {
   "cell_type": "code",
   "execution_count": 29,
   "id": "f96bd286",
   "metadata": {},
   "outputs": [
    {
     "name": "stdout",
     "output_type": "stream",
     "text": [
      "2022-03-12\n"
     ]
    }
   ],
   "source": [
    "print(date_5)"
   ]
  },
  {
   "cell_type": "markdown",
   "id": "674609d6",
   "metadata": {},
   "source": [
    "# date time formating"
   ]
  },
  {
   "cell_type": "code",
   "execution_count": 32,
   "id": "be40cb19",
   "metadata": {},
   "outputs": [],
   "source": [
    "dt2=dt.get('2022-06-05 16:20:03')"
   ]
  },
  {
   "cell_type": "code",
   "execution_count": 36,
   "id": "838a8d43",
   "metadata": {},
   "outputs": [
    {
     "data": {
      "text/plain": [
       "'05-06-2022 16:20:03'"
      ]
     },
     "execution_count": 36,
     "metadata": {},
     "output_type": "execute_result"
    }
   ],
   "source": [
    "dt2.format(\"DD-MM-YYYY HH:mm:ss\")"
   ]
  },
  {
   "cell_type": "code",
   "execution_count": null,
   "id": "233aee5a",
   "metadata": {},
   "outputs": [],
   "source": []
  }
 ],
 "metadata": {
  "kernelspec": {
   "display_name": "Python 3",
   "language": "python",
   "name": "python3"
  },
  "language_info": {
   "codemirror_mode": {
    "name": "ipython",
    "version": 3
   },
   "file_extension": ".py",
   "mimetype": "text/x-python",
   "name": "python",
   "nbconvert_exporter": "python",
   "pygments_lexer": "ipython3",
   "version": "3.6.5"
  }
 },
 "nbformat": 4,
 "nbformat_minor": 5
}
