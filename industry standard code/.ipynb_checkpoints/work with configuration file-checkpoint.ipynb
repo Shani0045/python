{
 "cells": [
  {
   "cell_type": "code",
   "execution_count": 16,
   "id": "5589b64a",
   "metadata": {},
   "outputs": [],
   "source": [
    "from configparser import ConfigParser"
   ]
  },
  {
   "cell_type": "code",
   "execution_count": 17,
   "id": "a015c3aa",
   "metadata": {},
   "outputs": [
    {
     "name": "stdout",
     "output_type": "stream",
     "text": [
      "host:  localhost\n",
      "user:  shani\n",
      "password:  engineer\n"
     ]
    }
   ],
   "source": [
    "config=ConfigParser()\n",
    "config.read(\"db.ini\")\n",
    "host=config['postgres']['host']\n",
    "user=config['postgres']['user']\n",
    "password=config['postgres']['password']\n",
    "print(\"host: \",host)\n",
    "print(\"user: \",user)\n",
    "print(\"password: \",password)"
   ]
  },
  {
   "cell_type": "code",
   "execution_count": 18,
   "id": "15aacd7a",
   "metadata": {},
   "outputs": [
    {
     "name": "stdout",
     "output_type": "stream",
     "text": [
      "shani\n"
     ]
    }
   ],
   "source": [
    "with open(\"db.ini\") as f:\n",
    "    config.read_file(f)\n",
    "    host=config['postgres']['user']\n",
    "    print(host)"
   ]
  },
  {
   "cell_type": "code",
   "execution_count": 19,
   "id": "fb21057a",
   "metadata": {},
   "outputs": [],
   "source": [
    "config_str='''\n",
    "[postg]\n",
    "user=username\n",
    "password=password\n",
    "'''"
   ]
  },
  {
   "cell_type": "code",
   "execution_count": 20,
   "id": "6befaece",
   "metadata": {},
   "outputs": [
    {
     "data": {
      "text/plain": [
       "'username'"
      ]
     },
     "execution_count": 20,
     "metadata": {},
     "output_type": "execute_result"
    }
   ],
   "source": [
    "config.read_string(config_str)\n",
    "config['postg']['user']"
   ]
  },
  {
   "cell_type": "code",
   "execution_count": 26,
   "id": "177e3771",
   "metadata": {},
   "outputs": [
    {
     "name": "stdout",
     "output_type": "stream",
     "text": [
      "host:  localhost\n",
      "user:  shani\n",
      "password:  engineer\n",
      "password_mysql:  engineer\n",
      "user_mysql : amit\n"
     ]
    }
   ],
   "source": [
    "config=ConfigParser()\n",
    "config.read(\"db.config\")\n",
    "host=config['postgres']['host']\n",
    "user=config['postgres']['user']\n",
    "password=config['postgres']['password']\n",
    "password_mysql=config['mysql']['password']\n",
    "user_mysql=config['mysql']['user']\n",
    "print(\"host: \",host)\n",
    "print(\"user: \",user)\n",
    "print(\"password: \",password)\n",
    "print(\"password_mysql: \",password_mysql)\n",
    "print(\"user_mysql :\" ,user_mysql)"
   ]
  },
  {
   "cell_type": "code",
   "execution_count": 32,
   "id": "8ab22afa",
   "metadata": {},
   "outputs": [
    {
     "name": "stdout",
     "output_type": "stream",
     "text": [
      "check mysql setting exists:  True\n",
      "check sql settig exists False\n"
     ]
    }
   ],
   "source": [
    "config=ConfigParser()\n",
    "config.read(\"db.config\")\n",
    "mysqlsetting=config.has_section(\"mysql\")\n",
    "print(\"check mysql setting exists: \",mysqlsetting)\n",
    "sqlsetting=config.has_section(\"sql\")\n",
    "print(\"check sql settig exists\",sqlsetting)"
   ]
  },
  {
   "cell_type": "code",
   "execution_count": null,
   "id": "52a3e55a",
   "metadata": {},
   "outputs": [],
   "source": [
    "config=ConfigParser()\n",
    "config.read(\"db.config\")\n",
    "mysqlsetting=config.has_section(\"mysql\")\n",
    "print(\"check mysql setting exists: \",mysqlsetting)\n",
    "sqlsetting=config.has_section(\"sql\")\n",
    "print(\"check sql settig exists\",sqlsetting)"
   ]
  },
  {
   "cell_type": "markdown",
   "id": "954e4614",
   "metadata": {},
   "source": [
    "## configfile add setting"
   ]
  },
  {
   "cell_type": "code",
   "execution_count": 34,
   "id": "911c09a0",
   "metadata": {},
   "outputs": [],
   "source": [
    "config=ConfigParser()\n",
    "config.read(\"db.config\")\n",
    "config.add_section(\"update\")\n",
    "config['update']['url']='google.com'\n",
    "with open('db.config','w') as f:\n",
    "    config.write(f)"
   ]
  },
  {
   "cell_type": "markdown",
   "id": "1c005158",
   "metadata": {},
   "source": [
    "# update config file"
   ]
  },
  {
   "cell_type": "code",
   "execution_count": 35,
   "id": "2d2bb230",
   "metadata": {},
   "outputs": [],
   "source": [
    "config=ConfigParser()\n",
    "config.read(\"db.config\")\n",
    "config['mysql']['username']='shani bhai'\n",
    "with open('db.config','w') as f:\n",
    "    config.write(f)"
   ]
  },
  {
   "cell_type": "code",
   "execution_count": 36,
   "id": "b4ca4faf",
   "metadata": {},
   "outputs": [],
   "source": [
    "config=ConfigParser()\n",
    "config.read(\"db.config\")\n",
    "config['mysql']['user']='mysqluser'\n",
    "with open('db.config','w') as f:\n",
    "    config.write(f)"
   ]
  },
  {
   "cell_type": "markdown",
   "id": "1f71bd40",
   "metadata": {},
   "source": [
    "# using get and set method"
   ]
  },
  {
   "cell_type": "code",
   "execution_count": 2,
   "id": "dee60396",
   "metadata": {},
   "outputs": [
    {
     "data": {
      "text/plain": [
       "['postgres', 'mysql', 'setting', 'update']"
      ]
     },
     "execution_count": 2,
     "metadata": {},
     "output_type": "execute_result"
    }
   ],
   "source": [
    "from configparser import ConfigParser\n",
    "config=ConfigParser()\n",
    "config.read(\"db.config\")\n",
    "config.sections()"
   ]
  },
  {
   "cell_type": "markdown",
   "id": "251c4209",
   "metadata": {},
   "source": [
    "# get"
   ]
  },
  {
   "cell_type": "code",
   "execution_count": 3,
   "id": "36887002",
   "metadata": {},
   "outputs": [
    {
     "data": {
      "text/plain": [
       "'shani'"
      ]
     },
     "execution_count": 3,
     "metadata": {},
     "output_type": "execute_result"
    }
   ],
   "source": [
    "config.get(\"postgres\",\"user\")"
   ]
  },
  {
   "cell_type": "code",
   "execution_count": 4,
   "id": "d5be1835",
   "metadata": {},
   "outputs": [
    {
     "data": {
      "text/plain": [
       "'shani'"
      ]
     },
     "execution_count": 4,
     "metadata": {},
     "output_type": "execute_result"
    }
   ],
   "source": [
    "config[\"postgres\"]['user']"
   ]
  },
  {
   "cell_type": "markdown",
   "id": "b6d7e8d1",
   "metadata": {},
   "source": [
    "# set"
   ]
  },
  {
   "cell_type": "code",
   "execution_count": null,
   "id": "c127b677",
   "metadata": {},
   "outputs": [],
   "source": [
    "config=ConfigParser()\n",
    "config.read(\"db.config\")\n",
    "config['mysql']['user']='mysqluser'\n",
    "with open('db.config','w') as f:\n",
    "    config.write(f)"
   ]
  }
 ],
 "metadata": {
  "kernelspec": {
   "display_name": "Python 3",
   "language": "python",
   "name": "python3"
  },
  "language_info": {
   "codemirror_mode": {
    "name": "ipython",
    "version": 3
   },
   "file_extension": ".py",
   "mimetype": "text/x-python",
   "name": "python",
   "nbconvert_exporter": "python",
   "pygments_lexer": "ipython3",
   "version": "3.6.5"
  }
 },
 "nbformat": 4,
 "nbformat_minor": 5
}
