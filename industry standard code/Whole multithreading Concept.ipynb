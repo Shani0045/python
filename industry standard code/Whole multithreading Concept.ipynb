{
 "cells": [
  {
   "cell_type": "code",
   "execution_count": 3,
   "id": "480de19a",
   "metadata": {},
   "outputs": [],
   "source": [
    "import threading as t\n",
    "import time"
   ]
  },
  {
   "cell_type": "code",
   "execution_count": 7,
   "id": "759d043d",
   "metadata": {},
   "outputs": [
    {
     "name": "stdout",
     "output_type": "stream",
     "text": [
      "thread started shani Thread-14\n",
      "thread started amit Thread-15\n",
      "main thread execution...Thread ended\n",
      " MainThread\n",
      "Thread ended\n",
      "\n",
      "\n"
     ]
    }
   ],
   "source": [
    "def func(name):\n",
    "    print(f\"thread started {name}\", t.current_thread().getName())\n",
    "    time.sleep(3)\n",
    "    print(\"Thread ended\\n\")\n",
    "    \n",
    "t1 = t.Thread(target=func, args=(\"shani\",))\n",
    "t2 = t.Thread(target=func, args=(\"amit\",)) \n",
    "t1.start()\n",
    "t2.start()\n",
    "\n",
    "time.sleep(3)\n",
    "\n",
    "print(\"main thread execution...\", t.currentThread().getName())"
   ]
  },
  {
   "cell_type": "code",
   "execution_count": 18,
   "id": "2d705b4c",
   "metadata": {},
   "outputs": [
    {
     "name": "stdout",
     "output_type": "stream",
     "text": [
      "Thread running :  False\n",
      "Main thread details: Thread running:  True <_MainThread(MainThread, started 2620)>\n",
      "thread started shani Thread-31\n",
      "\n",
      "No of running threads:  6\n",
      "list of running threads:  [<_MainThread(MainThread, started 2620)>, <Thread(Thread-4, started daemon 14084)>, <Heartbeat(Thread-5, started daemon 16104)>, <HistorySavingThread(IPythonHistorySavingThread, started 12848)>, <ParentPollerWindows(Thread-3, started daemon 2072)>, <Thread(Thread-31, started 11788)>]\n",
      "Thread ended\n",
      "\n",
      "main thread execution... MainThread\n"
     ]
    }
   ],
   "source": [
    "def func(name):\n",
    "    print(\"Main thread details: \",t.main_thread())\n",
    "    print(f\"thread started {name}\", t.current_thread().getName())\n",
    "    time.sleep(3)\n",
    "    print(\"Thread ended\\n\")\n",
    "    \n",
    "t1 = t.Thread(target=func, args=(\"shani\",))\n",
    "print(\"Thread running : \", t1.is_alive())\n",
    "t1.start()\n",
    "print(\"Thread running: \",t1.is_alive())\n",
    "\n",
    "print(\"No of running threads: \", t.active_count())\n",
    "print(\"list of running threads: \", t.enumerate())\n",
    "time.sleep(5)\n",
    "\n",
    "print(\"main thread execution...\", t.currentThread().getName())"
   ]
  },
  {
   "cell_type": "markdown",
   "id": "1b80fb22",
   "metadata": {},
   "source": [
    "# Join Method"
   ]
  },
  {
   "cell_type": "code",
   "execution_count": 12,
   "id": "de91e1f0",
   "metadata": {},
   "outputs": [
    {
     "name": "stdout",
     "output_type": "stream",
     "text": [
      "thread started shani Thread-24\n",
      "thread started amit Thread-25\n",
      "Thread ended\n",
      "Thread ended\n",
      "\n",
      "\n",
      "main thread execution... MainThread\n"
     ]
    }
   ],
   "source": [
    "def func(name):\n",
    "    print(f\"thread started {name}\", t.current_thread().getName())\n",
    "    time.sleep(3)\n",
    "    print(\"Thread ended\\n\")\n",
    "    \n",
    "t1 = t.Thread(target=func, args=(\"shani\",))\n",
    "t2 = t.Thread(target=func, args=(\"amit\",)) \n",
    "t1.start()\n",
    "t2.start()\n",
    "t1.join()  # main thread execute after thread t1 completed\n",
    "\n",
    "time.sleep(5)\n",
    "\n",
    "print(\"main thread execution...\", t.currentThread().getName())"
   ]
  },
  {
   "cell_type": "code",
   "execution_count": 28,
   "id": "1a42567c",
   "metadata": {},
   "outputs": [
    {
     "name": "stdout",
     "output_type": "stream",
     "text": [
      "file uploaded started file1.txt Thread-58\n",
      "file uploading done\n",
      "\n",
      " Sending notification to subscriber...\n"
     ]
    }
   ],
   "source": [
    "def func(name):\n",
    "    print(f\"file uploaded started {name}\", t.current_thread().getName())\n",
    "    time.sleep(5)\n",
    "    print(\"file uploading done\\n\")\n",
    "    \n",
    "def notification():\n",
    "    print(\" Sending notification to subscriber...\")\n",
    "    \n",
    "t1 = t.Thread(target=func, args=(\"file1.txt\",))\n",
    "t2 = t.Thread(target=notification)\n",
    "t1.start()\n",
    "t1.join()  # t2 thread execute after thread t1 completed\n",
    "t2.start()\n",
    "\n",
    "\n",
    "# time.sleep(5)\n",
    "\n",
    "# print(\"main thread execution...\", t.currentThread().getName())"
   ]
  },
  {
   "cell_type": "markdown",
   "id": "63ff5d00",
   "metadata": {},
   "source": [
    "# Avoid Race Condition"
   ]
  },
  {
   "cell_type": "markdown",
   "id": "7ee34385",
   "metadata": {},
   "source": [
    "### using locking"
   ]
  },
  {
   "cell_type": "code",
   "execution_count": 30,
   "id": "d55c7cd1",
   "metadata": {},
   "outputs": [],
   "source": [
    "from threading import *\n",
    "from time import sleep"
   ]
  },
  {
   "cell_type": "code",
   "execution_count": 45,
   "id": "6511bfa8",
   "metadata": {},
   "outputs": [
    {
     "name": "stdout",
     "output_type": "stream",
     "text": [
      "hello shani kumar\n",
      "hello shani kumar\n",
      "hello shani kumar\n",
      "hello shani kumar\n",
      "hello shani kumar\n",
      "hello amit bhai\n",
      "hello amit bhai\n",
      "hello amit bhai\n",
      "hello amit bhai\n",
      "hello amit bhai\n"
     ]
    }
   ],
   "source": [
    "lock = Lock()  #step 1\n",
    "\n",
    "def task(lock:Lock, msg:str) -> None:\n",
    "    lock.acquire()\n",
    "    for i in range(5):\n",
    "        print(msg)\n",
    "    sleep(3)\n",
    "    lock.release()\n",
    "    \n",
    "t1 = Thread(target=task, args=(lock, \"hello shani kumar\"))\n",
    "t2 = Thread(target=task, args=(lock, 'hello amit bhai'))\n",
    "\n",
    "t1.start()\n",
    "t2.start()"
   ]
  },
  {
   "cell_type": "markdown",
   "id": "d5daa99c",
   "metadata": {},
   "source": [
    "# RLock"
   ]
  },
  {
   "cell_type": "code",
   "execution_count": 50,
   "id": "b0dd4137",
   "metadata": {},
   "outputs": [
    {
     "name": "stdout",
     "output_type": "stream",
     "text": [
      "hello shani kumar\n",
      "hello shani kumar\n",
      "hello shani kumar\n",
      "hello shani kumar\n",
      "hello shani kumar\n",
      "hello amit bhai\n",
      "hello amit bhai\n",
      "hello amit bhai\n",
      "hello amit bhai\n",
      "hello amit bhai\n"
     ]
    }
   ],
   "source": [
    "lock = RLock()  #step 1\n",
    "\n",
    "def task(lock:RLock, msg:str) -> None:\n",
    "    lock.acquire()\n",
    "    lock.acquire()\n",
    "    lock.acquire()\n",
    "    for i in range(5):\n",
    "        print(msg)\n",
    "    sleep(3)\n",
    "    lock.release()\n",
    "    lock.release()\n",
    "    lock.release()\n",
    "    \n",
    "t1 = Thread(target=task, args=(lock, \"hello shani kumar\"))\n",
    "t2 = Thread(target=task, args=(lock, 'hello amit bhai'))\n",
    "\n",
    "t1.start()\n",
    "t2.start()"
   ]
  },
  {
   "cell_type": "markdown",
   "id": "b0fd512e",
   "metadata": {},
   "source": [
    "# Semaphores and BoundedSemaphore"
   ]
  },
  {
   "cell_type": "code",
   "execution_count": 75,
   "id": "82640805",
   "metadata": {},
   "outputs": [
    {
     "name": "stdout",
     "output_type": "stream",
     "text": [
      "hello shani kumarhello amit bhai\n",
      "hello amit bhai\n",
      "hello amit bhai\n",
      "hello amit bhai\n",
      "hello amit bhai\n",
      "\n",
      "hello shani kumar\n",
      "hello shani kumar\n",
      "hello shani kumar2\n",
      "hello shani kumar2\n",
      "hello shani kumar2\n",
      "hello shani kumar2\n",
      "hello shani kumar2\n",
      "hello shani kumar\n",
      "hello shani kumar\n",
      "hello amit bhai2\n",
      "hello amit bhai2\n",
      "hello amit bhai2\n",
      "hello amit bhai2\n",
      "hello amit bhai2\n"
     ]
    }
   ],
   "source": [
    "sema = Semaphore(3)  #three thread code access do\n",
    "\n",
    "def task(sema:Semaphore, msg:str) -> None:\n",
    "    sema.acquire()\n",
    "    for i in range(5):\n",
    "        print(msg)\n",
    "    sleep(3)\n",
    "    sema.release()\n",
    "    \n",
    "t1 = Thread(target=task, args=(sema, \"hello shani kumar\"))\n",
    "t2 = Thread(target=task, args=(sema, 'hello amit bhai'))\n",
    "t3 = Thread(target=task, args=(sema, \"hello shani kumar2\"))\n",
    "t4 = Thread(target=task, args=(sema, 'hello amit bhai2'))\n",
    "\n",
    "t1.start()\n",
    "t2.start()\n",
    "t3.start()\n",
    "t4.start()"
   ]
  },
  {
   "cell_type": "code",
   "execution_count": 76,
   "id": "a895d3f7",
   "metadata": {},
   "outputs": [],
   "source": [
    "sema = BoundedSemaphore()  #three thread code access do\n",
    "\n",
    "def task(sema:Semaphore, msg:str) -> None:\n",
    "    sema.acquire()\n",
    "    sema.acquire()\n",
    "    for i in range(5):\n",
    "        print(msg)\n",
    "    sleep(3)\n",
    "    sema.release()\n",
    "    \n",
    "t1 = Thread(target=task, args=(sema, \"hello shani kumar\"))\n",
    "t2 = Thread(target=task, args=(sema, 'hello amit bhai'))\n",
    "t3 = Thread(target=task, args=(sema, \"hello shani kumar2\"))\n",
    "t4 = Thread(target=task, args=(sema, 'hello amit bhai2'))\n",
    "\n",
    "t1.start()\n",
    "t2.start()\n",
    "t3.start()\n",
    "t4.start()"
   ]
  },
  {
   "cell_type": "markdown",
   "id": "f19d5d61",
   "metadata": {},
   "source": [
    "# Daemon Thread"
   ]
  },
  {
   "cell_type": "code",
   "execution_count": 66,
   "id": "6d6906fa",
   "metadata": {},
   "outputs": [
    {
     "name": "stdout",
     "output_type": "stream",
     "text": [
      "hello shani kumar\n",
      "Main Thread execution closed ..\n",
      "hello shani kumar\n",
      "hello shani kumar\n",
      "hello shani kumar\n",
      "hello shani kumar\n"
     ]
    }
   ],
   "source": [
    "def task(msg:str) -> None:\n",
    "    for i in range(5):\n",
    "        print(msg)\n",
    "        sleep(3)\n",
    "    \n",
    "    \n",
    "t1 = Thread(target=task, args=(\"hello shani kumar\", ))\n",
    "t1.daemon = True\n",
    "t1.start()\n",
    "\n",
    "sleep(2)\n",
    "print(\"Main Thread execution closed ..\")"
   ]
  },
  {
   "cell_type": "markdown",
   "id": "1b325334",
   "metadata": {},
   "source": [
    "# Timer Object"
   ]
  },
  {
   "cell_type": "code",
   "execution_count": 67,
   "id": "881c72c3",
   "metadata": {},
   "outputs": [],
   "source": [
    "from threading import Timer, Barrier"
   ]
  },
  {
   "cell_type": "code",
   "execution_count": 70,
   "id": "939d5187",
   "metadata": {},
   "outputs": [
    {
     "name": "stdout",
     "output_type": "stream",
     "text": [
      "Main Thread execution closed ..\n",
      "hello shani kumar\n",
      "hello shani kumar\n",
      "hello shani kumar\n",
      "hello shani kumar\n",
      "hello shani kumar\n"
     ]
    }
   ],
   "source": [
    "def task(msg:str) -> None:\n",
    "    for i in range(5):\n",
    "        print(msg)\n",
    "        sleep(2)\n",
    "    \n",
    "    \n",
    "t1 = Timer(4, task, args=(\"hello shani kumar\", ))\n",
    "t1.start()\n",
    "\n",
    "sleep(2)\n",
    "print(\"Main Thread execution closed ..\")"
   ]
  },
  {
   "cell_type": "markdown",
   "id": "edbc8502",
   "metadata": {},
   "source": [
    "# Barrier Objects"
   ]
  },
  {
   "cell_type": "code",
   "execution_count": 28,
   "id": "f5e1bdf4",
   "metadata": {},
   "outputs": [
    {
     "name": "stdout",
     "output_type": "stream",
     "text": [
      "race started.... hello shani kumar\n",
      "race started.... hello amit bhai\n",
      "race ended\n",
      "race ended\n",
      "Award time\n",
      "Award time\n"
     ]
    }
   ],
   "source": [
    "from threading import *\n",
    "import time\n",
    "b = Barrier(2)  #2 thread\n",
    "\n",
    "def task(msg:str) -> None:\n",
    "    print(\"race started....\", msg)\n",
    "    b.wait()\n",
    "    print(\"race ended\")\n",
    "    b.wait()\n",
    "    print(\"Award time\")\n",
    "    \n",
    "t1 = Thread(target=task, args=(\"hello shani kumar\",))\n",
    "t2 = Thread(target=task, args=('hello amit bhai',))\n",
    "\n",
    "t1.start()\n",
    "t2.start()"
   ]
  },
  {
   "cell_type": "markdown",
   "id": "2c59dc21",
   "metadata": {},
   "source": [
    "# Thread Communication"
   ]
  },
  {
   "cell_type": "markdown",
   "id": "1c8a0e95",
   "metadata": {},
   "source": [
    "### 1 Event Object"
   ]
  },
  {
   "cell_type": "code",
   "execution_count": 35,
   "id": "61727a70",
   "metadata": {},
   "outputs": [
    {
     "name": "stdout",
     "output_type": "stream",
     "text": [
      "race started.... shani kumar\n",
      "game ended\n"
     ]
    }
   ],
   "source": [
    "from threading import *\n",
    "import time\n",
    "\n",
    "e = Event()\n",
    "\n",
    "def task(msg:str) -> None:\n",
    "    print(\"race started....\", msg)\n",
    "    time.sleep(3)\n",
    "    e.set()\n",
    "  \n",
    "    \n",
    "def end():\n",
    "    e.wait()\n",
    "    if e.is_set():\n",
    "        print(\"game ended\")\n",
    "    \n",
    "    \n",
    "t1 = Thread(target=task, args=(\"shani kumar\",))\n",
    "t2 = Thread(target=end)\n",
    "\n",
    "t1.start()\n",
    "t2.start()"
   ]
  },
  {
   "cell_type": "markdown",
   "id": "48009e8d",
   "metadata": {},
   "source": [
    "### Signal program"
   ]
  },
  {
   "cell_type": "code",
   "execution_count": 42,
   "id": "36272eee",
   "metadata": {},
   "outputs": [
    {
     "name": "stdout",
     "output_type": "stream",
     "text": [
      "you can go!\n",
      "you can go!\n",
      "light is green\n",
      "you can go!\n",
      "light is red\n",
      "light is green\n",
      "you can go!\n",
      "you can go!\n",
      "you can go!\n",
      "you can go!\n",
      "you can go!\n",
      "light is red\n",
      "light is green\n",
      "you can go!\n",
      "light is red\n",
      "light is green\n",
      "you can go!\n",
      "you can go!\n",
      "you can go!\n",
      "you can go!\n",
      "you can go!\n",
      "you can go!\n",
      "you can go!\n",
      "you can go!\n",
      "light is red\n",
      "light is green\n",
      "you can go!\n",
      "light is red\n",
      "light is green\n",
      "you can go!\n",
      "you can go!\n",
      "you can go!\n",
      "you can go!\n",
      "you can go!\n",
      "you can go!\n",
      "you can go!\n",
      "you can go!\n",
      "you can go!\n",
      "you can go!\n",
      "you can go!\n",
      "light is red\n",
      "light is green\n",
      "you can go!\n",
      "you can go!\n",
      "you can go!\n",
      "you can go!\n",
      "you can go!\n",
      "you can go!\n",
      "you can go!\n",
      "you can go!\n",
      "you can go!\n",
      "light is red\n",
      "light is green\n",
      "you can go!\n",
      "light is red\n",
      "light is green\n",
      "you can go!\n",
      "you can go!\n",
      "you can go!\n",
      "you can go!\n",
      "you can go!\n",
      "you can go!\n",
      "you can go!\n",
      "you can go!\n",
      "you can go!\n",
      "light is red\n",
      "light is green\n",
      "you can go!\n",
      "you can go!\n",
      "you can go!\n",
      "light is red\n",
      "light is red\n",
      "light is green\n",
      "you can go!\n",
      "you can go!\n"
     ]
    }
   ],
   "source": [
    "from threading import *\n",
    "import time\n",
    "\n",
    "e = Event()\n",
    "\n",
    "def light_switch():\n",
    "    while True:\n",
    "        print(\"light is green\")\n",
    "        e.set()\n",
    "        time.sleep(5)\n",
    "        print(\"light is red\")\n",
    "        e.clear()\n",
    "        time.sleep(5)\n",
    "        e.set()\n",
    "        \n",
    "def traffic_mgs():\n",
    "    e.wait()\n",
    "    while e.is_set():\n",
    "        print(\"you can go!\")\n",
    "        time.sleep(0.5)\n",
    "        e.wait()\n",
    "        \n",
    "        \n",
    "t1 = Thread(target=light_switch)\n",
    "t2 = Thread(target=traffic_mgs)\n",
    "\n",
    "t1.start()\n",
    "t2.start()"
   ]
  },
  {
   "cell_type": "markdown",
   "id": "bc8d02ac",
   "metadata": {},
   "source": [
    "### condition Object"
   ]
  },
  {
   "cell_type": "markdown",
   "id": "5269175a",
   "metadata": {},
   "source": [
    "#### producer consumer problem"
   ]
  },
  {
   "cell_type": "code",
   "execution_count": 8,
   "id": "5d343e9f",
   "metadata": {},
   "outputs": [
    {
     "name": "stdout",
     "output_type": "stream",
     "text": [
      "Enter temprature1\n",
      "Enter temprature2\n",
      "Enter temprature3\n",
      "Enter temprature4\n",
      "Enter temprature5\n",
      "Enter temprature\n",
      "Enter temprature6\n",
      "1\n",
      "2\n",
      "3\n",
      "4\n",
      "5\n",
      "\n",
      "6\n",
      "\n",
      "1\n",
      "2\n",
      "3\n",
      "4\n",
      "5\n",
      "\n",
      "6\n",
      "\n"
     ]
    }
   ],
   "source": [
    "import threading\n",
    "import time\n",
    "\n",
    "con = threading.Condition()\n",
    "\n",
    "def write_data():\n",
    "    con.acquire()\n",
    "    time.sleep(5)\n",
    "    with open(\"reports.txt\", \"w\") as file:\n",
    "        days = [\"mon\", \"tue\", \"wed\", \"thur\", \"fri\", \"sat\", \"sun\"]\n",
    "        for day in days:\n",
    "            temp = input(\"Enter temprature\")\n",
    "            file.write(temp+\"\\n\")\n",
    "            \n",
    "    con.notify_all()\n",
    "    con.release()\n",
    "\n",
    "def max_temp():\n",
    "    con.acquire()\n",
    "    con.wait(timeout=0)\n",
    "    with open(\"reports.txt\", \"r\") as file:\n",
    "        print(file.read())\n",
    "    con.release()\n",
    "\n",
    "def avg_temp():\n",
    "    con.acquire()\n",
    "    con.wait(timeout=0)\n",
    "    with open(\"reports.txt\", \"r\") as file:\n",
    "        print(file.read())\n",
    "    con.release()\n",
    "\n",
    "\n",
    "t1 = threading.Thread(target=write_data)\n",
    "t2 = threading.Thread(target=max_temp)\n",
    "t3 = threading.Thread(target=avg_temp)\n",
    "\n",
    "t1.run()\n",
    "t2.run()\n",
    "t3.run()"
   ]
  },
  {
   "cell_type": "markdown",
   "id": "2cb21c6b",
   "metadata": {},
   "source": [
    "## Queue"
   ]
  },
  {
   "cell_type": "code",
   "execution_count": null,
   "id": "d227ad7e",
   "metadata": {},
   "outputs": [],
   "source": []
  }
 ],
 "metadata": {
  "kernelspec": {
   "display_name": "Python 3",
   "language": "python",
   "name": "python3"
  },
  "language_info": {
   "codemirror_mode": {
    "name": "ipython",
    "version": 3
   },
   "file_extension": ".py",
   "mimetype": "text/x-python",
   "name": "python",
   "nbconvert_exporter": "python",
   "pygments_lexer": "ipython3",
   "version": "3.6.5"
  }
 },
 "nbformat": 4,
 "nbformat_minor": 5
}
