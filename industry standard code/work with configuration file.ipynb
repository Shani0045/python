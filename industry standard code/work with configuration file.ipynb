{
 "cells": [
  {
   "cell_type": "code",
   "execution_count": 16,
   "id": "5589b64a",
   "metadata": {},
   "outputs": [],
   "source": [
    "from configparser import ConfigParser"
   ]
  },
  {
   "cell_type": "code",
   "execution_count": 17,
   "id": "a015c3aa",
   "metadata": {},
   "outputs": [
    {
     "name": "stdout",
     "output_type": "stream",
     "text": [
      "host:  localhost\n",
      "user:  shani\n",
      "password:  engineer\n"
     ]
    }
   ],
   "source": [
    "config=ConfigParser()\n",
    "config.read(\"db.ini\")\n",
    "host=config['postgres']['host']\n",
    "user=config['postgres']['user']\n",
    "password=config['postgres']['password']\n",
    "print(\"host: \",host)\n",
    "print(\"user: \",user)\n",
    "print(\"password: \",password)"
   ]
  },
  {
   "cell_type": "code",
   "execution_count": 18,
   "id": "15aacd7a",
   "metadata": {},
   "outputs": [
    {
     "name": "stdout",
     "output_type": "stream",
     "text": [
      "shani\n"
     ]
    }
   ],
   "source": [
    "with open(\"db.ini\") as f:\n",
    "    config.read_file(f)\n",
    "    host=config['postgres']['user']\n",
    "    print(host)"
   ]
  },
  {
   "cell_type": "code",
   "execution_count": 19,
   "id": "fb21057a",
   "metadata": {},
   "outputs": [],
   "source": [
    "config_str='''\n",
    "[postg]\n",
    "user=username\n",
    "password=password\n",
    "'''"
   ]
  },
  {
   "cell_type": "code",
   "execution_count": 20,
   "id": "6befaece",
   "metadata": {},
   "outputs": [
    {
     "data": {
      "text/plain": [
       "'username'"
      ]
     },
     "execution_count": 20,
     "metadata": {},
     "output_type": "execute_result"
    }
   ],
   "source": [
    "config.read_string(config_str)\n",
    "config['postg']['user']"
   ]
  },
  {
   "cell_type": "code",
   "execution_count": 26,
   "id": "177e3771",
   "metadata": {},
   "outputs": [
    {
     "name": "stdout",
     "output_type": "stream",
     "text": [
      "host:  localhost\n",
      "user:  shani\n",
      "password:  engineer\n",
      "password_mysql:  engineer\n",
      "user_mysql : amit\n"
     ]
    }
   ],
   "source": [
    "config=ConfigParser()\n",
    "config.read(\"db.config\")\n",
    "host=config['postgres']['host']\n",
    "user=config['postgres']['user']\n",
    "password=config['postgres']['password']\n",
    "password_mysql=config['mysql']['password']\n",
    "user_mysql=config['mysql']['user']\n",
    "print(\"host: \",host)\n",
    "print(\"user: \",user)\n",
    "print(\"password: \",password)\n",
    "print(\"password_mysql: \",password_mysql)\n",
    "print(\"user_mysql :\" ,user_mysql)"
   ]
  },
  {
   "cell_type": "code",
   "execution_count": 32,
   "id": "8ab22afa",
   "metadata": {},
   "outputs": [
    {
     "name": "stdout",
     "output_type": "stream",
     "text": [
      "check mysql setting exists:  True\n",
      "check sql settig exists False\n"
     ]
    }
   ],
   "source": [
    "config=ConfigParser()\n",
    "config.read(\"db.config\")\n",
    "mysqlsetting=config.has_section(\"mysql\")\n",
    "print(\"check mysql setting exists: \",mysqlsetting)\n",
    "sqlsetting=config.has_section(\"sql\")\n",
    "print(\"check sql settig exists\",sqlsetting)"
   ]
  },
  {
   "cell_type": "code",
   "execution_count": null,
   "id": "52a3e55a",
   "metadata": {},
   "outputs": [],
   "source": [
    "config=ConfigParser()\n",
    "config.read(\"db.config\")\n",
    "mysqlsetting=config.has_section(\"mysql\")\n",
    "print(\"check mysql setting exists: \",mysqlsetting)\n",
    "sqlsetting=config.has_section(\"sql\")\n",
    "print(\"check sql settig exists\",sqlsetting)"
   ]
  },
  {
   "cell_type": "markdown",
   "id": "954e4614",
   "metadata": {},
   "source": [
    "## configfile add setting"
   ]
  },
  {
   "cell_type": "code",
   "execution_count": 34,
   "id": "911c09a0",
   "metadata": {},
   "outputs": [],
   "source": [
    "config=ConfigParser()\n",
    "config.read(\"db.config\")\n",
    "config.add_section(\"update\")\n",
    "config['update']['url']='google.com'\n",
    "with open('db.config','w') as f:\n",
    "    config.write(f)"
   ]
  },
  {
   "cell_type": "markdown",
   "id": "1c005158",
   "metadata": {},
   "source": [
    "# update config file"
   ]
  },
  {
   "cell_type": "code",
   "execution_count": 35,
   "id": "2d2bb230",
   "metadata": {},
   "outputs": [],
   "source": [
    "config=ConfigParser()\n",
    "config.read(\"db.config\")\n",
    "config['mysql']['username']='shani bhai'\n",
    "with open('db.config','w') as f:\n",
    "    config.write(f)"
   ]
  },
  {
   "cell_type": "code",
   "execution_count": 36,
   "id": "b4ca4faf",
   "metadata": {},
   "outputs": [],
   "source": [
    "config=ConfigParser()\n",
    "config.read(\"db.config\")\n",
    "config['mysql']['user']='mysqluser'\n",
    "with open('db.config','w') as f:\n",
    "    config.write(f)"
   ]
  },
  {
   "cell_type": "markdown",
   "id": "6db6e6d2",
   "metadata": {},
   "source": [
    "# using get and set method"
   ]
  },
  {
   "cell_type": "code",
   "execution_count": 2,
   "id": "93477d7a",
   "metadata": {},
   "outputs": [
    {
     "data": {
      "text/plain": [
       "['postgres', 'mysql', 'setting', 'update']"
      ]
     },
     "execution_count": 2,
     "metadata": {},
     "output_type": "execute_result"
    }
   ],
   "source": [
    "from configparser import ConfigParser\n",
    "config=ConfigParser()\n",
    "config.read(\"db.config\")\n",
    "config.sections()"
   ]
  },
  {
   "cell_type": "markdown",
   "id": "e0a3e3a0",
   "metadata": {},
   "source": [
    "# get"
   ]
  },
  {
   "cell_type": "code",
   "execution_count": null,
   "id": "65484d3c",
   "metadata": {},
   "outputs": [],
   "source": []
  },
  {
   "cell_type": "markdown",
   "id": "56836610",
   "metadata": {},
   "source": [
    "## 1"
   ]
  },
  {
   "cell_type": "code",
   "execution_count": 3,
   "id": "cfb304b7",
   "metadata": {},
   "outputs": [
    {
     "data": {
      "text/plain": [
       "'shani'"
      ]
     },
     "execution_count": 3,
     "metadata": {},
     "output_type": "execute_result"
    }
   ],
   "source": [
    "config.get(\"postgres\",\"user\")"
   ]
  },
  {
   "cell_type": "markdown",
   "id": "1003c833",
   "metadata": {},
   "source": [
    "# 2"
   ]
  },
  {
   "cell_type": "code",
   "execution_count": 4,
   "id": "b1a41a49",
   "metadata": {},
   "outputs": [
    {
     "data": {
      "text/plain": [
       "'shani'"
      ]
     },
     "execution_count": 4,
     "metadata": {},
     "output_type": "execute_result"
    }
   ],
   "source": [
    "config[\"postgres\"]['user']"
   ]
  },
  {
   "cell_type": "markdown",
   "id": "c1545d88",
   "metadata": {},
   "source": [
    "## set add new or update existng"
   ]
  },
  {
   "cell_type": "markdown",
   "id": "c6ec0c48",
   "metadata": {},
   "source": [
    "# 1"
   ]
  },
  {
   "cell_type": "markdown",
   "id": "52fa9573",
   "metadata": {},
   "source": [
    "## update"
   ]
  },
  {
   "cell_type": "code",
   "execution_count": 15,
   "id": "4ac4759e",
   "metadata": {},
   "outputs": [],
   "source": [
    "config=ConfigParser()\n",
    "config.read(\"db.config\")\n",
    "config.set(\"postgres\",\"user\",\"arjun\")\n",
    "with open('db.config','w') as f:\n",
    "    config.write(f)"
   ]
  },
  {
   "cell_type": "code",
   "execution_count": 16,
   "id": "b427252b",
   "metadata": {},
   "outputs": [
    {
     "data": {
      "text/plain": [
       "'arjun'"
      ]
     },
     "execution_count": 16,
     "metadata": {},
     "output_type": "execute_result"
    }
   ],
   "source": [
    "config[\"postgres\"]['user']"
   ]
  },
  {
   "cell_type": "markdown",
   "id": "be51c8c0",
   "metadata": {},
   "source": [
    "## add new user1"
   ]
  },
  {
   "cell_type": "code",
   "execution_count": 25,
   "id": "0a2019d1",
   "metadata": {},
   "outputs": [],
   "source": [
    "config=ConfigParser()\n",
    "config.read(\"db.config\")\n",
    "config.set(\"postgres\",\"user1\",\"arjun khanna\")\n",
    "with open('db.config','w') as f:\n",
    "    config.write(f)"
   ]
  },
  {
   "cell_type": "code",
   "execution_count": 26,
   "id": "a42f3e2a",
   "metadata": {},
   "outputs": [
    {
     "name": "stdout",
     "output_type": "stream",
     "text": [
      "user: arjun\n",
      "user1: arjun khanna\n"
     ]
    }
   ],
   "source": [
    "user=config[\"postgres\"]['user']\n",
    "user1=config[\"postgres\"]['user1']\n",
    "print(\"user:\",user)\n",
    "print(\"user1:\",user1)"
   ]
  },
  {
   "cell_type": "markdown",
   "id": "be063756",
   "metadata": {},
   "source": [
    "# 2"
   ]
  },
  {
   "cell_type": "code",
   "execution_count": 12,
   "id": "8feb1aa8",
   "metadata": {},
   "outputs": [],
   "source": [
    "config=ConfigParser()\n",
    "config.read(\"db.config\")\n",
    "config['postgres']['user']='ajay'\n",
    "with open('db.config','w') as f:\n",
    "    config.write(f)"
   ]
  },
  {
   "cell_type": "code",
   "execution_count": 13,
   "id": "b4c2a620",
   "metadata": {},
   "outputs": [
    {
     "data": {
      "text/plain": [
       "'ajay'"
      ]
     },
     "execution_count": 13,
     "metadata": {},
     "output_type": "execute_result"
    }
   ],
   "source": [
    "config[\"postgres\"]['user']"
   ]
  },
  {
   "cell_type": "markdown",
   "id": "302a7130",
   "metadata": {},
   "source": [
    "# delete or remove"
   ]
  },
  {
   "cell_type": "markdown",
   "id": "cca9abd0",
   "metadata": {},
   "source": [
    "# remove options"
   ]
  },
  {
   "cell_type": "code",
   "execution_count": 27,
   "id": "8267dccb",
   "metadata": {},
   "outputs": [],
   "source": [
    "config=ConfigParser()\n",
    "config.read(\"db.config\")\n",
    "config.remove_option(\"postgres\",\"user1\")\n",
    "with open('db.config','w') as f:\n",
    "    config.write(f)"
   ]
  },
  {
   "cell_type": "code",
   "execution_count": 28,
   "id": "876669c4",
   "metadata": {},
   "outputs": [
    {
     "ename": "KeyError",
     "evalue": "'user1'",
     "output_type": "error",
     "traceback": [
      "\u001b[1;31m---------------------------------------------------------------------------\u001b[0m",
      "\u001b[1;31mKeyError\u001b[0m                                  Traceback (most recent call last)",
      "\u001b[1;32m<ipython-input-28-06d5a06897c5>\u001b[0m in \u001b[0;36m<module>\u001b[1;34m\u001b[0m\n\u001b[1;32m----> 1\u001b[1;33m \u001b[0mconfig\u001b[0m\u001b[1;33m[\u001b[0m\u001b[1;34m\"postgres\"\u001b[0m\u001b[1;33m]\u001b[0m\u001b[1;33m[\u001b[0m\u001b[1;34m'user1'\u001b[0m\u001b[1;33m]\u001b[0m\u001b[1;33m\u001b[0m\u001b[0m\n\u001b[0m",
      "\u001b[1;32mc:\\users\\hp\\appdata\\local\\programs\\python\\python36\\lib\\configparser.py\u001b[0m in \u001b[0;36m__getitem__\u001b[1;34m(self, key)\u001b[0m\n\u001b[0;32m   1231\u001b[0m     \u001b[1;32mdef\u001b[0m \u001b[0m__getitem__\u001b[0m\u001b[1;33m(\u001b[0m\u001b[0mself\u001b[0m\u001b[1;33m,\u001b[0m \u001b[0mkey\u001b[0m\u001b[1;33m)\u001b[0m\u001b[1;33m:\u001b[0m\u001b[1;33m\u001b[0m\u001b[0m\n\u001b[0;32m   1232\u001b[0m         \u001b[1;32mif\u001b[0m \u001b[1;32mnot\u001b[0m \u001b[0mself\u001b[0m\u001b[1;33m.\u001b[0m\u001b[0m_parser\u001b[0m\u001b[1;33m.\u001b[0m\u001b[0mhas_option\u001b[0m\u001b[1;33m(\u001b[0m\u001b[0mself\u001b[0m\u001b[1;33m.\u001b[0m\u001b[0m_name\u001b[0m\u001b[1;33m,\u001b[0m \u001b[0mkey\u001b[0m\u001b[1;33m)\u001b[0m\u001b[1;33m:\u001b[0m\u001b[1;33m\u001b[0m\u001b[0m\n\u001b[1;32m-> 1233\u001b[1;33m             \u001b[1;32mraise\u001b[0m \u001b[0mKeyError\u001b[0m\u001b[1;33m(\u001b[0m\u001b[0mkey\u001b[0m\u001b[1;33m)\u001b[0m\u001b[1;33m\u001b[0m\u001b[0m\n\u001b[0m\u001b[0;32m   1234\u001b[0m         \u001b[1;32mreturn\u001b[0m \u001b[0mself\u001b[0m\u001b[1;33m.\u001b[0m\u001b[0m_parser\u001b[0m\u001b[1;33m.\u001b[0m\u001b[0mget\u001b[0m\u001b[1;33m(\u001b[0m\u001b[0mself\u001b[0m\u001b[1;33m.\u001b[0m\u001b[0m_name\u001b[0m\u001b[1;33m,\u001b[0m \u001b[0mkey\u001b[0m\u001b[1;33m)\u001b[0m\u001b[1;33m\u001b[0m\u001b[0m\n\u001b[0;32m   1235\u001b[0m \u001b[1;33m\u001b[0m\u001b[0m\n",
      "\u001b[1;31mKeyError\u001b[0m: 'user1'"
     ]
    }
   ],
   "source": [
    "config[\"postgres\"]['user1']"
   ]
  },
  {
   "cell_type": "markdown",
   "id": "fb2298ce",
   "metadata": {},
   "source": [
    "# remove section"
   ]
  },
  {
   "cell_type": "code",
   "execution_count": 29,
   "id": "af532c30",
   "metadata": {},
   "outputs": [],
   "source": [
    "config=ConfigParser()\n",
    "config.read(\"db.config\")\n",
    "config.remove_section(\"update\")\n",
    "with open('db.config','w') as f:\n",
    "    config.write(f)"
   ]
  },
  {
   "cell_type": "markdown",
   "id": "2954ba28",
   "metadata": {},
   "source": [
    "# check "
   ]
  },
  {
   "cell_type": "code",
   "execution_count": 30,
   "id": "00bd3f38",
   "metadata": {},
   "outputs": [
    {
     "data": {
      "text/plain": [
       "True"
      ]
     },
     "execution_count": 30,
     "metadata": {},
     "output_type": "execute_result"
    }
   ],
   "source": [
    "config.has_option(\"postgres\",\"user\")"
   ]
  },
  {
   "cell_type": "code",
   "execution_count": 31,
   "id": "4c2cd3ff",
   "metadata": {},
   "outputs": [
    {
     "data": {
      "text/plain": [
       "False"
      ]
     },
     "execution_count": 31,
     "metadata": {},
     "output_type": "execute_result"
    }
   ],
   "source": [
    "config.has_option(\"postgres\",\"user1\")"
   ]
  },
  {
   "cell_type": "code",
   "execution_count": 32,
   "id": "f35b8b86",
   "metadata": {},
   "outputs": [
    {
     "data": {
      "text/plain": [
       "True"
      ]
     },
     "execution_count": 32,
     "metadata": {},
     "output_type": "execute_result"
    }
   ],
   "source": [
    "config.has_section(\"postgres\")"
   ]
  },
  {
   "cell_type": "code",
   "execution_count": 33,
   "id": "0aeebc96",
   "metadata": {},
   "outputs": [
    {
     "data": {
      "text/plain": [
       "False"
      ]
     },
     "execution_count": 33,
     "metadata": {},
     "output_type": "execute_result"
    }
   ],
   "source": [
    "config.has_section(\"uswer\")"
   ]
  },
  {
   "cell_type": "code",
   "execution_count": 34,
   "id": "f45c2b9c",
   "metadata": {},
   "outputs": [
    {
     "data": {
      "text/plain": [
       "['postgres', 'mysql', 'setting']"
      ]
     },
     "execution_count": 34,
     "metadata": {},
     "output_type": "execute_result"
    }
   ],
   "source": [
    "config.sections()"
   ]
  },
  {
   "cell_type": "code",
   "execution_count": 35,
   "id": "6d540231",
   "metadata": {},
   "outputs": [
    {
     "data": {
      "text/plain": [
       "['host', 'user', 'password', 'db']"
      ]
     },
     "execution_count": 35,
     "metadata": {},
     "output_type": "execute_result"
    }
   ],
   "source": [
    "config.options(\"postgres\")"
   ]
  },
  {
   "cell_type": "code",
   "execution_count": 36,
   "id": "e2fd82d2",
   "metadata": {},
   "outputs": [
    {
     "data": {
      "text/plain": [
       "[('host', 'localhost'),\n",
       " ('user', 'arjun'),\n",
       " ('password', 'engineer'),\n",
       " ('db', 'mydb')]"
      ]
     },
     "execution_count": 36,
     "metadata": {},
     "output_type": "execute_result"
    }
   ],
   "source": [
    "config.items(\"postgres\")"
   ]
  },
  {
   "cell_type": "code",
   "execution_count": 41,
   "id": "5a26b0d6",
   "metadata": {},
   "outputs": [
    {
     "data": {
      "text/plain": [
       "[('host', 'localhost'),\n",
       " ('user', 'arjun'),\n",
       " ('password', 'engineer'),\n",
       " ('db', 'mydb')]"
      ]
     },
     "execution_count": 41,
     "metadata": {},
     "output_type": "execute_result"
    }
   ],
   "source": [
    "d=config.items(\"postgres\")\n",
    "d"
   ]
  },
  {
   "cell_type": "code",
   "execution_count": 44,
   "id": "003307b8",
   "metadata": {},
   "outputs": [
    {
     "data": {
      "text/plain": [
       "{'host': 'localhost', 'user': 'arjun', 'password': 'engineer', 'db': 'mydb'}"
      ]
     },
     "execution_count": 44,
     "metadata": {},
     "output_type": "execute_result"
    }
   ],
   "source": [
    "dict(d)"
   ]
  },
  {
   "cell_type": "markdown",
   "id": "0f81a74c",
   "metadata": {},
   "source": [
    "# add multiple value in section"
   ]
  },
  {
   "cell_type": "code",
   "execution_count": null,
   "id": "b1799f04",
   "metadata": {},
   "outputs": [],
   "source": [
    "config.set(\"mysql\",\"setting\",)"
   ]
  }
 ],
 "metadata": {
  "kernelspec": {
   "display_name": "Python 3",
   "language": "python",
   "name": "python3"
  },
  "language_info": {
   "codemirror_mode": {
    "name": "ipython",
    "version": 3
   },
   "file_extension": ".py",
   "mimetype": "text/x-python",
   "name": "python",
   "nbconvert_exporter": "python",
   "pygments_lexer": "ipython3",
   "version": "3.6.5"
  }
 },
 "nbformat": 4,
 "nbformat_minor": 5
}
